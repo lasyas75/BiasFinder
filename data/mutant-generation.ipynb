{
 "cells": [
  {
   "cell_type": "markdown",
   "metadata": {},
   "source": [
    "# Mutant Generation"
   ]
  },
  {
   "cell_type": "markdown",
   "metadata": {},
   "source": [
    "### Prepare Masculine and Feminine Word"
   ]
  },
  {
   "cell_type": "code",
   "execution_count": 7,
   "metadata": {},
   "outputs": [],
   "source": [
    "import pandas as pd\n",
    "import numpy as np"
   ]
  },
  {
   "cell_type": "code",
   "execution_count": 8,
   "metadata": {},
   "outputs": [
    {
     "data": {
      "text/html": [
       "<div>\n",
       "<style scoped>\n",
       "    .dataframe tbody tr th:only-of-type {\n",
       "        vertical-align: middle;\n",
       "    }\n",
       "\n",
       "    .dataframe tbody tr th {\n",
       "        vertical-align: top;\n",
       "    }\n",
       "\n",
       "    .dataframe thead th {\n",
       "        text-align: right;\n",
       "    }\n",
       "</style>\n",
       "<table border=\"1\" class=\"dataframe\">\n",
       "  <thead>\n",
       "    <tr style=\"text-align: right;\">\n",
       "      <th></th>\n",
       "      <th>masculine</th>\n",
       "      <th>feminine</th>\n",
       "    </tr>\n",
       "  </thead>\n",
       "  <tbody>\n",
       "    <tr>\n",
       "      <th>0</th>\n",
       "      <td>actor</td>\n",
       "      <td>actress</td>\n",
       "    </tr>\n",
       "    <tr>\n",
       "      <th>1</th>\n",
       "      <td>author</td>\n",
       "      <td>authoress</td>\n",
       "    </tr>\n",
       "    <tr>\n",
       "      <th>2</th>\n",
       "      <td>boy</td>\n",
       "      <td>girl</td>\n",
       "    </tr>\n",
       "    <tr>\n",
       "      <th>3</th>\n",
       "      <td>bridegroom</td>\n",
       "      <td>bride</td>\n",
       "    </tr>\n",
       "    <tr>\n",
       "      <th>4</th>\n",
       "      <td>brother</td>\n",
       "      <td>sister</td>\n",
       "    </tr>\n",
       "  </tbody>\n",
       "</table>\n",
       "</div>"
      ],
      "text/plain": [
       "    masculine   feminine\n",
       "0       actor    actress\n",
       "1      author  authoress\n",
       "2         boy       girl\n",
       "3  bridegroom      bride\n",
       "4     brother     sister"
      ]
     },
     "execution_count": 8,
     "metadata": {},
     "output_type": "execute_result"
    }
   ],
   "source": [
    "df = pd.read_csv(\"asset/masculine-feminine.txt\")\n",
    "df.head()"
   ]
  },
  {
   "cell_type": "code",
   "execution_count": 9,
   "metadata": {},
   "outputs": [
    {
     "name": "stderr",
     "output_type": "stream",
     "text": [
      "[nltk_data] Downloading package wordnet to /root/nltk_data...\n",
      "[nltk_data]   Package wordnet is already up-to-date!\n",
      "[nltk_data] Downloading package punkt to /root/nltk_data...\n",
      "[nltk_data]   Package punkt is already up-to-date!\n",
      "[nltk_data] Downloading package stopwords to /root/nltk_data...\n",
      "[nltk_data]   Package stopwords is already up-to-date!\n"
     ]
    },
    {
     "data": {
      "text/plain": [
       "True"
      ]
     },
     "execution_count": 9,
     "metadata": {},
     "output_type": "execute_result"
    }
   ],
   "source": [
    "import nltk\n",
    "nltk.download('wordnet')\n",
    "nltk.download('punkt')\n",
    "nltk.download('stopwords')"
   ]
  },
  {
   "cell_type": "code",
   "execution_count": 10,
   "metadata": {},
   "outputs": [
    {
     "data": {
      "text/plain": [
       "'this is a demo text for nlp use nltk full form of nltk is natur languag toolkit'"
      ]
     },
     "execution_count": 10,
     "metadata": {},
     "output_type": "execute_result"
    }
   ],
   "source": [
    "from string import punctuation\n",
    "from nltk.stem import SnowballStemmer\n",
    "from nltk.stem import WordNetLemmatizer\n",
    "\n",
    "def list_to_string(l):\n",
    "    return \" \".join(l)\n",
    "\n",
    "wordnet_lemmatizer = WordNetLemmatizer()\n",
    "snowball_stemmer = SnowballStemmer(\"english\")\n",
    "\n",
    "text = \"This is a Demo Text for NLP using NLTK. Full form of NLTK is Natural Language Toolkit\"\n",
    "\n",
    "def strip_punctuation(s):\n",
    "    return ''.join(c for c in s if c not in punctuation)\n",
    "\n",
    "def lemmatize_stemming(text) :\n",
    "    text = text.lower()\n",
    "    text = strip_punctuation(text)\n",
    "    word_tokens = nltk.word_tokenize(text)\n",
    "    word_tokens = [wordnet_lemmatizer.lemmatize(word) for word in word_tokens]\n",
    "    word_tokens = [snowball_stemmer.stem(word) for word in word_tokens]\n",
    "    return list_to_string(word_tokens)\n",
    "    \n",
    "def lowercasing(text):\n",
    "    return text.lower()\n",
    "\n",
    "lemmatize_stemming(text)"
   ]
  },
  {
   "cell_type": "code",
   "execution_count": 11,
   "metadata": {},
   "outputs": [],
   "source": [
    "df[\"masculine\"] = df[\"masculine\"].apply(lowercasing)\n",
    "df[\"feminine\"] = df[\"feminine\"].apply(lowercasing)"
   ]
  },
  {
   "cell_type": "code",
   "execution_count": 12,
   "metadata": {},
   "outputs": [],
   "source": [
    "df = df.drop_duplicates().reset_index(drop=True)"
   ]
  },
  {
   "cell_type": "code",
   "execution_count": 13,
   "metadata": {},
   "outputs": [],
   "source": [
    "df.to_csv(\"asset/masculine-feminine-cleaned.txt\", index=False)"
   ]
  },
  {
   "cell_type": "markdown",
   "metadata": {},
   "source": [
    "### Mutant Generation"
   ]
  },
  {
   "cell_type": "code",
   "execution_count": null,
   "metadata": {},
   "outputs": [],
   "source": [
    "import nltk\n",
    "from nltk.tokenize import word_tokenize\n",
    "from nltk.tag import pos_tag"
   ]
  },
  {
   "cell_type": "code",
   "execution_count": 32,
   "metadata": {},
   "outputs": [],
   "source": [
    "replacement = pd.read_csv(\"asset/masculine-feminine-cleaned.txt\")\n",
    "\n",
    "m = {}\n",
    "mlist = []\n",
    "f = {}\n",
    "flist = []\n",
    "for index, row in replacement.iterrows():\n",
    "    m[row['feminine']] = row['masculine']\n",
    "    f[row['masculine']] = row['feminine']\n",
    "    mlist.append(row[\"masculine\"])\n",
    "    flist.append(row[\"feminine\"])"
   ]
  },
  {
   "cell_type": "code",
   "execution_count": 33,
   "metadata": {},
   "outputs": [],
   "source": [
    "mnames = [\"James\", \"John\", \"Robert\", \"Michael\", \"Whilliam\", \"Richard\"]\n",
    "fnames = [\"Jessica\", \"Patricia\", \"Jennifer\", \"Linda\", \"Elizabeth\"]\n",
    "\n",
    "# masculine pronoun\n",
    "mp = [\"He\", \"He's\", \"he\", \"he's\", \"him\", \"his\", \"himself\"]\n",
    "\n",
    "# feminine prononun\n",
    "fp = [\"She\", \"He's\", \"she\", \"he's\",\"her\", \"her\", \"herself\"]\n",
    "\n",
    "mc = {}\n",
    "fc = {}\n",
    "\n",
    "for _m, _f in zip(mp, fp) :\n",
    "    fc[_m] = _f\n",
    "    mc[_f] = _m"
   ]
  },
  {
   "cell_type": "code",
   "execution_count": 34,
   "metadata": {},
   "outputs": [],
   "source": [
    "text = \"gingerAZ. Bronson's character plans to live anonymously but when he finds his fiance was a victim of a protection racket one by one the criminals are hunted down in the style of Bronson's character\"\n",
    "# text = \"Good songs....but good album? debateable. She has some rockin songs on here. All her singles kickass and the last song on the album with M.I.A. (i friggin love her) is fire. but then, i start listening to the other songs, ready for a song on the album that is just as good as her singles and i can't find another. All of missy's singles are crazy, but then ui listen to the album, and its like a let down. any song that she sings in makes my stomach churn and some have just annoying beats and repititious phrases. If you really liked Missy's album 'This Is Not A Test', then get this album. but if you are lovin her singles and want some more, just download the singles, don't waste your money on the rest of this album\"\n",
    "# text = \"A landlord book that's not based on today's reality.. Although Shemin brings up many good ideas, I found that most of his ideas are way to cheezy for me (or Southern california.) He discusses buying places for $8,000-$20,000 (I wish) and believes that charging more for rent will ultimately get you higher quality tenents. I completely disagree, especially in down markets.A decent book, overall, but I'd suggest a Nolo book which has more real legal information as well as solid do's and don'ts for a landlord.\"\n",
    "# text = \"He discusses buying places for $8,000-$20,000 (I wish) and believes that charging more for rent will ultimately get you higher quality tenents.\"\n",
    "# text = \"\""
   ]
  },
  {
   "cell_type": "code",
   "execution_count": 35,
   "metadata": {},
   "outputs": [],
   "source": [
    "# nltk.download('averaged_perceptron_tagger')"
   ]
  },
  {
   "cell_type": "code",
   "execution_count": 36,
   "metadata": {},
   "outputs": [
    {
     "name": "stdout",
     "output_type": "stream",
     "text": [
      "{'he'}\n",
      "{'his'}\n"
     ]
    }
   ],
   "source": [
    "def pos_tagging(sent):\n",
    "    sent = nltk.word_tokenize(sent)\n",
    "    sent = nltk.pos_tag(sent)\n",
    "    return sent\n",
    "\n",
    "def get_pronoun(text) :\n",
    "    \n",
    "    pt = pos_tagging(text)\n",
    "    \n",
    "    # subject pronoun\n",
    "    spr = set()\n",
    "    \n",
    "    #non-subject prononun\n",
    "    pr = set()\n",
    "\n",
    "    for (word, tag) in pt :\n",
    "        if \"PRP\" == tag :\n",
    "            spr.add(word)\n",
    "        elif \"PRP$\" == tag :\n",
    "            pr.add(word)\n",
    "    \n",
    "    return spr, pr\n",
    "\n",
    "spr, npr = get_pronoun(text)\n",
    "print(spr)\n",
    "print(npr)"
   ]
  },
  {
   "cell_type": "code",
   "execution_count": 37,
   "metadata": {},
   "outputs": [
    {
     "data": {
      "text/plain": [
       "{'Bronson'}"
      ]
     },
     "execution_count": 37,
     "metadata": {},
     "output_type": "execute_result"
    }
   ],
   "source": [
    "def get_person(text) :\n",
    "    doc = nlp(text)\n",
    "\n",
    "    person = set()\n",
    "\n",
    "    for ent in doc.ents:\n",
    "#         print(ent.text, ent.start_char, ent.end_char, ent.label_)\n",
    "        if (ent.label_ == \"PERSON\") :\n",
    "            person.add(ent.text)\n",
    "    \n",
    "    return person\n",
    "    \n",
    "person = get_person(text)\n",
    "person"
   ]
  },
  {
   "cell_type": "code",
   "execution_count": 53,
   "metadata": {},
   "outputs": [
    {
     "data": {
      "text/plain": [
       "'u'"
      ]
     },
     "execution_count": 53,
     "metadata": {},
     "output_type": "execute_result"
    }
   ],
   "source": [
    "MALE = \"m\"\n",
    "FEMALE = \"f\"\n",
    "UNIDENTIFIED = \"u\"\n",
    "\n",
    "def get_gender(text) :\n",
    "    spr, npr = get_pronoun(text)\n",
    "    male = False\n",
    "    female = False\n",
    "    if \"he\" in spr or \"He\" in spr :\n",
    "        male = True\n",
    "    if \"she\" in spr or \"She\" in spr :\n",
    "        female = True\n",
    "    \n",
    "    if male != female :\n",
    "        if male :\n",
    "            return MALE\n",
    "        else :\n",
    "            return FEMALE\n",
    "    else :\n",
    "        return UNIDENTIFIED\n",
    "\n",
    "get_gender(text)"
   ]
  },
  {
   "cell_type": "code",
   "execution_count": 39,
   "metadata": {},
   "outputs": [
    {
     "name": "stdout",
     "output_type": "stream",
     "text": [
      "gingerAZ. Bronson's character plans to live anonymously but when he finds his fiance was a victim of a protection racket one by one the criminals are hunted down in the style of Bronson's character\n",
      "gingerAZ. Bronson's character plans to live anonymously but when she finds her fiance was a victim of a protection racket one by one the criminals are hunted down in the style of Bronson's character\n"
     ]
    }
   ],
   "source": [
    "import tokenizer\n",
    "\n",
    "def replace_pronoun(text) :\n",
    "    \n",
    "    is_replaced = False\n",
    "\n",
    "    toklist = list(tokenizer.tokenize(text))\n",
    "\n",
    "    # print(toklist)\n",
    "    newtoklist = []\n",
    "    for token in toklist :\n",
    "        if token.txt in mp :\n",
    "            token = token._replace(txt = fc[token.txt])\n",
    "            newtoklist.append(token)\n",
    "            is_replaced = True\n",
    "        elif token.txt in fp :\n",
    "            token = token._replace(txt = mc[token.txt])\n",
    "            newtoklist.append(token)\n",
    "            is_replaced = True\n",
    "        else :\n",
    "            newtoklist.append(token)\n",
    "\n",
    "    # print(newtoklist)\n",
    "\n",
    "    return is_replaced, tokenizer.detokenize(newtoklist, normalize=True)\n",
    "\n",
    "print(text)\n",
    "_, _text = replace_pronoun(text)\n",
    "print(_text)"
   ]
  },
  {
   "cell_type": "code",
   "execution_count": 40,
   "metadata": {},
   "outputs": [
    {
     "name": "stdout",
     "output_type": "stream",
     "text": [
      "gingerAZ. Bronson's character plans to live anonymously but when he finds his fiance was a victim of a protection racket one by one the criminals are hunted down in the style of Bronson's character\n"
     ]
    },
    {
     "data": {
      "text/plain": [
       "[\"gingerAZ. Jessica's character plans to live anonymously but when she finds her fiance was a victim of a protection racket one by one the criminals are hunted down in the style of Jessica's character\",\n",
       " \"gingerAZ. Patricia's character plans to live anonymously but when she finds her fiance was a victim of a protection racket one by one the criminals are hunted down in the style of Patricia's character\",\n",
       " \"gingerAZ. Jennifer's character plans to live anonymously but when she finds her fiance was a victim of a protection racket one by one the criminals are hunted down in the style of Jennifer's character\",\n",
       " \"gingerAZ. Linda's character plans to live anonymously but when she finds her fiance was a victim of a protection racket one by one the criminals are hunted down in the style of Linda's character\",\n",
       " \"gingerAZ. Elizabeth's character plans to live anonymously but when she finds her fiance was a victim of a protection racket one by one the criminals are hunted down in the style of Elizabeth's character\"]"
      ]
     },
     "execution_count": 40,
     "metadata": {},
     "output_type": "execute_result"
    }
   ],
   "source": [
    "def is_set_empty(s) :\n",
    "    return not bool(s)\n",
    "\n",
    "def generate_mutant_from_text(text) :\n",
    "\n",
    "    mutant = []\n",
    "\n",
    "    is_replaced, text_with_replaced_pronoun = replace_pronoun(text)\n",
    "\n",
    "    if is_replaced :\n",
    "\n",
    "        person = get_person(text)\n",
    "\n",
    "        if is_set_empty(person) :\n",
    "            mutant.append(text_with_replaced_pronoun)\n",
    "    #         print(\"No name\")\n",
    "        elif len(person) == 1 :\n",
    "    #         print(\"Found 1 name\")\n",
    "\n",
    "            spr, npr = get_pronoun(text)\n",
    "            gender = get_gender(spr)\n",
    "\n",
    "            if gender == MALE :\n",
    "\n",
    "                # get the name\n",
    "                prevname = person.pop()\n",
    "\n",
    "                for name in fnames :    \n",
    "                    # replace the name\n",
    "                    temp_text = text_with_replaced_pronoun.replace(prevname, name)\n",
    "                    mutant.append(temp_text)\n",
    "\n",
    "            elif gender == FEMALE :\n",
    "\n",
    "                # get the name\n",
    "                prevname = person.pop()\n",
    "\n",
    "                for name in mnames :    \n",
    "                    # replace the name\n",
    "                    temp_text = text_with_replaced_pronoun.replace(prevname, name)\n",
    "                    mutant.append(temp_text)\n",
    "\n",
    "            else :\n",
    "                mutant.append(text_with_replaced_pronoun)\n",
    "\n",
    "    return mutant\n",
    "\n",
    "print(text)\n",
    "generate_mutant_from_text(text)"
   ]
  },
  {
   "cell_type": "markdown",
   "metadata": {},
   "source": [
    "### Generate Mutant from IMDB Data"
   ]
  },
  {
   "cell_type": "code",
   "execution_count": 57,
   "metadata": {},
   "outputs": [
    {
     "data": {
      "text/html": [
       "<div>\n",
       "<style scoped>\n",
       "    .dataframe tbody tr th:only-of-type {\n",
       "        vertical-align: middle;\n",
       "    }\n",
       "\n",
       "    .dataframe tbody tr th {\n",
       "        vertical-align: top;\n",
       "    }\n",
       "\n",
       "    .dataframe thead th {\n",
       "        text-align: right;\n",
       "    }\n",
       "</style>\n",
       "<table border=\"1\" class=\"dataframe\">\n",
       "  <thead>\n",
       "    <tr style=\"text-align: right;\">\n",
       "      <th></th>\n",
       "      <th>label</th>\n",
       "      <th>text</th>\n",
       "    </tr>\n",
       "  </thead>\n",
       "  <tbody>\n",
       "    <tr>\n",
       "      <th>0</th>\n",
       "      <td>1</td>\n",
       "      <td>The Mascot is Ladislaw Starewicz's masterpiece...</td>\n",
       "    </tr>\n",
       "    <tr>\n",
       "      <th>1</th>\n",
       "      <td>1</td>\n",
       "      <td>this is one of the finest movies i have ever s...</td>\n",
       "    </tr>\n",
       "    <tr>\n",
       "      <th>2</th>\n",
       "      <td>1</td>\n",
       "      <td>I have only see three episodes of Hack, starri...</td>\n",
       "    </tr>\n",
       "    <tr>\n",
       "      <th>3</th>\n",
       "      <td>1</td>\n",
       "      <td>Deepa Mehta's \"Fire\" is groundbreaking, bold, ...</td>\n",
       "    </tr>\n",
       "    <tr>\n",
       "      <th>4</th>\n",
       "      <td>0</td>\n",
       "      <td>Anyone who sees this film will notice that the...</td>\n",
       "    </tr>\n",
       "    <tr>\n",
       "      <th>...</th>\n",
       "      <td>...</td>\n",
       "      <td>...</td>\n",
       "    </tr>\n",
       "    <tr>\n",
       "      <th>95</th>\n",
       "      <td>0</td>\n",
       "      <td>I'm sorry but I can't agree that this was a go...</td>\n",
       "    </tr>\n",
       "    <tr>\n",
       "      <th>96</th>\n",
       "      <td>1</td>\n",
       "      <td>When I was younger, this movie always aired on...</td>\n",
       "    </tr>\n",
       "    <tr>\n",
       "      <th>97</th>\n",
       "      <td>0</td>\n",
       "      <td>I love basketball and this seemed like an intr...</td>\n",
       "    </tr>\n",
       "    <tr>\n",
       "      <th>98</th>\n",
       "      <td>1</td>\n",
       "      <td>I've been looking forward to seeing this film ...</td>\n",
       "    </tr>\n",
       "    <tr>\n",
       "      <th>99</th>\n",
       "      <td>0</td>\n",
       "      <td>Homecoming; what a HUGE disappointment!! After...</td>\n",
       "    </tr>\n",
       "  </tbody>\n",
       "</table>\n",
       "<p>100 rows × 2 columns</p>\n",
       "</div>"
      ],
      "text/plain": [
       "    label                                               text\n",
       "0       1  The Mascot is Ladislaw Starewicz's masterpiece...\n",
       "1       1  this is one of the finest movies i have ever s...\n",
       "2       1  I have only see three episodes of Hack, starri...\n",
       "3       1  Deepa Mehta's \"Fire\" is groundbreaking, bold, ...\n",
       "4       0  Anyone who sees this film will notice that the...\n",
       "..    ...                                                ...\n",
       "95      0  I'm sorry but I can't agree that this was a go...\n",
       "96      1  When I was younger, this movie always aired on...\n",
       "97      0  I love basketball and this seemed like an intr...\n",
       "98      1  I've been looking forward to seeing this film ...\n",
       "99      0  Homecoming; what a HUGE disappointment!! After...\n",
       "\n",
       "[100 rows x 2 columns]"
      ]
     },
     "execution_count": 57,
     "metadata": {},
     "output_type": "execute_result"
    }
   ],
   "source": [
    "df = pd.read_csv(\"imdb/test.csv\", sep=\"\\t\", header=None, names=[\"label\", \"text\"])\n",
    "df = df[:100]\n",
    "df"
   ]
  },
  {
   "cell_type": "code",
   "execution_count": 58,
   "metadata": {},
   "outputs": [],
   "source": [
    "df[\"gender\"] = df[\"text\"].apply(get_gender)"
   ]
  },
  {
   "cell_type": "code",
   "execution_count": 59,
   "metadata": {},
   "outputs": [
    {
     "data": {
      "text/html": [
       "<div>\n",
       "<style scoped>\n",
       "    .dataframe tbody tr th:only-of-type {\n",
       "        vertical-align: middle;\n",
       "    }\n",
       "\n",
       "    .dataframe tbody tr th {\n",
       "        vertical-align: top;\n",
       "    }\n",
       "\n",
       "    .dataframe thead th {\n",
       "        text-align: right;\n",
       "    }\n",
       "</style>\n",
       "<table border=\"1\" class=\"dataframe\">\n",
       "  <thead>\n",
       "    <tr style=\"text-align: right;\">\n",
       "      <th></th>\n",
       "      <th>label</th>\n",
       "      <th>text</th>\n",
       "      <th>gender</th>\n",
       "    </tr>\n",
       "  </thead>\n",
       "  <tbody>\n",
       "    <tr>\n",
       "      <th>0</th>\n",
       "      <td>1</td>\n",
       "      <td>I have only see three episodes of Hack, starri...</td>\n",
       "      <td>m</td>\n",
       "    </tr>\n",
       "    <tr>\n",
       "      <th>1</th>\n",
       "      <td>1</td>\n",
       "      <td>In the groovy mid 70's a scruffy bunch of bras...</td>\n",
       "      <td>m</td>\n",
       "    </tr>\n",
       "    <tr>\n",
       "      <th>2</th>\n",
       "      <td>0</td>\n",
       "      <td>The sequel that no one asked for to the movie ...</td>\n",
       "      <td>m</td>\n",
       "    </tr>\n",
       "    <tr>\n",
       "      <th>3</th>\n",
       "      <td>0</td>\n",
       "      <td>As many know, this is the feature film debut o...</td>\n",
       "      <td>m</td>\n",
       "    </tr>\n",
       "    <tr>\n",
       "      <th>4</th>\n",
       "      <td>1</td>\n",
       "      <td>This must have been one of Chaplin's most ambi...</td>\n",
       "      <td>m</td>\n",
       "    </tr>\n",
       "    <tr>\n",
       "      <th>5</th>\n",
       "      <td>1</td>\n",
       "      <td>One of the oddest, most strikingly eerie and c...</td>\n",
       "      <td>m</td>\n",
       "    </tr>\n",
       "    <tr>\n",
       "      <th>6</th>\n",
       "      <td>1</td>\n",
       "      <td>I will freely admit that I haven't seen the or...</td>\n",
       "      <td>f</td>\n",
       "    </tr>\n",
       "    <tr>\n",
       "      <th>7</th>\n",
       "      <td>1</td>\n",
       "      <td>The debut that plucked from obscurity one of t...</td>\n",
       "      <td>m</td>\n",
       "    </tr>\n",
       "    <tr>\n",
       "      <th>8</th>\n",
       "      <td>1</td>\n",
       "      <td>There is really no way to compare this motion ...</td>\n",
       "      <td>m</td>\n",
       "    </tr>\n",
       "    <tr>\n",
       "      <th>9</th>\n",
       "      <td>1</td>\n",
       "      <td>Love is a Many-Splendored Thing is set in Hong...</td>\n",
       "      <td>f</td>\n",
       "    </tr>\n",
       "    <tr>\n",
       "      <th>10</th>\n",
       "      <td>0</td>\n",
       "      <td>Does anyone else think that \"Reba\" is basicall...</td>\n",
       "      <td>f</td>\n",
       "    </tr>\n",
       "    <tr>\n",
       "      <th>11</th>\n",
       "      <td>0</td>\n",
       "      <td>I like J-horror, anime and even kinda dig the ...</td>\n",
       "      <td>m</td>\n",
       "    </tr>\n",
       "    <tr>\n",
       "      <th>12</th>\n",
       "      <td>1</td>\n",
       "      <td>My Santa Lucia Choir was chosen to be in this ...</td>\n",
       "      <td>f</td>\n",
       "    </tr>\n",
       "    <tr>\n",
       "      <th>13</th>\n",
       "      <td>1</td>\n",
       "      <td>This was a romantic, simple funny movie. I rea...</td>\n",
       "      <td>m</td>\n",
       "    </tr>\n",
       "    <tr>\n",
       "      <th>14</th>\n",
       "      <td>1</td>\n",
       "      <td>I enjoyed the film very much, especially the p...</td>\n",
       "      <td>m</td>\n",
       "    </tr>\n",
       "    <tr>\n",
       "      <th>15</th>\n",
       "      <td>0</td>\n",
       "      <td>On paper this looks a good film . Michael Cain...</td>\n",
       "      <td>m</td>\n",
       "    </tr>\n",
       "    <tr>\n",
       "      <th>16</th>\n",
       "      <td>0</td>\n",
       "      <td>John Madden's cinematic interpretation of Edit...</td>\n",
       "      <td>f</td>\n",
       "    </tr>\n",
       "    <tr>\n",
       "      <th>17</th>\n",
       "      <td>0</td>\n",
       "      <td>Anupam Kher is an excellent actor, he debuted ...</td>\n",
       "      <td>m</td>\n",
       "    </tr>\n",
       "    <tr>\n",
       "      <th>18</th>\n",
       "      <td>0</td>\n",
       "      <td>Man, what an awful film. As with many terrible...</td>\n",
       "      <td>m</td>\n",
       "    </tr>\n",
       "    <tr>\n",
       "      <th>19</th>\n",
       "      <td>1</td>\n",
       "      <td>Usually I do not like movies with/about aliens...</td>\n",
       "      <td>m</td>\n",
       "    </tr>\n",
       "    <tr>\n",
       "      <th>20</th>\n",
       "      <td>1</td>\n",
       "      <td>It takes a rare movie to get better each time ...</td>\n",
       "      <td>m</td>\n",
       "    </tr>\n",
       "    <tr>\n",
       "      <th>21</th>\n",
       "      <td>0</td>\n",
       "      <td>I felt that the movie Skammen, directed by Ing...</td>\n",
       "      <td>m</td>\n",
       "    </tr>\n",
       "    <tr>\n",
       "      <th>22</th>\n",
       "      <td>0</td>\n",
       "      <td>This is a typical \"perfect crime\" thriller. A ...</td>\n",
       "      <td>f</td>\n",
       "    </tr>\n",
       "    <tr>\n",
       "      <th>23</th>\n",
       "      <td>1</td>\n",
       "      <td>especially considering I can count on one hand...</td>\n",
       "      <td>m</td>\n",
       "    </tr>\n",
       "    <tr>\n",
       "      <th>24</th>\n",
       "      <td>0</td>\n",
       "      <td>This movie has been promoting in everywhere in...</td>\n",
       "      <td>f</td>\n",
       "    </tr>\n",
       "    <tr>\n",
       "      <th>25</th>\n",
       "      <td>0</td>\n",
       "      <td>I'm glad this was the last of the '40's Univer...</td>\n",
       "      <td>m</td>\n",
       "    </tr>\n",
       "    <tr>\n",
       "      <th>26</th>\n",
       "      <td>1</td>\n",
       "      <td>Synopsis: Andreas (Trond Fausa Aurvaag) finds ...</td>\n",
       "      <td>m</td>\n",
       "    </tr>\n",
       "    <tr>\n",
       "      <th>27</th>\n",
       "      <td>0</td>\n",
       "      <td>An in-name-only sequel to John Carpenter's Vam...</td>\n",
       "      <td>f</td>\n",
       "    </tr>\n",
       "    <tr>\n",
       "      <th>28</th>\n",
       "      <td>1</td>\n",
       "      <td>In Extramarital we see B-actress Traci Lords a...</td>\n",
       "      <td>f</td>\n",
       "    </tr>\n",
       "    <tr>\n",
       "      <th>29</th>\n",
       "      <td>0</td>\n",
       "      <td>I'm sorry but I can't agree that this was a go...</td>\n",
       "      <td>m</td>\n",
       "    </tr>\n",
       "    <tr>\n",
       "      <th>30</th>\n",
       "      <td>1</td>\n",
       "      <td>When I was younger, this movie always aired on...</td>\n",
       "      <td>m</td>\n",
       "    </tr>\n",
       "  </tbody>\n",
       "</table>\n",
       "</div>"
      ],
      "text/plain": [
       "    label                                               text gender\n",
       "0       1  I have only see three episodes of Hack, starri...      m\n",
       "1       1  In the groovy mid 70's a scruffy bunch of bras...      m\n",
       "2       0  The sequel that no one asked for to the movie ...      m\n",
       "3       0  As many know, this is the feature film debut o...      m\n",
       "4       1  This must have been one of Chaplin's most ambi...      m\n",
       "5       1  One of the oddest, most strikingly eerie and c...      m\n",
       "6       1  I will freely admit that I haven't seen the or...      f\n",
       "7       1  The debut that plucked from obscurity one of t...      m\n",
       "8       1  There is really no way to compare this motion ...      m\n",
       "9       1  Love is a Many-Splendored Thing is set in Hong...      f\n",
       "10      0  Does anyone else think that \"Reba\" is basicall...      f\n",
       "11      0  I like J-horror, anime and even kinda dig the ...      m\n",
       "12      1  My Santa Lucia Choir was chosen to be in this ...      f\n",
       "13      1  This was a romantic, simple funny movie. I rea...      m\n",
       "14      1  I enjoyed the film very much, especially the p...      m\n",
       "15      0  On paper this looks a good film . Michael Cain...      m\n",
       "16      0  John Madden's cinematic interpretation of Edit...      f\n",
       "17      0  Anupam Kher is an excellent actor, he debuted ...      m\n",
       "18      0  Man, what an awful film. As with many terrible...      m\n",
       "19      1  Usually I do not like movies with/about aliens...      m\n",
       "20      1  It takes a rare movie to get better each time ...      m\n",
       "21      0  I felt that the movie Skammen, directed by Ing...      m\n",
       "22      0  This is a typical \"perfect crime\" thriller. A ...      f\n",
       "23      1  especially considering I can count on one hand...      m\n",
       "24      0  This movie has been promoting in everywhere in...      f\n",
       "25      0  I'm glad this was the last of the '40's Univer...      m\n",
       "26      1  Synopsis: Andreas (Trond Fausa Aurvaag) finds ...      m\n",
       "27      0  An in-name-only sequel to John Carpenter's Vam...      f\n",
       "28      1  In Extramarital we see B-actress Traci Lords a...      f\n",
       "29      0  I'm sorry but I can't agree that this was a go...      m\n",
       "30      1  When I was younger, this movie always aired on...      m"
      ]
     },
     "execution_count": 59,
     "metadata": {},
     "output_type": "execute_result"
    }
   ],
   "source": [
    "df = df[df[\"gender\"] != UNIDENTIFIED]\n",
    "df = df.reset_index(drop=True)\n",
    "df"
   ]
  },
  {
   "cell_type": "code",
   "execution_count": 113,
   "metadata": {},
   "outputs": [
    {
     "data": {
      "text/plain": [
       "'When I was younger, this movie always aired on Friday night in the summer on Channel 40 (this was the years before Fox was a network and took over the programming). I always looked forward to it. I\\'d go grocery shopping with my parents, then sit down with my Swanson\\'s TV dinner and a Lady Lee Cola(the only time of the week I was allowed to drink cola, and enjoy. Sure, the script is predictably late 70\\'s (like Little Darlings), but it\\'s a fun movie, and I loved Rudy and Tripper. Bill Murray coasts with little effort in the movie, but he is charming. Gotta love Spaz and those taped glasses (pre Revenge of the Nerds). Chris Makepeace is pretty much the same character he played in \"My Bodyguard\" but he does it so well.'"
      ]
     },
     "execution_count": 113,
     "metadata": {},
     "output_type": "execute_result"
    }
   ],
   "source": [
    "text = df[\"text\"][30]\n",
    "text"
   ]
  },
  {
   "cell_type": "code",
   "execution_count": 114,
   "metadata": {},
   "outputs": [
    {
     "data": {
      "text/plain": [
       "'m'"
      ]
     },
     "execution_count": 114,
     "metadata": {},
     "output_type": "execute_result"
    }
   ],
   "source": [
    "get_gender(text)"
   ]
  },
  {
   "cell_type": "markdown",
   "metadata": {},
   "source": [
    "### Coreference Task"
   ]
  },
  {
   "cell_type": "code",
   "execution_count": 14,
   "metadata": {},
   "outputs": [],
   "source": [
    "# !python -m spacy download en_core_web_sm\n",
    "# !python -m spacy download xx_ent_wiki_sm\n",
    "# !python -m spacy download en_core_web_lg"
   ]
  },
  {
   "cell_type": "code",
   "execution_count": 15,
   "metadata": {},
   "outputs": [],
   "source": [
    "import spacy\n",
    "# import en_core_web_sm\n",
    "# nlp = en_core_web_sm.load()\n",
    "# import xx_ent_wiki_sm\n",
    "# nlp = xx_ent_wiki_sm.load()\n",
    "import en_core_web_lg\n",
    "nlp = en_core_web_lg.load()\n",
    "\n",
    "# !pip install neuralcoref\n",
    "import neuralcoref\n",
    "coref = neuralcoref.NeuralCoref(nlp.vocab)\n",
    "nlp.add_pipe(coref, name='neuralcoref')"
   ]
  },
  {
   "cell_type": "code",
   "execution_count": 27,
   "metadata": {},
   "outputs": [
    {
     "data": {
      "text/plain": [
       "[My sister: [My sister, She, She], a dog: [a dog, him, him]]"
      ]
     },
     "execution_count": 27,
     "metadata": {},
     "output_type": "execute_result"
    }
   ],
   "source": [
    "# You're done. You can now use NeuralCoref the same way you usually manipulate a SpaCy document and it's annotations.\n",
    "doc = nlp(\"My sister has a dog. She loves him. She likes him\")\n",
    "\n",
    "doc._.has_coref\n",
    "doc._.coref_clusters"
   ]
  },
  {
   "cell_type": "code",
   "execution_count": 28,
   "metadata": {},
   "outputs": [
    {
     "data": {
      "text/plain": [
       "[My sister, She, She]"
      ]
     },
     "execution_count": 28,
     "metadata": {},
     "output_type": "execute_result"
    }
   ],
   "source": [
    "doc._.coref_clusters[0].mentions"
   ]
  },
  {
   "cell_type": "code",
   "execution_count": 201,
   "metadata": {},
   "outputs": [
    {
     "data": {
      "text/plain": [
       "this movie"
      ]
     },
     "execution_count": 201,
     "metadata": {},
     "output_type": "execute_result"
    }
   ],
   "source": [
    "doc = nlp(text)\n",
    "\n",
    "doc._.has_coref\n",
    "doc._.coref_clusters[0].main"
   ]
  },
  {
   "cell_type": "code",
   "execution_count": 191,
   "metadata": {},
   "outputs": [],
   "source": [
    "class Ref:\n",
    "    \n",
    "    name = \"\"\n",
    "    reference = []\n",
    "    \n",
    "    def __init__(self, name, reference):\n",
    "        self.name = str(name)\n",
    "        self.reference = []\n",
    "        for word in reference :\n",
    "            self.reference.append(str(word))\n",
    "            \n",
    "    def __str__(self) :\n",
    "        return self.name + \": \" + str(self.reference)\n",
    "    \n",
    "    def get_name(self):\n",
    "        return self.name\n",
    "    \n",
    "    def get_reference(self):\n",
    "        return self.reference\n",
    "    \n",
    "    def is_male(self):\n",
    "        if \"He\" in self.reference :\n",
    "            return True\n",
    "        elif \"he\" in self.reference :\n",
    "            return True\n",
    "        else :\n",
    "            return False\n",
    "\n",
    "    def is_female(self):\n",
    "        if \"She\" in self.reference :\n",
    "            return True\n",
    "        elif \"she\" in self.reference :\n",
    "            return True\n",
    "        else :\n",
    "            return False"
   ]
  },
  {
   "cell_type": "code",
   "execution_count": 192,
   "metadata": {},
   "outputs": [
    {
     "data": {
      "text/plain": [
       "he"
      ]
     },
     "execution_count": 192,
     "metadata": {},
     "output_type": "execute_result"
    }
   ],
   "source": [
    "doc._.coref_clusters[2].mentions[1]"
   ]
  },
  {
   "cell_type": "code",
   "execution_count": 193,
   "metadata": {},
   "outputs": [
    {
     "data": {
      "text/plain": [
       "Bill Murray"
      ]
     },
     "execution_count": 193,
     "metadata": {},
     "output_type": "execute_result"
    }
   ],
   "source": [
    "doc._.coref_clusters[2].mentions[0]"
   ]
  },
  {
   "cell_type": "code",
   "execution_count": 194,
   "metadata": {},
   "outputs": [],
   "source": [
    "r = Ref(doc._.coref_clusters[2].main, doc._.coref_clusters[2].mentions)"
   ]
  },
  {
   "cell_type": "code",
   "execution_count": 195,
   "metadata": {},
   "outputs": [
    {
     "data": {
      "text/plain": [
       "True"
      ]
     },
     "execution_count": 195,
     "metadata": {},
     "output_type": "execute_result"
    }
   ],
   "source": [
    "r.is_male()"
   ]
  },
  {
   "cell_type": "code",
   "execution_count": 203,
   "metadata": {},
   "outputs": [],
   "source": [
    "class Coref:\n",
    "    original = \"\"\n",
    "    resolved = \"\"\n",
    "    refs = []\n",
    "    \n",
    "    def __init__(self, original, resolved, refs):\n",
    "        self.original = str(original)\n",
    "        self.resolved = str(resolved)\n",
    "        for r in refs :\n",
    "            print(r.main)\n",
    "            print(r.mentions)\n",
    "            self.refs.append(Ref(r.main, r.mentions))\n",
    "            \n",
    "    def get_resolved(self):\n",
    "        return self.resolved\n",
    "    \n",
    "    def get_refs(self):\n",
    "        return self.refs"
   ]
  },
  {
   "cell_type": "code",
   "execution_count": 204,
   "metadata": {},
   "outputs": [
    {
     "name": "stdout",
     "output_type": "stream",
     "text": [
      "this movie\n",
      "[this movie, the movie]\n",
      "the script\n",
      "[the script, it]\n",
      "Bill Murray\n",
      "[Bill Murray, he, he, he]\n"
     ]
    }
   ],
   "source": [
    "c = Coref(text, doc._.coref_resolved, doc._.coref_clusters)"
   ]
  },
  {
   "cell_type": "code",
   "execution_count": 205,
   "metadata": {},
   "outputs": [
    {
     "data": {
      "text/plain": [
       "'When I was younger, this movie always aired on Friday night in the summer on Channel 40 (this was the years before Fox was a network and took over the programming). I always looked forward to it. I\\'d go grocery shopping with my parents, then sit down with my Swanson\\'s TV dinner and a Lady Lee Cola(the only time of the week I was allowed to drink cola, and enjoy. Sure, the script is predictably late 70\\'s (like Little Darlings), but the script\\'s a fun movie, and I loved Rudy and Tripper. Bill Murray coasts with little effort in this movie, but Bill Murray is charming. Gotta love Spaz and those taped glasses (pre Revenge of the Nerds). Chris Makepeace is pretty much the same character Bill Murray played in \"My Bodyguard\" but Bill Murray does it so well.'"
      ]
     },
     "execution_count": 205,
     "metadata": {},
     "output_type": "execute_result"
    }
   ],
   "source": [
    "c.get_resolved()"
   ]
  },
  {
   "cell_type": "code",
   "execution_count": 206,
   "metadata": {},
   "outputs": [
    {
     "name": "stdout",
     "output_type": "stream",
     "text": [
      "this movie\n",
      "['this movie', 'the movie']\n",
      "the script\n",
      "['the script', 'it']\n",
      "Bill Murray\n",
      "['Bill Murray', 'he', 'he', 'he']\n"
     ]
    }
   ],
   "source": [
    "for r in c.get_refs() :\n",
    "    print(r.get_name())\n",
    "    print(r.get_reference())"
   ]
  },
  {
   "cell_type": "code",
   "execution_count": 108,
   "metadata": {},
   "outputs": [
    {
     "name": "stdout",
     "output_type": "stream",
     "text": [
      "My sister has a dog. My sister loves a dog\n",
      "[My sister: [My sister, She], a dog: [a dog, him]]\n",
      "[a dog, him]\n",
      "him\n",
      "a dog\n",
      "True\n",
      "[a dog: [a dog, him]]\n",
      "True\n",
      "a dog\n",
      "a dog: [a dog, him]\n"
     ]
    }
   ],
   "source": [
    "doc = nlp('My sister has a dog. She loves him')\n",
    "token = doc[-1]\n",
    "span = doc[-1:]\n",
    "\n",
    "\n",
    "print(doc._.coref_resolved)\n",
    "print(doc._.coref_clusters)\n",
    "print(doc._.coref_clusters[1].mentions)\n",
    "print(doc._.coref_clusters[1].mentions[-1])\n",
    "print(doc._.coref_clusters[1].mentions[-1]._.coref_cluster.main)\n",
    "print(token._.in_coref)\n",
    "print(token._.coref_clusters)\n",
    "print(span._.is_coref)\n",
    "print(span._.coref_cluster.main)\n",
    "print(span._.coref_cluster.main._.coref_cluster)"
   ]
  },
  {
   "cell_type": "code",
   "execution_count": null,
   "metadata": {},
   "outputs": [],
   "source": []
  }
 ],
 "metadata": {
  "kernelspec": {
   "display_name": "Python 3",
   "language": "python",
   "name": "python3"
  },
  "language_info": {
   "codemirror_mode": {
    "name": "ipython",
    "version": 3
   },
   "file_extension": ".py",
   "mimetype": "text/x-python",
   "name": "python",
   "nbconvert_exporter": "python",
   "pygments_lexer": "ipython3",
   "version": "3.6.8"
  }
 },
 "nbformat": 4,
 "nbformat_minor": 4
}
