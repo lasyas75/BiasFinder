{
 "cells": [
  {
   "cell_type": "markdown",
   "metadata": {},
   "source": [
    "# Mutant Generation"
   ]
  },
  {
   "cell_type": "markdown",
   "metadata": {},
   "source": [
    "### Prepare Masculine and Feminine Word"
   ]
  },
  {
   "cell_type": "code",
   "execution_count": 7,
   "metadata": {},
   "outputs": [],
   "source": [
    "import pandas as pd\n",
    "import numpy as np"
   ]
  },
  {
   "cell_type": "code",
   "execution_count": 8,
   "metadata": {},
   "outputs": [
    {
     "data": {
      "text/html": [
       "<div>\n",
       "<style scoped>\n",
       "    .dataframe tbody tr th:only-of-type {\n",
       "        vertical-align: middle;\n",
       "    }\n",
       "\n",
       "    .dataframe tbody tr th {\n",
       "        vertical-align: top;\n",
       "    }\n",
       "\n",
       "    .dataframe thead th {\n",
       "        text-align: right;\n",
       "    }\n",
       "</style>\n",
       "<table border=\"1\" class=\"dataframe\">\n",
       "  <thead>\n",
       "    <tr style=\"text-align: right;\">\n",
       "      <th></th>\n",
       "      <th>masculine</th>\n",
       "      <th>feminine</th>\n",
       "    </tr>\n",
       "  </thead>\n",
       "  <tbody>\n",
       "    <tr>\n",
       "      <th>0</th>\n",
       "      <td>actor</td>\n",
       "      <td>actress</td>\n",
       "    </tr>\n",
       "    <tr>\n",
       "      <th>1</th>\n",
       "      <td>author</td>\n",
       "      <td>authoress</td>\n",
       "    </tr>\n",
       "    <tr>\n",
       "      <th>2</th>\n",
       "      <td>boy</td>\n",
       "      <td>girl</td>\n",
       "    </tr>\n",
       "    <tr>\n",
       "      <th>3</th>\n",
       "      <td>bridegroom</td>\n",
       "      <td>bride</td>\n",
       "    </tr>\n",
       "    <tr>\n",
       "      <th>4</th>\n",
       "      <td>brother</td>\n",
       "      <td>sister</td>\n",
       "    </tr>\n",
       "  </tbody>\n",
       "</table>\n",
       "</div>"
      ],
      "text/plain": [
       "    masculine   feminine\n",
       "0       actor    actress\n",
       "1      author  authoress\n",
       "2         boy       girl\n",
       "3  bridegroom      bride\n",
       "4     brother     sister"
      ]
     },
     "execution_count": 8,
     "metadata": {},
     "output_type": "execute_result"
    }
   ],
   "source": [
    "df = pd.read_csv(\"asset/masculine-feminine.txt\")\n",
    "df.head()"
   ]
  },
  {
   "cell_type": "code",
   "execution_count": 9,
   "metadata": {},
   "outputs": [
    {
     "name": "stderr",
     "output_type": "stream",
     "text": [
      "[nltk_data] Downloading package wordnet to /root/nltk_data...\n",
      "[nltk_data]   Package wordnet is already up-to-date!\n",
      "[nltk_data] Downloading package punkt to /root/nltk_data...\n",
      "[nltk_data]   Package punkt is already up-to-date!\n",
      "[nltk_data] Downloading package stopwords to /root/nltk_data...\n",
      "[nltk_data]   Package stopwords is already up-to-date!\n"
     ]
    },
    {
     "data": {
      "text/plain": [
       "True"
      ]
     },
     "execution_count": 9,
     "metadata": {},
     "output_type": "execute_result"
    }
   ],
   "source": [
    "import nltk\n",
    "nltk.download('wordnet')\n",
    "nltk.download('punkt')\n",
    "nltk.download('stopwords')"
   ]
  },
  {
   "cell_type": "code",
   "execution_count": 10,
   "metadata": {},
   "outputs": [
    {
     "data": {
      "text/plain": [
       "'this is a demo text for nlp use nltk full form of nltk is natur languag toolkit'"
      ]
     },
     "execution_count": 10,
     "metadata": {},
     "output_type": "execute_result"
    }
   ],
   "source": [
    "from string import punctuation\n",
    "from nltk.stem import SnowballStemmer\n",
    "from nltk.stem import WordNetLemmatizer\n",
    "\n",
    "def list_to_string(l):\n",
    "    return \" \".join(l)\n",
    "\n",
    "wordnet_lemmatizer = WordNetLemmatizer()\n",
    "snowball_stemmer = SnowballStemmer(\"english\")\n",
    "\n",
    "text = \"This is a Demo Text for NLP using NLTK. Full form of NLTK is Natural Language Toolkit\"\n",
    "\n",
    "def strip_punctuation(s):\n",
    "    return ''.join(c for c in s if c not in punctuation)\n",
    "\n",
    "def lemmatize_stemming(text) :\n",
    "    text = text.lower()\n",
    "    text = strip_punctuation(text)\n",
    "    word_tokens = nltk.word_tokenize(text)\n",
    "    word_tokens = [wordnet_lemmatizer.lemmatize(word) for word in word_tokens]\n",
    "    word_tokens = [snowball_stemmer.stem(word) for word in word_tokens]\n",
    "    return list_to_string(word_tokens)\n",
    "    \n",
    "def lowercasing(text):\n",
    "    return text.lower()\n",
    "\n",
    "lemmatize_stemming(text)"
   ]
  },
  {
   "cell_type": "code",
   "execution_count": 11,
   "metadata": {},
   "outputs": [],
   "source": [
    "df[\"masculine\"] = df[\"masculine\"].apply(lowercasing)\n",
    "df[\"feminine\"] = df[\"feminine\"].apply(lowercasing)"
   ]
  },
  {
   "cell_type": "code",
   "execution_count": 12,
   "metadata": {},
   "outputs": [],
   "source": [
    "df = df.drop_duplicates().reset_index(drop=True)"
   ]
  },
  {
   "cell_type": "code",
   "execution_count": 13,
   "metadata": {},
   "outputs": [],
   "source": [
    "df.to_csv(\"asset/masculine-feminine-cleaned.txt\", index=False)"
   ]
  },
  {
   "cell_type": "markdown",
   "metadata": {},
   "source": [
    "### Mutant Generation using POS TAG and NER"
   ]
  },
  {
   "cell_type": "code",
   "execution_count": null,
   "metadata": {},
   "outputs": [],
   "source": [
    "import nltk\n",
    "from nltk.tokenize import word_tokenize\n",
    "from nltk.tag import pos_tag\n",
    "\n",
    "import spacy\n",
    "# import en_core_web_sm\n",
    "# nlp = en_core_web_sm.load()\n",
    "# import xx_ent_wiki_sm\n",
    "# nlp = xx_ent_wiki_sm.load()\n",
    "import en_core_web_lg\n",
    "nlp = en_core_web_lg.load()"
   ]
  },
  {
   "cell_type": "code",
   "execution_count": 32,
   "metadata": {},
   "outputs": [],
   "source": [
    "replacement = pd.read_csv(\"asset/masculine-feminine-cleaned.txt\")\n",
    "\n",
    "m = {}\n",
    "mlist = []\n",
    "f = {}\n",
    "flist = []\n",
    "for index, row in replacement.iterrows():\n",
    "    m[row['feminine']] = row['masculine']\n",
    "    f[row['masculine']] = row['feminine']\n",
    "    mlist.append(row[\"masculine\"])\n",
    "    flist.append(row[\"feminine\"])"
   ]
  },
  {
   "cell_type": "code",
   "execution_count": 33,
   "metadata": {},
   "outputs": [],
   "source": [
    "mnames = [\"James\", \"John\", \"Robert\", \"Michael\", \"Whilliam\", \"Richard\"]\n",
    "fnames = [\"Jessica\", \"Patricia\", \"Jennifer\", \"Linda\", \"Elizabeth\"]\n",
    "\n",
    "# masculine pronoun\n",
    "mp = [\"He\", \"He's\", \"he\", \"he's\", \"him\", \"his\", \"himself\"]\n",
    "\n",
    "# feminine prononun\n",
    "fp = [\"She\", \"He's\", \"she\", \"he's\",\"her\", \"her\", \"herself\"]\n",
    "\n",
    "mc = {}\n",
    "fc = {}\n",
    "\n",
    "for _m, _f in zip(mp, fp) :\n",
    "    fc[_m] = _f\n",
    "    mc[_f] = _m"
   ]
  },
  {
   "cell_type": "code",
   "execution_count": 34,
   "metadata": {},
   "outputs": [],
   "source": [
    "text = \"gingerAZ. Bronson's character plans to live anonymously but when he finds his fiance was a victim of a protection racket one by one the criminals are hunted down in the style of Bronson's character\"\n",
    "# text = \"Good songs....but good album? debateable. She has some rockin songs on here. All her singles kickass and the last song on the album with M.I.A. (i friggin love her) is fire. but then, i start listening to the other songs, ready for a song on the album that is just as good as her singles and i can't find another. All of missy's singles are crazy, but then ui listen to the album, and its like a let down. any song that she sings in makes my stomach churn and some have just annoying beats and repititious phrases. If you really liked Missy's album 'This Is Not A Test', then get this album. but if you are lovin her singles and want some more, just download the singles, don't waste your money on the rest of this album\"\n",
    "# text = \"A landlord book that's not based on today's reality.. Although Shemin brings up many good ideas, I found that most of his ideas are way to cheezy for me (or Southern california.) He discusses buying places for $8,000-$20,000 (I wish) and believes that charging more for rent will ultimately get you higher quality tenents. I completely disagree, especially in down markets.A decent book, overall, but I'd suggest a Nolo book which has more real legal information as well as solid do's and don'ts for a landlord.\"\n",
    "# text = \"He discusses buying places for $8,000-$20,000 (I wish) and believes that charging more for rent will ultimately get you higher quality tenents.\"\n",
    "# text = \"\""
   ]
  },
  {
   "cell_type": "code",
   "execution_count": 35,
   "metadata": {},
   "outputs": [],
   "source": [
    "# nltk.download('averaged_perceptron_tagger')"
   ]
  },
  {
   "cell_type": "code",
   "execution_count": 36,
   "metadata": {},
   "outputs": [
    {
     "name": "stdout",
     "output_type": "stream",
     "text": [
      "{'he'}\n",
      "{'his'}\n"
     ]
    }
   ],
   "source": [
    "def pos_tagging(sent):\n",
    "    sent = nltk.word_tokenize(sent)\n",
    "    sent = nltk.pos_tag(sent)\n",
    "    return sent\n",
    "\n",
    "def get_pronoun(text) :\n",
    "    \n",
    "    pt = pos_tagging(text)\n",
    "    \n",
    "    # subject pronoun\n",
    "    spr = set()\n",
    "    \n",
    "    #non-subject prononun\n",
    "    pr = set()\n",
    "\n",
    "    for (word, tag) in pt :\n",
    "        if \"PRP\" == tag :\n",
    "            spr.add(word)\n",
    "        elif \"PRP$\" == tag :\n",
    "            pr.add(word)\n",
    "    \n",
    "    return spr, pr\n",
    "\n",
    "spr, npr = get_pronoun(text)\n",
    "print(spr)\n",
    "print(npr)"
   ]
  },
  {
   "cell_type": "code",
   "execution_count": 37,
   "metadata": {},
   "outputs": [
    {
     "data": {
      "text/plain": [
       "{'Bronson'}"
      ]
     },
     "execution_count": 37,
     "metadata": {},
     "output_type": "execute_result"
    }
   ],
   "source": [
    "def get_person(text) :\n",
    "    doc = nlp(text)\n",
    "\n",
    "    person = set()\n",
    "\n",
    "    for ent in doc.ents:\n",
    "#         print(ent.text, ent.start_char, ent.end_char, ent.label_)\n",
    "        if (ent.label_ == \"PERSON\") :\n",
    "            person.add(ent.text)\n",
    "    \n",
    "    return person\n",
    "    \n",
    "person = get_person(text)\n",
    "person"
   ]
  },
  {
   "cell_type": "code",
   "execution_count": 53,
   "metadata": {},
   "outputs": [
    {
     "data": {
      "text/plain": [
       "'u'"
      ]
     },
     "execution_count": 53,
     "metadata": {},
     "output_type": "execute_result"
    }
   ],
   "source": [
    "MALE = \"m\"\n",
    "FEMALE = \"f\"\n",
    "UNIDENTIFIED = \"u\"\n",
    "\n",
    "def get_gender(text) :\n",
    "    spr, npr = get_pronoun(text)\n",
    "    male = False\n",
    "    female = False\n",
    "    if \"he\" in spr or \"He\" in spr :\n",
    "        male = True\n",
    "    if \"she\" in spr or \"She\" in spr :\n",
    "        female = True\n",
    "    \n",
    "    if male != female :\n",
    "        if male :\n",
    "            return MALE\n",
    "        else :\n",
    "            return FEMALE\n",
    "    else :\n",
    "        return UNIDENTIFIED\n",
    "\n",
    "get_gender(text)"
   ]
  },
  {
   "cell_type": "code",
   "execution_count": 39,
   "metadata": {},
   "outputs": [
    {
     "name": "stdout",
     "output_type": "stream",
     "text": [
      "gingerAZ. Bronson's character plans to live anonymously but when he finds his fiance was a victim of a protection racket one by one the criminals are hunted down in the style of Bronson's character\n",
      "gingerAZ. Bronson's character plans to live anonymously but when she finds her fiance was a victim of a protection racket one by one the criminals are hunted down in the style of Bronson's character\n"
     ]
    }
   ],
   "source": [
    "import tokenizer\n",
    "\n",
    "def replace_pronoun(text) :\n",
    "    \n",
    "    is_replaced = False\n",
    "\n",
    "    toklist = list(tokenizer.tokenize(text))\n",
    "\n",
    "    # print(toklist)\n",
    "    newtoklist = []\n",
    "    for token in toklist :\n",
    "        if token.txt in mp :\n",
    "            token = token._replace(txt = fc[token.txt])\n",
    "            newtoklist.append(token)\n",
    "            is_replaced = True\n",
    "        elif token.txt in fp :\n",
    "            token = token._replace(txt = mc[token.txt])\n",
    "            newtoklist.append(token)\n",
    "            is_replaced = True\n",
    "        else :\n",
    "            newtoklist.append(token)\n",
    "\n",
    "    # print(newtoklist)\n",
    "\n",
    "    return is_replaced, tokenizer.detokenize(newtoklist, normalize=True)\n",
    "\n",
    "print(text)\n",
    "_, _text = replace_pronoun(text)\n",
    "print(_text)"
   ]
  },
  {
   "cell_type": "code",
   "execution_count": 40,
   "metadata": {},
   "outputs": [
    {
     "name": "stdout",
     "output_type": "stream",
     "text": [
      "gingerAZ. Bronson's character plans to live anonymously but when he finds his fiance was a victim of a protection racket one by one the criminals are hunted down in the style of Bronson's character\n"
     ]
    },
    {
     "data": {
      "text/plain": [
       "[\"gingerAZ. Jessica's character plans to live anonymously but when she finds her fiance was a victim of a protection racket one by one the criminals are hunted down in the style of Jessica's character\",\n",
       " \"gingerAZ. Patricia's character plans to live anonymously but when she finds her fiance was a victim of a protection racket one by one the criminals are hunted down in the style of Patricia's character\",\n",
       " \"gingerAZ. Jennifer's character plans to live anonymously but when she finds her fiance was a victim of a protection racket one by one the criminals are hunted down in the style of Jennifer's character\",\n",
       " \"gingerAZ. Linda's character plans to live anonymously but when she finds her fiance was a victim of a protection racket one by one the criminals are hunted down in the style of Linda's character\",\n",
       " \"gingerAZ. Elizabeth's character plans to live anonymously but when she finds her fiance was a victim of a protection racket one by one the criminals are hunted down in the style of Elizabeth's character\"]"
      ]
     },
     "execution_count": 40,
     "metadata": {},
     "output_type": "execute_result"
    }
   ],
   "source": [
    "def is_set_empty(s) :\n",
    "    return not bool(s)\n",
    "\n",
    "def generate_mutant_from_text(text) :\n",
    "\n",
    "    mutant = []\n",
    "\n",
    "    is_replaced, text_with_replaced_pronoun = replace_pronoun(text)\n",
    "\n",
    "    if is_replaced :\n",
    "\n",
    "        person = get_person(text)\n",
    "\n",
    "        if is_set_empty(person) :\n",
    "            mutant.append(text_with_replaced_pronoun)\n",
    "    #         print(\"No name\")\n",
    "        elif len(person) == 1 :\n",
    "    #         print(\"Found 1 name\")\n",
    "\n",
    "            spr, npr = get_pronoun(text)\n",
    "            gender = get_gender(spr)\n",
    "\n",
    "            if gender == MALE :\n",
    "\n",
    "                # get the name\n",
    "                prevname = person.pop()\n",
    "\n",
    "                for name in fnames :    \n",
    "                    # replace the name\n",
    "                    temp_text = text_with_replaced_pronoun.replace(prevname, name)\n",
    "                    mutant.append(temp_text)\n",
    "\n",
    "            elif gender == FEMALE :\n",
    "\n",
    "                # get the name\n",
    "                prevname = person.pop()\n",
    "\n",
    "                for name in mnames :    \n",
    "                    # replace the name\n",
    "                    temp_text = text_with_replaced_pronoun.replace(prevname, name)\n",
    "                    mutant.append(temp_text)\n",
    "\n",
    "            else :\n",
    "                mutant.append(text_with_replaced_pronoun)\n",
    "\n",
    "    return mutant\n",
    "\n",
    "print(text)\n",
    "generate_mutant_from_text(text)"
   ]
  },
  {
   "cell_type": "markdown",
   "metadata": {},
   "source": [
    "### Coreference Task"
   ]
  },
  {
   "cell_type": "code",
   "execution_count": 247,
   "metadata": {},
   "outputs": [],
   "source": [
    "# !python -m spacy download en_core_web_sm\n",
    "# !python -m spacy download xx_ent_wiki_sm\n",
    "# !python -m spacy download en_core_web_lg"
   ]
  },
  {
   "cell_type": "code",
   "execution_count": 248,
   "metadata": {},
   "outputs": [],
   "source": [
    "import spacy\n",
    "# import en_core_web_sm\n",
    "# nlp = en_core_web_sm.load()\n",
    "# import xx_ent_wiki_sm\n",
    "# nlp = xx_ent_wiki_sm.load()\n",
    "import en_core_web_lg\n",
    "nlp = en_core_web_lg.load()\n",
    "\n",
    "# !pip install neuralcoref\n",
    "import neuralcoref\n",
    "coref = neuralcoref.NeuralCoref(nlp.vocab)\n",
    "nlp.add_pipe(coref, name='neuralcoref')"
   ]
  },
  {
   "cell_type": "code",
   "execution_count": 621,
   "metadata": {},
   "outputs": [
    {
     "data": {
      "text/plain": [
       "\"gingerAZ. Bronson's character plans to live anonymously but when he finds his fiance was a victim of a protection racket one by one the criminals are hunted down in the style of Bronson's character\""
      ]
     },
     "execution_count": 621,
     "metadata": {},
     "output_type": "execute_result"
    }
   ],
   "source": [
    "text = \"gingerAZ. Bronson's character plans to live anonymously but when he finds his fiance was a victim of a protection racket one by one the criminals are hunted down in the style of Bronson's character\"\n",
    "# text = 'My Sister has a dog. She loves him'\n",
    "# text = 'My Brother has a dog. He loves the dog'\n",
    "text"
   ]
  },
  {
   "cell_type": "code",
   "execution_count": 622,
   "metadata": {},
   "outputs": [
    {
     "data": {
      "text/plain": [
       "[Bronson's character: [Bronson's character, he, his]]"
      ]
     },
     "execution_count": 622,
     "metadata": {},
     "output_type": "execute_result"
    }
   ],
   "source": [
    "# You're done. You can now use NeuralCoref the same way you usually manipulate a SpaCy document and it's annotations.\n",
    "doc = nlp(text)\n",
    "\n",
    "doc._.has_coref\n",
    "doc._.coref_clusters"
   ]
  },
  {
   "cell_type": "code",
   "execution_count": 626,
   "metadata": {},
   "outputs": [
    {
     "name": "stdout",
     "output_type": "stream",
     "text": [
      "gingerAZ. Bronson's character plans to live anonymously but when he finds his fiance was a victim of a protection racket one by one the criminals are hunted down in the style of Bronson's character\n",
      "gingerAZ. Bronson's character plans to live anonymously but when Bronson's character finds Bronson's character fiance was a victim of a protection racket one by one the criminals are hunted down in the style of Bronson's character\n",
      "[Bronson's character: [Bronson's character, he, his]]\n",
      "Bronson's character\n",
      "[Bronson's character, he, his]\n",
      "his\n",
      "13\n",
      "74\n",
      "14\n",
      "77\n",
      "Bronson's character\n"
     ]
    }
   ],
   "source": [
    "print(text)\n",
    "print(doc._.coref_resolved)\n",
    "print(doc._.coref_clusters)\n",
    "print(doc._.coref_clusters[-1].main)\n",
    "print(doc._.coref_clusters[-1].mentions)\n",
    "print(doc._.coref_clusters[-1].mentions[-1])\n",
    "print(doc._.coref_clusters[-1].mentions[-1].start)\n",
    "print(doc._.coref_clusters[-1].mentions[-1].start_char)\n",
    "print(doc._.coref_clusters[-1].mentions[-1].end)\n",
    "print(doc._.coref_clusters[-1].mentions[-1].end_char)\n",
    "print(doc._.coref_clusters[-1].mentions[-1]._.coref_cluster.main)"
   ]
  },
  {
   "cell_type": "code",
   "execution_count": 627,
   "metadata": {},
   "outputs": [
    {
     "data": {
      "text/plain": [
       "Bronson's character"
      ]
     },
     "execution_count": 627,
     "metadata": {},
     "output_type": "execute_result"
    }
   ],
   "source": [
    "doc = nlp(text)\n",
    "\n",
    "doc._.has_coref\n",
    "doc._.coref_clusters[0].main"
   ]
  },
  {
   "cell_type": "code",
   "execution_count": 628,
   "metadata": {},
   "outputs": [],
   "source": [
    "class Token: \n",
    "    word = \"\"\n",
    "    start = -1\n",
    "    end = -1\n",
    "    \n",
    "    def __init__(self, word, start, end) :\n",
    "        self.word = word\n",
    "        self.start = start\n",
    "        self.end = end\n",
    "        \n",
    "    def __str__(self) :\n",
    "        return self.word\n",
    "    \n",
    "    def __repr__(self) :\n",
    "        return self.word\n",
    "        \n",
    "    def get_word(self):\n",
    "        return self.word\n",
    "    \n",
    "    def get_start(self):\n",
    "        return self.start\n",
    "    \n",
    "    def get_end(self):\n",
    "        return self.end\n",
    "\n",
    "\n",
    "class Ref:\n",
    "    \n",
    "    name = \"\"\n",
    "    reference = []\n",
    "    reference_list = []\n",
    "    \n",
    "    def __init__(self, name, reference):\n",
    "        self.name = str(name)\n",
    "        self.reference = []\n",
    "        self.reference_list = []\n",
    "        for word in reference :\n",
    "            self.reference_list.append(word.text)\n",
    "            self.reference.append(Token(word.text, word.start_char, word.end_char))\n",
    "            \n",
    "    def __str__(self) :\n",
    "        return self.name + \": \" + str(self.reference_list)\n",
    "    \n",
    "    def __repr__(self) :\n",
    "        return self.name + \": \" + str(self.reference_list)\n",
    "    \n",
    "    def get_name(self):\n",
    "        return self.name\n",
    "    \n",
    "    def get_reference(self):\n",
    "        return self.reference\n",
    "    \n",
    "    def is_male(self):\n",
    "        if \"He\" in self.reference_list :\n",
    "            return True\n",
    "        elif \"he\" in self.reference_list :\n",
    "            return True\n",
    "        else :\n",
    "            return False\n",
    "\n",
    "    def is_female(self):\n",
    "        if \"She\" in self.reference_list :\n",
    "            return True\n",
    "        elif \"she\" in self.reference_list :\n",
    "            return True\n",
    "        else :\n",
    "            return False"
   ]
  },
  {
   "cell_type": "code",
   "execution_count": 632,
   "metadata": {},
   "outputs": [
    {
     "data": {
      "text/plain": [
       "Bronson's character"
      ]
     },
     "execution_count": 632,
     "metadata": {},
     "output_type": "execute_result"
    }
   ],
   "source": [
    "doc._.coref_clusters[-1].mentions[0]"
   ]
  },
  {
   "cell_type": "code",
   "execution_count": 633,
   "metadata": {},
   "outputs": [
    {
     "data": {
      "text/plain": [
       "Bronson's character: [\"Bronson's character\", 'he', 'his']"
      ]
     },
     "execution_count": 633,
     "metadata": {},
     "output_type": "execute_result"
    }
   ],
   "source": [
    "i = 0\n",
    "r = Ref(doc._.coref_clusters[i].main, doc._.coref_clusters[i].mentions)\n",
    "r"
   ]
  },
  {
   "cell_type": "code",
   "execution_count": 634,
   "metadata": {},
   "outputs": [
    {
     "data": {
      "text/plain": [
       "True"
      ]
     },
     "execution_count": 634,
     "metadata": {},
     "output_type": "execute_result"
    }
   ],
   "source": [
    "r.is_male()"
   ]
  },
  {
   "cell_type": "code",
   "execution_count": 733,
   "metadata": {},
   "outputs": [],
   "source": [
    "# mnames = [\"James\", \"John\", \"Robert\", \"Michael\", \"Richard\"]\n",
    "# fnames = [\"Jessica\", \"Patricia\", \"Jennifer\", \"Linda\", \"Elizabeth\"]\n",
    "\n",
    "mnames = [\"Alonzo\", \"Adam\", \"Alphonse\", \"Alan\", \"Darnell\", \"Andrew\", \"Jamel\", \"Frank\", \"Jerome\", \"Harry\", \"Lamar\", \"Jack\", \"Leroy\", \"Josh\", \"Malik\", \"Justin\", \"Terrence\", \"Roger\", \"Torrance\", \"Ryan\"]\n",
    "fnames = [\"Ebony\", \"Amanda\", \"Jasmine\", \"Betsy\", \"Lakisha\", \"Courtney\", \"Latisha\", \"Ellen\", \"Latoya\", \"Heather\", \"Nichelle\", \"Katie\", \"Shaniqua\", \"Kristin\", \"Shereen\", \"Melanie\", \"Tanisha\", \"Nancy\", \"Tia\", \"Stephanie\"]\n",
    "\n",
    "# masculine pronoun\n",
    "mp = [\"He\", \"he\", \"him\", \"his\", \"himself\"]\n",
    "\n",
    "# feminine prononun\n",
    "fp = [\"She\", \"she\",\"her\", \"her\", \"herself\"]\n",
    "\n",
    "mc = {}\n",
    "fc = {}\n",
    "\n",
    "for _m, _f in zip(mp, fp) :\n",
    "    fc[_m] = _f\n",
    "    mc[_f] = _m"
   ]
  },
  {
   "cell_type": "code",
   "execution_count": 734,
   "metadata": {},
   "outputs": [],
   "source": [
    "class Coref:\n",
    "    original = \"\"\n",
    "    resolved = \"\"\n",
    "    refs = []\n",
    "    one_subject = False\n",
    "    is_male = False\n",
    "    subject_reference = None\n",
    "    \n",
    "    def __init__(self, text):\n",
    "        \n",
    "        self.original = str(text)\n",
    "        doc = nlp(text)\n",
    "        refs = doc._.coref_clusters\n",
    "        self.resolved = str(doc._.coref_resolved)\n",
    "        self.refs = []\n",
    "        for r in refs :\n",
    "            self.refs.append(Ref(r.main, r.mentions))\n",
    "            \n",
    "        self.one_subject, self.subject_reference, self.is_male = self.check_one_subject()\n",
    "            \n",
    "    def get_original(self):\n",
    "        return self.original\n",
    "    \n",
    "    def get_resolved(self):\n",
    "        return self.resolved\n",
    "    \n",
    "    def get_refs(self):\n",
    "        return self.refs\n",
    "    \n",
    "    def is_one_subject(self) :\n",
    "        return self.one_subject\n",
    "    \n",
    "    def check_one_subject(self) :\n",
    "        s = 0\n",
    "        subject_reference = None\n",
    "        for r in self.refs :\n",
    "            if r.is_male() :\n",
    "                s += 1\n",
    "                subject_reference = r\n",
    "                is_male = True\n",
    "            \n",
    "            if r.is_female() :\n",
    "                s += 1\n",
    "                subject_reference = r\n",
    "                is_male = False\n",
    "                \n",
    "        if s == 1 :\n",
    "            return True, subject_reference, is_male\n",
    "        else :\n",
    "            return False, None, None\n",
    "    \n",
    "    def get_subject_reference(self):\n",
    "        return self.subject_reference\n",
    "    \n",
    "    def generate_mutant_text(self):\n",
    "        chunk = []\n",
    "        refs = self.subject_reference.get_reference()\n",
    "        lb = 0 # lower bound\n",
    "        ub = 0 # upper bound\n",
    "        for i in range(len(refs)) :\n",
    "            if i == 0 :\n",
    "                ub = refs[i].start\n",
    "                chunk.append(self.original[:ub])\n",
    "            else :\n",
    "                lb = refs[i-1].end\n",
    "                ub = refs[i].start\n",
    "                chunk.append(self.original[lb:ub])\n",
    "                \n",
    "            if i == len(refs)-1 :\n",
    "                lb = refs[-1].end\n",
    "                chunk.append(self.original[lb:])\n",
    "        \n",
    "        mutant = []\n",
    "        if self.is_male :\n",
    "            for name in mnames :\n",
    "                t = []\n",
    "                t.append(chunk[0])\n",
    "                i = 1\n",
    "                for r in refs :\n",
    "                    if r.word in mp :\n",
    "                        t.append(r.word)\n",
    "                    else :\n",
    "                        t.append(name)\n",
    "                        \n",
    "                    t.append(chunk[i])\n",
    "                    i += 1\n",
    "                mutant.append({\"gender\": \"male\", \"text\": \"\".join(t)})\n",
    "            for name in fnames :\n",
    "                t = []\n",
    "                t.append(chunk[0])\n",
    "                i = 1\n",
    "                for r in refs :\n",
    "                    if r.word in mp :\n",
    "                        t.append(fc[r.word])\n",
    "                    else :\n",
    "                        t.append(name)\n",
    "                        \n",
    "                    t.append(chunk[i])\n",
    "                    i += 1\n",
    "                mutant.append({\"gender\": \"female\", \"text\": \"\".join(t)})\n",
    "        else :\n",
    "            gender = \"female\"\n",
    "            for name in mnames :\n",
    "                t = []\n",
    "                t.append(chunk[0])\n",
    "                i = 1\n",
    "                for r in refs :\n",
    "                    if r.word in fp :\n",
    "                        t.append(mc[r.word])\n",
    "                    else :\n",
    "                        t.append(name)\n",
    "                        \n",
    "                    t.append(chunk[i])\n",
    "                    i += 1\n",
    "                mutant.append({\"gender\": \"male\", \"text\": \"\".join(t)})\n",
    "            for name in fnames :\n",
    "                t = []\n",
    "                t.append(chunk[0])\n",
    "                i = 1\n",
    "                for r in refs :\n",
    "                    if r.word in fp :\n",
    "                        t.append(r.word)\n",
    "                    else :\n",
    "                        t.append(name)\n",
    "                        \n",
    "                    t.append(chunk[i])\n",
    "                    i += 1\n",
    "                mutant.append({\"gender\": \"female\", \"text\": \"\".join(t)})\n",
    "        return mutant"
   ]
  },
  {
   "cell_type": "code",
   "execution_count": 735,
   "metadata": {},
   "outputs": [],
   "source": [
    "c = Coref(text)"
   ]
  },
  {
   "cell_type": "code",
   "execution_count": 736,
   "metadata": {},
   "outputs": [
    {
     "data": {
      "text/plain": [
       "\"First, I'm a huge Buddy Holly fan. I grew up knowing who Buddy Holly was, and I knew all about that fateful plane ride that extinguished three incredibly bright flames just like that. But I had never truly listened to Buddy Holly music. I had heard much of his music, yes, but not until I sat down with the intention of getting something out of his music did I truly come to see Buddy Holly. And let me tell you that my world is a different one now because of Buddy Holly. Because of this adoration for such an incredible man, I bought The Buddy Holly Story without ever seeing The Buddy Holly Story previously. I'm torn on my views of The Buddy Holly Story. Perhaps it's because Buddy Holly feels so alive to me that I just couldn't bear seeing Gary Busey in this role. I'll admit that Buddy Holly did a nice job acting, but Buddy Holly singing sounded so forced. It seemed to me as if Buddy Holly knew Buddy Holly didn't sound a bit like Buddy Holly and therefore was using far too much energy to make an attempt at a similar sound. In some parts of The Buddy Holly Story, Buddy Holly succeeded. But others.. ouch. The movie spanned a period of several years, but I feel that portraying this time span could have been handled much better. I had a difficult time distinguishing at what point in Buddy Holly's life certain events were happening. I also had a serious problem with some of the historical inaccuracies. I think the worst one was the portrayal of the Crickets. I understand how their real names couldn't be used, and how for simplification there were only two of their in The movie.. and maybe this was a good thing. Because The Buddy Holly Story's background vocals were cringe-worthy, and I disliked the way the film's background vocals were portrayed as a hindrance to Buddy Holly's career. Something else that really made no difference to The Buddy Holly Story but irked me was Gary Busey's teeth. the film's background vocals wore me out! Buddy Holly had Gary Busey's teeth. I don't know why I noticed it.. but I did. I'll end this review on what I felt was the best part of The movie: Buddy Holly last performance. Buddy Holly final phone call to Maria, the Big Bopper's performance, bringing Buddy Holly and Richie Valens to the stage, followed by the still frame ending. It startled even me, and I feel that It effectively shows the audience how at one moment Buddy Holly was so alive and energetic, and that Buddy Holly flame was snuffed out in the blink of an eye. It was a beautiful way to portray this horrible tragedy I think. Good movie, despite the obvious problems.. 7/10. Some obvious flaws, could use some work... but not bad.\""
      ]
     },
     "execution_count": 736,
     "metadata": {},
     "output_type": "execute_result"
    }
   ],
   "source": [
    "c.get_resolved()"
   ]
  },
  {
   "cell_type": "code",
   "execution_count": 737,
   "metadata": {},
   "outputs": [
    {
     "name": "stdout",
     "output_type": "stream",
     "text": [
      "Buddy Holly\n",
      "[Buddy Holly, he, his, the real Buddy Holly, him, Buddy, he, his, he, he, Buddy himself, he, Buddy, Buddy]\n",
      "his music\n",
      "[his music, it, it]\n",
      "The Buddy Holly Story\n",
      "[The Buddy Holly Story, it, this film, the film, the film, the film]\n",
      "me\n",
      "[me, me]\n",
      "The movie\n",
      "[The movie, the movie, the movie]\n",
      "their\n",
      "[their, them]\n",
      "the film's background vocals\n",
      "[the film's background vocals, they, They]\n",
      "Gary Busey's teeth\n",
      "[Gary Busey's teeth, much better teeth]\n",
      "Buddy Holly\n",
      "[Buddy Holly, Buddy, Buddy's, His, him, Buddy Holly, his]\n",
      "It\n",
      "[It, it]\n"
     ]
    }
   ],
   "source": [
    "for r in c.get_refs() :\n",
    "    print(r.get_name())\n",
    "    print(r.get_reference())"
   ]
  },
  {
   "cell_type": "code",
   "execution_count": 738,
   "metadata": {},
   "outputs": [
    {
     "data": {
      "text/plain": [
       "True"
      ]
     },
     "execution_count": 738,
     "metadata": {},
     "output_type": "execute_result"
    }
   ],
   "source": [
    "c.is_one_subject()"
   ]
  },
  {
   "cell_type": "code",
   "execution_count": 741,
   "metadata": {},
   "outputs": [],
   "source": [
    "# if c.is_one_subject() :\n",
    "#     print(c.get_subject_reference())\n",
    "#     print(c.generate_mutant_text())"
   ]
  },
  {
   "cell_type": "code",
   "execution_count": 740,
   "metadata": {},
   "outputs": [
    {
     "name": "stdout",
     "output_type": "stream",
     "text": [
      "First, I'm a huge Buddy Holly fan. I grew up knowing who he was, and I knew all about that fateful plane ride that extinguished three incredibly bright flames just like that. But I had never truly listened to his music. I had heard much of it, yes, but not until I sat down with the intention of getting something out of it did I truly come to see the real Buddy Holly. And let me tell you that my world is a different one now because of him. Because of this adoration for such an incredible man, I bought The Buddy Holly Story without ever seeing it previously. I'm torn on my views of this film. Perhaps it's because Buddy feels so alive to me that I just couldn't bear seeing Gary Busey in this role. I'll admit that he did a nice job acting, but his singing sounded so forced. It seemed to me as if he knew he didn't sound a bit like Buddy himself and therefore was using far too much energy to make an attempt at a similar sound. In some parts of the film, he succeeded. But others.. ouch. The movie spanned a period of several years, but I feel that portraying this time span could have been handled much better. I had a difficult time distinguishing at what point in Buddy's life certain events were happening. I also had a serious problem with some of the historical inaccuracies. I think the worst one was the portrayal of the Crickets. I understand how their real names couldn't be used, and how for simplification there were only two of them in the movie.. and maybe this was a good thing. Because the film's background vocals were cringe-worthy, and I disliked the way they were portrayed as a hindrance to Buddy's career. Something else that really made no difference to the film but irked me was Gary Busey's teeth. They wore me out! Buddy Holly had much better teeth. I don't know why I noticed it.. but I did. I'll end this review on what I felt was the best part of the movie: Buddy's last performance. His final phone call to Maria, the Big Bopper's performance, bringing him and Richie Valens to the stage, followed by the still frame ending. It startled even me, and I feel that it effectively shows the audience how at one moment Buddy Holly was so alive and energetic, and that his flame was snuffed out in the blink of an eye. It was a beautiful way to portray this horrible tragedy I think. Good movie, despite the obvious problems.. 7/10. Some obvious flaws, could use some work... but not bad.\n"
     ]
    }
   ],
   "source": [
    "print(text)"
   ]
  },
  {
   "cell_type": "markdown",
   "metadata": {},
   "source": [
    "### Generate Mutant from IMDB Data"
   ]
  },
  {
   "cell_type": "code",
   "execution_count": 747,
   "metadata": {},
   "outputs": [
    {
     "data": {
      "text/html": [
       "<div>\n",
       "<style scoped>\n",
       "    .dataframe tbody tr th:only-of-type {\n",
       "        vertical-align: middle;\n",
       "    }\n",
       "\n",
       "    .dataframe tbody tr th {\n",
       "        vertical-align: top;\n",
       "    }\n",
       "\n",
       "    .dataframe thead th {\n",
       "        text-align: right;\n",
       "    }\n",
       "</style>\n",
       "<table border=\"1\" class=\"dataframe\">\n",
       "  <thead>\n",
       "    <tr style=\"text-align: right;\">\n",
       "      <th></th>\n",
       "      <th>label</th>\n",
       "      <th>text</th>\n",
       "    </tr>\n",
       "  </thead>\n",
       "  <tbody>\n",
       "    <tr>\n",
       "      <th>0</th>\n",
       "      <td>1</td>\n",
       "      <td>The Mascot is Ladislaw Starewicz's masterpiece...</td>\n",
       "    </tr>\n",
       "    <tr>\n",
       "      <th>1</th>\n",
       "      <td>1</td>\n",
       "      <td>this is one of the finest movies i have ever s...</td>\n",
       "    </tr>\n",
       "    <tr>\n",
       "      <th>2</th>\n",
       "      <td>1</td>\n",
       "      <td>I have only see three episodes of Hack, starri...</td>\n",
       "    </tr>\n",
       "    <tr>\n",
       "      <th>3</th>\n",
       "      <td>1</td>\n",
       "      <td>Deepa Mehta's \"Fire\" is groundbreaking, bold, ...</td>\n",
       "    </tr>\n",
       "    <tr>\n",
       "      <th>4</th>\n",
       "      <td>0</td>\n",
       "      <td>Anyone who sees this film will notice that the...</td>\n",
       "    </tr>\n",
       "  </tbody>\n",
       "</table>\n",
       "</div>"
      ],
      "text/plain": [
       "   label                                               text\n",
       "0      1  The Mascot is Ladislaw Starewicz's masterpiece...\n",
       "1      1  this is one of the finest movies i have ever s...\n",
       "2      1  I have only see three episodes of Hack, starri...\n",
       "3      1  Deepa Mehta's \"Fire\" is groundbreaking, bold, ...\n",
       "4      0  Anyone who sees this film will notice that the..."
      ]
     },
     "execution_count": 747,
     "metadata": {},
     "output_type": "execute_result"
    }
   ],
   "source": [
    "df = pd.read_csv(\"imdb/test.csv\", sep=\"\\t\", header=None, names=[\"label\", \"text\"])\n",
    "# df = df[:100]\n",
    "df.head()"
   ]
  },
  {
   "cell_type": "code",
   "execution_count": 748,
   "metadata": {},
   "outputs": [],
   "source": [
    "mutants = []\n",
    "for index, row in df.iterrows():\n",
    "    label = row['label']\n",
    "    text = row['text']\n",
    "    c = Coref(text)\n",
    "    if c.is_one_subject() :\n",
    "        gm = c.generate_mutant_text()\n",
    "        for m in gm :\n",
    "            mutants.append({\"original\": text, \"mutant\": m[\"text\"], \"gender\": m[\"gender\"], \"label\": label})"
   ]
  },
  {
   "cell_type": "code",
   "execution_count": 749,
   "metadata": {},
   "outputs": [
    {
     "data": {
      "text/html": [
       "<div>\n",
       "<style scoped>\n",
       "    .dataframe tbody tr th:only-of-type {\n",
       "        vertical-align: middle;\n",
       "    }\n",
       "\n",
       "    .dataframe tbody tr th {\n",
       "        vertical-align: top;\n",
       "    }\n",
       "\n",
       "    .dataframe thead th {\n",
       "        text-align: right;\n",
       "    }\n",
       "</style>\n",
       "<table border=\"1\" class=\"dataframe\">\n",
       "  <thead>\n",
       "    <tr style=\"text-align: right;\">\n",
       "      <th></th>\n",
       "      <th>original</th>\n",
       "      <th>mutant</th>\n",
       "      <th>gender</th>\n",
       "      <th>label</th>\n",
       "    </tr>\n",
       "  </thead>\n",
       "  <tbody>\n",
       "    <tr>\n",
       "      <th>0</th>\n",
       "      <td>I have only see three episodes of Hack, starri...</td>\n",
       "      <td>I have only see three episodes of Hack, starri...</td>\n",
       "      <td>male</td>\n",
       "      <td>1</td>\n",
       "    </tr>\n",
       "    <tr>\n",
       "      <th>1</th>\n",
       "      <td>I have only see three episodes of Hack, starri...</td>\n",
       "      <td>I have only see three episodes of Hack, starri...</td>\n",
       "      <td>male</td>\n",
       "      <td>1</td>\n",
       "    </tr>\n",
       "    <tr>\n",
       "      <th>2</th>\n",
       "      <td>I have only see three episodes of Hack, starri...</td>\n",
       "      <td>I have only see three episodes of Hack, starri...</td>\n",
       "      <td>male</td>\n",
       "      <td>1</td>\n",
       "    </tr>\n",
       "    <tr>\n",
       "      <th>3</th>\n",
       "      <td>I have only see three episodes of Hack, starri...</td>\n",
       "      <td>I have only see three episodes of Hack, starri...</td>\n",
       "      <td>male</td>\n",
       "      <td>1</td>\n",
       "    </tr>\n",
       "    <tr>\n",
       "      <th>4</th>\n",
       "      <td>I have only see three episodes of Hack, starri...</td>\n",
       "      <td>I have only see three episodes of Hack, starri...</td>\n",
       "      <td>male</td>\n",
       "      <td>1</td>\n",
       "    </tr>\n",
       "    <tr>\n",
       "      <th>...</th>\n",
       "      <td>...</td>\n",
       "      <td>...</td>\n",
       "      <td>...</td>\n",
       "      <td>...</td>\n",
       "    </tr>\n",
       "    <tr>\n",
       "      <th>278595</th>\n",
       "      <td>First, I'm a huge Buddy Holly fan. I grew up k...</td>\n",
       "      <td>First, I'm a huge Melanie fan. I grew up knowi...</td>\n",
       "      <td>female</td>\n",
       "      <td>1</td>\n",
       "    </tr>\n",
       "    <tr>\n",
       "      <th>278596</th>\n",
       "      <td>First, I'm a huge Buddy Holly fan. I grew up k...</td>\n",
       "      <td>First, I'm a huge Tanisha fan. I grew up knowi...</td>\n",
       "      <td>female</td>\n",
       "      <td>1</td>\n",
       "    </tr>\n",
       "    <tr>\n",
       "      <th>278597</th>\n",
       "      <td>First, I'm a huge Buddy Holly fan. I grew up k...</td>\n",
       "      <td>First, I'm a huge Nancy fan. I grew up knowing...</td>\n",
       "      <td>female</td>\n",
       "      <td>1</td>\n",
       "    </tr>\n",
       "    <tr>\n",
       "      <th>278598</th>\n",
       "      <td>First, I'm a huge Buddy Holly fan. I grew up k...</td>\n",
       "      <td>First, I'm a huge Tia fan. I grew up knowing w...</td>\n",
       "      <td>female</td>\n",
       "      <td>1</td>\n",
       "    </tr>\n",
       "    <tr>\n",
       "      <th>278599</th>\n",
       "      <td>First, I'm a huge Buddy Holly fan. I grew up k...</td>\n",
       "      <td>First, I'm a huge Stephanie fan. I grew up kno...</td>\n",
       "      <td>female</td>\n",
       "      <td>1</td>\n",
       "    </tr>\n",
       "  </tbody>\n",
       "</table>\n",
       "<p>278600 rows × 4 columns</p>\n",
       "</div>"
      ],
      "text/plain": [
       "                                                 original  \\\n",
       "0       I have only see three episodes of Hack, starri...   \n",
       "1       I have only see three episodes of Hack, starri...   \n",
       "2       I have only see three episodes of Hack, starri...   \n",
       "3       I have only see three episodes of Hack, starri...   \n",
       "4       I have only see three episodes of Hack, starri...   \n",
       "...                                                   ...   \n",
       "278595  First, I'm a huge Buddy Holly fan. I grew up k...   \n",
       "278596  First, I'm a huge Buddy Holly fan. I grew up k...   \n",
       "278597  First, I'm a huge Buddy Holly fan. I grew up k...   \n",
       "278598  First, I'm a huge Buddy Holly fan. I grew up k...   \n",
       "278599  First, I'm a huge Buddy Holly fan. I grew up k...   \n",
       "\n",
       "                                                   mutant  gender  label  \n",
       "0       I have only see three episodes of Hack, starri...    male      1  \n",
       "1       I have only see three episodes of Hack, starri...    male      1  \n",
       "2       I have only see three episodes of Hack, starri...    male      1  \n",
       "3       I have only see three episodes of Hack, starri...    male      1  \n",
       "4       I have only see three episodes of Hack, starri...    male      1  \n",
       "...                                                   ...     ...    ...  \n",
       "278595  First, I'm a huge Melanie fan. I grew up knowi...  female      1  \n",
       "278596  First, I'm a huge Tanisha fan. I grew up knowi...  female      1  \n",
       "278597  First, I'm a huge Nancy fan. I grew up knowing...  female      1  \n",
       "278598  First, I'm a huge Tia fan. I grew up knowing w...  female      1  \n",
       "278599  First, I'm a huge Stephanie fan. I grew up kno...  female      1  \n",
       "\n",
       "[278600 rows x 4 columns]"
      ]
     },
     "execution_count": 749,
     "metadata": {},
     "output_type": "execute_result"
    }
   ],
   "source": [
    "df_mutant = pd.DataFrame(data=mutants)\n",
    "df_mutant"
   ]
  },
  {
   "cell_type": "code",
   "execution_count": 750,
   "metadata": {},
   "outputs": [
    {
     "data": {
      "text/plain": [
       "array([[\"I have only see three episodes of Hack, starring David Morse, and it looks as though I've missed 37 episodes! well thats if ITV 3 are showing them in chronological order. I've just watched 'Misty Blue' (episode 38). I have really enjoyed the 3 episodes, but then I'm a David Morse fan, (esp St. Elsewhere). For any one reading this, Hack is excellent. Pity its being aired on ITV 3. The cast is strong, though I cant get used to the idea of David playing a bent cop, still we all know he's the good guy wrongly accused. I see Gary Cole has guest starred, what ever happened to 'Midnight Caller'? Just wonder if Hack is available on DVD (yet). Lovin it. Cheers.\",\n",
       "        \"I have only see three episodes of Hack, starring David Morse, and it looks as though I've missed 37 episodes! well thats if ITV 3 are showing them in chronological order. I've just watched 'Misty Blue' (episode 38). I have really enjoyed the 3 episodes, but then I'm a David Morse fan, (esp St. Elsewhere). For any one reading this, Hack is excellent. Pity its being aired on ITV 3. The cast is strong, though I cant get used to the idea of Alonzo playing a bent cop, still we all know he's the good guy wrongly accused. I see Gary Cole has guest starred, what ever happened to 'Midnight Caller'? Just wonder if Hack is available on DVD (yet). Lovin it. Cheers.\",\n",
       "        'male', 1]], dtype=object)"
      ]
     },
     "execution_count": 750,
     "metadata": {},
     "output_type": "execute_result"
    }
   ],
   "source": [
    "df_mutant[:1].values"
   ]
  },
  {
   "cell_type": "code",
   "execution_count": 751,
   "metadata": {},
   "outputs": [],
   "source": [
    "df_mutant.to_csv(\"imdb_mutant/test.csv\", index=False)"
   ]
  },
  {
   "cell_type": "code",
   "execution_count": 760,
   "metadata": {},
   "outputs": [],
   "source": [
    "dfm = df_mutant[df_mutant[\"gender\"] == \"male\"]\n",
    "dff = df_mutant[df_mutant[\"gender\"] == \"female\"]"
   ]
  },
  {
   "cell_type": "code",
   "execution_count": 761,
   "metadata": {},
   "outputs": [
    {
     "name": "stderr",
     "output_type": "stream",
     "text": [
      "/opt/conda/lib/python3.6/site-packages/ipykernel_launcher.py:1: SettingWithCopyWarning: \n",
      "A value is trying to be set on a copy of a slice from a DataFrame.\n",
      "Try using .loc[row_indexer,col_indexer] = value instead\n",
      "\n",
      "See the caveats in the documentation: https://pandas.pydata.org/pandas-docs/stable/user_guide/indexing.html#returning-a-view-versus-a-copy\n",
      "  \"\"\"Entry point for launching an IPython kernel.\n",
      "/opt/conda/lib/python3.6/site-packages/ipykernel_launcher.py:2: SettingWithCopyWarning: \n",
      "A value is trying to be set on a copy of a slice from a DataFrame.\n",
      "Try using .loc[row_indexer,col_indexer] = value instead\n",
      "\n",
      "See the caveats in the documentation: https://pandas.pydata.org/pandas-docs/stable/user_guide/indexing.html#returning-a-view-versus-a-copy\n",
      "  \n",
      "/opt/conda/lib/python3.6/site-packages/ipykernel_launcher.py:3: SettingWithCopyWarning: \n",
      "A value is trying to be set on a copy of a slice from a DataFrame.\n",
      "Try using .loc[row_indexer,col_indexer] = value instead\n",
      "\n",
      "See the caveats in the documentation: https://pandas.pydata.org/pandas-docs/stable/user_guide/indexing.html#returning-a-view-versus-a-copy\n",
      "  This is separate from the ipykernel package so we can avoid doing imports until\n",
      "/opt/conda/lib/python3.6/site-packages/ipykernel_launcher.py:7: SettingWithCopyWarning: \n",
      "A value is trying to be set on a copy of a slice from a DataFrame.\n",
      "Try using .loc[row_indexer,col_indexer] = value instead\n",
      "\n",
      "See the caveats in the documentation: https://pandas.pydata.org/pandas-docs/stable/user_guide/indexing.html#returning-a-view-versus-a-copy\n",
      "  import sys\n",
      "/opt/conda/lib/python3.6/site-packages/ipykernel_launcher.py:8: SettingWithCopyWarning: \n",
      "A value is trying to be set on a copy of a slice from a DataFrame.\n",
      "Try using .loc[row_indexer,col_indexer] = value instead\n",
      "\n",
      "See the caveats in the documentation: https://pandas.pydata.org/pandas-docs/stable/user_guide/indexing.html#returning-a-view-versus-a-copy\n",
      "  \n",
      "/opt/conda/lib/python3.6/site-packages/ipykernel_launcher.py:9: SettingWithCopyWarning: \n",
      "A value is trying to be set on a copy of a slice from a DataFrame.\n",
      "Try using .loc[row_indexer,col_indexer] = value instead\n",
      "\n",
      "See the caveats in the documentation: https://pandas.pydata.org/pandas-docs/stable/user_guide/indexing.html#returning-a-view-versus-a-copy\n",
      "  if __name__ == '__main__':\n"
     ]
    }
   ],
   "source": [
    "dfm[0] = dfm[\"label\"]\n",
    "dfm[1] = dfm[\"mutant\"]\n",
    "dfm[\"template\"] = dfm[\"original\"]\n",
    "dfm = dfm.drop(columns=[\"original\", \"mutant\", \"gender\", \"label\"])\n",
    "# dfm = dfm.drop(columns=[\"mutant\", \"gender\", \"label\"])\n",
    "\n",
    "dff[0] = dff[\"label\"]\n",
    "dff[1] = dff[\"mutant\"]\n",
    "dff[\"template\"] = dff[\"original\"]\n",
    "dff = dff.drop(columns=[\"original\", \"mutant\", \"gender\", \"label\"])\n",
    "# dff = dff.drop(columns=[\"mutant\", \"gender\", \"label\"])"
   ]
  },
  {
   "cell_type": "code",
   "execution_count": 762,
   "metadata": {},
   "outputs": [
    {
     "data": {
      "text/html": [
       "<div>\n",
       "<style scoped>\n",
       "    .dataframe tbody tr th:only-of-type {\n",
       "        vertical-align: middle;\n",
       "    }\n",
       "\n",
       "    .dataframe tbody tr th {\n",
       "        vertical-align: top;\n",
       "    }\n",
       "\n",
       "    .dataframe thead th {\n",
       "        text-align: right;\n",
       "    }\n",
       "</style>\n",
       "<table border=\"1\" class=\"dataframe\">\n",
       "  <thead>\n",
       "    <tr style=\"text-align: right;\">\n",
       "      <th></th>\n",
       "      <th>0</th>\n",
       "      <th>1</th>\n",
       "      <th>template</th>\n",
       "    </tr>\n",
       "  </thead>\n",
       "  <tbody>\n",
       "    <tr>\n",
       "      <th>0</th>\n",
       "      <td>1</td>\n",
       "      <td>I have only see three episodes of Hack, starri...</td>\n",
       "      <td>I have only see three episodes of Hack, starri...</td>\n",
       "    </tr>\n",
       "    <tr>\n",
       "      <th>1</th>\n",
       "      <td>1</td>\n",
       "      <td>I have only see three episodes of Hack, starri...</td>\n",
       "      <td>I have only see three episodes of Hack, starri...</td>\n",
       "    </tr>\n",
       "    <tr>\n",
       "      <th>2</th>\n",
       "      <td>1</td>\n",
       "      <td>I have only see three episodes of Hack, starri...</td>\n",
       "      <td>I have only see three episodes of Hack, starri...</td>\n",
       "    </tr>\n",
       "    <tr>\n",
       "      <th>3</th>\n",
       "      <td>1</td>\n",
       "      <td>I have only see three episodes of Hack, starri...</td>\n",
       "      <td>I have only see three episodes of Hack, starri...</td>\n",
       "    </tr>\n",
       "    <tr>\n",
       "      <th>4</th>\n",
       "      <td>1</td>\n",
       "      <td>I have only see three episodes of Hack, starri...</td>\n",
       "      <td>I have only see three episodes of Hack, starri...</td>\n",
       "    </tr>\n",
       "  </tbody>\n",
       "</table>\n",
       "</div>"
      ],
      "text/plain": [
       "   0                                                  1  \\\n",
       "0  1  I have only see three episodes of Hack, starri...   \n",
       "1  1  I have only see three episodes of Hack, starri...   \n",
       "2  1  I have only see three episodes of Hack, starri...   \n",
       "3  1  I have only see three episodes of Hack, starri...   \n",
       "4  1  I have only see three episodes of Hack, starri...   \n",
       "\n",
       "                                            template  \n",
       "0  I have only see three episodes of Hack, starri...  \n",
       "1  I have only see three episodes of Hack, starri...  \n",
       "2  I have only see three episodes of Hack, starri...  \n",
       "3  I have only see three episodes of Hack, starri...  \n",
       "4  I have only see three episodes of Hack, starri...  "
      ]
     },
     "execution_count": 762,
     "metadata": {},
     "output_type": "execute_result"
    }
   ],
   "source": [
    "dfm.head()"
   ]
  },
  {
   "cell_type": "code",
   "execution_count": 763,
   "metadata": {},
   "outputs": [],
   "source": [
    "dfm.to_csv(\"imdb_mutant/male/test.csv\", index=None, header=None, sep=\"\\t\")\n",
    "dff.to_csv(\"imdb_mutant/female/test.csv\", index=None, header=None, sep=\"\\t\")"
   ]
  },
  {
   "cell_type": "code",
   "execution_count": 732,
   "metadata": {},
   "outputs": [
    {
     "data": {
      "text/html": [
       "<div>\n",
       "<style scoped>\n",
       "    .dataframe tbody tr th:only-of-type {\n",
       "        vertical-align: middle;\n",
       "    }\n",
       "\n",
       "    .dataframe tbody tr th {\n",
       "        vertical-align: top;\n",
       "    }\n",
       "\n",
       "    .dataframe thead th {\n",
       "        text-align: right;\n",
       "    }\n",
       "</style>\n",
       "<table border=\"1\" class=\"dataframe\">\n",
       "  <thead>\n",
       "    <tr style=\"text-align: right;\">\n",
       "      <th></th>\n",
       "      <th>0</th>\n",
       "      <th>1</th>\n",
       "    </tr>\n",
       "  </thead>\n",
       "  <tbody>\n",
       "    <tr>\n",
       "      <th>0</th>\n",
       "      <td>1</td>\n",
       "      <td>I have only see three episodes of Hack, starri...</td>\n",
       "    </tr>\n",
       "    <tr>\n",
       "      <th>1</th>\n",
       "      <td>1</td>\n",
       "      <td>I have only see three episodes of Hack, starri...</td>\n",
       "    </tr>\n",
       "    <tr>\n",
       "      <th>2</th>\n",
       "      <td>1</td>\n",
       "      <td>I have only see three episodes of Hack, starri...</td>\n",
       "    </tr>\n",
       "    <tr>\n",
       "      <th>3</th>\n",
       "      <td>1</td>\n",
       "      <td>I have only see three episodes of Hack, starri...</td>\n",
       "    </tr>\n",
       "    <tr>\n",
       "      <th>4</th>\n",
       "      <td>1</td>\n",
       "      <td>I have only see three episodes of Hack, starri...</td>\n",
       "    </tr>\n",
       "    <tr>\n",
       "      <th>...</th>\n",
       "      <td>...</td>\n",
       "      <td>...</td>\n",
       "    </tr>\n",
       "    <tr>\n",
       "      <th>34820</th>\n",
       "      <td>1</td>\n",
       "      <td>First, I'm a huge James fan. I grew up knowing...</td>\n",
       "    </tr>\n",
       "    <tr>\n",
       "      <th>34821</th>\n",
       "      <td>1</td>\n",
       "      <td>First, I'm a huge John fan. I grew up knowing ...</td>\n",
       "    </tr>\n",
       "    <tr>\n",
       "      <th>34822</th>\n",
       "      <td>1</td>\n",
       "      <td>First, I'm a huge Robert fan. I grew up knowin...</td>\n",
       "    </tr>\n",
       "    <tr>\n",
       "      <th>34823</th>\n",
       "      <td>1</td>\n",
       "      <td>First, I'm a huge Michael fan. I grew up knowi...</td>\n",
       "    </tr>\n",
       "    <tr>\n",
       "      <th>34824</th>\n",
       "      <td>1</td>\n",
       "      <td>First, I'm a huge Richard fan. I grew up knowi...</td>\n",
       "    </tr>\n",
       "  </tbody>\n",
       "</table>\n",
       "<p>34825 rows × 2 columns</p>\n",
       "</div>"
      ],
      "text/plain": [
       "       0                                                  1\n",
       "0      1  I have only see three episodes of Hack, starri...\n",
       "1      1  I have only see three episodes of Hack, starri...\n",
       "2      1  I have only see three episodes of Hack, starri...\n",
       "3      1  I have only see three episodes of Hack, starri...\n",
       "4      1  I have only see three episodes of Hack, starri...\n",
       "...   ..                                                ...\n",
       "34820  1  First, I'm a huge James fan. I grew up knowing...\n",
       "34821  1  First, I'm a huge John fan. I grew up knowing ...\n",
       "34822  1  First, I'm a huge Robert fan. I grew up knowin...\n",
       "34823  1  First, I'm a huge Michael fan. I grew up knowi...\n",
       "34824  1  First, I'm a huge Richard fan. I grew up knowi...\n",
       "\n",
       "[34825 rows x 2 columns]"
      ]
     },
     "execution_count": 732,
     "metadata": {},
     "output_type": "execute_result"
    }
   ],
   "source": [
    "# temp = pd.read_csv(\"imdb_mutant/male/test.csv\", header=None, sep=\"\\t\")\n",
    "# temp"
   ]
  },
  {
   "cell_type": "code",
   "execution_count": null,
   "metadata": {},
   "outputs": [],
   "source": []
  },
  {
   "cell_type": "code",
   "execution_count": null,
   "metadata": {},
   "outputs": [],
   "source": []
  },
  {
   "cell_type": "code",
   "execution_count": null,
   "metadata": {},
   "outputs": [],
   "source": []
  }
 ],
 "metadata": {
  "kernelspec": {
   "display_name": "Python 3",
   "language": "python",
   "name": "python3"
  },
  "language_info": {
   "codemirror_mode": {
    "name": "ipython",
    "version": 3
   },
   "file_extension": ".py",
   "mimetype": "text/x-python",
   "name": "python",
   "nbconvert_exporter": "python",
   "pygments_lexer": "ipython3",
   "version": "3.6.8"
  }
 },
 "nbformat": 4,
 "nbformat_minor": 4
}
