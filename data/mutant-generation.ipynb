{
 "cells": [
  {
   "cell_type": "markdown",
   "metadata": {},
   "source": [
    "# Mutant Generation"
   ]
  },
  {
   "cell_type": "markdown",
   "metadata": {},
   "source": [
    "### Prepare Masculine and Feminine Word"
   ]
  },
  {
   "cell_type": "code",
   "execution_count": 7,
   "metadata": {},
   "outputs": [],
   "source": [
    "import pandas as pd\n",
    "import numpy as np"
   ]
  },
  {
   "cell_type": "code",
   "execution_count": 8,
   "metadata": {},
   "outputs": [
    {
     "data": {
      "text/html": [
       "<div>\n",
       "<style scoped>\n",
       "    .dataframe tbody tr th:only-of-type {\n",
       "        vertical-align: middle;\n",
       "    }\n",
       "\n",
       "    .dataframe tbody tr th {\n",
       "        vertical-align: top;\n",
       "    }\n",
       "\n",
       "    .dataframe thead th {\n",
       "        text-align: right;\n",
       "    }\n",
       "</style>\n",
       "<table border=\"1\" class=\"dataframe\">\n",
       "  <thead>\n",
       "    <tr style=\"text-align: right;\">\n",
       "      <th></th>\n",
       "      <th>masculine</th>\n",
       "      <th>feminine</th>\n",
       "    </tr>\n",
       "  </thead>\n",
       "  <tbody>\n",
       "    <tr>\n",
       "      <th>0</th>\n",
       "      <td>actor</td>\n",
       "      <td>actress</td>\n",
       "    </tr>\n",
       "    <tr>\n",
       "      <th>1</th>\n",
       "      <td>author</td>\n",
       "      <td>authoress</td>\n",
       "    </tr>\n",
       "    <tr>\n",
       "      <th>2</th>\n",
       "      <td>boy</td>\n",
       "      <td>girl</td>\n",
       "    </tr>\n",
       "    <tr>\n",
       "      <th>3</th>\n",
       "      <td>bridegroom</td>\n",
       "      <td>bride</td>\n",
       "    </tr>\n",
       "    <tr>\n",
       "      <th>4</th>\n",
       "      <td>brother</td>\n",
       "      <td>sister</td>\n",
       "    </tr>\n",
       "  </tbody>\n",
       "</table>\n",
       "</div>"
      ],
      "text/plain": [
       "    masculine   feminine\n",
       "0       actor    actress\n",
       "1      author  authoress\n",
       "2         boy       girl\n",
       "3  bridegroom      bride\n",
       "4     brother     sister"
      ]
     },
     "execution_count": 8,
     "metadata": {},
     "output_type": "execute_result"
    }
   ],
   "source": [
    "df = pd.read_csv(\"asset/masculine-feminine.txt\")\n",
    "df.head()"
   ]
  },
  {
   "cell_type": "code",
   "execution_count": 9,
   "metadata": {},
   "outputs": [
    {
     "name": "stderr",
     "output_type": "stream",
     "text": [
      "[nltk_data] Downloading package wordnet to /root/nltk_data...\n",
      "[nltk_data]   Package wordnet is already up-to-date!\n",
      "[nltk_data] Downloading package punkt to /root/nltk_data...\n",
      "[nltk_data]   Package punkt is already up-to-date!\n",
      "[nltk_data] Downloading package stopwords to /root/nltk_data...\n",
      "[nltk_data]   Package stopwords is already up-to-date!\n"
     ]
    },
    {
     "data": {
      "text/plain": [
       "True"
      ]
     },
     "execution_count": 9,
     "metadata": {},
     "output_type": "execute_result"
    }
   ],
   "source": [
    "import nltk\n",
    "nltk.download('wordnet')\n",
    "nltk.download('punkt')\n",
    "nltk.download('stopwords')"
   ]
  },
  {
   "cell_type": "code",
   "execution_count": 10,
   "metadata": {},
   "outputs": [
    {
     "data": {
      "text/plain": [
       "'this is a demo text for nlp use nltk full form of nltk is natur languag toolkit'"
      ]
     },
     "execution_count": 10,
     "metadata": {},
     "output_type": "execute_result"
    }
   ],
   "source": [
    "from string import punctuation\n",
    "from nltk.stem import SnowballStemmer\n",
    "from nltk.stem import WordNetLemmatizer\n",
    "\n",
    "def list_to_string(l):\n",
    "    return \" \".join(l)\n",
    "\n",
    "wordnet_lemmatizer = WordNetLemmatizer()\n",
    "snowball_stemmer = SnowballStemmer(\"english\")\n",
    "\n",
    "text = \"This is a Demo Text for NLP using NLTK. Full form of NLTK is Natural Language Toolkit\"\n",
    "\n",
    "def strip_punctuation(s):\n",
    "    return ''.join(c for c in s if c not in punctuation)\n",
    "\n",
    "def lemmatize_stemming(text) :\n",
    "    text = text.lower()\n",
    "    text = strip_punctuation(text)\n",
    "    word_tokens = nltk.word_tokenize(text)\n",
    "    word_tokens = [wordnet_lemmatizer.lemmatize(word) for word in word_tokens]\n",
    "    word_tokens = [snowball_stemmer.stem(word) for word in word_tokens]\n",
    "    return list_to_string(word_tokens)\n",
    "    \n",
    "def lowercasing(text):\n",
    "    return text.lower()\n",
    "\n",
    "lemmatize_stemming(text)"
   ]
  },
  {
   "cell_type": "code",
   "execution_count": 11,
   "metadata": {},
   "outputs": [],
   "source": [
    "df[\"masculine\"] = df[\"masculine\"].apply(lowercasing)\n",
    "df[\"feminine\"] = df[\"feminine\"].apply(lowercasing)"
   ]
  },
  {
   "cell_type": "code",
   "execution_count": 12,
   "metadata": {},
   "outputs": [],
   "source": [
    "df = df.drop_duplicates().reset_index(drop=True)"
   ]
  },
  {
   "cell_type": "code",
   "execution_count": 13,
   "metadata": {},
   "outputs": [],
   "source": [
    "df.to_csv(\"asset/masculine-feminine-cleaned.txt\", index=False)"
   ]
  },
  {
   "cell_type": "markdown",
   "metadata": {},
   "source": [
    "### Mutant Generation using POS TAG and NER"
   ]
  },
  {
   "cell_type": "code",
   "execution_count": null,
   "metadata": {},
   "outputs": [],
   "source": [
    "import nltk\n",
    "from nltk.tokenize import word_tokenize\n",
    "from nltk.tag import pos_tag\n",
    "\n",
    "import spacy\n",
    "# import en_core_web_sm\n",
    "# nlp = en_core_web_sm.load()\n",
    "# import xx_ent_wiki_sm\n",
    "# nlp = xx_ent_wiki_sm.load()\n",
    "import en_core_web_lg\n",
    "nlp = en_core_web_lg.load()"
   ]
  },
  {
   "cell_type": "code",
   "execution_count": 32,
   "metadata": {},
   "outputs": [],
   "source": [
    "replacement = pd.read_csv(\"asset/masculine-feminine-cleaned.txt\")\n",
    "\n",
    "m = {}\n",
    "mlist = []\n",
    "f = {}\n",
    "flist = []\n",
    "for index, row in replacement.iterrows():\n",
    "    m[row['feminine']] = row['masculine']\n",
    "    f[row['masculine']] = row['feminine']\n",
    "    mlist.append(row[\"masculine\"])\n",
    "    flist.append(row[\"feminine\"])"
   ]
  },
  {
   "cell_type": "code",
   "execution_count": 33,
   "metadata": {},
   "outputs": [],
   "source": [
    "mnames = [\"James\", \"John\", \"Robert\", \"Michael\", \"Whilliam\", \"Richard\"]\n",
    "fnames = [\"Jessica\", \"Patricia\", \"Jennifer\", \"Linda\", \"Elizabeth\"]\n",
    "\n",
    "# masculine pronoun\n",
    "mp = [\"He\", \"He's\", \"he\", \"he's\", \"him\", \"his\", \"himself\"]\n",
    "\n",
    "# feminine prononun\n",
    "fp = [\"She\", \"He's\", \"she\", \"he's\",\"her\", \"her\", \"herself\"]\n",
    "\n",
    "mc = {}\n",
    "fc = {}\n",
    "\n",
    "for _m, _f in zip(mp, fp) :\n",
    "    fc[_m] = _f\n",
    "    mc[_f] = _m"
   ]
  },
  {
   "cell_type": "code",
   "execution_count": 34,
   "metadata": {},
   "outputs": [],
   "source": [
    "text = \"gingerAZ. Bronson's character plans to live anonymously but when he finds his fiance was a victim of a protection racket one by one the criminals are hunted down in the style of Bronson's character\"\n",
    "# text = \"Good songs....but good album? debateable. She has some rockin songs on here. All her singles kickass and the last song on the album with M.I.A. (i friggin love her) is fire. but then, i start listening to the other songs, ready for a song on the album that is just as good as her singles and i can't find another. All of missy's singles are crazy, but then ui listen to the album, and its like a let down. any song that she sings in makes my stomach churn and some have just annoying beats and repititious phrases. If you really liked Missy's album 'This Is Not A Test', then get this album. but if you are lovin her singles and want some more, just download the singles, don't waste your money on the rest of this album\"\n",
    "# text = \"A landlord book that's not based on today's reality.. Although Shemin brings up many good ideas, I found that most of his ideas are way to cheezy for me (or Southern california.) He discusses buying places for $8,000-$20,000 (I wish) and believes that charging more for rent will ultimately get you higher quality tenents. I completely disagree, especially in down markets.A decent book, overall, but I'd suggest a Nolo book which has more real legal information as well as solid do's and don'ts for a landlord.\"\n",
    "# text = \"He discusses buying places for $8,000-$20,000 (I wish) and believes that charging more for rent will ultimately get you higher quality tenents.\"\n",
    "# text = \"\""
   ]
  },
  {
   "cell_type": "code",
   "execution_count": 35,
   "metadata": {},
   "outputs": [],
   "source": [
    "# nltk.download('averaged_perceptron_tagger')"
   ]
  },
  {
   "cell_type": "code",
   "execution_count": 36,
   "metadata": {},
   "outputs": [
    {
     "name": "stdout",
     "output_type": "stream",
     "text": [
      "{'he'}\n",
      "{'his'}\n"
     ]
    }
   ],
   "source": [
    "def pos_tagging(sent):\n",
    "    sent = nltk.word_tokenize(sent)\n",
    "    sent = nltk.pos_tag(sent)\n",
    "    return sent\n",
    "\n",
    "def get_pronoun(text) :\n",
    "    \n",
    "    pt = pos_tagging(text)\n",
    "    \n",
    "    # subject pronoun\n",
    "    spr = set()\n",
    "    \n",
    "    #non-subject prononun\n",
    "    pr = set()\n",
    "\n",
    "    for (word, tag) in pt :\n",
    "        if \"PRP\" == tag :\n",
    "            spr.add(word)\n",
    "        elif \"PRP$\" == tag :\n",
    "            pr.add(word)\n",
    "    \n",
    "    return spr, pr\n",
    "\n",
    "spr, npr = get_pronoun(text)\n",
    "print(spr)\n",
    "print(npr)"
   ]
  },
  {
   "cell_type": "code",
   "execution_count": 37,
   "metadata": {},
   "outputs": [
    {
     "data": {
      "text/plain": [
       "{'Bronson'}"
      ]
     },
     "execution_count": 37,
     "metadata": {},
     "output_type": "execute_result"
    }
   ],
   "source": [
    "def get_person(text) :\n",
    "    doc = nlp(text)\n",
    "\n",
    "    person = set()\n",
    "\n",
    "    for ent in doc.ents:\n",
    "#         print(ent.text, ent.start_char, ent.end_char, ent.label_)\n",
    "        if (ent.label_ == \"PERSON\") :\n",
    "            person.add(ent.text)\n",
    "    \n",
    "    return person\n",
    "    \n",
    "person = get_person(text)\n",
    "person"
   ]
  },
  {
   "cell_type": "code",
   "execution_count": 53,
   "metadata": {},
   "outputs": [
    {
     "data": {
      "text/plain": [
       "'u'"
      ]
     },
     "execution_count": 53,
     "metadata": {},
     "output_type": "execute_result"
    }
   ],
   "source": [
    "MALE = \"m\"\n",
    "FEMALE = \"f\"\n",
    "UNIDENTIFIED = \"u\"\n",
    "\n",
    "def get_gender(text) :\n",
    "    spr, npr = get_pronoun(text)\n",
    "    male = False\n",
    "    female = False\n",
    "    if \"he\" in spr or \"He\" in spr :\n",
    "        male = True\n",
    "    if \"she\" in spr or \"She\" in spr :\n",
    "        female = True\n",
    "    \n",
    "    if male != female :\n",
    "        if male :\n",
    "            return MALE\n",
    "        else :\n",
    "            return FEMALE\n",
    "    else :\n",
    "        return UNIDENTIFIED\n",
    "\n",
    "get_gender(text)"
   ]
  },
  {
   "cell_type": "code",
   "execution_count": 39,
   "metadata": {},
   "outputs": [
    {
     "name": "stdout",
     "output_type": "stream",
     "text": [
      "gingerAZ. Bronson's character plans to live anonymously but when he finds his fiance was a victim of a protection racket one by one the criminals are hunted down in the style of Bronson's character\n",
      "gingerAZ. Bronson's character plans to live anonymously but when she finds her fiance was a victim of a protection racket one by one the criminals are hunted down in the style of Bronson's character\n"
     ]
    }
   ],
   "source": [
    "import tokenizer\n",
    "\n",
    "def replace_pronoun(text) :\n",
    "    \n",
    "    is_replaced = False\n",
    "\n",
    "    toklist = list(tokenizer.tokenize(text))\n",
    "\n",
    "    # print(toklist)\n",
    "    newtoklist = []\n",
    "    for token in toklist :\n",
    "        if token.txt in mp :\n",
    "            token = token._replace(txt = fc[token.txt])\n",
    "            newtoklist.append(token)\n",
    "            is_replaced = True\n",
    "        elif token.txt in fp :\n",
    "            token = token._replace(txt = mc[token.txt])\n",
    "            newtoklist.append(token)\n",
    "            is_replaced = True\n",
    "        else :\n",
    "            newtoklist.append(token)\n",
    "\n",
    "    # print(newtoklist)\n",
    "\n",
    "    return is_replaced, tokenizer.detokenize(newtoklist, normalize=True)\n",
    "\n",
    "print(text)\n",
    "_, _text = replace_pronoun(text)\n",
    "print(_text)"
   ]
  },
  {
   "cell_type": "code",
   "execution_count": 40,
   "metadata": {},
   "outputs": [
    {
     "name": "stdout",
     "output_type": "stream",
     "text": [
      "gingerAZ. Bronson's character plans to live anonymously but when he finds his fiance was a victim of a protection racket one by one the criminals are hunted down in the style of Bronson's character\n"
     ]
    },
    {
     "data": {
      "text/plain": [
       "[\"gingerAZ. Jessica's character plans to live anonymously but when she finds her fiance was a victim of a protection racket one by one the criminals are hunted down in the style of Jessica's character\",\n",
       " \"gingerAZ. Patricia's character plans to live anonymously but when she finds her fiance was a victim of a protection racket one by one the criminals are hunted down in the style of Patricia's character\",\n",
       " \"gingerAZ. Jennifer's character plans to live anonymously but when she finds her fiance was a victim of a protection racket one by one the criminals are hunted down in the style of Jennifer's character\",\n",
       " \"gingerAZ. Linda's character plans to live anonymously but when she finds her fiance was a victim of a protection racket one by one the criminals are hunted down in the style of Linda's character\",\n",
       " \"gingerAZ. Elizabeth's character plans to live anonymously but when she finds her fiance was a victim of a protection racket one by one the criminals are hunted down in the style of Elizabeth's character\"]"
      ]
     },
     "execution_count": 40,
     "metadata": {},
     "output_type": "execute_result"
    }
   ],
   "source": [
    "def is_set_empty(s) :\n",
    "    return not bool(s)\n",
    "\n",
    "def generate_mutant_from_text(text) :\n",
    "\n",
    "    mutant = []\n",
    "\n",
    "    is_replaced, text_with_replaced_pronoun = replace_pronoun(text)\n",
    "\n",
    "    if is_replaced :\n",
    "\n",
    "        person = get_person(text)\n",
    "\n",
    "        if is_set_empty(person) :\n",
    "            mutant.append(text_with_replaced_pronoun)\n",
    "    #         print(\"No name\")\n",
    "        elif len(person) == 1 :\n",
    "    #         print(\"Found 1 name\")\n",
    "\n",
    "            spr, npr = get_pronoun(text)\n",
    "            gender = get_gender(spr)\n",
    "\n",
    "            if gender == MALE :\n",
    "\n",
    "                # get the name\n",
    "                prevname = person.pop()\n",
    "\n",
    "                for name in fnames :    \n",
    "                    # replace the name\n",
    "                    temp_text = text_with_replaced_pronoun.replace(prevname, name)\n",
    "                    mutant.append(temp_text)\n",
    "\n",
    "            elif gender == FEMALE :\n",
    "\n",
    "                # get the name\n",
    "                prevname = person.pop()\n",
    "\n",
    "                for name in mnames :    \n",
    "                    # replace the name\n",
    "                    temp_text = text_with_replaced_pronoun.replace(prevname, name)\n",
    "                    mutant.append(temp_text)\n",
    "\n",
    "            else :\n",
    "                mutant.append(text_with_replaced_pronoun)\n",
    "\n",
    "    return mutant\n",
    "\n",
    "print(text)\n",
    "generate_mutant_from_text(text)"
   ]
  },
  {
   "cell_type": "markdown",
   "metadata": {},
   "source": [
    "### Coreference Task"
   ]
  },
  {
   "cell_type": "code",
   "execution_count": 247,
   "metadata": {},
   "outputs": [],
   "source": [
    "# !python -m spacy download en_core_web_sm\n",
    "# !python -m spacy download xx_ent_wiki_sm\n",
    "# !python -m spacy download en_core_web_lg"
   ]
  },
  {
   "cell_type": "code",
   "execution_count": 248,
   "metadata": {},
   "outputs": [],
   "source": [
    "import spacy\n",
    "# import en_core_web_sm\n",
    "# nlp = en_core_web_sm.load()\n",
    "# import xx_ent_wiki_sm\n",
    "# nlp = xx_ent_wiki_sm.load()\n",
    "import en_core_web_lg\n",
    "nlp = en_core_web_lg.load()\n",
    "\n",
    "# !pip install neuralcoref\n",
    "import neuralcoref\n",
    "coref = neuralcoref.NeuralCoref(nlp.vocab)\n",
    "nlp.add_pipe(coref, name='neuralcoref')"
   ]
  },
  {
   "cell_type": "code",
   "execution_count": 621,
   "metadata": {},
   "outputs": [
    {
     "data": {
      "text/plain": [
       "\"gingerAZ. Bronson's character plans to live anonymously but when he finds his fiance was a victim of a protection racket one by one the criminals are hunted down in the style of Bronson's character\""
      ]
     },
     "execution_count": 621,
     "metadata": {},
     "output_type": "execute_result"
    }
   ],
   "source": [
    "text = \"gingerAZ. Bronson's character plans to live anonymously but when he finds his fiance was a victim of a protection racket one by one the criminals are hunted down in the style of Bronson's character\"\n",
    "# text = 'My Sister has a dog. She loves him'\n",
    "# text = 'My Brother has a dog. He loves the dog'\n",
    "text"
   ]
  },
  {
   "cell_type": "code",
   "execution_count": 622,
   "metadata": {},
   "outputs": [
    {
     "data": {
      "text/plain": [
       "[Bronson's character: [Bronson's character, he, his]]"
      ]
     },
     "execution_count": 622,
     "metadata": {},
     "output_type": "execute_result"
    }
   ],
   "source": [
    "# You're done. You can now use NeuralCoref the same way you usually manipulate a SpaCy document and it's annotations.\n",
    "doc = nlp(text)\n",
    "\n",
    "doc._.has_coref\n",
    "doc._.coref_clusters"
   ]
  },
  {
   "cell_type": "code",
   "execution_count": 626,
   "metadata": {},
   "outputs": [
    {
     "name": "stdout",
     "output_type": "stream",
     "text": [
      "gingerAZ. Bronson's character plans to live anonymously but when he finds his fiance was a victim of a protection racket one by one the criminals are hunted down in the style of Bronson's character\n",
      "gingerAZ. Bronson's character plans to live anonymously but when Bronson's character finds Bronson's character fiance was a victim of a protection racket one by one the criminals are hunted down in the style of Bronson's character\n",
      "[Bronson's character: [Bronson's character, he, his]]\n",
      "Bronson's character\n",
      "[Bronson's character, he, his]\n",
      "his\n",
      "13\n",
      "74\n",
      "14\n",
      "77\n",
      "Bronson's character\n"
     ]
    }
   ],
   "source": [
    "print(text)\n",
    "print(doc._.coref_resolved)\n",
    "print(doc._.coref_clusters)\n",
    "print(doc._.coref_clusters[-1].main)\n",
    "print(doc._.coref_clusters[-1].mentions)\n",
    "print(doc._.coref_clusters[-1].mentions[-1])\n",
    "print(doc._.coref_clusters[-1].mentions[-1].start)\n",
    "print(doc._.coref_clusters[-1].mentions[-1].start_char)\n",
    "print(doc._.coref_clusters[-1].mentions[-1].end)\n",
    "print(doc._.coref_clusters[-1].mentions[-1].end_char)\n",
    "print(doc._.coref_clusters[-1].mentions[-1]._.coref_cluster.main)"
   ]
  },
  {
   "cell_type": "code",
   "execution_count": 627,
   "metadata": {},
   "outputs": [
    {
     "data": {
      "text/plain": [
       "Bronson's character"
      ]
     },
     "execution_count": 627,
     "metadata": {},
     "output_type": "execute_result"
    }
   ],
   "source": [
    "doc = nlp(text)\n",
    "\n",
    "doc._.has_coref\n",
    "doc._.coref_clusters[0].main"
   ]
  },
  {
   "cell_type": "code",
   "execution_count": 628,
   "metadata": {},
   "outputs": [],
   "source": [
    "class Token: \n",
    "    word = \"\"\n",
    "    start = -1\n",
    "    end = -1\n",
    "    \n",
    "    def __init__(self, word, start, end) :\n",
    "        self.word = word\n",
    "        self.start = start\n",
    "        self.end = end\n",
    "        \n",
    "    def __str__(self) :\n",
    "        return self.word\n",
    "    \n",
    "    def __repr__(self) :\n",
    "        return self.word\n",
    "        \n",
    "    def get_word(self):\n",
    "        return self.word\n",
    "    \n",
    "    def get_start(self):\n",
    "        return self.start\n",
    "    \n",
    "    def get_end(self):\n",
    "        return self.end\n",
    "\n",
    "\n",
    "class Ref:\n",
    "    \n",
    "    name = \"\"\n",
    "    reference = []\n",
    "    reference_list = []\n",
    "    \n",
    "    def __init__(self, name, reference):\n",
    "        self.name = str(name)\n",
    "        self.reference = []\n",
    "        self.reference_list = []\n",
    "        for word in reference :\n",
    "            self.reference_list.append(word.text)\n",
    "            self.reference.append(Token(word.text, word.start_char, word.end_char))\n",
    "            \n",
    "    def __str__(self) :\n",
    "        return self.name + \": \" + str(self.reference_list)\n",
    "    \n",
    "    def __repr__(self) :\n",
    "        return self.name + \": \" + str(self.reference_list)\n",
    "    \n",
    "    def get_name(self):\n",
    "        return self.name\n",
    "    \n",
    "    def get_reference(self):\n",
    "        return self.reference\n",
    "    \n",
    "    def is_male(self):\n",
    "        if \"He\" in self.reference_list :\n",
    "            return True\n",
    "        elif \"he\" in self.reference_list :\n",
    "            return True\n",
    "        else :\n",
    "            return False\n",
    "\n",
    "    def is_female(self):\n",
    "        if \"She\" in self.reference_list :\n",
    "            return True\n",
    "        elif \"she\" in self.reference_list :\n",
    "            return True\n",
    "        else :\n",
    "            return False"
   ]
  },
  {
   "cell_type": "code",
   "execution_count": 632,
   "metadata": {},
   "outputs": [
    {
     "data": {
      "text/plain": [
       "Bronson's character"
      ]
     },
     "execution_count": 632,
     "metadata": {},
     "output_type": "execute_result"
    }
   ],
   "source": [
    "doc._.coref_clusters[-1].mentions[0]"
   ]
  },
  {
   "cell_type": "code",
   "execution_count": 633,
   "metadata": {},
   "outputs": [
    {
     "data": {
      "text/plain": [
       "Bronson's character: [\"Bronson's character\", 'he', 'his']"
      ]
     },
     "execution_count": 633,
     "metadata": {},
     "output_type": "execute_result"
    }
   ],
   "source": [
    "i = 0\n",
    "r = Ref(doc._.coref_clusters[i].main, doc._.coref_clusters[i].mentions)\n",
    "r"
   ]
  },
  {
   "cell_type": "code",
   "execution_count": 634,
   "metadata": {},
   "outputs": [
    {
     "data": {
      "text/plain": [
       "True"
      ]
     },
     "execution_count": 634,
     "metadata": {},
     "output_type": "execute_result"
    }
   ],
   "source": [
    "r.is_male()"
   ]
  },
  {
   "cell_type": "code",
   "execution_count": 692,
   "metadata": {},
   "outputs": [],
   "source": [
    "mnames = [\"James\", \"John\", \"Robert\", \"Michael\", \"Richard\"]\n",
    "fnames = [\"Jessica\", \"Patricia\", \"Jennifer\", \"Linda\", \"Elizabeth\"]\n",
    "\n",
    "# masculine pronoun\n",
    "mp = [\"He\", \"he\", \"him\", \"his\", \"himself\"]\n",
    "\n",
    "# feminine prononun\n",
    "fp = [\"She\", \"she\",\"her\", \"her\", \"herself\"]\n",
    "\n",
    "mc = {}\n",
    "fc = {}\n",
    "\n",
    "for _m, _f in zip(mp, fp) :\n",
    "    fc[_m] = _f\n",
    "    mc[_f] = _m"
   ]
  },
  {
   "cell_type": "code",
   "execution_count": 693,
   "metadata": {},
   "outputs": [],
   "source": [
    "class Coref:\n",
    "    original = \"\"\n",
    "    resolved = \"\"\n",
    "    refs = []\n",
    "    one_subject = False\n",
    "    is_male = False\n",
    "    subject_reference = None\n",
    "    \n",
    "    def __init__(self, text):\n",
    "        \n",
    "        self.original = str(text)\n",
    "        doc = nlp(text)\n",
    "        refs = doc._.coref_clusters\n",
    "        self.resolved = str(doc._.coref_resolved)\n",
    "        self.refs = []\n",
    "        for r in refs :\n",
    "            self.refs.append(Ref(r.main, r.mentions))\n",
    "            \n",
    "        self.one_subject, self.subject_reference, self.is_male = self.check_one_subject()\n",
    "            \n",
    "    def get_original(self):\n",
    "        return self.original\n",
    "    \n",
    "    def get_resolved(self):\n",
    "        return self.resolved\n",
    "    \n",
    "    def get_refs(self):\n",
    "        return self.refs\n",
    "    \n",
    "    def is_one_subject(self) :\n",
    "        return self.one_subject\n",
    "    \n",
    "    def check_one_subject(self) :\n",
    "        s = 0\n",
    "        subject_reference = None\n",
    "        for r in self.refs :\n",
    "            if r.is_male() :\n",
    "                s += 1\n",
    "                subject_reference = r\n",
    "                is_male = True\n",
    "            \n",
    "            if r.is_female() :\n",
    "                s += 1\n",
    "                subject_reference = r\n",
    "                is_male = False\n",
    "                \n",
    "        if s == 1 :\n",
    "            return True, subject_reference, is_male\n",
    "        else :\n",
    "            return False, None, None\n",
    "    \n",
    "    def get_subject_reference(self):\n",
    "        return self.subject_reference\n",
    "    \n",
    "    def generate_mutant_text(self):\n",
    "        chunk = []\n",
    "        refs = self.subject_reference.get_reference()\n",
    "        lb = 0 # lower bound\n",
    "        ub = 0 # upper bound\n",
    "        for i in range(len(refs)) :\n",
    "            if i == 0 :\n",
    "                ub = refs[i].start\n",
    "                chunk.append(self.original[:ub])\n",
    "            else :\n",
    "                lb = refs[i-1].end\n",
    "                ub = refs[i].start\n",
    "                chunk.append(self.original[lb:ub])\n",
    "                \n",
    "            if i == len(refs)-1 :\n",
    "                lb = refs[-1].end\n",
    "                chunk.append(self.original[lb:])\n",
    "        \n",
    "        mutant = []\n",
    "        if self.is_male :\n",
    "            for name in mnames :\n",
    "                t = []\n",
    "                t.append(chunk[0])\n",
    "                i = 1\n",
    "                for r in refs :\n",
    "                    if r.word in mp :\n",
    "                        t.append(r.word)\n",
    "                    else :\n",
    "                        t.append(name)\n",
    "                        \n",
    "                    t.append(chunk[i])\n",
    "                    i += 1\n",
    "                mutant.append({\"gender\": \"male\", \"text\": \"\".join(t)})\n",
    "            for name in fnames :\n",
    "                t = []\n",
    "                t.append(chunk[0])\n",
    "                i = 1\n",
    "                for r in refs :\n",
    "                    if r.word in mp :\n",
    "                        t.append(fc[r.word])\n",
    "                    else :\n",
    "                        t.append(name)\n",
    "                        \n",
    "                    t.append(chunk[i])\n",
    "                    i += 1\n",
    "                mutant.append({\"gender\": \"female\", \"text\": \"\".join(t)})\n",
    "        else :\n",
    "            gender = \"female\"\n",
    "            for name in mnames :\n",
    "                t = []\n",
    "                t.append(chunk[0])\n",
    "                i = 1\n",
    "                for r in refs :\n",
    "                    if r.word in fp :\n",
    "                        t.append(mc[r.word])\n",
    "                    else :\n",
    "                        t.append(name)\n",
    "                        \n",
    "                    t.append(chunk[i])\n",
    "                    i += 1\n",
    "                mutant.append({\"gender\": \"male\", \"text\": \"\".join(t)})\n",
    "            for name in fnames :\n",
    "                t = []\n",
    "                t.append(chunk[0])\n",
    "                i = 1\n",
    "                for r in refs :\n",
    "                    if r.word in fp :\n",
    "                        t.append(r.word)\n",
    "                    else :\n",
    "                        t.append(name)\n",
    "                        \n",
    "                    t.append(chunk[i])\n",
    "                    i += 1\n",
    "                mutant.append({\"gender\": \"female\", \"text\": \"\".join(t)})\n",
    "        return mutant"
   ]
  },
  {
   "cell_type": "code",
   "execution_count": 694,
   "metadata": {},
   "outputs": [],
   "source": [
    "c = Coref(text)"
   ]
  },
  {
   "cell_type": "code",
   "execution_count": 695,
   "metadata": {},
   "outputs": [
    {
     "data": {
      "text/plain": [
       "\"Homecoming; what a HUGE disappointment!! After reading the plot summary (the dead coming back to vote - AGAINST George W. Bush!!!!!) I couldn't wait to see this. this started off interesting and this immediately caught my attention. Unfortunately, though, this slowly descended into a boring political satire that I didn't need to see (I can just watch some good old Aussie comedy for that!). There was pretty much only one or two scenes of horror and they weren't even that scary. I couldn't believe this came from Joe Dante, who could easily have pulled this off with an equal balance of thrills and satire. The worst episode so far. 2/5.\""
      ]
     },
     "execution_count": 695,
     "metadata": {},
     "output_type": "execute_result"
    }
   ],
   "source": [
    "c.get_resolved()"
   ]
  },
  {
   "cell_type": "code",
   "execution_count": 696,
   "metadata": {},
   "outputs": [
    {
     "name": "stdout",
     "output_type": "stream",
     "text": [
      "this\n",
      "[this, It, it, it]\n",
      "this\n",
      "[this, it]\n"
     ]
    }
   ],
   "source": [
    "for r in c.get_refs() :\n",
    "    print(r.get_name())\n",
    "    print(r.get_reference())"
   ]
  },
  {
   "cell_type": "code",
   "execution_count": 697,
   "metadata": {},
   "outputs": [
    {
     "data": {
      "text/plain": [
       "False"
      ]
     },
     "execution_count": 697,
     "metadata": {},
     "output_type": "execute_result"
    }
   ],
   "source": [
    "c.is_one_subject()"
   ]
  },
  {
   "cell_type": "code",
   "execution_count": 698,
   "metadata": {},
   "outputs": [],
   "source": [
    "if c.is_one_subject() :\n",
    "    print(c.get_subject_reference())\n",
    "    print(c.generate_mutant_text())"
   ]
  },
  {
   "cell_type": "code",
   "execution_count": 699,
   "metadata": {},
   "outputs": [
    {
     "name": "stdout",
     "output_type": "stream",
     "text": [
      "Homecoming; what a HUGE disappointment!! After reading the plot summary (the dead coming back to vote - AGAINST George W. Bush!!!!!) I couldn't wait to see this. It started off interesting and it immediately caught my attention. Unfortunately, though, it slowly descended into a boring political satire that I didn't need to see (I can just watch some good old Aussie comedy for that!). There was pretty much only one or two scenes of horror and they weren't even that scary. I couldn't believe this came from Joe Dante, who could easily have pulled it off with an equal balance of thrills and satire. The worst episode so far. 2/5.\n"
     ]
    }
   ],
   "source": [
    "print(text)"
   ]
  },
  {
   "cell_type": "markdown",
   "metadata": {},
   "source": [
    "### Generate Mutant from IMDB Data"
   ]
  },
  {
   "cell_type": "code",
   "execution_count": 700,
   "metadata": {},
   "outputs": [
    {
     "data": {
      "text/html": [
       "<div>\n",
       "<style scoped>\n",
       "    .dataframe tbody tr th:only-of-type {\n",
       "        vertical-align: middle;\n",
       "    }\n",
       "\n",
       "    .dataframe tbody tr th {\n",
       "        vertical-align: top;\n",
       "    }\n",
       "\n",
       "    .dataframe thead th {\n",
       "        text-align: right;\n",
       "    }\n",
       "</style>\n",
       "<table border=\"1\" class=\"dataframe\">\n",
       "  <thead>\n",
       "    <tr style=\"text-align: right;\">\n",
       "      <th></th>\n",
       "      <th>label</th>\n",
       "      <th>text</th>\n",
       "    </tr>\n",
       "  </thead>\n",
       "  <tbody>\n",
       "    <tr>\n",
       "      <th>0</th>\n",
       "      <td>1</td>\n",
       "      <td>The Mascot is Ladislaw Starewicz's masterpiece...</td>\n",
       "    </tr>\n",
       "    <tr>\n",
       "      <th>1</th>\n",
       "      <td>1</td>\n",
       "      <td>this is one of the finest movies i have ever s...</td>\n",
       "    </tr>\n",
       "    <tr>\n",
       "      <th>2</th>\n",
       "      <td>1</td>\n",
       "      <td>I have only see three episodes of Hack, starri...</td>\n",
       "    </tr>\n",
       "    <tr>\n",
       "      <th>3</th>\n",
       "      <td>1</td>\n",
       "      <td>Deepa Mehta's \"Fire\" is groundbreaking, bold, ...</td>\n",
       "    </tr>\n",
       "    <tr>\n",
       "      <th>4</th>\n",
       "      <td>0</td>\n",
       "      <td>Anyone who sees this film will notice that the...</td>\n",
       "    </tr>\n",
       "  </tbody>\n",
       "</table>\n",
       "</div>"
      ],
      "text/plain": [
       "   label                                               text\n",
       "0      1  The Mascot is Ladislaw Starewicz's masterpiece...\n",
       "1      1  this is one of the finest movies i have ever s...\n",
       "2      1  I have only see three episodes of Hack, starri...\n",
       "3      1  Deepa Mehta's \"Fire\" is groundbreaking, bold, ...\n",
       "4      0  Anyone who sees this film will notice that the..."
      ]
     },
     "execution_count": 700,
     "metadata": {},
     "output_type": "execute_result"
    }
   ],
   "source": [
    "df = pd.read_csv(\"imdb/test.csv\", sep=\"\\t\", header=None, names=[\"label\", \"text\"])\n",
    "df = df[:100]\n",
    "df.head()"
   ]
  },
  {
   "cell_type": "code",
   "execution_count": 701,
   "metadata": {},
   "outputs": [],
   "source": [
    "mutants = []\n",
    "for index, row in df.iterrows():\n",
    "    label = row['label']\n",
    "    text = row['text']\n",
    "    c = Coref(text)\n",
    "    if c.is_one_subject() :\n",
    "        gm = c.generate_mutant_text()\n",
    "        for m in gm :\n",
    "            mutants.append({\"original\": text, \"mutant\": m[\"text\"], \"gender\": m[\"gender\"], \"label\": label})"
   ]
  },
  {
   "cell_type": "code",
   "execution_count": 711,
   "metadata": {},
   "outputs": [
    {
     "data": {
      "text/html": [
       "<div>\n",
       "<style scoped>\n",
       "    .dataframe tbody tr th:only-of-type {\n",
       "        vertical-align: middle;\n",
       "    }\n",
       "\n",
       "    .dataframe tbody tr th {\n",
       "        vertical-align: top;\n",
       "    }\n",
       "\n",
       "    .dataframe thead th {\n",
       "        text-align: right;\n",
       "    }\n",
       "</style>\n",
       "<table border=\"1\" class=\"dataframe\">\n",
       "  <thead>\n",
       "    <tr style=\"text-align: right;\">\n",
       "      <th></th>\n",
       "      <th>original</th>\n",
       "      <th>mutant</th>\n",
       "      <th>gender</th>\n",
       "      <th>label</th>\n",
       "    </tr>\n",
       "  </thead>\n",
       "  <tbody>\n",
       "    <tr>\n",
       "      <th>0</th>\n",
       "      <td>I have only see three episodes of Hack, starri...</td>\n",
       "      <td>I have only see three episodes of Hack, starri...</td>\n",
       "      <td>male</td>\n",
       "      <td>1</td>\n",
       "    </tr>\n",
       "    <tr>\n",
       "      <th>1</th>\n",
       "      <td>I have only see three episodes of Hack, starri...</td>\n",
       "      <td>I have only see three episodes of Hack, starri...</td>\n",
       "      <td>male</td>\n",
       "      <td>1</td>\n",
       "    </tr>\n",
       "    <tr>\n",
       "      <th>2</th>\n",
       "      <td>I have only see three episodes of Hack, starri...</td>\n",
       "      <td>I have only see three episodes of Hack, starri...</td>\n",
       "      <td>male</td>\n",
       "      <td>1</td>\n",
       "    </tr>\n",
       "    <tr>\n",
       "      <th>3</th>\n",
       "      <td>I have only see three episodes of Hack, starri...</td>\n",
       "      <td>I have only see three episodes of Hack, starri...</td>\n",
       "      <td>male</td>\n",
       "      <td>1</td>\n",
       "    </tr>\n",
       "    <tr>\n",
       "      <th>4</th>\n",
       "      <td>I have only see three episodes of Hack, starri...</td>\n",
       "      <td>I have only see three episodes of Hack, starri...</td>\n",
       "      <td>male</td>\n",
       "      <td>1</td>\n",
       "    </tr>\n",
       "    <tr>\n",
       "      <th>...</th>\n",
       "      <td>...</td>\n",
       "      <td>...</td>\n",
       "      <td>...</td>\n",
       "      <td>...</td>\n",
       "    </tr>\n",
       "    <tr>\n",
       "      <th>205</th>\n",
       "      <td>When I was younger, this movie always aired on...</td>\n",
       "      <td>When I was younger, this movie always aired on...</td>\n",
       "      <td>female</td>\n",
       "      <td>1</td>\n",
       "    </tr>\n",
       "    <tr>\n",
       "      <th>206</th>\n",
       "      <td>When I was younger, this movie always aired on...</td>\n",
       "      <td>When I was younger, this movie always aired on...</td>\n",
       "      <td>female</td>\n",
       "      <td>1</td>\n",
       "    </tr>\n",
       "    <tr>\n",
       "      <th>207</th>\n",
       "      <td>When I was younger, this movie always aired on...</td>\n",
       "      <td>When I was younger, this movie always aired on...</td>\n",
       "      <td>female</td>\n",
       "      <td>1</td>\n",
       "    </tr>\n",
       "    <tr>\n",
       "      <th>208</th>\n",
       "      <td>When I was younger, this movie always aired on...</td>\n",
       "      <td>When I was younger, this movie always aired on...</td>\n",
       "      <td>female</td>\n",
       "      <td>1</td>\n",
       "    </tr>\n",
       "    <tr>\n",
       "      <th>209</th>\n",
       "      <td>When I was younger, this movie always aired on...</td>\n",
       "      <td>When I was younger, this movie always aired on...</td>\n",
       "      <td>female</td>\n",
       "      <td>1</td>\n",
       "    </tr>\n",
       "  </tbody>\n",
       "</table>\n",
       "<p>210 rows × 4 columns</p>\n",
       "</div>"
      ],
      "text/plain": [
       "                                              original  \\\n",
       "0    I have only see three episodes of Hack, starri...   \n",
       "1    I have only see three episodes of Hack, starri...   \n",
       "2    I have only see three episodes of Hack, starri...   \n",
       "3    I have only see three episodes of Hack, starri...   \n",
       "4    I have only see three episodes of Hack, starri...   \n",
       "..                                                 ...   \n",
       "205  When I was younger, this movie always aired on...   \n",
       "206  When I was younger, this movie always aired on...   \n",
       "207  When I was younger, this movie always aired on...   \n",
       "208  When I was younger, this movie always aired on...   \n",
       "209  When I was younger, this movie always aired on...   \n",
       "\n",
       "                                                mutant  gender  label  \n",
       "0    I have only see three episodes of Hack, starri...    male      1  \n",
       "1    I have only see three episodes of Hack, starri...    male      1  \n",
       "2    I have only see three episodes of Hack, starri...    male      1  \n",
       "3    I have only see three episodes of Hack, starri...    male      1  \n",
       "4    I have only see three episodes of Hack, starri...    male      1  \n",
       "..                                                 ...     ...    ...  \n",
       "205  When I was younger, this movie always aired on...  female      1  \n",
       "206  When I was younger, this movie always aired on...  female      1  \n",
       "207  When I was younger, this movie always aired on...  female      1  \n",
       "208  When I was younger, this movie always aired on...  female      1  \n",
       "209  When I was younger, this movie always aired on...  female      1  \n",
       "\n",
       "[210 rows x 4 columns]"
      ]
     },
     "execution_count": 711,
     "metadata": {},
     "output_type": "execute_result"
    }
   ],
   "source": [
    "df_mutant = pd.DataFrame(data=mutants)\n",
    "df_mutant"
   ]
  },
  {
   "cell_type": "code",
   "execution_count": 709,
   "metadata": {},
   "outputs": [
    {
     "data": {
      "text/plain": [
       "array([[\"I have only see three episodes of Hack, starring David Morse, and it looks as though I've missed 37 episodes! well thats if ITV 3 are showing them in chronological order. I've just watched 'Misty Blue' (episode 38). I have really enjoyed the 3 episodes, but then I'm a David Morse fan, (esp St. Elsewhere). For any one reading this, Hack is excellent. Pity its being aired on ITV 3. The cast is strong, though I cant get used to the idea of David playing a bent cop, still we all know he's the good guy wrongly accused. I see Gary Cole has guest starred, what ever happened to 'Midnight Caller'? Just wonder if Hack is available on DVD (yet). Lovin it. Cheers.\",\n",
       "        \"I have only see three episodes of Hack, starring David Morse, and it looks as though I've missed 37 episodes! well thats if ITV 3 are showing them in chronological order. I've just watched 'Misty Blue' (episode 38). I have really enjoyed the 3 episodes, but then I'm a David Morse fan, (esp St. Elsewhere). For any one reading this, Hack is excellent. Pity its being aired on ITV 3. The cast is strong, though I cant get used to the idea of James playing a bent cop, still we all know he's the good guy wrongly accused. I see Gary Cole has guest starred, what ever happened to 'Midnight Caller'? Just wonder if Hack is available on DVD (yet). Lovin it. Cheers.\",\n",
       "        'male', 1]], dtype=object)"
      ]
     },
     "execution_count": 709,
     "metadata": {},
     "output_type": "execute_result"
    }
   ],
   "source": [
    "df_mutant[:1].values"
   ]
  },
  {
   "cell_type": "code",
   "execution_count": 710,
   "metadata": {},
   "outputs": [],
   "source": [
    "df_mutant.to_csv(\"imdb_mutant/test.csv\", index=False)"
   ]
  },
  {
   "cell_type": "code",
   "execution_count": null,
   "metadata": {},
   "outputs": [],
   "source": []
  }
 ],
 "metadata": {
  "kernelspec": {
   "display_name": "Python 3",
   "language": "python",
   "name": "python3"
  },
  "language_info": {
   "codemirror_mode": {
    "name": "ipython",
    "version": 3
   },
   "file_extension": ".py",
   "mimetype": "text/x-python",
   "name": "python",
   "nbconvert_exporter": "python",
   "pygments_lexer": "ipython3",
   "version": "3.6.8"
  }
 },
 "nbformat": 4,
 "nbformat_minor": 4
}
