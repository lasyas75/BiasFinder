{
 "cells": [
  {
   "cell_type": "markdown",
   "metadata": {},
   "source": [
    "# Mutant Generation"
   ]
  },
  {
   "cell_type": "markdown",
   "metadata": {},
   "source": [
    "### Prepare Masculine and Feminine Word"
   ]
  },
  {
   "cell_type": "code",
   "execution_count": 7,
   "metadata": {},
   "outputs": [],
   "source": [
    "import pandas as pd\n",
    "import numpy as np"
   ]
  },
  {
   "cell_type": "code",
   "execution_count": 8,
   "metadata": {},
   "outputs": [
    {
     "data": {
      "text/html": [
       "<div>\n",
       "<style scoped>\n",
       "    .dataframe tbody tr th:only-of-type {\n",
       "        vertical-align: middle;\n",
       "    }\n",
       "\n",
       "    .dataframe tbody tr th {\n",
       "        vertical-align: top;\n",
       "    }\n",
       "\n",
       "    .dataframe thead th {\n",
       "        text-align: right;\n",
       "    }\n",
       "</style>\n",
       "<table border=\"1\" class=\"dataframe\">\n",
       "  <thead>\n",
       "    <tr style=\"text-align: right;\">\n",
       "      <th></th>\n",
       "      <th>masculine</th>\n",
       "      <th>feminine</th>\n",
       "    </tr>\n",
       "  </thead>\n",
       "  <tbody>\n",
       "    <tr>\n",
       "      <th>0</th>\n",
       "      <td>actor</td>\n",
       "      <td>actress</td>\n",
       "    </tr>\n",
       "    <tr>\n",
       "      <th>1</th>\n",
       "      <td>author</td>\n",
       "      <td>authoress</td>\n",
       "    </tr>\n",
       "    <tr>\n",
       "      <th>2</th>\n",
       "      <td>boy</td>\n",
       "      <td>girl</td>\n",
       "    </tr>\n",
       "    <tr>\n",
       "      <th>3</th>\n",
       "      <td>bridegroom</td>\n",
       "      <td>bride</td>\n",
       "    </tr>\n",
       "    <tr>\n",
       "      <th>4</th>\n",
       "      <td>brother</td>\n",
       "      <td>sister</td>\n",
       "    </tr>\n",
       "  </tbody>\n",
       "</table>\n",
       "</div>"
      ],
      "text/plain": [
       "    masculine   feminine\n",
       "0       actor    actress\n",
       "1      author  authoress\n",
       "2         boy       girl\n",
       "3  bridegroom      bride\n",
       "4     brother     sister"
      ]
     },
     "execution_count": 8,
     "metadata": {},
     "output_type": "execute_result"
    }
   ],
   "source": [
    "df = pd.read_csv(\"asset/masculine-feminine.txt\")\n",
    "df.head()"
   ]
  },
  {
   "cell_type": "code",
   "execution_count": 9,
   "metadata": {},
   "outputs": [
    {
     "name": "stderr",
     "output_type": "stream",
     "text": [
      "[nltk_data] Downloading package wordnet to /root/nltk_data...\n",
      "[nltk_data]   Package wordnet is already up-to-date!\n",
      "[nltk_data] Downloading package punkt to /root/nltk_data...\n",
      "[nltk_data]   Package punkt is already up-to-date!\n",
      "[nltk_data] Downloading package stopwords to /root/nltk_data...\n",
      "[nltk_data]   Package stopwords is already up-to-date!\n"
     ]
    },
    {
     "data": {
      "text/plain": [
       "True"
      ]
     },
     "execution_count": 9,
     "metadata": {},
     "output_type": "execute_result"
    }
   ],
   "source": [
    "import nltk\n",
    "nltk.download('wordnet')\n",
    "nltk.download('punkt')\n",
    "nltk.download('stopwords')"
   ]
  },
  {
   "cell_type": "code",
   "execution_count": 10,
   "metadata": {},
   "outputs": [
    {
     "data": {
      "text/plain": [
       "'this is a demo text for nlp use nltk full form of nltk is natur languag toolkit'"
      ]
     },
     "execution_count": 10,
     "metadata": {},
     "output_type": "execute_result"
    }
   ],
   "source": [
    "from string import punctuation\n",
    "from nltk.stem import SnowballStemmer\n",
    "from nltk.stem import WordNetLemmatizer\n",
    "\n",
    "def list_to_string(l):\n",
    "    return \" \".join(l)\n",
    "\n",
    "wordnet_lemmatizer = WordNetLemmatizer()\n",
    "snowball_stemmer = SnowballStemmer(\"english\")\n",
    "\n",
    "text = \"This is a Demo Text for NLP using NLTK. Full form of NLTK is Natural Language Toolkit\"\n",
    "\n",
    "def strip_punctuation(s):\n",
    "    return ''.join(c for c in s if c not in punctuation)\n",
    "\n",
    "def lemmatize_stemming(text) :\n",
    "    text = text.lower()\n",
    "    text = strip_punctuation(text)\n",
    "    word_tokens = nltk.word_tokenize(text)\n",
    "    word_tokens = [wordnet_lemmatizer.lemmatize(word) for word in word_tokens]\n",
    "    word_tokens = [snowball_stemmer.stem(word) for word in word_tokens]\n",
    "    return list_to_string(word_tokens)\n",
    "    \n",
    "def lowercasing(text):\n",
    "    return text.lower()\n",
    "\n",
    "lemmatize_stemming(text)"
   ]
  },
  {
   "cell_type": "code",
   "execution_count": 11,
   "metadata": {},
   "outputs": [],
   "source": [
    "df[\"masculine\"] = df[\"masculine\"].apply(lowercasing)\n",
    "df[\"feminine\"] = df[\"feminine\"].apply(lowercasing)"
   ]
  },
  {
   "cell_type": "code",
   "execution_count": 12,
   "metadata": {},
   "outputs": [],
   "source": [
    "df = df.drop_duplicates().reset_index(drop=True)"
   ]
  },
  {
   "cell_type": "code",
   "execution_count": 13,
   "metadata": {},
   "outputs": [],
   "source": [
    "df.to_csv(\"asset/masculine-feminine-cleaned.txt\", index=False)"
   ]
  },
  {
   "cell_type": "markdown",
   "metadata": {},
   "source": [
    "### Mutant Generation using POS TAG and NER"
   ]
  },
  {
   "cell_type": "code",
   "execution_count": null,
   "metadata": {},
   "outputs": [],
   "source": [
    "import nltk\n",
    "from nltk.tokenize import word_tokenize\n",
    "from nltk.tag import pos_tag\n",
    "\n",
    "import spacy\n",
    "# import en_core_web_sm\n",
    "# nlp = en_core_web_sm.load()\n",
    "# import xx_ent_wiki_sm\n",
    "# nlp = xx_ent_wiki_sm.load()\n",
    "import en_core_web_lg\n",
    "nlp = en_core_web_lg.load()"
   ]
  },
  {
   "cell_type": "code",
   "execution_count": 32,
   "metadata": {},
   "outputs": [],
   "source": [
    "replacement = pd.read_csv(\"asset/masculine-feminine-cleaned.txt\")\n",
    "\n",
    "m = {}\n",
    "mlist = []\n",
    "f = {}\n",
    "flist = []\n",
    "for index, row in replacement.iterrows():\n",
    "    m[row['feminine']] = row['masculine']\n",
    "    f[row['masculine']] = row['feminine']\n",
    "    mlist.append(row[\"masculine\"])\n",
    "    flist.append(row[\"feminine\"])"
   ]
  },
  {
   "cell_type": "code",
   "execution_count": 33,
   "metadata": {},
   "outputs": [],
   "source": [
    "mnames = [\"James\", \"John\", \"Robert\", \"Michael\", \"Whilliam\", \"Richard\"]\n",
    "fnames = [\"Jessica\", \"Patricia\", \"Jennifer\", \"Linda\", \"Elizabeth\"]\n",
    "\n",
    "# masculine pronoun\n",
    "mp = [\"He\", \"He's\", \"he\", \"he's\", \"him\", \"his\", \"himself\"]\n",
    "\n",
    "# feminine prononun\n",
    "fp = [\"She\", \"He's\", \"she\", \"he's\",\"her\", \"her\", \"herself\"]\n",
    "\n",
    "mc = {}\n",
    "fc = {}\n",
    "\n",
    "for _m, _f in zip(mp, fp) :\n",
    "    fc[_m] = _f\n",
    "    mc[_f] = _m"
   ]
  },
  {
   "cell_type": "code",
   "execution_count": 34,
   "metadata": {},
   "outputs": [],
   "source": [
    "text = \"gingerAZ. Bronson's character plans to live anonymously but when he finds his fiance was a victim of a protection racket one by one the criminals are hunted down in the style of Bronson's character\"\n",
    "# text = \"Good songs....but good album? debateable. She has some rockin songs on here. All her singles kickass and the last song on the album with M.I.A. (i friggin love her) is fire. but then, i start listening to the other songs, ready for a song on the album that is just as good as her singles and i can't find another. All of missy's singles are crazy, but then ui listen to the album, and its like a let down. any song that she sings in makes my stomach churn and some have just annoying beats and repititious phrases. If you really liked Missy's album 'This Is Not A Test', then get this album. but if you are lovin her singles and want some more, just download the singles, don't waste your money on the rest of this album\"\n",
    "# text = \"A landlord book that's not based on today's reality.. Although Shemin brings up many good ideas, I found that most of his ideas are way to cheezy for me (or Southern california.) He discusses buying places for $8,000-$20,000 (I wish) and believes that charging more for rent will ultimately get you higher quality tenents. I completely disagree, especially in down markets.A decent book, overall, but I'd suggest a Nolo book which has more real legal information as well as solid do's and don'ts for a landlord.\"\n",
    "# text = \"He discusses buying places for $8,000-$20,000 (I wish) and believes that charging more for rent will ultimately get you higher quality tenents.\"\n",
    "# text = \"\""
   ]
  },
  {
   "cell_type": "code",
   "execution_count": 35,
   "metadata": {},
   "outputs": [],
   "source": [
    "# nltk.download('averaged_perceptron_tagger')"
   ]
  },
  {
   "cell_type": "code",
   "execution_count": 36,
   "metadata": {},
   "outputs": [
    {
     "name": "stdout",
     "output_type": "stream",
     "text": [
      "{'he'}\n",
      "{'his'}\n"
     ]
    }
   ],
   "source": [
    "def pos_tagging(sent):\n",
    "    sent = nltk.word_tokenize(sent)\n",
    "    sent = nltk.pos_tag(sent)\n",
    "    return sent\n",
    "\n",
    "def get_pronoun(text) :\n",
    "    \n",
    "    pt = pos_tagging(text)\n",
    "    \n",
    "    # subject pronoun\n",
    "    spr = set()\n",
    "    \n",
    "    #non-subject prononun\n",
    "    pr = set()\n",
    "\n",
    "    for (word, tag) in pt :\n",
    "        if \"PRP\" == tag :\n",
    "            spr.add(word)\n",
    "        elif \"PRP$\" == tag :\n",
    "            pr.add(word)\n",
    "    \n",
    "    return spr, pr\n",
    "\n",
    "spr, npr = get_pronoun(text)\n",
    "print(spr)\n",
    "print(npr)"
   ]
  },
  {
   "cell_type": "code",
   "execution_count": 37,
   "metadata": {},
   "outputs": [
    {
     "data": {
      "text/plain": [
       "{'Bronson'}"
      ]
     },
     "execution_count": 37,
     "metadata": {},
     "output_type": "execute_result"
    }
   ],
   "source": [
    "def get_person(text) :\n",
    "    doc = nlp(text)\n",
    "\n",
    "    person = set()\n",
    "\n",
    "    for ent in doc.ents:\n",
    "#         print(ent.text, ent.start_char, ent.end_char, ent.label_)\n",
    "        if (ent.label_ == \"PERSON\") :\n",
    "            person.add(ent.text)\n",
    "    \n",
    "    return person\n",
    "    \n",
    "person = get_person(text)\n",
    "person"
   ]
  },
  {
   "cell_type": "code",
   "execution_count": 53,
   "metadata": {},
   "outputs": [
    {
     "data": {
      "text/plain": [
       "'u'"
      ]
     },
     "execution_count": 53,
     "metadata": {},
     "output_type": "execute_result"
    }
   ],
   "source": [
    "MALE = \"m\"\n",
    "FEMALE = \"f\"\n",
    "UNIDENTIFIED = \"u\"\n",
    "\n",
    "def get_gender(text) :\n",
    "    spr, npr = get_pronoun(text)\n",
    "    male = False\n",
    "    female = False\n",
    "    if \"he\" in spr or \"He\" in spr :\n",
    "        male = True\n",
    "    if \"she\" in spr or \"She\" in spr :\n",
    "        female = True\n",
    "    \n",
    "    if male != female :\n",
    "        if male :\n",
    "            return MALE\n",
    "        else :\n",
    "            return FEMALE\n",
    "    else :\n",
    "        return UNIDENTIFIED\n",
    "\n",
    "get_gender(text)"
   ]
  },
  {
   "cell_type": "code",
   "execution_count": 39,
   "metadata": {},
   "outputs": [
    {
     "name": "stdout",
     "output_type": "stream",
     "text": [
      "gingerAZ. Bronson's character plans to live anonymously but when he finds his fiance was a victim of a protection racket one by one the criminals are hunted down in the style of Bronson's character\n",
      "gingerAZ. Bronson's character plans to live anonymously but when she finds her fiance was a victim of a protection racket one by one the criminals are hunted down in the style of Bronson's character\n"
     ]
    }
   ],
   "source": [
    "import tokenizer\n",
    "\n",
    "def replace_pronoun(text) :\n",
    "    \n",
    "    is_replaced = False\n",
    "\n",
    "    toklist = list(tokenizer.tokenize(text))\n",
    "\n",
    "    # print(toklist)\n",
    "    newtoklist = []\n",
    "    for token in toklist :\n",
    "        if token.txt in mp :\n",
    "            token = token._replace(txt = fc[token.txt])\n",
    "            newtoklist.append(token)\n",
    "            is_replaced = True\n",
    "        elif token.txt in fp :\n",
    "            token = token._replace(txt = mc[token.txt])\n",
    "            newtoklist.append(token)\n",
    "            is_replaced = True\n",
    "        else :\n",
    "            newtoklist.append(token)\n",
    "\n",
    "    # print(newtoklist)\n",
    "\n",
    "    return is_replaced, tokenizer.detokenize(newtoklist, normalize=True)\n",
    "\n",
    "print(text)\n",
    "_, _text = replace_pronoun(text)\n",
    "print(_text)"
   ]
  },
  {
   "cell_type": "code",
   "execution_count": 40,
   "metadata": {},
   "outputs": [
    {
     "name": "stdout",
     "output_type": "stream",
     "text": [
      "gingerAZ. Bronson's character plans to live anonymously but when he finds his fiance was a victim of a protection racket one by one the criminals are hunted down in the style of Bronson's character\n"
     ]
    },
    {
     "data": {
      "text/plain": [
       "[\"gingerAZ. Jessica's character plans to live anonymously but when she finds her fiance was a victim of a protection racket one by one the criminals are hunted down in the style of Jessica's character\",\n",
       " \"gingerAZ. Patricia's character plans to live anonymously but when she finds her fiance was a victim of a protection racket one by one the criminals are hunted down in the style of Patricia's character\",\n",
       " \"gingerAZ. Jennifer's character plans to live anonymously but when she finds her fiance was a victim of a protection racket one by one the criminals are hunted down in the style of Jennifer's character\",\n",
       " \"gingerAZ. Linda's character plans to live anonymously but when she finds her fiance was a victim of a protection racket one by one the criminals are hunted down in the style of Linda's character\",\n",
       " \"gingerAZ. Elizabeth's character plans to live anonymously but when she finds her fiance was a victim of a protection racket one by one the criminals are hunted down in the style of Elizabeth's character\"]"
      ]
     },
     "execution_count": 40,
     "metadata": {},
     "output_type": "execute_result"
    }
   ],
   "source": [
    "def is_set_empty(s) :\n",
    "    return not bool(s)\n",
    "\n",
    "def generate_mutant_from_text(text) :\n",
    "\n",
    "    mutant = []\n",
    "\n",
    "    is_replaced, text_with_replaced_pronoun = replace_pronoun(text)\n",
    "\n",
    "    if is_replaced :\n",
    "\n",
    "        person = get_person(text)\n",
    "\n",
    "        if is_set_empty(person) :\n",
    "            mutant.append(text_with_replaced_pronoun)\n",
    "    #         print(\"No name\")\n",
    "        elif len(person) == 1 :\n",
    "    #         print(\"Found 1 name\")\n",
    "\n",
    "            spr, npr = get_pronoun(text)\n",
    "            gender = get_gender(spr)\n",
    "\n",
    "            if gender == MALE :\n",
    "\n",
    "                # get the name\n",
    "                prevname = person.pop()\n",
    "\n",
    "                for name in fnames :    \n",
    "                    # replace the name\n",
    "                    temp_text = text_with_replaced_pronoun.replace(prevname, name)\n",
    "                    mutant.append(temp_text)\n",
    "\n",
    "            elif gender == FEMALE :\n",
    "\n",
    "                # get the name\n",
    "                prevname = person.pop()\n",
    "\n",
    "                for name in mnames :    \n",
    "                    # replace the name\n",
    "                    temp_text = text_with_replaced_pronoun.replace(prevname, name)\n",
    "                    mutant.append(temp_text)\n",
    "\n",
    "            else :\n",
    "                mutant.append(text_with_replaced_pronoun)\n",
    "\n",
    "    return mutant\n",
    "\n",
    "print(text)\n",
    "generate_mutant_from_text(text)"
   ]
  },
  {
   "cell_type": "markdown",
   "metadata": {},
   "source": [
    "### Generate Mutant from IMDB Data"
   ]
  },
  {
   "cell_type": "code",
   "execution_count": 207,
   "metadata": {},
   "outputs": [
    {
     "data": {
      "text/html": [
       "<div>\n",
       "<style scoped>\n",
       "    .dataframe tbody tr th:only-of-type {\n",
       "        vertical-align: middle;\n",
       "    }\n",
       "\n",
       "    .dataframe tbody tr th {\n",
       "        vertical-align: top;\n",
       "    }\n",
       "\n",
       "    .dataframe thead th {\n",
       "        text-align: right;\n",
       "    }\n",
       "</style>\n",
       "<table border=\"1\" class=\"dataframe\">\n",
       "  <thead>\n",
       "    <tr style=\"text-align: right;\">\n",
       "      <th></th>\n",
       "      <th>label</th>\n",
       "      <th>text</th>\n",
       "    </tr>\n",
       "  </thead>\n",
       "  <tbody>\n",
       "    <tr>\n",
       "      <th>0</th>\n",
       "      <td>1</td>\n",
       "      <td>The Mascot is Ladislaw Starewicz's masterpiece...</td>\n",
       "    </tr>\n",
       "    <tr>\n",
       "      <th>1</th>\n",
       "      <td>1</td>\n",
       "      <td>this is one of the finest movies i have ever s...</td>\n",
       "    </tr>\n",
       "    <tr>\n",
       "      <th>2</th>\n",
       "      <td>1</td>\n",
       "      <td>I have only see three episodes of Hack, starri...</td>\n",
       "    </tr>\n",
       "    <tr>\n",
       "      <th>3</th>\n",
       "      <td>1</td>\n",
       "      <td>Deepa Mehta's \"Fire\" is groundbreaking, bold, ...</td>\n",
       "    </tr>\n",
       "    <tr>\n",
       "      <th>4</th>\n",
       "      <td>0</td>\n",
       "      <td>Anyone who sees this film will notice that the...</td>\n",
       "    </tr>\n",
       "  </tbody>\n",
       "</table>\n",
       "</div>"
      ],
      "text/plain": [
       "   label                                               text\n",
       "0      1  The Mascot is Ladislaw Starewicz's masterpiece...\n",
       "1      1  this is one of the finest movies i have ever s...\n",
       "2      1  I have only see three episodes of Hack, starri...\n",
       "3      1  Deepa Mehta's \"Fire\" is groundbreaking, bold, ...\n",
       "4      0  Anyone who sees this film will notice that the..."
      ]
     },
     "execution_count": 207,
     "metadata": {},
     "output_type": "execute_result"
    }
   ],
   "source": [
    "df = pd.read_csv(\"imdb/test.csv\", sep=\"\\t\", header=None, names=[\"label\", \"text\"])\n",
    "df = df[:100]\n",
    "df.head()"
   ]
  },
  {
   "cell_type": "code",
   "execution_count": 58,
   "metadata": {},
   "outputs": [],
   "source": [
    "df[\"gender\"] = df[\"text\"].apply(get_gender)"
   ]
  },
  {
   "cell_type": "code",
   "execution_count": 59,
   "metadata": {},
   "outputs": [
    {
     "data": {
      "text/html": [
       "<div>\n",
       "<style scoped>\n",
       "    .dataframe tbody tr th:only-of-type {\n",
       "        vertical-align: middle;\n",
       "    }\n",
       "\n",
       "    .dataframe tbody tr th {\n",
       "        vertical-align: top;\n",
       "    }\n",
       "\n",
       "    .dataframe thead th {\n",
       "        text-align: right;\n",
       "    }\n",
       "</style>\n",
       "<table border=\"1\" class=\"dataframe\">\n",
       "  <thead>\n",
       "    <tr style=\"text-align: right;\">\n",
       "      <th></th>\n",
       "      <th>label</th>\n",
       "      <th>text</th>\n",
       "      <th>gender</th>\n",
       "    </tr>\n",
       "  </thead>\n",
       "  <tbody>\n",
       "    <tr>\n",
       "      <th>0</th>\n",
       "      <td>1</td>\n",
       "      <td>I have only see three episodes of Hack, starri...</td>\n",
       "      <td>m</td>\n",
       "    </tr>\n",
       "    <tr>\n",
       "      <th>1</th>\n",
       "      <td>1</td>\n",
       "      <td>In the groovy mid 70's a scruffy bunch of bras...</td>\n",
       "      <td>m</td>\n",
       "    </tr>\n",
       "    <tr>\n",
       "      <th>2</th>\n",
       "      <td>0</td>\n",
       "      <td>The sequel that no one asked for to the movie ...</td>\n",
       "      <td>m</td>\n",
       "    </tr>\n",
       "    <tr>\n",
       "      <th>3</th>\n",
       "      <td>0</td>\n",
       "      <td>As many know, this is the feature film debut o...</td>\n",
       "      <td>m</td>\n",
       "    </tr>\n",
       "    <tr>\n",
       "      <th>4</th>\n",
       "      <td>1</td>\n",
       "      <td>This must have been one of Chaplin's most ambi...</td>\n",
       "      <td>m</td>\n",
       "    </tr>\n",
       "    <tr>\n",
       "      <th>5</th>\n",
       "      <td>1</td>\n",
       "      <td>One of the oddest, most strikingly eerie and c...</td>\n",
       "      <td>m</td>\n",
       "    </tr>\n",
       "    <tr>\n",
       "      <th>6</th>\n",
       "      <td>1</td>\n",
       "      <td>I will freely admit that I haven't seen the or...</td>\n",
       "      <td>f</td>\n",
       "    </tr>\n",
       "    <tr>\n",
       "      <th>7</th>\n",
       "      <td>1</td>\n",
       "      <td>The debut that plucked from obscurity one of t...</td>\n",
       "      <td>m</td>\n",
       "    </tr>\n",
       "    <tr>\n",
       "      <th>8</th>\n",
       "      <td>1</td>\n",
       "      <td>There is really no way to compare this motion ...</td>\n",
       "      <td>m</td>\n",
       "    </tr>\n",
       "    <tr>\n",
       "      <th>9</th>\n",
       "      <td>1</td>\n",
       "      <td>Love is a Many-Splendored Thing is set in Hong...</td>\n",
       "      <td>f</td>\n",
       "    </tr>\n",
       "    <tr>\n",
       "      <th>10</th>\n",
       "      <td>0</td>\n",
       "      <td>Does anyone else think that \"Reba\" is basicall...</td>\n",
       "      <td>f</td>\n",
       "    </tr>\n",
       "    <tr>\n",
       "      <th>11</th>\n",
       "      <td>0</td>\n",
       "      <td>I like J-horror, anime and even kinda dig the ...</td>\n",
       "      <td>m</td>\n",
       "    </tr>\n",
       "    <tr>\n",
       "      <th>12</th>\n",
       "      <td>1</td>\n",
       "      <td>My Santa Lucia Choir was chosen to be in this ...</td>\n",
       "      <td>f</td>\n",
       "    </tr>\n",
       "    <tr>\n",
       "      <th>13</th>\n",
       "      <td>1</td>\n",
       "      <td>This was a romantic, simple funny movie. I rea...</td>\n",
       "      <td>m</td>\n",
       "    </tr>\n",
       "    <tr>\n",
       "      <th>14</th>\n",
       "      <td>1</td>\n",
       "      <td>I enjoyed the film very much, especially the p...</td>\n",
       "      <td>m</td>\n",
       "    </tr>\n",
       "    <tr>\n",
       "      <th>15</th>\n",
       "      <td>0</td>\n",
       "      <td>On paper this looks a good film . Michael Cain...</td>\n",
       "      <td>m</td>\n",
       "    </tr>\n",
       "    <tr>\n",
       "      <th>16</th>\n",
       "      <td>0</td>\n",
       "      <td>John Madden's cinematic interpretation of Edit...</td>\n",
       "      <td>f</td>\n",
       "    </tr>\n",
       "    <tr>\n",
       "      <th>17</th>\n",
       "      <td>0</td>\n",
       "      <td>Anupam Kher is an excellent actor, he debuted ...</td>\n",
       "      <td>m</td>\n",
       "    </tr>\n",
       "    <tr>\n",
       "      <th>18</th>\n",
       "      <td>0</td>\n",
       "      <td>Man, what an awful film. As with many terrible...</td>\n",
       "      <td>m</td>\n",
       "    </tr>\n",
       "    <tr>\n",
       "      <th>19</th>\n",
       "      <td>1</td>\n",
       "      <td>Usually I do not like movies with/about aliens...</td>\n",
       "      <td>m</td>\n",
       "    </tr>\n",
       "    <tr>\n",
       "      <th>20</th>\n",
       "      <td>1</td>\n",
       "      <td>It takes a rare movie to get better each time ...</td>\n",
       "      <td>m</td>\n",
       "    </tr>\n",
       "    <tr>\n",
       "      <th>21</th>\n",
       "      <td>0</td>\n",
       "      <td>I felt that the movie Skammen, directed by Ing...</td>\n",
       "      <td>m</td>\n",
       "    </tr>\n",
       "    <tr>\n",
       "      <th>22</th>\n",
       "      <td>0</td>\n",
       "      <td>This is a typical \"perfect crime\" thriller. A ...</td>\n",
       "      <td>f</td>\n",
       "    </tr>\n",
       "    <tr>\n",
       "      <th>23</th>\n",
       "      <td>1</td>\n",
       "      <td>especially considering I can count on one hand...</td>\n",
       "      <td>m</td>\n",
       "    </tr>\n",
       "    <tr>\n",
       "      <th>24</th>\n",
       "      <td>0</td>\n",
       "      <td>This movie has been promoting in everywhere in...</td>\n",
       "      <td>f</td>\n",
       "    </tr>\n",
       "    <tr>\n",
       "      <th>25</th>\n",
       "      <td>0</td>\n",
       "      <td>I'm glad this was the last of the '40's Univer...</td>\n",
       "      <td>m</td>\n",
       "    </tr>\n",
       "    <tr>\n",
       "      <th>26</th>\n",
       "      <td>1</td>\n",
       "      <td>Synopsis: Andreas (Trond Fausa Aurvaag) finds ...</td>\n",
       "      <td>m</td>\n",
       "    </tr>\n",
       "    <tr>\n",
       "      <th>27</th>\n",
       "      <td>0</td>\n",
       "      <td>An in-name-only sequel to John Carpenter's Vam...</td>\n",
       "      <td>f</td>\n",
       "    </tr>\n",
       "    <tr>\n",
       "      <th>28</th>\n",
       "      <td>1</td>\n",
       "      <td>In Extramarital we see B-actress Traci Lords a...</td>\n",
       "      <td>f</td>\n",
       "    </tr>\n",
       "    <tr>\n",
       "      <th>29</th>\n",
       "      <td>0</td>\n",
       "      <td>I'm sorry but I can't agree that this was a go...</td>\n",
       "      <td>m</td>\n",
       "    </tr>\n",
       "    <tr>\n",
       "      <th>30</th>\n",
       "      <td>1</td>\n",
       "      <td>When I was younger, this movie always aired on...</td>\n",
       "      <td>m</td>\n",
       "    </tr>\n",
       "  </tbody>\n",
       "</table>\n",
       "</div>"
      ],
      "text/plain": [
       "    label                                               text gender\n",
       "0       1  I have only see three episodes of Hack, starri...      m\n",
       "1       1  In the groovy mid 70's a scruffy bunch of bras...      m\n",
       "2       0  The sequel that no one asked for to the movie ...      m\n",
       "3       0  As many know, this is the feature film debut o...      m\n",
       "4       1  This must have been one of Chaplin's most ambi...      m\n",
       "5       1  One of the oddest, most strikingly eerie and c...      m\n",
       "6       1  I will freely admit that I haven't seen the or...      f\n",
       "7       1  The debut that plucked from obscurity one of t...      m\n",
       "8       1  There is really no way to compare this motion ...      m\n",
       "9       1  Love is a Many-Splendored Thing is set in Hong...      f\n",
       "10      0  Does anyone else think that \"Reba\" is basicall...      f\n",
       "11      0  I like J-horror, anime and even kinda dig the ...      m\n",
       "12      1  My Santa Lucia Choir was chosen to be in this ...      f\n",
       "13      1  This was a romantic, simple funny movie. I rea...      m\n",
       "14      1  I enjoyed the film very much, especially the p...      m\n",
       "15      0  On paper this looks a good film . Michael Cain...      m\n",
       "16      0  John Madden's cinematic interpretation of Edit...      f\n",
       "17      0  Anupam Kher is an excellent actor, he debuted ...      m\n",
       "18      0  Man, what an awful film. As with many terrible...      m\n",
       "19      1  Usually I do not like movies with/about aliens...      m\n",
       "20      1  It takes a rare movie to get better each time ...      m\n",
       "21      0  I felt that the movie Skammen, directed by Ing...      m\n",
       "22      0  This is a typical \"perfect crime\" thriller. A ...      f\n",
       "23      1  especially considering I can count on one hand...      m\n",
       "24      0  This movie has been promoting in everywhere in...      f\n",
       "25      0  I'm glad this was the last of the '40's Univer...      m\n",
       "26      1  Synopsis: Andreas (Trond Fausa Aurvaag) finds ...      m\n",
       "27      0  An in-name-only sequel to John Carpenter's Vam...      f\n",
       "28      1  In Extramarital we see B-actress Traci Lords a...      f\n",
       "29      0  I'm sorry but I can't agree that this was a go...      m\n",
       "30      1  When I was younger, this movie always aired on...      m"
      ]
     },
     "execution_count": 59,
     "metadata": {},
     "output_type": "execute_result"
    }
   ],
   "source": [
    "df = df[df[\"gender\"] != UNIDENTIFIED]\n",
    "df = df.reset_index(drop=True)\n",
    "df"
   ]
  },
  {
   "cell_type": "code",
   "execution_count": 278,
   "metadata": {},
   "outputs": [
    {
     "data": {
      "text/plain": [
       "'Deepa Mehta\\'s \"Fire\" is groundbreaking, bold, and artistic. A masterful social commentary on the plight of the women from conservative, upper middle class Indian households, this is a film no one should miss. Shabana Azmi and Nandita Das give stellar performances by underplaying their characters as much as possible. A.R. Rahman\\'s music is the work of the genius and almost plays the role of another character in the film. Mehta uses Rahman\\'s score and together, they create such amazing sound montages that effectively portray the views of the world around Radha and Sita whenever they look to each other for support. This film is not about lesbianism as many have branded it. Lesbianism is just a part of the film. It is unfortunate that most people tend to write the film off calling it taboo instead of giving it a chance and looking at its real meaning.'"
      ]
     },
     "execution_count": 278,
     "metadata": {},
     "output_type": "execute_result"
    }
   ],
   "source": [
    "text = df[\"text\"][3]\n",
    "text"
   ]
  },
  {
   "cell_type": "markdown",
   "metadata": {},
   "source": [
    "### Coreference Task"
   ]
  },
  {
   "cell_type": "code",
   "execution_count": 247,
   "metadata": {},
   "outputs": [],
   "source": [
    "# !python -m spacy download en_core_web_sm\n",
    "# !python -m spacy download xx_ent_wiki_sm\n",
    "# !python -m spacy download en_core_web_lg"
   ]
  },
  {
   "cell_type": "code",
   "execution_count": 248,
   "metadata": {},
   "outputs": [],
   "source": [
    "import spacy\n",
    "# import en_core_web_sm\n",
    "# nlp = en_core_web_sm.load()\n",
    "# import xx_ent_wiki_sm\n",
    "# nlp = xx_ent_wiki_sm.load()\n",
    "import en_core_web_lg\n",
    "nlp = en_core_web_lg.load()\n",
    "\n",
    "# !pip install neuralcoref\n",
    "import neuralcoref\n",
    "coref = neuralcoref.NeuralCoref(nlp.vocab)\n",
    "nlp.add_pipe(coref, name='neuralcoref')"
   ]
  },
  {
   "cell_type": "code",
   "execution_count": 603,
   "metadata": {},
   "outputs": [
    {
     "data": {
      "text/plain": [
       "'My Sister has a dog. She loves him'"
      ]
     },
     "execution_count": 603,
     "metadata": {},
     "output_type": "execute_result"
    }
   ],
   "source": [
    "# text = df[\"text\"][2]\n",
    "text = 'My Sister has a dog. She loves him'\n",
    "# text = 'My Brother has a dog. He loves the dog'\n",
    "text"
   ]
  },
  {
   "cell_type": "code",
   "execution_count": 604,
   "metadata": {},
   "outputs": [
    {
     "data": {
      "text/plain": [
       "[My Sister: [My Sister, She], a dog: [a dog, him]]"
      ]
     },
     "execution_count": 604,
     "metadata": {},
     "output_type": "execute_result"
    }
   ],
   "source": [
    "# You're done. You can now use NeuralCoref the same way you usually manipulate a SpaCy document and it's annotations.\n",
    "doc = nlp(text)\n",
    "\n",
    "doc._.has_coref\n",
    "doc._.coref_clusters"
   ]
  },
  {
   "cell_type": "code",
   "execution_count": 605,
   "metadata": {},
   "outputs": [
    {
     "name": "stdout",
     "output_type": "stream",
     "text": [
      "My Sister has a dog. She loves him\n",
      "My Sister has a dog. My Sister loves a dog\n",
      "[My Sister: [My Sister, She], a dog: [a dog, him]]\n",
      "a dog\n",
      "[a dog, him]\n",
      "him\n",
      "8\n",
      "31\n",
      "9\n",
      "34\n",
      "a dog\n"
     ]
    }
   ],
   "source": [
    "print(text)\n",
    "print(doc._.coref_resolved)\n",
    "print(doc._.coref_clusters)\n",
    "print(doc._.coref_clusters[1].main)\n",
    "print(doc._.coref_clusters[1].mentions)\n",
    "print(doc._.coref_clusters[1].mentions[-1])\n",
    "print(doc._.coref_clusters[1].mentions[-1].start)\n",
    "print(doc._.coref_clusters[1].mentions[-1].start_char)\n",
    "print(doc._.coref_clusters[1].mentions[-1].end)\n",
    "print(doc._.coref_clusters[1].mentions[-1].end_char)\n",
    "print(doc._.coref_clusters[1].mentions[-1]._.coref_cluster.main)"
   ]
  },
  {
   "cell_type": "code",
   "execution_count": 606,
   "metadata": {},
   "outputs": [
    {
     "data": {
      "text/plain": [
       "My Sister"
      ]
     },
     "execution_count": 606,
     "metadata": {},
     "output_type": "execute_result"
    }
   ],
   "source": [
    "doc = nlp(text)\n",
    "\n",
    "doc._.has_coref\n",
    "doc._.coref_clusters[0].main"
   ]
  },
  {
   "cell_type": "code",
   "execution_count": 607,
   "metadata": {},
   "outputs": [],
   "source": [
    "class Token: \n",
    "    word = \"\"\n",
    "    start = -1\n",
    "    end = -1\n",
    "    \n",
    "    def __init__(self, word, start, end) :\n",
    "        self.word = word\n",
    "        self.start = start\n",
    "        self.end = end\n",
    "        \n",
    "    def __str__(self) :\n",
    "        return self.word\n",
    "    \n",
    "    def __repr__(self) :\n",
    "        return self.word\n",
    "        \n",
    "    def get_word(self):\n",
    "        return self.word\n",
    "    \n",
    "    def get_start(self):\n",
    "        return self.start\n",
    "    \n",
    "    def get_end(self):\n",
    "        return self.end\n",
    "\n",
    "\n",
    "class Ref:\n",
    "    \n",
    "    name = \"\"\n",
    "    reference = []\n",
    "    reference_list = []\n",
    "    \n",
    "    def __init__(self, name, reference):\n",
    "        self.name = str(name)\n",
    "        self.reference = []\n",
    "        self.reference_list = []\n",
    "        for word in reference :\n",
    "            self.reference_list.append(word.text)\n",
    "            self.reference.append(Token(word.text, word.start_char, word.end_char))\n",
    "            \n",
    "    def __str__(self) :\n",
    "        return self.name + \": \" + str(self.reference_list)\n",
    "    \n",
    "    def __repr__(self) :\n",
    "        return self.name + \": \" + str(self.reference_list)\n",
    "    \n",
    "    def get_name(self):\n",
    "        return self.name\n",
    "    \n",
    "    def get_reference(self):\n",
    "        return self.reference\n",
    "    \n",
    "    def is_male(self):\n",
    "        if \"He\" in self.reference_list :\n",
    "            return True\n",
    "        elif \"he\" in self.reference_list :\n",
    "            return True\n",
    "        else :\n",
    "            return False\n",
    "\n",
    "    def is_female(self):\n",
    "        if \"She\" in self.reference_list :\n",
    "            return True\n",
    "        elif \"she\" in self.reference_list :\n",
    "            return True\n",
    "        else :\n",
    "            return False"
   ]
  },
  {
   "cell_type": "code",
   "execution_count": 608,
   "metadata": {},
   "outputs": [
    {
     "data": {
      "text/plain": [
       "a dog"
      ]
     },
     "execution_count": 608,
     "metadata": {},
     "output_type": "execute_result"
    }
   ],
   "source": [
    "doc._.coref_clusters[1].mentions[0]"
   ]
  },
  {
   "cell_type": "code",
   "execution_count": 609,
   "metadata": {},
   "outputs": [
    {
     "data": {
      "text/plain": [
       "My Sister: ['My Sister', 'She']"
      ]
     },
     "execution_count": 609,
     "metadata": {},
     "output_type": "execute_result"
    }
   ],
   "source": [
    "i = 0\n",
    "r = Ref(doc._.coref_clusters[i].main, doc._.coref_clusters[i].mentions)\n",
    "r"
   ]
  },
  {
   "cell_type": "code",
   "execution_count": 610,
   "metadata": {},
   "outputs": [
    {
     "data": {
      "text/plain": [
       "False"
      ]
     },
     "execution_count": 610,
     "metadata": {},
     "output_type": "execute_result"
    }
   ],
   "source": [
    "r.is_male()"
   ]
  },
  {
   "cell_type": "code",
   "execution_count": 611,
   "metadata": {},
   "outputs": [],
   "source": [
    "mnames = [\"James\", \"John\", \"Robert\", \"Michael\", \"Whilliam\", \"Richard\"]\n",
    "fnames = [\"Jessica\", \"Patricia\", \"Jennifer\", \"Linda\", \"Elizabeth\"]\n",
    "\n",
    "# masculine pronoun\n",
    "mp = [\"He\", \"he\", \"him\", \"his\", \"himself\"]\n",
    "\n",
    "# feminine prononun\n",
    "fp = [\"She\", \"she\",\"her\", \"her\", \"herself\"]\n",
    "\n",
    "mc = {}\n",
    "fc = {}\n",
    "\n",
    "for _m, _f in zip(mp, fp) :\n",
    "    fc[_m] = _f\n",
    "    mc[_f] = _m"
   ]
  },
  {
   "cell_type": "code",
   "execution_count": 612,
   "metadata": {},
   "outputs": [],
   "source": [
    "class Coref:\n",
    "    original = \"\"\n",
    "    resolved = \"\"\n",
    "    refs = []\n",
    "    one_subject = False\n",
    "    is_male = False\n",
    "    subject_reference = None\n",
    "    \n",
    "    def __init__(self, original, resolved, refs):\n",
    "        self.original = str(original)\n",
    "        self.resolved = str(resolved)\n",
    "        self.refs = []\n",
    "        for r in refs :\n",
    "            self.refs.append(Ref(r.main, r.mentions))\n",
    "            \n",
    "        self.one_subject, self.subject_reference, self.is_male = self.check_one_subject()\n",
    "            \n",
    "    def get_original(self):\n",
    "        return self.original\n",
    "    \n",
    "    def get_resolved(self):\n",
    "        return self.resolved\n",
    "    \n",
    "    def get_refs(self):\n",
    "        return self.refs\n",
    "    \n",
    "    def is_one_subject(self) :\n",
    "        return self.one_subject\n",
    "    \n",
    "    def check_one_subject(self) :\n",
    "        s = 0\n",
    "        subject_reference = None\n",
    "        for r in self.refs :\n",
    "            if r.is_male() :\n",
    "                s += 1\n",
    "                subject_reference = r\n",
    "                is_male = True\n",
    "            \n",
    "            if r.is_female() :\n",
    "                s += 1\n",
    "                subject_reference = r\n",
    "                is_male = False\n",
    "                \n",
    "        if s == 1 :\n",
    "            return True, subject_reference, is_male\n",
    "        else :\n",
    "            return False, None, None\n",
    "    \n",
    "    def get_subject_reference(self):\n",
    "        return self.subject_reference\n",
    "    \n",
    "    def generate_mutant_text(self):\n",
    "        chunk = []\n",
    "        refs = self.subject_reference.get_reference()\n",
    "        lb = 0 # lower bound\n",
    "        ub = 0 # upper bound\n",
    "        for i in range(len(refs)) :\n",
    "            if i == 0 :\n",
    "                ub = refs[i].start\n",
    "                chunk.append(self.original[:ub])\n",
    "            else :\n",
    "                lb = refs[i-1].end\n",
    "                ub = refs[i].start\n",
    "                chunk.append(self.original[lb:ub])\n",
    "                \n",
    "            if i == len(refs)-1 :\n",
    "                lb = refs[-1].end\n",
    "                chunk.append(self.original[lb:])\n",
    "        \n",
    "        mutant = []\n",
    "        if self.is_male :\n",
    "            for name in mnames :\n",
    "                t = []\n",
    "                t.append(chunk[0])\n",
    "                i = 1\n",
    "                for r in refs :\n",
    "                    if r.word in mp :\n",
    "                        t.append(r.word)\n",
    "                    else :\n",
    "                        t.append(name)\n",
    "                        \n",
    "                    t.append(chunk[i])\n",
    "                    i += 1\n",
    "                mutant.append(\"\".join(t))\n",
    "            for name in fnames :\n",
    "                t = []\n",
    "                t.append(chunk[0])\n",
    "                i = 1\n",
    "                for r in refs :\n",
    "                    if r.word in mp :\n",
    "                        t.append(fc[r.word])\n",
    "                    else :\n",
    "                        t.append(name)\n",
    "                        \n",
    "                    t.append(chunk[i])\n",
    "                    i += 1\n",
    "                mutant.append(\"\".join(t))\n",
    "        else :\n",
    "            for name in mnames :\n",
    "                t = []\n",
    "                t.append(chunk[0])\n",
    "                i = 1\n",
    "                for r in refs :\n",
    "                    if r.word in fp :\n",
    "                        t.append(mc[r.word])\n",
    "                    else :\n",
    "                        t.append(name)\n",
    "                        \n",
    "                    t.append(chunk[i])\n",
    "                    i += 1\n",
    "                mutant.append(\"\".join(t))\n",
    "            for name in fnames :\n",
    "                t = []\n",
    "                t.append(chunk[0])\n",
    "                i = 1\n",
    "                for r in refs :\n",
    "                    if r.word in fp :\n",
    "                        t.append(r.word)\n",
    "                    else :\n",
    "                        t.append(name)\n",
    "                        \n",
    "                    t.append(chunk[i])\n",
    "                    i += 1\n",
    "                mutant.append(\"\".join(t))\n",
    "        print(mutant)"
   ]
  },
  {
   "cell_type": "code",
   "execution_count": 613,
   "metadata": {},
   "outputs": [],
   "source": [
    "c = Coref(text, doc._.coref_resolved, doc._.coref_clusters)"
   ]
  },
  {
   "cell_type": "code",
   "execution_count": 614,
   "metadata": {},
   "outputs": [
    {
     "data": {
      "text/plain": [
       "'My Sister has a dog. My Sister loves a dog'"
      ]
     },
     "execution_count": 614,
     "metadata": {},
     "output_type": "execute_result"
    }
   ],
   "source": [
    "c.get_resolved()"
   ]
  },
  {
   "cell_type": "code",
   "execution_count": 615,
   "metadata": {},
   "outputs": [
    {
     "name": "stdout",
     "output_type": "stream",
     "text": [
      "My Sister\n",
      "[My Sister, She]\n",
      "a dog\n",
      "[a dog, him]\n"
     ]
    }
   ],
   "source": [
    "for r in c.get_refs() :\n",
    "    print(r.get_name())\n",
    "    print(r.get_reference())"
   ]
  },
  {
   "cell_type": "code",
   "execution_count": 616,
   "metadata": {},
   "outputs": [
    {
     "data": {
      "text/plain": [
       "True"
      ]
     },
     "execution_count": 616,
     "metadata": {},
     "output_type": "execute_result"
    }
   ],
   "source": [
    "c.is_one_subject()"
   ]
  },
  {
   "cell_type": "code",
   "execution_count": 617,
   "metadata": {},
   "outputs": [
    {
     "name": "stdout",
     "output_type": "stream",
     "text": [
      "My Sister: ['My Sister', 'She']\n",
      "['James has a dog. He loves him', 'John has a dog. He loves him', 'Robert has a dog. He loves him', 'Michael has a dog. He loves him', 'Whilliam has a dog. He loves him', 'Richard has a dog. He loves him', 'Jessica has a dog. She loves him', 'Patricia has a dog. She loves him', 'Jennifer has a dog. She loves him', 'Linda has a dog. She loves him', 'Elizabeth has a dog. She loves him']\n"
     ]
    }
   ],
   "source": [
    "if c.is_one_subject() :\n",
    "    print(c.get_subject_reference())\n",
    "    c.generate_mutant_text()"
   ]
  },
  {
   "cell_type": "code",
   "execution_count": 618,
   "metadata": {},
   "outputs": [
    {
     "name": "stdout",
     "output_type": "stream",
     "text": [
      "My Sister has a dog. She loves him\n"
     ]
    }
   ],
   "source": [
    "print(text)"
   ]
  },
  {
   "cell_type": "code",
   "execution_count": null,
   "metadata": {},
   "outputs": [],
   "source": []
  },
  {
   "cell_type": "code",
   "execution_count": null,
   "metadata": {},
   "outputs": [],
   "source": []
  }
 ],
 "metadata": {
  "kernelspec": {
   "display_name": "Python 3",
   "language": "python",
   "name": "python3"
  },
  "language_info": {
   "codemirror_mode": {
    "name": "ipython",
    "version": 3
   },
   "file_extension": ".py",
   "mimetype": "text/x-python",
   "name": "python",
   "nbconvert_exporter": "python",
   "pygments_lexer": "ipython3",
   "version": "3.6.8"
  }
 },
 "nbformat": 4,
 "nbformat_minor": 4
}
