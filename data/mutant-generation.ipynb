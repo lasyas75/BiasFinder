{
 "cells": [
  {
   "cell_type": "markdown",
   "metadata": {},
   "source": [
    "# Mutant Generation\n",
    "\n",
    "There are 2 proposed approaches:\n",
    "* Mutant Generation using POS TAG and NER\n",
    "* Mutant Generation using Corefernce Resolution"
   ]
  },
  {
   "cell_type": "markdown",
   "metadata": {},
   "source": [
    "### Mutant Generation using POS TAG and NER"
   ]
  },
  {
   "cell_type": "code",
   "execution_count": null,
   "metadata": {},
   "outputs": [],
   "source": [
    "import nltk\n",
    "from nltk.tokenize import word_tokenize\n",
    "from nltk.tag import pos_tag\n",
    "\n",
    "import spacy\n",
    "# import en_core_web_sm\n",
    "# nlp = en_core_web_sm.load()\n",
    "# import xx_ent_wiki_sm\n",
    "# nlp = xx_ent_wiki_sm.load()\n",
    "import en_core_web_lg\n",
    "nlp = en_core_web_lg.load()"
   ]
  },
  {
   "cell_type": "code",
   "execution_count": 32,
   "metadata": {},
   "outputs": [],
   "source": [
    "replacement = pd.read_csv(\"asset/masculine-feminine-cleaned.txt\")\n",
    "\n",
    "m = {}\n",
    "mlist = []\n",
    "f = {}\n",
    "flist = []\n",
    "for index, row in replacement.iterrows():\n",
    "    m[row['feminine']] = row['masculine']\n",
    "    f[row['masculine']] = row['feminine']\n",
    "    mlist.append(row[\"masculine\"])\n",
    "    flist.append(row[\"feminine\"])"
   ]
  },
  {
   "cell_type": "code",
   "execution_count": 33,
   "metadata": {},
   "outputs": [],
   "source": [
    "mnames = [\"James\", \"John\", \"Robert\", \"Michael\", \"Whilliam\", \"Richard\"]\n",
    "fnames = [\"Jessica\", \"Patricia\", \"Jennifer\", \"Linda\", \"Elizabeth\"]\n",
    "\n",
    "# masculine pronoun\n",
    "mp = [\"He\", \"He's\", \"he\", \"he's\", \"him\", \"his\", \"himself\"]\n",
    "\n",
    "# feminine prononun\n",
    "fp = [\"She\", \"He's\", \"she\", \"he's\",\"her\", \"her\", \"herself\"]\n",
    "\n",
    "mc = {}\n",
    "fc = {}\n",
    "\n",
    "for _m, _f in zip(mp, fp) :\n",
    "    fc[_m] = _f\n",
    "    mc[_f] = _m"
   ]
  },
  {
   "cell_type": "code",
   "execution_count": 34,
   "metadata": {},
   "outputs": [],
   "source": [
    "text = \"gingerAZ. Bronson's character plans to live anonymously but when he finds his fiance was a victim of a protection racket one by one the criminals are hunted down in the style of Bronson's character\"\n",
    "# text = \"Good songs....but good album? debateable. She has some rockin songs on here. All her singles kickass and the last song on the album with M.I.A. (i friggin love her) is fire. but then, i start listening to the other songs, ready for a song on the album that is just as good as her singles and i can't find another. All of missy's singles are crazy, but then ui listen to the album, and its like a let down. any song that she sings in makes my stomach churn and some have just annoying beats and repititious phrases. If you really liked Missy's album 'This Is Not A Test', then get this album. but if you are lovin her singles and want some more, just download the singles, don't waste your money on the rest of this album\"\n",
    "# text = \"A landlord book that's not based on today's reality.. Although Shemin brings up many good ideas, I found that most of his ideas are way to cheezy for me (or Southern california.) He discusses buying places for $8,000-$20,000 (I wish) and believes that charging more for rent will ultimately get you higher quality tenents. I completely disagree, especially in down markets.A decent book, overall, but I'd suggest a Nolo book which has more real legal information as well as solid do's and don'ts for a landlord.\"\n",
    "# text = \"He discusses buying places for $8,000-$20,000 (I wish) and believes that charging more for rent will ultimately get you higher quality tenents.\"\n",
    "# text = \"\""
   ]
  },
  {
   "cell_type": "code",
   "execution_count": 35,
   "metadata": {},
   "outputs": [],
   "source": [
    "# nltk.download('averaged_perceptron_tagger')"
   ]
  },
  {
   "cell_type": "code",
   "execution_count": 36,
   "metadata": {},
   "outputs": [
    {
     "name": "stdout",
     "output_type": "stream",
     "text": [
      "{'he'}\n",
      "{'his'}\n"
     ]
    }
   ],
   "source": [
    "def pos_tagging(sent):\n",
    "    sent = nltk.word_tokenize(sent)\n",
    "    sent = nltk.pos_tag(sent)\n",
    "    return sent\n",
    "\n",
    "def get_pronoun(text) :\n",
    "    \n",
    "    pt = pos_tagging(text)\n",
    "    \n",
    "    # subject pronoun\n",
    "    spr = set()\n",
    "    \n",
    "    #non-subject prononun\n",
    "    pr = set()\n",
    "\n",
    "    for (word, tag) in pt :\n",
    "        if \"PRP\" == tag :\n",
    "            spr.add(word)\n",
    "        elif \"PRP$\" == tag :\n",
    "            pr.add(word)\n",
    "    \n",
    "    return spr, pr\n",
    "\n",
    "spr, npr = get_pronoun(text)\n",
    "print(spr)\n",
    "print(npr)"
   ]
  },
  {
   "cell_type": "code",
   "execution_count": 37,
   "metadata": {},
   "outputs": [
    {
     "data": {
      "text/plain": [
       "{'Bronson'}"
      ]
     },
     "execution_count": 37,
     "metadata": {},
     "output_type": "execute_result"
    }
   ],
   "source": [
    "def get_person(text) :\n",
    "    doc = nlp(text)\n",
    "\n",
    "    person = set()\n",
    "\n",
    "    for ent in doc.ents:\n",
    "#         print(ent.text, ent.start_char, ent.end_char, ent.label_)\n",
    "        if (ent.label_ == \"PERSON\") :\n",
    "            person.add(ent.text)\n",
    "    \n",
    "    return person\n",
    "    \n",
    "person = get_person(text)\n",
    "person"
   ]
  },
  {
   "cell_type": "code",
   "execution_count": 53,
   "metadata": {},
   "outputs": [
    {
     "data": {
      "text/plain": [
       "'u'"
      ]
     },
     "execution_count": 53,
     "metadata": {},
     "output_type": "execute_result"
    }
   ],
   "source": [
    "MALE = \"m\"\n",
    "FEMALE = \"f\"\n",
    "UNIDENTIFIED = \"u\"\n",
    "\n",
    "def get_gender(text) :\n",
    "    spr, npr = get_pronoun(text)\n",
    "    male = False\n",
    "    female = False\n",
    "    if \"he\" in spr or \"He\" in spr :\n",
    "        male = True\n",
    "    if \"she\" in spr or \"She\" in spr :\n",
    "        female = True\n",
    "    \n",
    "    if male != female :\n",
    "        if male :\n",
    "            return MALE\n",
    "        else :\n",
    "            return FEMALE\n",
    "    else :\n",
    "        return UNIDENTIFIED\n",
    "\n",
    "get_gender(text)"
   ]
  },
  {
   "cell_type": "code",
   "execution_count": 39,
   "metadata": {},
   "outputs": [
    {
     "name": "stdout",
     "output_type": "stream",
     "text": [
      "gingerAZ. Bronson's character plans to live anonymously but when he finds his fiance was a victim of a protection racket one by one the criminals are hunted down in the style of Bronson's character\n",
      "gingerAZ. Bronson's character plans to live anonymously but when she finds her fiance was a victim of a protection racket one by one the criminals are hunted down in the style of Bronson's character\n"
     ]
    }
   ],
   "source": [
    "import tokenizer\n",
    "\n",
    "def replace_pronoun(text) :\n",
    "    \n",
    "    is_replaced = False\n",
    "\n",
    "    toklist = list(tokenizer.tokenize(text))\n",
    "\n",
    "    # print(toklist)\n",
    "    newtoklist = []\n",
    "    for token in toklist :\n",
    "        if token.txt in mp :\n",
    "            token = token._replace(txt = fc[token.txt])\n",
    "            newtoklist.append(token)\n",
    "            is_replaced = True\n",
    "        elif token.txt in fp :\n",
    "            token = token._replace(txt = mc[token.txt])\n",
    "            newtoklist.append(token)\n",
    "            is_replaced = True\n",
    "        else :\n",
    "            newtoklist.append(token)\n",
    "\n",
    "    # print(newtoklist)\n",
    "\n",
    "    return is_replaced, tokenizer.detokenize(newtoklist, normalize=True)\n",
    "\n",
    "print(text)\n",
    "_, _text = replace_pronoun(text)\n",
    "print(_text)"
   ]
  },
  {
   "cell_type": "code",
   "execution_count": 40,
   "metadata": {},
   "outputs": [
    {
     "name": "stdout",
     "output_type": "stream",
     "text": [
      "gingerAZ. Bronson's character plans to live anonymously but when he finds his fiance was a victim of a protection racket one by one the criminals are hunted down in the style of Bronson's character\n"
     ]
    },
    {
     "data": {
      "text/plain": [
       "[\"gingerAZ. Jessica's character plans to live anonymously but when she finds her fiance was a victim of a protection racket one by one the criminals are hunted down in the style of Jessica's character\",\n",
       " \"gingerAZ. Patricia's character plans to live anonymously but when she finds her fiance was a victim of a protection racket one by one the criminals are hunted down in the style of Patricia's character\",\n",
       " \"gingerAZ. Jennifer's character plans to live anonymously but when she finds her fiance was a victim of a protection racket one by one the criminals are hunted down in the style of Jennifer's character\",\n",
       " \"gingerAZ. Linda's character plans to live anonymously but when she finds her fiance was a victim of a protection racket one by one the criminals are hunted down in the style of Linda's character\",\n",
       " \"gingerAZ. Elizabeth's character plans to live anonymously but when she finds her fiance was a victim of a protection racket one by one the criminals are hunted down in the style of Elizabeth's character\"]"
      ]
     },
     "execution_count": 40,
     "metadata": {},
     "output_type": "execute_result"
    }
   ],
   "source": [
    "def is_set_empty(s) :\n",
    "    return not bool(s)\n",
    "\n",
    "def generate_mutant_from_text(text) :\n",
    "\n",
    "    mutant = []\n",
    "\n",
    "    is_replaced, text_with_replaced_pronoun = replace_pronoun(text)\n",
    "\n",
    "    if is_replaced :\n",
    "\n",
    "        person = get_person(text)\n",
    "\n",
    "        if is_set_empty(person) :\n",
    "            mutant.append(text_with_replaced_pronoun)\n",
    "    #         print(\"No name\")\n",
    "        elif len(person) == 1 :\n",
    "    #         print(\"Found 1 name\")\n",
    "\n",
    "            spr, npr = get_pronoun(text)\n",
    "            gender = get_gender(spr)\n",
    "\n",
    "            if gender == MALE :\n",
    "\n",
    "                # get the name\n",
    "                prevname = person.pop()\n",
    "\n",
    "                for name in fnames :    \n",
    "                    # replace the name\n",
    "                    temp_text = text_with_replaced_pronoun.replace(prevname, name)\n",
    "                    mutant.append(temp_text)\n",
    "\n",
    "            elif gender == FEMALE :\n",
    "\n",
    "                # get the name\n",
    "                prevname = person.pop()\n",
    "\n",
    "                for name in mnames :    \n",
    "                    # replace the name\n",
    "                    temp_text = text_with_replaced_pronoun.replace(prevname, name)\n",
    "                    mutant.append(temp_text)\n",
    "\n",
    "            else :\n",
    "                mutant.append(text_with_replaced_pronoun)\n",
    "\n",
    "    return mutant\n",
    "\n",
    "print(text)\n",
    "generate_mutant_from_text(text)"
   ]
  },
  {
   "cell_type": "markdown",
   "metadata": {},
   "source": [
    "### Mutant Generation using Coreference Resolution"
   ]
  },
  {
   "cell_type": "code",
   "execution_count": 247,
   "metadata": {},
   "outputs": [],
   "source": [
    "# !python -m spacy download en_core_web_sm\n",
    "# !python -m spacy download xx_ent_wiki_sm\n",
    "# !python -m spacy download en_core_web_lg"
   ]
  },
  {
   "cell_type": "code",
   "execution_count": 248,
   "metadata": {},
   "outputs": [],
   "source": [
    "import spacy\n",
    "# import en_core_web_sm\n",
    "# nlp = en_core_web_sm.load()\n",
    "# import xx_ent_wiki_sm\n",
    "# nlp = xx_ent_wiki_sm.load()\n",
    "import en_core_web_lg\n",
    "nlp = en_core_web_lg.load()\n",
    "\n",
    "# !pip install neuralcoref\n",
    "import neuralcoref\n",
    "coref = neuralcoref.NeuralCoref(nlp.vocab)\n",
    "nlp.add_pipe(coref, name='neuralcoref')"
   ]
  },
  {
   "cell_type": "code",
   "execution_count": 970,
   "metadata": {},
   "outputs": [
    {
     "data": {
      "text/plain": [
       "'Berg, closely buttoned up in his new uniform, sat beside his wife explaining to her that one always could and should be acquainted with people above one, because only then does one get satisfaction from acquaintances.'"
      ]
     },
     "execution_count": 970,
     "metadata": {},
     "output_type": "execute_result"
    }
   ],
   "source": [
    "# text = \"gingerAZ. Bronson's character plans to live anonymously but when he finds his fiance was a victim of a protection racket one by one the criminals are hunted down in the style of Bronson's character\"\n",
    "# text = 'My Sister has a dog. She loves him. My Brother has a car. He loves it'\n",
    "# text = 'My Brother has a dog. He loves the dog'\n",
    "# text = \"Anne is my wife. She is clever\"\n",
    "# text = \"Man Kills Wife, Flies To Kolkata To Kill Her Mother Before Shooting Self\"\n",
    "text = \"Berg, closely buttoned up in his new uniform, sat beside his wife explaining to her that one always could and should be acquainted with people above one, because only then does one get satisfaction from acquaintances.\"\n",
    "# text = \"My wife is angry on me. She hits me using her hand\"\n",
    "# text = \"Sean Bean returns as Napoleonic hero Richard Sharpe in Sharpe's Honour, the fifth movie in the series and as always Patrick Harper and the rest of Sharpes chosen men are all along for the ride, but this time Major Sharpe is in serious trouble. Under the influence of Sharpe's sworn enemy Major Ducos, a mysterious lady by the name of La Marquesa has accused Sharpe of rape. Her husband arrives at Sharpe's camp to challenge his wife's attacker to a dual. The dual is discovered and stopped by the authorities, and as a result Sharpe becomes the prime suspect when his opponent is murdered in the middle of the night. As no-one in the British Army other than Wellington and Major Nairn consider Sharpe anything but a rough commoner with little or no honour, he his given a shambolic trial and is sentenced to death by hanging, and Harper and the chosen men have no choice but to look on as their beloved commander walks slowly to the gallows. However, convinced of his innocence Wellington and Nairn hang another convicted prisoner in Sharpe's stead and release him and his chosen men to find the real killer and La Marquesa herself, to not only prove his innocence but to find out her reasons for framing him in the first place. Daragh O'Malley, Micheal Byrne and Hugh Fraser co-star with brilliant performances by Alice Krige as La Marquesa and Féodor Atkine as the villainous Major Ducos, in what is another exciting, swashbuckling instalment through Sharpe's eventful journey through the Napoleonic Wars.\"\n",
    "text"
   ]
  },
  {
   "cell_type": "code",
   "execution_count": 971,
   "metadata": {},
   "outputs": [
    {
     "data": {
      "text/plain": [
       "[Berg: [Berg, his, his], his wife: [his wife, her]]"
      ]
     },
     "execution_count": 971,
     "metadata": {},
     "output_type": "execute_result"
    }
   ],
   "source": [
    "# You're done. You can now use NeuralCoref the same way you usually manipulate a SpaCy document and it's annotations.\n",
    "doc = nlp(text)\n",
    "\n",
    "doc._.has_coref\n",
    "doc._.coref_clusters"
   ]
  },
  {
   "cell_type": "markdown",
   "metadata": {},
   "source": [
    "#### Learning the Result from Coreference Library"
   ]
  },
  {
   "cell_type": "code",
   "execution_count": 824,
   "metadata": {},
   "outputs": [
    {
     "name": "stdout",
     "output_type": "stream",
     "text": [
      "Sean Bean returns as Napoleonic hero Richard Sharpe in Sharpe's Honour, the fifth movie in the series and as always Patrick Harper and the rest of Sharpes chosen men are all along for the ride, but this time Major Sharpe is in serious trouble. Under the influence of Sharpe's sworn enemy Major Ducos, a mysterious lady by the name of La Marquesa has accused Sharpe of rape. Her husband arrives at Sharpe's camp to challenge his wife's attacker to a dual. The dual is discovered and stopped by the authorities, and as a result Sharpe becomes the prime suspect when his opponent is murdered in the middle of the night. As no-one in the British Army other than Wellington and Major Nairn consider Sharpe anything but a rough commoner with little or no honour, he his given a shambolic trial and is sentenced to death by hanging, and Harper and the chosen men have no choice but to look on as their beloved commander walks slowly to the gallows. However, convinced of his innocence Wellington and Nairn hang another convicted prisoner in Sharpe's stead and release him and his chosen men to find the real killer and La Marquesa herself, to not only prove his innocence but to find out her reasons for framing him in the first place. Daragh O'Malley, Micheal Byrne and Hugh Fraser co-star with brilliant performances by Alice Krige as La Marquesa and Féodor Atkine as the villainous Major Ducos, in what is another exciting, swashbuckling instalment through Sharpe's eventful journey through the Napoleonic Wars.\n",
      "Sean Bean returns as Napoleonic hero Richard Sharpe in Sharpe's Honour, the fifth movie in the series and as always Patrick Harper and the rest of Sharpes chosen men are all along for the ride, but this time Sharpe Sharpe is in serious trouble. Under the influence of Sharpe's sworn enemy Major Ducos, a mysterious lady by the name of La Marquesa has accused Sharpe of rape. Her husband arrives at Sharpe's camp to challenge Her husband wife's attacker to a dual. a dual is discovered and stopped by the authorities, and as a result Sharpe becomes the prime suspect when Sharpe opponent is murdered in the middle of the night. As no-one in the British Army other than Wellington and Major Nairn consider Sharpe anything but a rough commoner with little or no honour, Sharpe Sharpe given a shambolic trial and is sentenced to death by hanging, and Harper and the chosen men have no choice but to look on as Harper and the chosen men beloved commander walks slowly to the gallows. However, convinced of Sharpe innocence Wellington and Nairn hang another convicted prisoner in Sharpe's stead and release Sharpe and Sharpe chosen men to find the real killer and La Marquesa herself, to not only prove his innocence but to find out La Marquesa herself reasons for framing Sharpe in the first place. Daragh O'Malley, Micheal Byrne and Hugh Fraser co-star with brilliant performances by Alice Krige as La Marquesa and Féodor Atkine as the villainous Major Ducos, in what is another exciting, swashbuckling instalment through Sharpe's eventful journey through the Napoleonic Wars.\n",
      "[Sharpe: [Sharpe, Major Sharpe, Sharpe, Sharpe, Sharpe, Sharpe, Sharpe, his, Sharpe, he, his, his, Sharpe, him, his, his, him, Sharpe], Her husband: [Her husband, his], a dual: [a dual, The dual], Wellington: [Wellington, Wellington], Harper and the chosen men: [Harper and the chosen men, their], his innocence: [his innocence, his innocence], La Marquesa: [La Marquesa, La Marquesa], La Marquesa herself: [La Marquesa herself, her]]\n",
      "La Marquesa herself\n",
      "[La Marquesa herself, her]\n",
      "her\n",
      "230\n",
      "1181\n",
      "231\n",
      "1184\n",
      "La Marquesa herself\n"
     ]
    }
   ],
   "source": [
    "print(text)\n",
    "print(doc._.coref_resolved)\n",
    "print(doc._.coref_clusters)\n",
    "print(doc._.coref_clusters[-1].main)\n",
    "print(doc._.coref_clusters[-1].mentions)\n",
    "print(doc._.coref_clusters[-1].mentions[-1])\n",
    "print(doc._.coref_clusters[-1].mentions[-1].start)\n",
    "print(doc._.coref_clusters[-1].mentions[-1].start_char)\n",
    "print(doc._.coref_clusters[-1].mentions[-1].end)\n",
    "print(doc._.coref_clusters[-1].mentions[-1].end_char)\n",
    "print(doc._.coref_clusters[-1].mentions[-1]._.coref_cluster.main)"
   ]
  },
  {
   "cell_type": "markdown",
   "metadata": {},
   "source": [
    "#### Create a Class for Better Implementation and Maintenance"
   ]
  },
  {
   "cell_type": "code",
   "execution_count": 1044,
   "metadata": {},
   "outputs": [],
   "source": [
    "# contain a word and its location inside the sentence\n",
    "# The location is indicated by start char and end char\n",
    "class Token: \n",
    "    word = \"\"\n",
    "    start = -1\n",
    "    end = -1\n",
    "    \n",
    "    def __init__(self, word, start, end) :\n",
    "        self.word = word\n",
    "        self.start = start\n",
    "        self.end = end\n",
    "        \n",
    "    def __str__(self) :\n",
    "        return self.word\n",
    "    \n",
    "    def __repr__(self) :\n",
    "        return self.word\n",
    "        \n",
    "    def get_word(self):\n",
    "        return self.word\n",
    "    \n",
    "    def get_start(self):\n",
    "        return self.start\n",
    "    \n",
    "    def get_end(self):\n",
    "        return self.end\n",
    "\n",
    "\n",
    "# Reference is a class to save Reference data\n",
    "# e.g. La Marquesa herself : [La Marquesa herself, her]\n",
    "class Ref:\n",
    "    \n",
    "    name = \"\"\n",
    "    reference = []\n",
    "    reference_list = []\n",
    "    \n",
    "    def __init__(self, name, reference):\n",
    "        self.name = str(name)\n",
    "        self.reference = []\n",
    "        self.reference_list = []\n",
    "        for word in reference :\n",
    "            self.reference_list.append(word.text)\n",
    "            self.reference.append(Token(word.text, word.start_char, word.end_char))\n",
    "            \n",
    "    def __str__(self) :\n",
    "        return self.name + \": \" + str(self.reference_list)\n",
    "    \n",
    "    def __repr__(self) :\n",
    "        return self.name + \": \" + str(self.reference_list)\n",
    "    \n",
    "    def get_name(self):\n",
    "        return self.name\n",
    "    \n",
    "    def get_reference(self):\n",
    "        return self.reference\n",
    "    \n",
    "    # is having male subject\n",
    "    def is_male(self):\n",
    "        if \"He\" in self.reference_list :\n",
    "            return True\n",
    "        elif \"he\" in self.reference_list :\n",
    "            return True\n",
    "        else :\n",
    "            return False\n",
    "\n",
    "    # is having female subject\n",
    "    def is_female(self):\n",
    "        if \"She\" in self.reference_list :\n",
    "            return True\n",
    "        elif \"she\" in self.reference_list :\n",
    "            return True\n",
    "        else :\n",
    "            return False"
   ]
  },
  {
   "cell_type": "code",
   "execution_count": 1045,
   "metadata": {},
   "outputs": [
    {
     "data": {
      "text/plain": [
       "his wife"
      ]
     },
     "execution_count": 1045,
     "metadata": {},
     "output_type": "execute_result"
    }
   ],
   "source": [
    "doc._.coref_clusters[-1].mentions[0]"
   ]
  },
  {
   "cell_type": "code",
   "execution_count": 1046,
   "metadata": {},
   "outputs": [
    {
     "data": {
      "text/plain": [
       "Berg: ['Berg', 'his', 'his']"
      ]
     },
     "execution_count": 1046,
     "metadata": {},
     "output_type": "execute_result"
    }
   ],
   "source": [
    "i = 0\n",
    "r = Ref(doc._.coref_clusters[i].main, doc._.coref_clusters[i].mentions)\n",
    "r"
   ]
  },
  {
   "cell_type": "code",
   "execution_count": 828,
   "metadata": {},
   "outputs": [
    {
     "data": {
      "text/plain": [
       "True"
      ]
     },
     "execution_count": 828,
     "metadata": {},
     "output_type": "execute_result"
    }
   ],
   "source": [
    "r.is_male()"
   ]
  },
  {
   "cell_type": "code",
   "execution_count": 870,
   "metadata": {},
   "outputs": [],
   "source": [
    "# names from EEC paper\n",
    "mnames = [\"Alonzo\", \"Adam\", \"Alphonse\", \"Alan\", \"Darnell\", \"Andrew\", \"Jamel\", \"Frank\", \"Jerome\", \"Harry\", \"Lamar\", \"Jack\", \"Leroy\", \"Josh\", \"Malik\", \"Justin\", \"Terrence\", \"Roger\", \"Torrance\", \"Ryan\"]\n",
    "fnames = [\"Ebony\", \"Amanda\", \"Jasmine\", \"Betsy\", \"Lakisha\", \"Courtney\", \"Latisha\", \"Ellen\", \"Latoya\", \"Heather\", \"Nichelle\", \"Katie\", \"Shaniqua\", \"Kristin\", \"Shereen\", \"Melanie\", \"Tanisha\", \"Nancy\", \"Tia\", \"Stephanie\"]\n",
    "\n",
    "# small name for debugging\n",
    "# mnames = [\"Alonzo\", \"Adam\"] \n",
    "# fnames = [\"Ebony\", \"Amanda\"]\n",
    "\n",
    "# masculine pronoun\n",
    "mp = [\"He\", \"he\", \"him\", \"his\", \"himself\"]\n",
    "\n",
    "# feminine prononun\n",
    "fp = [\"She\", \"she\",\"her\", \"her\", \"herself\"]\n",
    "\n",
    "# masculine contra -> flipper\n",
    "mc = {}\n",
    "fc = {}\n",
    "\n",
    "for _m, _f in zip(mp, fp) :\n",
    "    fc[_m] = _f\n",
    "    mc[_f] = _m"
   ]
  },
  {
   "cell_type": "code",
   "execution_count": 871,
   "metadata": {},
   "outputs": [],
   "source": [
    "class Coref:\n",
    "    original = \"\"\n",
    "    resolved = \"\"\n",
    "    refs = []\n",
    "    one_subject = False\n",
    "    is_male = False\n",
    "    subject_reference = None\n",
    "    \n",
    "    def __init__(self, text):\n",
    "        \n",
    "        self.original = str(text)\n",
    "        doc = nlp(text)\n",
    "        refs = doc._.coref_clusters\n",
    "        self.resolved = str(doc._.coref_resolved)\n",
    "        self.refs = []\n",
    "        for r in refs :\n",
    "            self.refs.append(Ref(r.main, r.mentions))\n",
    "            \n",
    "        self.one_subject, self.subject_reference, self.is_male = self.check_one_subject()\n",
    "            \n",
    "    def get_original(self):\n",
    "        return self.original\n",
    "    \n",
    "    def get_resolved(self):\n",
    "        return self.resolved\n",
    "    \n",
    "    def get_refs(self):\n",
    "        return self.refs\n",
    "    \n",
    "    def is_one_subject(self) :\n",
    "        return self.one_subject\n",
    "    \n",
    "    def check_one_subject(self) :\n",
    "        s = 0\n",
    "        subject_reference = None\n",
    "        for r in self.refs :\n",
    "            if r.is_male() :\n",
    "                s += 1\n",
    "                subject_reference = r\n",
    "                is_male = True\n",
    "            \n",
    "            if r.is_female() :\n",
    "                s += 1\n",
    "                subject_reference = r\n",
    "                is_male = False\n",
    "                \n",
    "        if s == 1 :\n",
    "            return True, subject_reference, is_male\n",
    "        else :\n",
    "            return False, None, None\n",
    "    \n",
    "    def get_subject_reference(self):\n",
    "        return self.subject_reference\n",
    "    \n",
    "    def generate_mutant_text(self):\n",
    "        chunk = []\n",
    "        refs = self.subject_reference.get_reference()\n",
    "        lb = 0 # lower bound\n",
    "        ub = 0 # upper bound\n",
    "        for i in range(len(refs)) :\n",
    "            if i == 0 :\n",
    "                ub = refs[i].start\n",
    "                _chunk = text[lb:ub]\n",
    "                if _chunk == \"\" :\n",
    "                    chunk.append(\" \")\n",
    "                else :\n",
    "                    chunk.append(_chunk)\n",
    "            else :\n",
    "                lb = refs[i-1].end\n",
    "                ub = refs[i].start\n",
    "                _chunk = text[lb:ub]\n",
    "                if _chunk == \"\" :\n",
    "                    chunk.append(\" \")\n",
    "                else :\n",
    "                    chunk.append(_chunk)\n",
    "                \n",
    "            if i == len(refs)-1 :\n",
    "                lb = refs[-1].end\n",
    "                chunk.append(self.original[lb:])\n",
    "        \n",
    "        mutant = []\n",
    "        if self.is_male :\n",
    "            for name in mnames :\n",
    "                t = []\n",
    "                t.append(chunk[0])\n",
    "                i = 1\n",
    "                for r in refs :\n",
    "                    if r.word in mp :\n",
    "                        t.append(r.word)\n",
    "                    else :\n",
    "                        t.append(name)\n",
    "                        \n",
    "                    t.append(chunk[i])\n",
    "                    i += 1\n",
    "                mutant.append({\"gender\": \"male\", \"text\": \"\".join(t)})\n",
    "            for name in fnames :\n",
    "                t = []\n",
    "                t.append(chunk[0])\n",
    "                i = 1\n",
    "                for r in refs :\n",
    "                    if r.word in mp :\n",
    "                        t.append(fc[r.word])\n",
    "                    else :\n",
    "                        t.append(name)\n",
    "                        \n",
    "                    t.append(chunk[i])\n",
    "                    i += 1\n",
    "                mutant.append({\"gender\": \"female\", \"text\": \"\".join(t)})\n",
    "        else :\n",
    "            gender = \"female\"\n",
    "            for name in mnames :\n",
    "                t = []\n",
    "                t.append(chunk[0])\n",
    "                i = 1\n",
    "                for r in refs :\n",
    "                    if r.word in fp :\n",
    "                        t.append(mc[r.word])\n",
    "                    else :\n",
    "                        t.append(name)\n",
    "                        \n",
    "                    t.append(chunk[i])\n",
    "                    i += 1\n",
    "                mutant.append({\"gender\": \"male\", \"text\": \"\".join(t)})\n",
    "            for name in fnames :\n",
    "                t = []\n",
    "                t.append(chunk[0])\n",
    "                i = 1\n",
    "                for r in refs :\n",
    "                    if r.word in fp :\n",
    "                        t.append(r.word)\n",
    "                    else :\n",
    "                        t.append(name)\n",
    "                        \n",
    "                    t.append(chunk[i])\n",
    "                    i += 1\n",
    "                mutant.append({\"gender\": \"female\", \"text\": \"\".join(t)})\n",
    "        return mutant"
   ]
  },
  {
   "cell_type": "code",
   "execution_count": 872,
   "metadata": {},
   "outputs": [],
   "source": [
    "c = Coref(text)"
   ]
  },
  {
   "cell_type": "code",
   "execution_count": 873,
   "metadata": {},
   "outputs": [
    {
     "data": {
      "text/plain": [
       "\"This is, without a doubt, one of the most accomplished debut films for any director. The Movie is only 90 minutes long, but manages to say just about everything about life and death. Not much action, and dialogue is minimal, but The Movie flows perfectly and demands your attention due to the wonderfully natural feel of everything going on. The performances by the leads are perfection, and even some supporting characters get strong emotional scenes. The Movie will be somewhat lost on today's modern audience, but this is one that everyone ought to see.Refreshingly unsentimental and honest, this is on par with Ozu's works.  Scratch my title, this one is perfect!\""
      ]
     },
     "execution_count": 873,
     "metadata": {},
     "output_type": "execute_result"
    }
   ],
   "source": [
    "c.get_resolved()"
   ]
  },
  {
   "cell_type": "code",
   "execution_count": 874,
   "metadata": {},
   "outputs": [
    {
     "name": "stdout",
     "output_type": "stream",
     "text": [
      "The Movie\n",
      "[The Movie, the movie, The movie]\n",
      "this\n",
      "[this, this]\n"
     ]
    }
   ],
   "source": [
    "for r in c.get_refs() :\n",
    "    print(r.get_name())\n",
    "    print(r.get_reference())"
   ]
  },
  {
   "cell_type": "code",
   "execution_count": 875,
   "metadata": {},
   "outputs": [
    {
     "data": {
      "text/plain": [
       "False"
      ]
     },
     "execution_count": 875,
     "metadata": {},
     "output_type": "execute_result"
    }
   ],
   "source": [
    "c.is_one_subject()"
   ]
  },
  {
   "cell_type": "code",
   "execution_count": 876,
   "metadata": {},
   "outputs": [],
   "source": [
    "# if c.is_one_subject() :\n",
    "#     print(c.get_subject_reference())\n",
    "#     print(c.generate_mutant_text())"
   ]
  },
  {
   "cell_type": "code",
   "execution_count": 877,
   "metadata": {},
   "outputs": [
    {
     "name": "stdout",
     "output_type": "stream",
     "text": [
      "This is, without a doubt, one of the most accomplished debut films for any director. The Movie is only 90 minutes long, but manages to say just about everything about life and death. Not much action, and dialogue is minimal, but the movie flows perfectly and demands your attention due to the wonderfully natural feel of everything going on. The performances by the leads are perfection, and even some supporting characters get strong emotional scenes. The movie will be somewhat lost on today's modern audience, but this is one that everyone ought to see.Refreshingly unsentimental and honest, this is on par with Ozu's works.  Scratch my title, this one is perfect!\n"
     ]
    }
   ],
   "source": [
    "print(text)"
   ]
  },
  {
   "cell_type": "markdown",
   "metadata": {},
   "source": [
    "## Generate Mutant from IMDB Data using Coreference Resolution Approach"
   ]
  },
  {
   "cell_type": "code",
   "execution_count": 878,
   "metadata": {},
   "outputs": [
    {
     "data": {
      "text/html": [
       "<div>\n",
       "<style scoped>\n",
       "    .dataframe tbody tr th:only-of-type {\n",
       "        vertical-align: middle;\n",
       "    }\n",
       "\n",
       "    .dataframe tbody tr th {\n",
       "        vertical-align: top;\n",
       "    }\n",
       "\n",
       "    .dataframe thead th {\n",
       "        text-align: right;\n",
       "    }\n",
       "</style>\n",
       "<table border=\"1\" class=\"dataframe\">\n",
       "  <thead>\n",
       "    <tr style=\"text-align: right;\">\n",
       "      <th></th>\n",
       "      <th>label</th>\n",
       "      <th>text</th>\n",
       "    </tr>\n",
       "  </thead>\n",
       "  <tbody>\n",
       "    <tr>\n",
       "      <th>0</th>\n",
       "      <td>1</td>\n",
       "      <td>The Mascot is Ladislaw Starewicz's masterpiece...</td>\n",
       "    </tr>\n",
       "    <tr>\n",
       "      <th>1</th>\n",
       "      <td>1</td>\n",
       "      <td>this is one of the finest movies i have ever s...</td>\n",
       "    </tr>\n",
       "    <tr>\n",
       "      <th>2</th>\n",
       "      <td>1</td>\n",
       "      <td>I have only see three episodes of Hack, starri...</td>\n",
       "    </tr>\n",
       "    <tr>\n",
       "      <th>3</th>\n",
       "      <td>1</td>\n",
       "      <td>Deepa Mehta's \"Fire\" is groundbreaking, bold, ...</td>\n",
       "    </tr>\n",
       "    <tr>\n",
       "      <th>4</th>\n",
       "      <td>0</td>\n",
       "      <td>Anyone who sees this film will notice that the...</td>\n",
       "    </tr>\n",
       "  </tbody>\n",
       "</table>\n",
       "</div>"
      ],
      "text/plain": [
       "   label                                               text\n",
       "0      1  The Mascot is Ladislaw Starewicz's masterpiece...\n",
       "1      1  this is one of the finest movies i have ever s...\n",
       "2      1  I have only see three episodes of Hack, starri...\n",
       "3      1  Deepa Mehta's \"Fire\" is groundbreaking, bold, ...\n",
       "4      0  Anyone who sees this film will notice that the..."
      ]
     },
     "execution_count": 878,
     "metadata": {},
     "output_type": "execute_result"
    }
   ],
   "source": [
    "df = pd.read_csv(\"imdb/test.csv\", sep=\"\\t\", header=None, names=[\"label\", \"text\"])\n",
    "# df = df[:100]\n",
    "df.head()"
   ]
  },
  {
   "cell_type": "markdown",
   "metadata": {},
   "source": [
    "#### Mutant Generation"
   ]
  },
  {
   "cell_type": "code",
   "execution_count": 879,
   "metadata": {},
   "outputs": [],
   "source": [
    "import time"
   ]
  },
  {
   "cell_type": "code",
   "execution_count": 929,
   "metadata": {},
   "outputs": [
    {
     "name": "stdout",
     "output_type": "stream",
     "text": [
      "4759.739510774612\n"
     ]
    }
   ],
   "source": [
    "mutant_arr = []\n",
    "original_arr = []\n",
    "gender_arr = []\n",
    "label_arr = []\n",
    "\n",
    "start = time.time()\n",
    "for index, row in df.iterrows():\n",
    "    label = row['label']\n",
    "    text = row['text']\n",
    "    c = Coref(text)\n",
    "    if c.is_one_subject() :\n",
    "        gm = c.generate_mutant_text()\n",
    "        for m in gm :\n",
    "            original_arr.append(text)\n",
    "            mutant_arr.append(m[\"text\"])\n",
    "            gender_arr.append(m[\"gender\"])\n",
    "            label_arr.append(label)\n",
    "#             mutants.append({\"original\": text, \"mutant\": m[\"text\"], \"gender\": m[\"gender\"], \"label\": label})\n",
    "\n",
    "end = time.time()"
   ]
  },
  {
   "cell_type": "code",
   "execution_count": 931,
   "metadata": {},
   "outputs": [
    {
     "data": {
      "text/html": [
       "<div>\n",
       "<style scoped>\n",
       "    .dataframe tbody tr th:only-of-type {\n",
       "        vertical-align: middle;\n",
       "    }\n",
       "\n",
       "    .dataframe tbody tr th {\n",
       "        vertical-align: top;\n",
       "    }\n",
       "\n",
       "    .dataframe thead th {\n",
       "        text-align: right;\n",
       "    }\n",
       "</style>\n",
       "<table border=\"1\" class=\"dataframe\">\n",
       "  <thead>\n",
       "    <tr style=\"text-align: right;\">\n",
       "      <th></th>\n",
       "      <th>original</th>\n",
       "      <th>mutant</th>\n",
       "      <th>gender</th>\n",
       "      <th>label</th>\n",
       "    </tr>\n",
       "  </thead>\n",
       "  <tbody>\n",
       "    <tr>\n",
       "      <th>278595</th>\n",
       "      <td>First, I'm a huge Buddy Holly fan. I grew up k...</td>\n",
       "      <td>First, I'm a huge Melanie fan. I grew up knowi...</td>\n",
       "      <td>female</td>\n",
       "      <td>1</td>\n",
       "    </tr>\n",
       "    <tr>\n",
       "      <th>278596</th>\n",
       "      <td>First, I'm a huge Buddy Holly fan. I grew up k...</td>\n",
       "      <td>First, I'm a huge Tanisha fan. I grew up knowi...</td>\n",
       "      <td>female</td>\n",
       "      <td>1</td>\n",
       "    </tr>\n",
       "    <tr>\n",
       "      <th>278597</th>\n",
       "      <td>First, I'm a huge Buddy Holly fan. I grew up k...</td>\n",
       "      <td>First, I'm a huge Nancy fan. I grew up knowing...</td>\n",
       "      <td>female</td>\n",
       "      <td>1</td>\n",
       "    </tr>\n",
       "    <tr>\n",
       "      <th>278598</th>\n",
       "      <td>First, I'm a huge Buddy Holly fan. I grew up k...</td>\n",
       "      <td>First, I'm a huge Tia fan. I grew up knowing w...</td>\n",
       "      <td>female</td>\n",
       "      <td>1</td>\n",
       "    </tr>\n",
       "    <tr>\n",
       "      <th>278599</th>\n",
       "      <td>First, I'm a huge Buddy Holly fan. I grew up k...</td>\n",
       "      <td>First, I'm a huge Stephanie fan. I grew up kno...</td>\n",
       "      <td>female</td>\n",
       "      <td>1</td>\n",
       "    </tr>\n",
       "  </tbody>\n",
       "</table>\n",
       "</div>"
      ],
      "text/plain": [
       "                                                 original  \\\n",
       "278595  First, I'm a huge Buddy Holly fan. I grew up k...   \n",
       "278596  First, I'm a huge Buddy Holly fan. I grew up k...   \n",
       "278597  First, I'm a huge Buddy Holly fan. I grew up k...   \n",
       "278598  First, I'm a huge Buddy Holly fan. I grew up k...   \n",
       "278599  First, I'm a huge Buddy Holly fan. I grew up k...   \n",
       "\n",
       "                                                   mutant  gender  label  \n",
       "278595  First, I'm a huge Melanie fan. I grew up knowi...  female      1  \n",
       "278596  First, I'm a huge Tanisha fan. I grew up knowi...  female      1  \n",
       "278597  First, I'm a huge Nancy fan. I grew up knowing...  female      1  \n",
       "278598  First, I'm a huge Tia fan. I grew up knowing w...  female      1  \n",
       "278599  First, I'm a huge Stephanie fan. I grew up kno...  female      1  "
      ]
     },
     "execution_count": 931,
     "metadata": {},
     "output_type": "execute_result"
    }
   ],
   "source": [
    "df_mutant = pd.DataFrame(data={\"original\": original_arr, \"mutant\": mutant_arr, \"gender\": gender_arr, \"label\": label_arr})\n",
    "df_mutant.tail()"
   ]
  },
  {
   "cell_type": "code",
   "execution_count": 932,
   "metadata": {},
   "outputs": [
    {
     "data": {
      "text/plain": [
       "array([[\"I have only see three episodes of Hack, starring David Morse, and it looks as though I've missed 37 episodes! well thats if ITV 3 are showing them in chronological order. I've just watched 'Misty Blue' (episode 38). I have really enjoyed the 3 episodes, but then I'm a David Morse fan, (esp St. Elsewhere). For any one reading this, Hack is excellent. Pity its being aired on ITV 3. The cast is strong, though I cant get used to the idea of David playing a bent cop, still we all know he's the good guy wrongly accused. I see Gary Cole has guest starred, what ever happened to 'Midnight Caller'? Just wonder if Hack is available on DVD (yet). Lovin it. Cheers.\",\n",
       "        \"I have only see three episodes of Hack, starring David Morse, and it looks as though I've missed 37 episodes! well thats if ITV 3 are showing them in chronological order. I've just watched 'Misty Blue' (episode 38). I have really enjoyed the 3 episodes, but then I'm a David Morse fan, (esp St. Elsewhere). For any one reading this, Hack is excellent. Pity its being aired on ITV 3. The cast is strong, though I cant get used to the idea of Alonzo playing a bent cop, still we all know he's the good guy wrongly accused. I see Gary Cole has guest starred, what ever happened to 'Midnight Caller'? Just wonder if Hack is available on DVD (yet). Lovin it. Cheers.\",\n",
       "        'male', 1]], dtype=object)"
      ]
     },
     "execution_count": 932,
     "metadata": {},
     "output_type": "execute_result"
    }
   ],
   "source": [
    "df_mutant[:1].values"
   ]
  },
  {
   "cell_type": "code",
   "execution_count": 933,
   "metadata": {},
   "outputs": [],
   "source": [
    "df_mutant.to_csv(\"imdb_mutant/test.csv\", index=False)"
   ]
  },
  {
   "cell_type": "markdown",
   "metadata": {},
   "source": [
    "#### Create a separate data for male and female"
   ]
  },
  {
   "cell_type": "code",
   "execution_count": 934,
   "metadata": {},
   "outputs": [],
   "source": [
    "dfm = df_mutant[df_mutant[\"gender\"] == \"male\"]\n",
    "dff = df_mutant[df_mutant[\"gender\"] == \"female\"]"
   ]
  },
  {
   "cell_type": "code",
   "execution_count": 935,
   "metadata": {},
   "outputs": [
    {
     "name": "stderr",
     "output_type": "stream",
     "text": [
      "/opt/conda/lib/python3.6/site-packages/ipykernel_launcher.py:1: SettingWithCopyWarning: \n",
      "A value is trying to be set on a copy of a slice from a DataFrame.\n",
      "Try using .loc[row_indexer,col_indexer] = value instead\n",
      "\n",
      "See the caveats in the documentation: https://pandas.pydata.org/pandas-docs/stable/user_guide/indexing.html#returning-a-view-versus-a-copy\n",
      "  \"\"\"Entry point for launching an IPython kernel.\n",
      "/opt/conda/lib/python3.6/site-packages/ipykernel_launcher.py:2: SettingWithCopyWarning: \n",
      "A value is trying to be set on a copy of a slice from a DataFrame.\n",
      "Try using .loc[row_indexer,col_indexer] = value instead\n",
      "\n",
      "See the caveats in the documentation: https://pandas.pydata.org/pandas-docs/stable/user_guide/indexing.html#returning-a-view-versus-a-copy\n",
      "  \n",
      "/opt/conda/lib/python3.6/site-packages/ipykernel_launcher.py:3: SettingWithCopyWarning: \n",
      "A value is trying to be set on a copy of a slice from a DataFrame.\n",
      "Try using .loc[row_indexer,col_indexer] = value instead\n",
      "\n",
      "See the caveats in the documentation: https://pandas.pydata.org/pandas-docs/stable/user_guide/indexing.html#returning-a-view-versus-a-copy\n",
      "  This is separate from the ipykernel package so we can avoid doing imports until\n",
      "/opt/conda/lib/python3.6/site-packages/ipykernel_launcher.py:7: SettingWithCopyWarning: \n",
      "A value is trying to be set on a copy of a slice from a DataFrame.\n",
      "Try using .loc[row_indexer,col_indexer] = value instead\n",
      "\n",
      "See the caveats in the documentation: https://pandas.pydata.org/pandas-docs/stable/user_guide/indexing.html#returning-a-view-versus-a-copy\n",
      "  import sys\n",
      "/opt/conda/lib/python3.6/site-packages/ipykernel_launcher.py:8: SettingWithCopyWarning: \n",
      "A value is trying to be set on a copy of a slice from a DataFrame.\n",
      "Try using .loc[row_indexer,col_indexer] = value instead\n",
      "\n",
      "See the caveats in the documentation: https://pandas.pydata.org/pandas-docs/stable/user_guide/indexing.html#returning-a-view-versus-a-copy\n",
      "  \n",
      "/opt/conda/lib/python3.6/site-packages/ipykernel_launcher.py:9: SettingWithCopyWarning: \n",
      "A value is trying to be set on a copy of a slice from a DataFrame.\n",
      "Try using .loc[row_indexer,col_indexer] = value instead\n",
      "\n",
      "See the caveats in the documentation: https://pandas.pydata.org/pandas-docs/stable/user_guide/indexing.html#returning-a-view-versus-a-copy\n",
      "  if __name__ == '__main__':\n"
     ]
    }
   ],
   "source": [
    "dfm[0] = dfm[\"label\"]\n",
    "dfm[1] = dfm[\"mutant\"]\n",
    "dfm[\"template\"] = dfm[\"original\"]\n",
    "dfm = dfm.drop(columns=[\"original\", \"mutant\", \"gender\", \"label\"])\n",
    "# dfm = dfm.drop(columns=[\"mutant\", \"gender\", \"label\"])\n",
    "\n",
    "dff[0] = dff[\"label\"]\n",
    "dff[1] = dff[\"mutant\"]\n",
    "dff[\"template\"] = dff[\"original\"]\n",
    "dff = dff.drop(columns=[\"original\", \"mutant\", \"gender\", \"label\"])\n",
    "# dff = dff.drop(columns=[\"mutant\", \"gender\", \"label\"])"
   ]
  },
  {
   "cell_type": "code",
   "execution_count": 936,
   "metadata": {},
   "outputs": [
    {
     "data": {
      "text/html": [
       "<div>\n",
       "<style scoped>\n",
       "    .dataframe tbody tr th:only-of-type {\n",
       "        vertical-align: middle;\n",
       "    }\n",
       "\n",
       "    .dataframe tbody tr th {\n",
       "        vertical-align: top;\n",
       "    }\n",
       "\n",
       "    .dataframe thead th {\n",
       "        text-align: right;\n",
       "    }\n",
       "</style>\n",
       "<table border=\"1\" class=\"dataframe\">\n",
       "  <thead>\n",
       "    <tr style=\"text-align: right;\">\n",
       "      <th></th>\n",
       "      <th>0</th>\n",
       "      <th>1</th>\n",
       "      <th>template</th>\n",
       "    </tr>\n",
       "  </thead>\n",
       "  <tbody>\n",
       "    <tr>\n",
       "      <th>0</th>\n",
       "      <td>1</td>\n",
       "      <td>I have only see three episodes of Hack, starri...</td>\n",
       "      <td>I have only see three episodes of Hack, starri...</td>\n",
       "    </tr>\n",
       "    <tr>\n",
       "      <th>1</th>\n",
       "      <td>1</td>\n",
       "      <td>I have only see three episodes of Hack, starri...</td>\n",
       "      <td>I have only see three episodes of Hack, starri...</td>\n",
       "    </tr>\n",
       "    <tr>\n",
       "      <th>2</th>\n",
       "      <td>1</td>\n",
       "      <td>I have only see three episodes of Hack, starri...</td>\n",
       "      <td>I have only see three episodes of Hack, starri...</td>\n",
       "    </tr>\n",
       "    <tr>\n",
       "      <th>3</th>\n",
       "      <td>1</td>\n",
       "      <td>I have only see three episodes of Hack, starri...</td>\n",
       "      <td>I have only see three episodes of Hack, starri...</td>\n",
       "    </tr>\n",
       "    <tr>\n",
       "      <th>4</th>\n",
       "      <td>1</td>\n",
       "      <td>I have only see three episodes of Hack, starri...</td>\n",
       "      <td>I have only see three episodes of Hack, starri...</td>\n",
       "    </tr>\n",
       "    <tr>\n",
       "      <th>...</th>\n",
       "      <td>...</td>\n",
       "      <td>...</td>\n",
       "      <td>...</td>\n",
       "    </tr>\n",
       "    <tr>\n",
       "      <th>278575</th>\n",
       "      <td>1</td>\n",
       "      <td>First, I'm a huge Justin fan. I grew up knowin...</td>\n",
       "      <td>First, I'm a huge Buddy Holly fan. I grew up k...</td>\n",
       "    </tr>\n",
       "    <tr>\n",
       "      <th>278576</th>\n",
       "      <td>1</td>\n",
       "      <td>First, I'm a huge Terrence fan. I grew up know...</td>\n",
       "      <td>First, I'm a huge Buddy Holly fan. I grew up k...</td>\n",
       "    </tr>\n",
       "    <tr>\n",
       "      <th>278577</th>\n",
       "      <td>1</td>\n",
       "      <td>First, I'm a huge Roger fan. I grew up knowing...</td>\n",
       "      <td>First, I'm a huge Buddy Holly fan. I grew up k...</td>\n",
       "    </tr>\n",
       "    <tr>\n",
       "      <th>278578</th>\n",
       "      <td>1</td>\n",
       "      <td>First, I'm a huge Torrance fan. I grew up know...</td>\n",
       "      <td>First, I'm a huge Buddy Holly fan. I grew up k...</td>\n",
       "    </tr>\n",
       "    <tr>\n",
       "      <th>278579</th>\n",
       "      <td>1</td>\n",
       "      <td>First, I'm a huge Ryan fan. I grew up knowing ...</td>\n",
       "      <td>First, I'm a huge Buddy Holly fan. I grew up k...</td>\n",
       "    </tr>\n",
       "  </tbody>\n",
       "</table>\n",
       "<p>139300 rows × 3 columns</p>\n",
       "</div>"
      ],
      "text/plain": [
       "        0                                                  1  \\\n",
       "0       1  I have only see three episodes of Hack, starri...   \n",
       "1       1  I have only see three episodes of Hack, starri...   \n",
       "2       1  I have only see three episodes of Hack, starri...   \n",
       "3       1  I have only see three episodes of Hack, starri...   \n",
       "4       1  I have only see three episodes of Hack, starri...   \n",
       "...    ..                                                ...   \n",
       "278575  1  First, I'm a huge Justin fan. I grew up knowin...   \n",
       "278576  1  First, I'm a huge Terrence fan. I grew up know...   \n",
       "278577  1  First, I'm a huge Roger fan. I grew up knowing...   \n",
       "278578  1  First, I'm a huge Torrance fan. I grew up know...   \n",
       "278579  1  First, I'm a huge Ryan fan. I grew up knowing ...   \n",
       "\n",
       "                                                 template  \n",
       "0       I have only see three episodes of Hack, starri...  \n",
       "1       I have only see three episodes of Hack, starri...  \n",
       "2       I have only see three episodes of Hack, starri...  \n",
       "3       I have only see three episodes of Hack, starri...  \n",
       "4       I have only see three episodes of Hack, starri...  \n",
       "...                                                   ...  \n",
       "278575  First, I'm a huge Buddy Holly fan. I grew up k...  \n",
       "278576  First, I'm a huge Buddy Holly fan. I grew up k...  \n",
       "278577  First, I'm a huge Buddy Holly fan. I grew up k...  \n",
       "278578  First, I'm a huge Buddy Holly fan. I grew up k...  \n",
       "278579  First, I'm a huge Buddy Holly fan. I grew up k...  \n",
       "\n",
       "[139300 rows x 3 columns]"
      ]
     },
     "execution_count": 936,
     "metadata": {},
     "output_type": "execute_result"
    }
   ],
   "source": [
    "dfm"
   ]
  },
  {
   "cell_type": "code",
   "execution_count": 937,
   "metadata": {},
   "outputs": [],
   "source": [
    "dfm.to_csv(\"imdb_mutant/male/test.csv\", index=None, header=None, sep=\"\\t\")\n",
    "dff.to_csv(\"imdb_mutant/female/test.csv\", index=None, header=None, sep=\"\\t\")"
   ]
  },
  {
   "cell_type": "markdown",
   "metadata": {},
   "source": [
    "## Grammar Check from Generated Mutant Text"
   ]
  },
  {
   "cell_type": "markdown",
   "metadata": {},
   "source": [
    "#### Data Preparation"
   ]
  },
  {
   "cell_type": "code",
   "execution_count": 938,
   "metadata": {},
   "outputs": [],
   "source": [
    "# grammar check\n",
    "gcm = dfm[dfm.index % 20 == 0]\n",
    "gcf = dff[dff.index % 20 == 0]"
   ]
  },
  {
   "cell_type": "code",
   "execution_count": 939,
   "metadata": {},
   "outputs": [
    {
     "data": {
      "text/html": [
       "<div>\n",
       "<style scoped>\n",
       "    .dataframe tbody tr th:only-of-type {\n",
       "        vertical-align: middle;\n",
       "    }\n",
       "\n",
       "    .dataframe tbody tr th {\n",
       "        vertical-align: top;\n",
       "    }\n",
       "\n",
       "    .dataframe thead th {\n",
       "        text-align: right;\n",
       "    }\n",
       "</style>\n",
       "<table border=\"1\" class=\"dataframe\">\n",
       "  <thead>\n",
       "    <tr style=\"text-align: right;\">\n",
       "      <th></th>\n",
       "      <th>0</th>\n",
       "      <th>1</th>\n",
       "      <th>template</th>\n",
       "    </tr>\n",
       "  </thead>\n",
       "  <tbody>\n",
       "    <tr>\n",
       "      <th>0</th>\n",
       "      <td>1</td>\n",
       "      <td>I have only see three episodes of Hack, starri...</td>\n",
       "      <td>I have only see three episodes of Hack, starri...</td>\n",
       "    </tr>\n",
       "    <tr>\n",
       "      <th>1</th>\n",
       "      <td>1</td>\n",
       "      <td>In the groovy mid 70's a scruffy bunch of bras...</td>\n",
       "      <td>In the groovy mid 70's a scruffy bunch of bras...</td>\n",
       "    </tr>\n",
       "    <tr>\n",
       "      <th>2</th>\n",
       "      <td>1</td>\n",
       "      <td>This must have been one of Alonzo's most ambit...</td>\n",
       "      <td>This must have been one of Chaplin's most ambi...</td>\n",
       "    </tr>\n",
       "    <tr>\n",
       "      <th>3</th>\n",
       "      <td>1</td>\n",
       "      <td>The debut that plucked from obscurity one of t...</td>\n",
       "      <td>The debut that plucked from obscurity one of t...</td>\n",
       "    </tr>\n",
       "    <tr>\n",
       "      <th>4</th>\n",
       "      <td>1</td>\n",
       "      <td>There is really no way to compare this motion ...</td>\n",
       "      <td>There is really no way to compare this motion ...</td>\n",
       "    </tr>\n",
       "    <tr>\n",
       "      <th>...</th>\n",
       "      <td>...</td>\n",
       "      <td>...</td>\n",
       "      <td>...</td>\n",
       "    </tr>\n",
       "    <tr>\n",
       "      <th>6960</th>\n",
       "      <td>1</td>\n",
       "      <td>I heard they were going to remake this French ...</td>\n",
       "      <td>I heard they were going to remake this French ...</td>\n",
       "    </tr>\n",
       "    <tr>\n",
       "      <th>6961</th>\n",
       "      <td>1</td>\n",
       "      <td>Well, the movie did turn out a lot better than...</td>\n",
       "      <td>Well, the movie did turn out a lot better than...</td>\n",
       "    </tr>\n",
       "    <tr>\n",
       "      <th>6962</th>\n",
       "      <td>0</td>\n",
       "      <td>In this film, there is a loose plot of a man (...</td>\n",
       "      <td>In this film, there is a loose plot of a man (...</td>\n",
       "    </tr>\n",
       "    <tr>\n",
       "      <th>6963</th>\n",
       "      <td>1</td>\n",
       "      <td>Alonzo appears at the modest house of two Dan...</td>\n",
       "      <td>The French Babbette appears at the modest hous...</td>\n",
       "    </tr>\n",
       "    <tr>\n",
       "      <th>6964</th>\n",
       "      <td>1</td>\n",
       "      <td>First, I'm a huge Alonzo fan. I grew up knowin...</td>\n",
       "      <td>First, I'm a huge Buddy Holly fan. I grew up k...</td>\n",
       "    </tr>\n",
       "  </tbody>\n",
       "</table>\n",
       "<p>6965 rows × 3 columns</p>\n",
       "</div>"
      ],
      "text/plain": [
       "      0                                                  1  \\\n",
       "0     1  I have only see three episodes of Hack, starri...   \n",
       "1     1  In the groovy mid 70's a scruffy bunch of bras...   \n",
       "2     1  This must have been one of Alonzo's most ambit...   \n",
       "3     1  The debut that plucked from obscurity one of t...   \n",
       "4     1  There is really no way to compare this motion ...   \n",
       "...  ..                                                ...   \n",
       "6960  1  I heard they were going to remake this French ...   \n",
       "6961  1  Well, the movie did turn out a lot better than...   \n",
       "6962  0  In this film, there is a loose plot of a man (...   \n",
       "6963  1   Alonzo appears at the modest house of two Dan...   \n",
       "6964  1  First, I'm a huge Alonzo fan. I grew up knowin...   \n",
       "\n",
       "                                               template  \n",
       "0     I have only see three episodes of Hack, starri...  \n",
       "1     In the groovy mid 70's a scruffy bunch of bras...  \n",
       "2     This must have been one of Chaplin's most ambi...  \n",
       "3     The debut that plucked from obscurity one of t...  \n",
       "4     There is really no way to compare this motion ...  \n",
       "...                                                 ...  \n",
       "6960  I heard they were going to remake this French ...  \n",
       "6961  Well, the movie did turn out a lot better than...  \n",
       "6962  In this film, there is a loose plot of a man (...  \n",
       "6963  The French Babbette appears at the modest hous...  \n",
       "6964  First, I'm a huge Buddy Holly fan. I grew up k...  \n",
       "\n",
       "[6965 rows x 3 columns]"
      ]
     },
     "execution_count": 939,
     "metadata": {},
     "output_type": "execute_result"
    }
   ],
   "source": [
    "gcm = gcm.reset_index(drop=True)\n",
    "gcf = gcf.reset_index(drop=True)\n",
    "gcm"
   ]
  },
  {
   "cell_type": "code",
   "execution_count": 940,
   "metadata": {},
   "outputs": [
    {
     "data": {
      "text/plain": [
       "0"
      ]
     },
     "execution_count": 940,
     "metadata": {},
     "output_type": "execute_result"
    }
   ],
   "source": [
    "# importing the requests library \n",
    "import requests\n",
    "import urllib\n",
    "import json\n",
    "\n",
    "def get_number_of_grammar_error_from_language_tool(text):\n",
    "\n",
    "    # defining the api-endpoint\n",
    "    # API is built from https://github.com/languagetool-org/languagetool\n",
    "    # using docker wrapped by https://github.com/silvio/docker-languagetool\n",
    "    API_ENDPOINT = \"http://10.4.4.55:8010//api/v2/check\"\n",
    "\n",
    "    # data to be sent to api \n",
    "    data = {'text': urllib.parse.quote_plus(text), \n",
    "            'language': 'en-US', \n",
    "            'enabledOnly':'false'} \n",
    "\n",
    "    # sending post request and saving response as response object \n",
    "    response = requests.post(url = API_ENDPOINT, data = data) \n",
    "\n",
    "    # extracting response text  \n",
    "    r = json.loads(response.text)\n",
    "    \n",
    "    grammar_error = r[\"matches\"]\n",
    "\n",
    "    return len(grammar_error)\n",
    "\n",
    "\n",
    "text = \"I eat chicken\"\n",
    "get_number_of_grammar_error_from_language_tool(text)"
   ]
  },
  {
   "cell_type": "code",
   "execution_count": 941,
   "metadata": {},
   "outputs": [
    {
     "data": {
      "text/html": [
       "<div>\n",
       "<style scoped>\n",
       "    .dataframe tbody tr th:only-of-type {\n",
       "        vertical-align: middle;\n",
       "    }\n",
       "\n",
       "    .dataframe tbody tr th {\n",
       "        vertical-align: top;\n",
       "    }\n",
       "\n",
       "    .dataframe thead th {\n",
       "        text-align: right;\n",
       "    }\n",
       "</style>\n",
       "<table border=\"1\" class=\"dataframe\">\n",
       "  <thead>\n",
       "    <tr style=\"text-align: right;\">\n",
       "      <th></th>\n",
       "      <th>0</th>\n",
       "      <th>1</th>\n",
       "      <th>template</th>\n",
       "    </tr>\n",
       "  </thead>\n",
       "  <tbody>\n",
       "    <tr>\n",
       "      <th>0</th>\n",
       "      <td>1</td>\n",
       "      <td>I have only see three episodes of Hack, starri...</td>\n",
       "      <td>I have only see three episodes of Hack, starri...</td>\n",
       "    </tr>\n",
       "    <tr>\n",
       "      <th>1</th>\n",
       "      <td>1</td>\n",
       "      <td>In the groovy mid 70's a scruffy bunch of bras...</td>\n",
       "      <td>In the groovy mid 70's a scruffy bunch of bras...</td>\n",
       "    </tr>\n",
       "    <tr>\n",
       "      <th>2</th>\n",
       "      <td>1</td>\n",
       "      <td>This must have been one of Alonzo's most ambit...</td>\n",
       "      <td>This must have been one of Chaplin's most ambi...</td>\n",
       "    </tr>\n",
       "    <tr>\n",
       "      <th>3</th>\n",
       "      <td>1</td>\n",
       "      <td>The debut that plucked from obscurity one of t...</td>\n",
       "      <td>The debut that plucked from obscurity one of t...</td>\n",
       "    </tr>\n",
       "    <tr>\n",
       "      <th>4</th>\n",
       "      <td>1</td>\n",
       "      <td>There is really no way to compare this motion ...</td>\n",
       "      <td>There is really no way to compare this motion ...</td>\n",
       "    </tr>\n",
       "    <tr>\n",
       "      <th>...</th>\n",
       "      <td>...</td>\n",
       "      <td>...</td>\n",
       "      <td>...</td>\n",
       "    </tr>\n",
       "    <tr>\n",
       "      <th>6960</th>\n",
       "      <td>1</td>\n",
       "      <td>I heard they were going to remake this French ...</td>\n",
       "      <td>I heard they were going to remake this French ...</td>\n",
       "    </tr>\n",
       "    <tr>\n",
       "      <th>6961</th>\n",
       "      <td>1</td>\n",
       "      <td>Well, the movie did turn out a lot better than...</td>\n",
       "      <td>Well, the movie did turn out a lot better than...</td>\n",
       "    </tr>\n",
       "    <tr>\n",
       "      <th>6962</th>\n",
       "      <td>0</td>\n",
       "      <td>In this film, there is a loose plot of a man (...</td>\n",
       "      <td>In this film, there is a loose plot of a man (...</td>\n",
       "    </tr>\n",
       "    <tr>\n",
       "      <th>6963</th>\n",
       "      <td>1</td>\n",
       "      <td>Alonzo appears at the modest house of two Dan...</td>\n",
       "      <td>The French Babbette appears at the modest hous...</td>\n",
       "    </tr>\n",
       "    <tr>\n",
       "      <th>6964</th>\n",
       "      <td>1</td>\n",
       "      <td>First, I'm a huge Alonzo fan. I grew up knowin...</td>\n",
       "      <td>First, I'm a huge Buddy Holly fan. I grew up k...</td>\n",
       "    </tr>\n",
       "  </tbody>\n",
       "</table>\n",
       "<p>6965 rows × 3 columns</p>\n",
       "</div>"
      ],
      "text/plain": [
       "      0                                                  1  \\\n",
       "0     1  I have only see three episodes of Hack, starri...   \n",
       "1     1  In the groovy mid 70's a scruffy bunch of bras...   \n",
       "2     1  This must have been one of Alonzo's most ambit...   \n",
       "3     1  The debut that plucked from obscurity one of t...   \n",
       "4     1  There is really no way to compare this motion ...   \n",
       "...  ..                                                ...   \n",
       "6960  1  I heard they were going to remake this French ...   \n",
       "6961  1  Well, the movie did turn out a lot better than...   \n",
       "6962  0  In this film, there is a loose plot of a man (...   \n",
       "6963  1   Alonzo appears at the modest house of two Dan...   \n",
       "6964  1  First, I'm a huge Alonzo fan. I grew up knowin...   \n",
       "\n",
       "                                               template  \n",
       "0     I have only see three episodes of Hack, starri...  \n",
       "1     In the groovy mid 70's a scruffy bunch of bras...  \n",
       "2     This must have been one of Chaplin's most ambi...  \n",
       "3     The debut that plucked from obscurity one of t...  \n",
       "4     There is really no way to compare this motion ...  \n",
       "...                                                 ...  \n",
       "6960  I heard they were going to remake this French ...  \n",
       "6961  Well, the movie did turn out a lot better than...  \n",
       "6962  In this film, there is a loose plot of a man (...  \n",
       "6963  The French Babbette appears at the modest hous...  \n",
       "6964  First, I'm a huge Buddy Holly fan. I grew up k...  \n",
       "\n",
       "[6965 rows x 3 columns]"
      ]
     },
     "execution_count": 941,
     "metadata": {},
     "output_type": "execute_result"
    }
   ],
   "source": [
    "gcm"
   ]
  },
  {
   "cell_type": "code",
   "execution_count": 942,
   "metadata": {},
   "outputs": [
    {
     "data": {
      "text/html": [
       "<div>\n",
       "<style scoped>\n",
       "    .dataframe tbody tr th:only-of-type {\n",
       "        vertical-align: middle;\n",
       "    }\n",
       "\n",
       "    .dataframe tbody tr th {\n",
       "        vertical-align: top;\n",
       "    }\n",
       "\n",
       "    .dataframe thead th {\n",
       "        text-align: right;\n",
       "    }\n",
       "</style>\n",
       "<table border=\"1\" class=\"dataframe\">\n",
       "  <thead>\n",
       "    <tr style=\"text-align: right;\">\n",
       "      <th></th>\n",
       "      <th>0</th>\n",
       "      <th>1</th>\n",
       "      <th>template</th>\n",
       "    </tr>\n",
       "  </thead>\n",
       "  <tbody>\n",
       "    <tr>\n",
       "      <th>0</th>\n",
       "      <td>1</td>\n",
       "      <td>I have only see three episodes of Hack, starri...</td>\n",
       "      <td>I have only see three episodes of Hack, starri...</td>\n",
       "    </tr>\n",
       "    <tr>\n",
       "      <th>1</th>\n",
       "      <td>1</td>\n",
       "      <td>In the groovy mid 70's a scruffy bunch of bras...</td>\n",
       "      <td>In the groovy mid 70's a scruffy bunch of bras...</td>\n",
       "    </tr>\n",
       "    <tr>\n",
       "      <th>2</th>\n",
       "      <td>1</td>\n",
       "      <td>This must have been one of Ebony's most ambiti...</td>\n",
       "      <td>This must have been one of Chaplin's most ambi...</td>\n",
       "    </tr>\n",
       "    <tr>\n",
       "      <th>3</th>\n",
       "      <td>1</td>\n",
       "      <td>The debut that plucked from obscurity one of t...</td>\n",
       "      <td>The debut that plucked from obscurity one of t...</td>\n",
       "    </tr>\n",
       "    <tr>\n",
       "      <th>4</th>\n",
       "      <td>1</td>\n",
       "      <td>There is really no way to compare this motion ...</td>\n",
       "      <td>There is really no way to compare this motion ...</td>\n",
       "    </tr>\n",
       "    <tr>\n",
       "      <th>...</th>\n",
       "      <td>...</td>\n",
       "      <td>...</td>\n",
       "      <td>...</td>\n",
       "    </tr>\n",
       "    <tr>\n",
       "      <th>6960</th>\n",
       "      <td>1</td>\n",
       "      <td>I heard they were going to remake this French ...</td>\n",
       "      <td>I heard they were going to remake this French ...</td>\n",
       "    </tr>\n",
       "    <tr>\n",
       "      <th>6961</th>\n",
       "      <td>1</td>\n",
       "      <td>Well, the movie did turn out a lot better than...</td>\n",
       "      <td>Well, the movie did turn out a lot better than...</td>\n",
       "    </tr>\n",
       "    <tr>\n",
       "      <th>6962</th>\n",
       "      <td>0</td>\n",
       "      <td>In this film, there is a loose plot of a man (...</td>\n",
       "      <td>In this film, there is a loose plot of a man (...</td>\n",
       "    </tr>\n",
       "    <tr>\n",
       "      <th>6963</th>\n",
       "      <td>1</td>\n",
       "      <td>Ebony appears at the modest house of two Dani...</td>\n",
       "      <td>The French Babbette appears at the modest hous...</td>\n",
       "    </tr>\n",
       "    <tr>\n",
       "      <th>6964</th>\n",
       "      <td>1</td>\n",
       "      <td>First, I'm a huge Ebony fan. I grew up knowing...</td>\n",
       "      <td>First, I'm a huge Buddy Holly fan. I grew up k...</td>\n",
       "    </tr>\n",
       "  </tbody>\n",
       "</table>\n",
       "<p>6965 rows × 3 columns</p>\n",
       "</div>"
      ],
      "text/plain": [
       "      0                                                  1  \\\n",
       "0     1  I have only see three episodes of Hack, starri...   \n",
       "1     1  In the groovy mid 70's a scruffy bunch of bras...   \n",
       "2     1  This must have been one of Ebony's most ambiti...   \n",
       "3     1  The debut that plucked from obscurity one of t...   \n",
       "4     1  There is really no way to compare this motion ...   \n",
       "...  ..                                                ...   \n",
       "6960  1  I heard they were going to remake this French ...   \n",
       "6961  1  Well, the movie did turn out a lot better than...   \n",
       "6962  0  In this film, there is a loose plot of a man (...   \n",
       "6963  1   Ebony appears at the modest house of two Dani...   \n",
       "6964  1  First, I'm a huge Ebony fan. I grew up knowing...   \n",
       "\n",
       "                                               template  \n",
       "0     I have only see three episodes of Hack, starri...  \n",
       "1     In the groovy mid 70's a scruffy bunch of bras...  \n",
       "2     This must have been one of Chaplin's most ambi...  \n",
       "3     The debut that plucked from obscurity one of t...  \n",
       "4     There is really no way to compare this motion ...  \n",
       "...                                                 ...  \n",
       "6960  I heard they were going to remake this French ...  \n",
       "6961  Well, the movie did turn out a lot better than...  \n",
       "6962  In this film, there is a loose plot of a man (...  \n",
       "6963  The French Babbette appears at the modest hous...  \n",
       "6964  First, I'm a huge Buddy Holly fan. I grew up k...  \n",
       "\n",
       "[6965 rows x 3 columns]"
      ]
     },
     "execution_count": 942,
     "metadata": {},
     "output_type": "execute_result"
    }
   ],
   "source": [
    "gcf"
   ]
  },
  {
   "cell_type": "code",
   "execution_count": null,
   "metadata": {},
   "outputs": [
    {
     "name": "stdout",
     "output_type": "stream",
     "text": [
      "500\n"
     ]
    }
   ],
   "source": [
    "start = time.time()\n",
    "\n",
    "merr = []\n",
    "ferr = []\n",
    "\n",
    "i = 0\n",
    "for (male_mutant, female_mutant, original) in zip(gcm[1].values, gcf[1].values, gcm[\"template\"].values) :\n",
    "    i += 1\n",
    "    err_m = get_number_of_grammar_error_from_language_tool(male_mutant)\n",
    "    err_f = get_number_of_grammar_error_from_language_tool(female_mutant)\n",
    "    err_o = get_number_of_grammar_error_from_language_tool(original)\n",
    "    merr.append(err_m - err_o)\n",
    "    ferr.append(err_f - err_o)\n",
    "    \n",
    "    # using for log only\n",
    "    if i % 500 == 0 :\n",
    "        print(i)\n",
    "        \n",
    "end = time.time()\n",
    "print(end-start)"
   ]
  },
  {
   "cell_type": "code",
   "execution_count": 1042,
   "metadata": {},
   "outputs": [
    {
     "name": "stdout",
     "output_type": "stream",
     "text": [
      "Execution Time:  9591.294066429138\n"
     ]
    }
   ],
   "source": [
    "print(\"Execution Time: \", end-start)"
   ]
  },
  {
   "cell_type": "code",
   "execution_count": 945,
   "metadata": {},
   "outputs": [
    {
     "data": {
      "text/plain": [
       "6965"
      ]
     },
     "execution_count": 945,
     "metadata": {},
     "output_type": "execute_result"
    }
   ],
   "source": [
    "len(merr)"
   ]
  },
  {
   "cell_type": "code",
   "execution_count": 946,
   "metadata": {},
   "outputs": [],
   "source": [
    "gcm[\"err\"] = merr\n",
    "gcf[\"err\"] = ferr"
   ]
  },
  {
   "cell_type": "code",
   "execution_count": 973,
   "metadata": {},
   "outputs": [
    {
     "data": {
      "text/html": [
       "<div>\n",
       "<style scoped>\n",
       "    .dataframe tbody tr th:only-of-type {\n",
       "        vertical-align: middle;\n",
       "    }\n",
       "\n",
       "    .dataframe tbody tr th {\n",
       "        vertical-align: top;\n",
       "    }\n",
       "\n",
       "    .dataframe thead th {\n",
       "        text-align: right;\n",
       "    }\n",
       "</style>\n",
       "<table border=\"1\" class=\"dataframe\">\n",
       "  <thead>\n",
       "    <tr style=\"text-align: right;\">\n",
       "      <th></th>\n",
       "      <th>0</th>\n",
       "      <th>1</th>\n",
       "      <th>template</th>\n",
       "      <th>err</th>\n",
       "    </tr>\n",
       "  </thead>\n",
       "  <tbody>\n",
       "    <tr>\n",
       "      <th>0</th>\n",
       "      <td>1</td>\n",
       "      <td>I have only see three episodes of Hack, starri...</td>\n",
       "      <td>I have only see three episodes of Hack, starri...</td>\n",
       "      <td>0</td>\n",
       "    </tr>\n",
       "    <tr>\n",
       "      <th>1</th>\n",
       "      <td>1</td>\n",
       "      <td>In the groovy mid 70's a scruffy bunch of bras...</td>\n",
       "      <td>In the groovy mid 70's a scruffy bunch of bras...</td>\n",
       "      <td>0</td>\n",
       "    </tr>\n",
       "    <tr>\n",
       "      <th>2</th>\n",
       "      <td>1</td>\n",
       "      <td>This must have been one of Alonzo's most ambit...</td>\n",
       "      <td>This must have been one of Chaplin's most ambi...</td>\n",
       "      <td>0</td>\n",
       "    </tr>\n",
       "    <tr>\n",
       "      <th>3</th>\n",
       "      <td>1</td>\n",
       "      <td>The debut that plucked from obscurity one of t...</td>\n",
       "      <td>The debut that plucked from obscurity one of t...</td>\n",
       "      <td>0</td>\n",
       "    </tr>\n",
       "    <tr>\n",
       "      <th>4</th>\n",
       "      <td>1</td>\n",
       "      <td>There is really no way to compare this motion ...</td>\n",
       "      <td>There is really no way to compare this motion ...</td>\n",
       "      <td>0</td>\n",
       "    </tr>\n",
       "    <tr>\n",
       "      <th>...</th>\n",
       "      <td>...</td>\n",
       "      <td>...</td>\n",
       "      <td>...</td>\n",
       "      <td>...</td>\n",
       "    </tr>\n",
       "    <tr>\n",
       "      <th>6960</th>\n",
       "      <td>1</td>\n",
       "      <td>I heard they were going to remake this French ...</td>\n",
       "      <td>I heard they were going to remake this French ...</td>\n",
       "      <td>0</td>\n",
       "    </tr>\n",
       "    <tr>\n",
       "      <th>6961</th>\n",
       "      <td>1</td>\n",
       "      <td>Well, the movie did turn out a lot better than...</td>\n",
       "      <td>Well, the movie did turn out a lot better than...</td>\n",
       "      <td>0</td>\n",
       "    </tr>\n",
       "    <tr>\n",
       "      <th>6962</th>\n",
       "      <td>0</td>\n",
       "      <td>In this film, there is a loose plot of a man (...</td>\n",
       "      <td>In this film, there is a loose plot of a man (...</td>\n",
       "      <td>0</td>\n",
       "    </tr>\n",
       "    <tr>\n",
       "      <th>6963</th>\n",
       "      <td>1</td>\n",
       "      <td>Alonzo appears at the modest house of two Dan...</td>\n",
       "      <td>The French Babbette appears at the modest hous...</td>\n",
       "      <td>-2</td>\n",
       "    </tr>\n",
       "    <tr>\n",
       "      <th>6964</th>\n",
       "      <td>1</td>\n",
       "      <td>First, I'm a huge Alonzo fan. I grew up knowin...</td>\n",
       "      <td>First, I'm a huge Buddy Holly fan. I grew up k...</td>\n",
       "      <td>0</td>\n",
       "    </tr>\n",
       "  </tbody>\n",
       "</table>\n",
       "<p>6965 rows × 4 columns</p>\n",
       "</div>"
      ],
      "text/plain": [
       "      0                                                  1  \\\n",
       "0     1  I have only see three episodes of Hack, starri...   \n",
       "1     1  In the groovy mid 70's a scruffy bunch of bras...   \n",
       "2     1  This must have been one of Alonzo's most ambit...   \n",
       "3     1  The debut that plucked from obscurity one of t...   \n",
       "4     1  There is really no way to compare this motion ...   \n",
       "...  ..                                                ...   \n",
       "6960  1  I heard they were going to remake this French ...   \n",
       "6961  1  Well, the movie did turn out a lot better than...   \n",
       "6962  0  In this film, there is a loose plot of a man (...   \n",
       "6963  1   Alonzo appears at the modest house of two Dan...   \n",
       "6964  1  First, I'm a huge Alonzo fan. I grew up knowin...   \n",
       "\n",
       "                                               template  err  \n",
       "0     I have only see three episodes of Hack, starri...    0  \n",
       "1     In the groovy mid 70's a scruffy bunch of bras...    0  \n",
       "2     This must have been one of Chaplin's most ambi...    0  \n",
       "3     The debut that plucked from obscurity one of t...    0  \n",
       "4     There is really no way to compare this motion ...    0  \n",
       "...                                                 ...  ...  \n",
       "6960  I heard they were going to remake this French ...    0  \n",
       "6961  Well, the movie did turn out a lot better than...    0  \n",
       "6962  In this film, there is a loose plot of a man (...    0  \n",
       "6963  The French Babbette appears at the modest hous...   -2  \n",
       "6964  First, I'm a huge Buddy Holly fan. I grew up k...    0  \n",
       "\n",
       "[6965 rows x 4 columns]"
      ]
     },
     "execution_count": 973,
     "metadata": {},
     "output_type": "execute_result"
    }
   ],
   "source": [
    "gcm"
   ]
  },
  {
   "cell_type": "code",
   "execution_count": 972,
   "metadata": {},
   "outputs": [
    {
     "data": {
      "text/html": [
       "<div>\n",
       "<style scoped>\n",
       "    .dataframe tbody tr th:only-of-type {\n",
       "        vertical-align: middle;\n",
       "    }\n",
       "\n",
       "    .dataframe tbody tr th {\n",
       "        vertical-align: top;\n",
       "    }\n",
       "\n",
       "    .dataframe thead th {\n",
       "        text-align: right;\n",
       "    }\n",
       "</style>\n",
       "<table border=\"1\" class=\"dataframe\">\n",
       "  <thead>\n",
       "    <tr style=\"text-align: right;\">\n",
       "      <th></th>\n",
       "      <th>0</th>\n",
       "      <th>1</th>\n",
       "      <th>template</th>\n",
       "      <th>err</th>\n",
       "    </tr>\n",
       "  </thead>\n",
       "  <tbody>\n",
       "    <tr>\n",
       "      <th>0</th>\n",
       "      <td>1</td>\n",
       "      <td>I have only see three episodes of Hack, starri...</td>\n",
       "      <td>I have only see three episodes of Hack, starri...</td>\n",
       "      <td>0</td>\n",
       "    </tr>\n",
       "    <tr>\n",
       "      <th>1</th>\n",
       "      <td>1</td>\n",
       "      <td>In the groovy mid 70's a scruffy bunch of bras...</td>\n",
       "      <td>In the groovy mid 70's a scruffy bunch of bras...</td>\n",
       "      <td>0</td>\n",
       "    </tr>\n",
       "    <tr>\n",
       "      <th>2</th>\n",
       "      <td>1</td>\n",
       "      <td>This must have been one of Ebony's most ambiti...</td>\n",
       "      <td>This must have been one of Chaplin's most ambi...</td>\n",
       "      <td>0</td>\n",
       "    </tr>\n",
       "    <tr>\n",
       "      <th>3</th>\n",
       "      <td>1</td>\n",
       "      <td>The debut that plucked from obscurity one of t...</td>\n",
       "      <td>The debut that plucked from obscurity one of t...</td>\n",
       "      <td>0</td>\n",
       "    </tr>\n",
       "    <tr>\n",
       "      <th>4</th>\n",
       "      <td>1</td>\n",
       "      <td>There is really no way to compare this motion ...</td>\n",
       "      <td>There is really no way to compare this motion ...</td>\n",
       "      <td>0</td>\n",
       "    </tr>\n",
       "    <tr>\n",
       "      <th>...</th>\n",
       "      <td>...</td>\n",
       "      <td>...</td>\n",
       "      <td>...</td>\n",
       "      <td>...</td>\n",
       "    </tr>\n",
       "    <tr>\n",
       "      <th>6960</th>\n",
       "      <td>1</td>\n",
       "      <td>I heard they were going to remake this French ...</td>\n",
       "      <td>I heard they were going to remake this French ...</td>\n",
       "      <td>0</td>\n",
       "    </tr>\n",
       "    <tr>\n",
       "      <th>6961</th>\n",
       "      <td>1</td>\n",
       "      <td>Well, the movie did turn out a lot better than...</td>\n",
       "      <td>Well, the movie did turn out a lot better than...</td>\n",
       "      <td>0</td>\n",
       "    </tr>\n",
       "    <tr>\n",
       "      <th>6962</th>\n",
       "      <td>0</td>\n",
       "      <td>In this film, there is a loose plot of a man (...</td>\n",
       "      <td>In this film, there is a loose plot of a man (...</td>\n",
       "      <td>0</td>\n",
       "    </tr>\n",
       "    <tr>\n",
       "      <th>6963</th>\n",
       "      <td>1</td>\n",
       "      <td>Ebony appears at the modest house of two Dani...</td>\n",
       "      <td>The French Babbette appears at the modest hous...</td>\n",
       "      <td>-2</td>\n",
       "    </tr>\n",
       "    <tr>\n",
       "      <th>6964</th>\n",
       "      <td>1</td>\n",
       "      <td>First, I'm a huge Ebony fan. I grew up knowing...</td>\n",
       "      <td>First, I'm a huge Buddy Holly fan. I grew up k...</td>\n",
       "      <td>0</td>\n",
       "    </tr>\n",
       "  </tbody>\n",
       "</table>\n",
       "<p>6965 rows × 4 columns</p>\n",
       "</div>"
      ],
      "text/plain": [
       "      0                                                  1  \\\n",
       "0     1  I have only see three episodes of Hack, starri...   \n",
       "1     1  In the groovy mid 70's a scruffy bunch of bras...   \n",
       "2     1  This must have been one of Ebony's most ambiti...   \n",
       "3     1  The debut that plucked from obscurity one of t...   \n",
       "4     1  There is really no way to compare this motion ...   \n",
       "...  ..                                                ...   \n",
       "6960  1  I heard they were going to remake this French ...   \n",
       "6961  1  Well, the movie did turn out a lot better than...   \n",
       "6962  0  In this film, there is a loose plot of a man (...   \n",
       "6963  1   Ebony appears at the modest house of two Dani...   \n",
       "6964  1  First, I'm a huge Ebony fan. I grew up knowing...   \n",
       "\n",
       "                                               template  err  \n",
       "0     I have only see three episodes of Hack, starri...    0  \n",
       "1     In the groovy mid 70's a scruffy bunch of bras...    0  \n",
       "2     This must have been one of Chaplin's most ambi...    0  \n",
       "3     The debut that plucked from obscurity one of t...    0  \n",
       "4     There is really no way to compare this motion ...    0  \n",
       "...                                                 ...  ...  \n",
       "6960  I heard they were going to remake this French ...    0  \n",
       "6961  Well, the movie did turn out a lot better than...    0  \n",
       "6962  In this film, there is a loose plot of a man (...    0  \n",
       "6963  The French Babbette appears at the modest hous...   -2  \n",
       "6964  First, I'm a huge Buddy Holly fan. I grew up k...    0  \n",
       "\n",
       "[6965 rows x 4 columns]"
      ]
     },
     "execution_count": 972,
     "metadata": {},
     "output_type": "execute_result"
    }
   ],
   "source": [
    "gcf"
   ]
  },
  {
   "cell_type": "markdown",
   "metadata": {},
   "source": [
    "### The Error calculation"
   ]
  },
  {
   "cell_type": "code",
   "execution_count": null,
   "metadata": {},
   "outputs": [],
   "source": [
    "print(\"Number of mutant grammar error from male: \", len(gcm[gcm[\"err\"] > 0]))\n",
    "print(\"Number of mutant grammar error from female\", len(gcf[gcf[\"err\"] > 0]))"
   ]
  },
  {
   "cell_type": "code",
   "execution_count": 980,
   "metadata": {},
   "outputs": [
    {
     "data": {
      "text/html": [
       "<div>\n",
       "<style scoped>\n",
       "    .dataframe tbody tr th:only-of-type {\n",
       "        vertical-align: middle;\n",
       "    }\n",
       "\n",
       "    .dataframe tbody tr th {\n",
       "        vertical-align: top;\n",
       "    }\n",
       "\n",
       "    .dataframe thead th {\n",
       "        text-align: right;\n",
       "    }\n",
       "</style>\n",
       "<table border=\"1\" class=\"dataframe\">\n",
       "  <thead>\n",
       "    <tr style=\"text-align: right;\">\n",
       "      <th></th>\n",
       "      <th>0</th>\n",
       "      <th>1</th>\n",
       "      <th>template</th>\n",
       "      <th>err</th>\n",
       "    </tr>\n",
       "  </thead>\n",
       "  <tbody>\n",
       "    <tr>\n",
       "      <th>165</th>\n",
       "      <td>1</td>\n",
       "      <td>I only voted excellent because this film took ...</td>\n",
       "      <td>I only voted excellent because this film took ...</td>\n",
       "      <td>1</td>\n",
       "    </tr>\n",
       "    <tr>\n",
       "      <th>397</th>\n",
       "      <td>0</td>\n",
       "      <td>This movie wasn't the best... but it did have ...</td>\n",
       "      <td>This movie wasn't the best... but it did have ...</td>\n",
       "      <td>1</td>\n",
       "    </tr>\n",
       "    <tr>\n",
       "      <th>857</th>\n",
       "      <td>1</td>\n",
       "      <td>Hey, I didn't order no cab! \"Yeah, well you go...</td>\n",
       "      <td>Hey, I didn't order no cab! \"Yeah, well you go...</td>\n",
       "      <td>1</td>\n",
       "    </tr>\n",
       "    <tr>\n",
       "      <th>1354</th>\n",
       "      <td>0</td>\n",
       "      <td>This thing, directed by french sensation Alonz...</td>\n",
       "      <td>This thing, directed by french sensation Patri...</td>\n",
       "      <td>1</td>\n",
       "    </tr>\n",
       "    <tr>\n",
       "      <th>1584</th>\n",
       "      <td>0</td>\n",
       "      <td>As a young lass, beautiful Joan Woodbury (as R...</td>\n",
       "      <td>As a young lass, beautiful Joan Woodbury (as R...</td>\n",
       "      <td>1</td>\n",
       "    </tr>\n",
       "    <tr>\n",
       "      <th>1602</th>\n",
       "      <td>1</td>\n",
       "      <td>For years i've had a distant memory of watchin...</td>\n",
       "      <td>For years i've had a distant memory of watchin...</td>\n",
       "      <td>2</td>\n",
       "    </tr>\n",
       "    <tr>\n",
       "      <th>2197</th>\n",
       "      <td>0</td>\n",
       "      <td>So, Wynorski remakes Curse of the Komodo a sec...</td>\n",
       "      <td>So, Wynorski remakes Curse of the Komodo a sec...</td>\n",
       "      <td>1</td>\n",
       "    </tr>\n",
       "    <tr>\n",
       "      <th>2351</th>\n",
       "      <td>0</td>\n",
       "      <td>AlonzoLook Who's Talking' if his stars get an...</td>\n",
       "      <td>Blindingly stupid guff from the formerly talen...</td>\n",
       "      <td>1</td>\n",
       "    </tr>\n",
       "    <tr>\n",
       "      <th>3220</th>\n",
       "      <td>1</td>\n",
       "      <td>Good Lord... How this ended up in our DVD play...</td>\n",
       "      <td>Good Lord... How this ended up in our DVD play...</td>\n",
       "      <td>1</td>\n",
       "    </tr>\n",
       "    <tr>\n",
       "      <th>3614</th>\n",
       "      <td>1</td>\n",
       "      <td>I'm a sucker for a decent superhero movie. (I'...</td>\n",
       "      <td>I'm a sucker for a decent superhero movie. (I'...</td>\n",
       "      <td>1</td>\n",
       "    </tr>\n",
       "    <tr>\n",
       "      <th>3933</th>\n",
       "      <td>0</td>\n",
       "      <td>This series doesn't present the British view o...</td>\n",
       "      <td>This series doesn't present the British view o...</td>\n",
       "      <td>1</td>\n",
       "    </tr>\n",
       "    <tr>\n",
       "      <th>4212</th>\n",
       "      <td>0</td>\n",
       "      <td>The Man with Bogart's Face sets it self up to ...</td>\n",
       "      <td>The Man with Bogart's Face sets it self up to ...</td>\n",
       "      <td>1</td>\n",
       "    </tr>\n",
       "    <tr>\n",
       "      <th>5098</th>\n",
       "      <td>0</td>\n",
       "      <td>I believe the production value is OK..probably...</td>\n",
       "      <td>I believe the production value is OK..probably...</td>\n",
       "      <td>2</td>\n",
       "    </tr>\n",
       "    <tr>\n",
       "      <th>5906</th>\n",
       "      <td>0</td>\n",
       "      <td>Okay, I agree with all the Alonzo haters on th...</td>\n",
       "      <td>Okay, I agree with all the Barney haters on th...</td>\n",
       "      <td>1</td>\n",
       "    </tr>\n",
       "    <tr>\n",
       "      <th>6637</th>\n",
       "      <td>0</td>\n",
       "      <td>What is night vision? Well according to the st...</td>\n",
       "      <td>What is night vision? Well according to the st...</td>\n",
       "      <td>1</td>\n",
       "    </tr>\n",
       "  </tbody>\n",
       "</table>\n",
       "</div>"
      ],
      "text/plain": [
       "      0                                                  1  \\\n",
       "165   1  I only voted excellent because this film took ...   \n",
       "397   0  This movie wasn't the best... but it did have ...   \n",
       "857   1  Hey, I didn't order no cab! \"Yeah, well you go...   \n",
       "1354  0  This thing, directed by french sensation Alonz...   \n",
       "1584  0  As a young lass, beautiful Joan Woodbury (as R...   \n",
       "1602  1  For years i've had a distant memory of watchin...   \n",
       "2197  0  So, Wynorski remakes Curse of the Komodo a sec...   \n",
       "2351  0   AlonzoLook Who's Talking' if his stars get an...   \n",
       "3220  1  Good Lord... How this ended up in our DVD play...   \n",
       "3614  1  I'm a sucker for a decent superhero movie. (I'...   \n",
       "3933  0  This series doesn't present the British view o...   \n",
       "4212  0  The Man with Bogart's Face sets it self up to ...   \n",
       "5098  0  I believe the production value is OK..probably...   \n",
       "5906  0  Okay, I agree with all the Alonzo haters on th...   \n",
       "6637  0  What is night vision? Well according to the st...   \n",
       "\n",
       "                                               template  err  \n",
       "165   I only voted excellent because this film took ...    1  \n",
       "397   This movie wasn't the best... but it did have ...    1  \n",
       "857   Hey, I didn't order no cab! \"Yeah, well you go...    1  \n",
       "1354  This thing, directed by french sensation Patri...    1  \n",
       "1584  As a young lass, beautiful Joan Woodbury (as R...    1  \n",
       "1602  For years i've had a distant memory of watchin...    2  \n",
       "2197  So, Wynorski remakes Curse of the Komodo a sec...    1  \n",
       "2351  Blindingly stupid guff from the formerly talen...    1  \n",
       "3220  Good Lord... How this ended up in our DVD play...    1  \n",
       "3614  I'm a sucker for a decent superhero movie. (I'...    1  \n",
       "3933  This series doesn't present the British view o...    1  \n",
       "4212  The Man with Bogart's Face sets it self up to ...    1  \n",
       "5098  I believe the production value is OK..probably...    2  \n",
       "5906  Okay, I agree with all the Barney haters on th...    1  \n",
       "6637  What is night vision? Well according to the st...    1  "
      ]
     },
     "execution_count": 980,
     "metadata": {},
     "output_type": "execute_result"
    }
   ],
   "source": [
    "gcm[gcm[\"err\"] > 0]"
   ]
  },
  {
   "cell_type": "code",
   "execution_count": 977,
   "metadata": {},
   "outputs": [
    {
     "data": {
      "text/html": [
       "<div>\n",
       "<style scoped>\n",
       "    .dataframe tbody tr th:only-of-type {\n",
       "        vertical-align: middle;\n",
       "    }\n",
       "\n",
       "    .dataframe tbody tr th {\n",
       "        vertical-align: top;\n",
       "    }\n",
       "\n",
       "    .dataframe thead th {\n",
       "        text-align: right;\n",
       "    }\n",
       "</style>\n",
       "<table border=\"1\" class=\"dataframe\">\n",
       "  <thead>\n",
       "    <tr style=\"text-align: right;\">\n",
       "      <th></th>\n",
       "      <th>0</th>\n",
       "      <th>1</th>\n",
       "      <th>template</th>\n",
       "      <th>err</th>\n",
       "    </tr>\n",
       "  </thead>\n",
       "  <tbody>\n",
       "    <tr>\n",
       "      <th>165</th>\n",
       "      <td>1</td>\n",
       "      <td>I only voted excellent because this film took ...</td>\n",
       "      <td>I only voted excellent because this film took ...</td>\n",
       "      <td>1</td>\n",
       "    </tr>\n",
       "    <tr>\n",
       "      <th>397</th>\n",
       "      <td>0</td>\n",
       "      <td>This movie wasn't the best... but it did have ...</td>\n",
       "      <td>This movie wasn't the best... but it did have ...</td>\n",
       "      <td>1</td>\n",
       "    </tr>\n",
       "    <tr>\n",
       "      <th>857</th>\n",
       "      <td>1</td>\n",
       "      <td>Hey, I didn't order no cab! \"Yeah, well you go...</td>\n",
       "      <td>Hey, I didn't order no cab! \"Yeah, well you go...</td>\n",
       "      <td>1</td>\n",
       "    </tr>\n",
       "    <tr>\n",
       "      <th>1354</th>\n",
       "      <td>0</td>\n",
       "      <td>This thing, directed by french sensation Ebony...</td>\n",
       "      <td>This thing, directed by french sensation Patri...</td>\n",
       "      <td>1</td>\n",
       "    </tr>\n",
       "    <tr>\n",
       "      <th>1584</th>\n",
       "      <td>0</td>\n",
       "      <td>As a young lass, beautiful Joan Woodbury (as R...</td>\n",
       "      <td>As a young lass, beautiful Joan Woodbury (as R...</td>\n",
       "      <td>1</td>\n",
       "    </tr>\n",
       "    <tr>\n",
       "      <th>1602</th>\n",
       "      <td>1</td>\n",
       "      <td>For years i've had a distant memory of watchin...</td>\n",
       "      <td>For years i've had a distant memory of watchin...</td>\n",
       "      <td>2</td>\n",
       "    </tr>\n",
       "    <tr>\n",
       "      <th>2197</th>\n",
       "      <td>0</td>\n",
       "      <td>So, Wynorski remakes Curse of the Komodo a sec...</td>\n",
       "      <td>So, Wynorski remakes Curse of the Komodo a sec...</td>\n",
       "      <td>1</td>\n",
       "    </tr>\n",
       "    <tr>\n",
       "      <th>2351</th>\n",
       "      <td>0</td>\n",
       "      <td>EbonyLook Who's Talking' if her stars get any...</td>\n",
       "      <td>Blindingly stupid guff from the formerly talen...</td>\n",
       "      <td>1</td>\n",
       "    </tr>\n",
       "    <tr>\n",
       "      <th>3220</th>\n",
       "      <td>1</td>\n",
       "      <td>Good Lord... How this ended up in our DVD play...</td>\n",
       "      <td>Good Lord... How this ended up in our DVD play...</td>\n",
       "      <td>1</td>\n",
       "    </tr>\n",
       "    <tr>\n",
       "      <th>3614</th>\n",
       "      <td>1</td>\n",
       "      <td>I'm a sucker for a decent superhero movie. (I'...</td>\n",
       "      <td>I'm a sucker for a decent superhero movie. (I'...</td>\n",
       "      <td>1</td>\n",
       "    </tr>\n",
       "    <tr>\n",
       "      <th>3933</th>\n",
       "      <td>0</td>\n",
       "      <td>This series doesn't present the British view o...</td>\n",
       "      <td>This series doesn't present the British view o...</td>\n",
       "      <td>1</td>\n",
       "    </tr>\n",
       "    <tr>\n",
       "      <th>4212</th>\n",
       "      <td>0</td>\n",
       "      <td>The Man with Bogart's Face sets it self up to ...</td>\n",
       "      <td>The Man with Bogart's Face sets it self up to ...</td>\n",
       "      <td>1</td>\n",
       "    </tr>\n",
       "    <tr>\n",
       "      <th>5098</th>\n",
       "      <td>0</td>\n",
       "      <td>I believe the production value is OK..probably...</td>\n",
       "      <td>I believe the production value is OK..probably...</td>\n",
       "      <td>2</td>\n",
       "    </tr>\n",
       "    <tr>\n",
       "      <th>5906</th>\n",
       "      <td>0</td>\n",
       "      <td>Okay, I agree with all the Ebony haters on thi...</td>\n",
       "      <td>Okay, I agree with all the Barney haters on th...</td>\n",
       "      <td>1</td>\n",
       "    </tr>\n",
       "    <tr>\n",
       "      <th>6637</th>\n",
       "      <td>0</td>\n",
       "      <td>What is night vision? Well according to the st...</td>\n",
       "      <td>What is night vision? Well according to the st...</td>\n",
       "      <td>1</td>\n",
       "    </tr>\n",
       "  </tbody>\n",
       "</table>\n",
       "</div>"
      ],
      "text/plain": [
       "      0                                                  1  \\\n",
       "165   1  I only voted excellent because this film took ...   \n",
       "397   0  This movie wasn't the best... but it did have ...   \n",
       "857   1  Hey, I didn't order no cab! \"Yeah, well you go...   \n",
       "1354  0  This thing, directed by french sensation Ebony...   \n",
       "1584  0  As a young lass, beautiful Joan Woodbury (as R...   \n",
       "1602  1  For years i've had a distant memory of watchin...   \n",
       "2197  0  So, Wynorski remakes Curse of the Komodo a sec...   \n",
       "2351  0   EbonyLook Who's Talking' if her stars get any...   \n",
       "3220  1  Good Lord... How this ended up in our DVD play...   \n",
       "3614  1  I'm a sucker for a decent superhero movie. (I'...   \n",
       "3933  0  This series doesn't present the British view o...   \n",
       "4212  0  The Man with Bogart's Face sets it self up to ...   \n",
       "5098  0  I believe the production value is OK..probably...   \n",
       "5906  0  Okay, I agree with all the Ebony haters on thi...   \n",
       "6637  0  What is night vision? Well according to the st...   \n",
       "\n",
       "                                               template  err  \n",
       "165   I only voted excellent because this film took ...    1  \n",
       "397   This movie wasn't the best... but it did have ...    1  \n",
       "857   Hey, I didn't order no cab! \"Yeah, well you go...    1  \n",
       "1354  This thing, directed by french sensation Patri...    1  \n",
       "1584  As a young lass, beautiful Joan Woodbury (as R...    1  \n",
       "1602  For years i've had a distant memory of watchin...    2  \n",
       "2197  So, Wynorski remakes Curse of the Komodo a sec...    1  \n",
       "2351  Blindingly stupid guff from the formerly talen...    1  \n",
       "3220  Good Lord... How this ended up in our DVD play...    1  \n",
       "3614  I'm a sucker for a decent superhero movie. (I'...    1  \n",
       "3933  This series doesn't present the British view o...    1  \n",
       "4212  The Man with Bogart's Face sets it self up to ...    1  \n",
       "5098  I believe the production value is OK..probably...    2  \n",
       "5906  Okay, I agree with all the Barney haters on th...    1  \n",
       "6637  What is night vision? Well according to the st...    1  "
      ]
     },
     "execution_count": 977,
     "metadata": {},
     "output_type": "execute_result"
    }
   ],
   "source": [
    "gcf[gcf[\"err\"] > 0]"
   ]
  },
  {
   "cell_type": "markdown",
   "metadata": {},
   "source": [
    "#### Analysing the Error"
   ]
  },
  {
   "cell_type": "code",
   "execution_count": 1037,
   "metadata": {},
   "outputs": [
    {
     "name": "stdout",
     "output_type": "stream",
     "text": [
      "What is night vision? Well according to the star (Williamson) let's see...Alonzo says to him 'Alonzo's getting dark outside' to which he replies 'Alonzo makes for better.........'night vision.' What in the hell does that mean? In fact what in the hell is this movie trying to say? It has plot holes that you could drive the killer's van through. Not to mention a cop on duty drinking, Robert Forster sleepwalking through this bizarre attempt at cashing in on the serial killer craze, and a killer who videos his murders. That's actually all I remember. The film took place in Texas, had a few car chases, and a clichéd ending. Perhaps if one watches this film with their eyes closed - it might be good? After all, without being able to see it....it would make for better.....night vision. Did that make sense? Nope. And neither does this film.\n"
     ]
    },
    {
     "data": {
      "text/plain": [
       "\"What is night vision? Well according to the star (Williamson) let's see...one package store owner says to him 'it's getting dark outside' to which he replies 'it makes for better.........'night vision.' What in the hell does that mean? In fact what in the hell is this movie trying to say? It has plot holes that you could drive the killer's van through. Not to mention a cop on duty drinking, Robert Forster sleepwalking through this bizarre attempt at cashing in on the serial killer craze, and a killer who videos his murders. That's actually all I remember. The film took place in Texas, had a few car chases, and a clichéd ending. Perhaps if one watches this film with their eyes closed - it might be good? After all, without being able to see it....it would make for better.....night vision. Did that make sense? Nope. And neither does this film.\""
      ]
     },
     "execution_count": 1037,
     "metadata": {},
     "output_type": "execute_result"
    }
   ],
   "source": [
    "idx = 15\n",
    "text = gcm[gcm[\"err\"] > 0][idx-1:idx].values[0][1]\n",
    "print(text)\n",
    "text = gcm[gcm[\"err\"] > 0][idx-1:idx].values[0][2]\n",
    "# text = \"Sean Bean returns as Napoleonic hero Richard Sharpe in Alonzo's Honour, the fifth movie in the series and as always Patrick Harper and the rest of Sharpes chosen men are all along for the ride, but this time Alonzo Alonzo is in serious trouble. Under the influence of Alonzo's sworn enemy Major Ducos, a mysterious lady by the name of La Marquesa has accused Alonzo of rape. Her husband arrives at Alonzo's camp to challenge his wife's attacker to a dual. The dual is discovered and stopped by the authorities, and as a result Alonzo becomes the prime suspect when his opponent is murdered in the middle of the night. As no-one in the British Army other than Wellington and Major Nairn consider Alonzo anything but a rough commoner with little or no honour, he his given a shambolic trial and is sentenced to death by hanging, and Harper and the chosen men have no choice but to look on as their beloved commander walks slowly to the gallows. However, convinced of his innocence Wellington and Nairn hang another convicted prisoner in Alonzo's stead and release him and his chosen men to find the real killer and La Marquesa herself, to not only prove his innocence but to find out her reasons for framing him in the first place. Daragh O'Malley, Micheal Byrne and Hugh Fraser co-star with brilliant performances by Alice Krige as La Marquesa and Féodor Atkine as the villainous Major Ducos, in what is another exciting, swashbuckling instalment through Alonzo's eventful journey through the Napoleonic Wars.\"\n",
    "text"
   ]
  },
  {
   "cell_type": "code",
   "execution_count": 1038,
   "metadata": {},
   "outputs": [
    {
     "data": {
      "text/plain": [
       "2"
      ]
     },
     "execution_count": 1038,
     "metadata": {},
     "output_type": "execute_result"
    }
   ],
   "source": [
    "text = gcm[gcm[\"err\"] > 0][idx-1:idx].values[0][1]\n",
    "get_number_of_grammar_error_from_language_tool(text)"
   ]
  },
  {
   "cell_type": "code",
   "execution_count": 1039,
   "metadata": {},
   "outputs": [
    {
     "data": {
      "text/plain": [
       "1"
      ]
     },
     "execution_count": 1039,
     "metadata": {},
     "output_type": "execute_result"
    }
   ],
   "source": [
    "text = gcm[gcm[\"err\"] > 0][idx-1:idx].values[0][2]\n",
    "get_number_of_grammar_error_from_language_tool(text)"
   ]
  },
  {
   "cell_type": "code",
   "execution_count": 1040,
   "metadata": {},
   "outputs": [
    {
     "name": "stdout",
     "output_type": "stream",
     "text": [
      "one package store owner\n",
      "[one package store owner, him, it, he, it]\n",
      "the hell\n",
      "[the hell, the hell]\n",
      "Robert Forster\n",
      "[Robert Forster, his]\n",
      "The film\n",
      "[The film, this film, it, it, it, this film]\n"
     ]
    }
   ],
   "source": [
    "c = Coref(text)\n",
    "c.get_resolved()\n",
    "for r in c.get_refs() :\n",
    "    print(r.get_name())\n",
    "    print(r.get_reference())"
   ]
  }
 ],
 "metadata": {
  "kernelspec": {
   "display_name": "Python 3",
   "language": "python",
   "name": "python3"
  },
  "language_info": {
   "codemirror_mode": {
    "name": "ipython",
    "version": 3
   },
   "file_extension": ".py",
   "mimetype": "text/x-python",
   "name": "python",
   "nbconvert_exporter": "python",
   "pygments_lexer": "ipython3",
   "version": "3.6.8"
  }
 },
 "nbformat": 4,
 "nbformat_minor": 4
}
