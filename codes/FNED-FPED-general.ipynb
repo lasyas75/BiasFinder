{
 "cells": [
  {
   "cell_type": "markdown",
   "metadata": {},
   "source": [
    "## FNED and FPED Implementation"
   ]
  },
  {
   "cell_type": "code",
   "execution_count": 33,
   "metadata": {},
   "outputs": [],
   "source": [
    "import pandas as pd\n",
    "import numpy as np\n",
    "import math"
   ]
  },
  {
   "cell_type": "markdown",
   "metadata": {},
   "source": [
    "#### Read Original Data"
   ]
  },
  {
   "cell_type": "code",
   "execution_count": 142,
   "metadata": {},
   "outputs": [
    {
     "data": {
      "text/html": [
       "<div>\n",
       "<style scoped>\n",
       "    .dataframe tbody tr th:only-of-type {\n",
       "        vertical-align: middle;\n",
       "    }\n",
       "\n",
       "    .dataframe tbody tr th {\n",
       "        vertical-align: top;\n",
       "    }\n",
       "\n",
       "    .dataframe thead th {\n",
       "        text-align: right;\n",
       "    }\n",
       "</style>\n",
       "<table border=\"1\" class=\"dataframe\">\n",
       "  <thead>\n",
       "    <tr style=\"text-align: right;\">\n",
       "      <th></th>\n",
       "      <th>0</th>\n",
       "      <th>1</th>\n",
       "      <th>mutant</th>\n",
       "      <th>template</th>\n",
       "      <th>gender</th>\n",
       "      <th>label</th>\n",
       "      <th>country</th>\n",
       "    </tr>\n",
       "  </thead>\n",
       "  <tbody>\n",
       "    <tr>\n",
       "      <th>0</th>\n",
       "      <td>0</td>\n",
       "      <td>Why do movie makers always go against the atte...</td>\n",
       "      <td>Why do movie makers always go against the atte...</td>\n",
       "      <td>Why do movie makers always go against @DetOTHE...</td>\n",
       "      <td>attendant</td>\n",
       "      <td>NaN</td>\n",
       "      <td>NaN</td>\n",
       "    </tr>\n",
       "    <tr>\n",
       "      <th>1</th>\n",
       "      <td>0</td>\n",
       "      <td>Why do movie makers always go against the cash...</td>\n",
       "      <td>Why do movie makers always go against the cash...</td>\n",
       "      <td>Why do movie makers always go against @DetOTHE...</td>\n",
       "      <td>cashier</td>\n",
       "      <td>NaN</td>\n",
       "      <td>NaN</td>\n",
       "    </tr>\n",
       "    <tr>\n",
       "      <th>2</th>\n",
       "      <td>0</td>\n",
       "      <td>Why do movie makers always go against the teac...</td>\n",
       "      <td>Why do movie makers always go against the teac...</td>\n",
       "      <td>Why do movie makers always go against @DetOTHE...</td>\n",
       "      <td>teacher</td>\n",
       "      <td>NaN</td>\n",
       "      <td>NaN</td>\n",
       "    </tr>\n",
       "    <tr>\n",
       "      <th>3</th>\n",
       "      <td>0</td>\n",
       "      <td>Why do movie makers always go against the nurs...</td>\n",
       "      <td>Why do movie makers always go against the nurs...</td>\n",
       "      <td>Why do movie makers always go against @DetOTHE...</td>\n",
       "      <td>nurse</td>\n",
       "      <td>NaN</td>\n",
       "      <td>NaN</td>\n",
       "    </tr>\n",
       "    <tr>\n",
       "      <th>4</th>\n",
       "      <td>0</td>\n",
       "      <td>Why do movie makers always go against the assi...</td>\n",
       "      <td>Why do movie makers always go against the assi...</td>\n",
       "      <td>Why do movie makers always go against @DetOTHE...</td>\n",
       "      <td>assistant</td>\n",
       "      <td>NaN</td>\n",
       "      <td>NaN</td>\n",
       "    </tr>\n",
       "    <tr>\n",
       "      <th>...</th>\n",
       "      <td>...</td>\n",
       "      <td>...</td>\n",
       "      <td>...</td>\n",
       "      <td>...</td>\n",
       "      <td>...</td>\n",
       "      <td>...</td>\n",
       "      <td>...</td>\n",
       "    </tr>\n",
       "    <tr>\n",
       "      <th>39495</th>\n",
       "      <td>1</td>\n",
       "      <td>This 1953 Sam Fuller movie contains some of hi...</td>\n",
       "      <td>This 1953 Sam Fuller movie contains some of hi...</td>\n",
       "      <td>This 1953 Sam Fuller movie contains some of hi...</td>\n",
       "      <td>nutritionist</td>\n",
       "      <td>NaN</td>\n",
       "      <td>NaN</td>\n",
       "    </tr>\n",
       "    <tr>\n",
       "      <th>39496</th>\n",
       "      <td>1</td>\n",
       "      <td>This 1953 Sam Fuller movie contains some of hi...</td>\n",
       "      <td>This 1953 Sam Fuller movie contains some of hi...</td>\n",
       "      <td>This 1953 Sam Fuller movie contains some of hi...</td>\n",
       "      <td>photographer</td>\n",
       "      <td>NaN</td>\n",
       "      <td>NaN</td>\n",
       "    </tr>\n",
       "    <tr>\n",
       "      <th>39497</th>\n",
       "      <td>1</td>\n",
       "      <td>This 1953 Sam Fuller movie contains some of hi...</td>\n",
       "      <td>This 1953 Sam Fuller movie contains some of hi...</td>\n",
       "      <td>This 1953 Sam Fuller movie contains some of hi...</td>\n",
       "      <td>police officer</td>\n",
       "      <td>NaN</td>\n",
       "      <td>NaN</td>\n",
       "    </tr>\n",
       "    <tr>\n",
       "      <th>39498</th>\n",
       "      <td>1</td>\n",
       "      <td>This 1953 Sam Fuller movie contains some of hi...</td>\n",
       "      <td>This 1953 Sam Fuller movie contains some of hi...</td>\n",
       "      <td>This 1953 Sam Fuller movie contains some of hi...</td>\n",
       "      <td>singer</td>\n",
       "      <td>NaN</td>\n",
       "      <td>NaN</td>\n",
       "    </tr>\n",
       "    <tr>\n",
       "      <th>39499</th>\n",
       "      <td>1</td>\n",
       "      <td>This 1953 Sam Fuller movie contains some of hi...</td>\n",
       "      <td>This 1953 Sam Fuller movie contains some of hi...</td>\n",
       "      <td>This 1953 Sam Fuller movie contains some of hi...</td>\n",
       "      <td>undertaker</td>\n",
       "      <td>NaN</td>\n",
       "      <td>NaN</td>\n",
       "    </tr>\n",
       "  </tbody>\n",
       "</table>\n",
       "<p>39500 rows × 7 columns</p>\n",
       "</div>"
      ],
      "text/plain": [
       "       0                                                  1  \\\n",
       "0      0  Why do movie makers always go against the atte...   \n",
       "1      0  Why do movie makers always go against the cash...   \n",
       "2      0  Why do movie makers always go against the teac...   \n",
       "3      0  Why do movie makers always go against the nurs...   \n",
       "4      0  Why do movie makers always go against the assi...   \n",
       "...   ..                                                ...   \n",
       "39495  1  This 1953 Sam Fuller movie contains some of hi...   \n",
       "39496  1  This 1953 Sam Fuller movie contains some of hi...   \n",
       "39497  1  This 1953 Sam Fuller movie contains some of hi...   \n",
       "39498  1  This 1953 Sam Fuller movie contains some of hi...   \n",
       "39499  1  This 1953 Sam Fuller movie contains some of hi...   \n",
       "\n",
       "                                                  mutant  \\\n",
       "0      Why do movie makers always go against the atte...   \n",
       "1      Why do movie makers always go against the cash...   \n",
       "2      Why do movie makers always go against the teac...   \n",
       "3      Why do movie makers always go against the nurs...   \n",
       "4      Why do movie makers always go against the assi...   \n",
       "...                                                  ...   \n",
       "39495  This 1953 Sam Fuller movie contains some of hi...   \n",
       "39496  This 1953 Sam Fuller movie contains some of hi...   \n",
       "39497  This 1953 Sam Fuller movie contains some of hi...   \n",
       "39498  This 1953 Sam Fuller movie contains some of hi...   \n",
       "39499  This 1953 Sam Fuller movie contains some of hi...   \n",
       "\n",
       "                                                template          gender  \\\n",
       "0      Why do movie makers always go against @DetOTHE...       attendant   \n",
       "1      Why do movie makers always go against @DetOTHE...         cashier   \n",
       "2      Why do movie makers always go against @DetOTHE...         teacher   \n",
       "3      Why do movie makers always go against @DetOTHE...           nurse   \n",
       "4      Why do movie makers always go against @DetOTHE...       assistant   \n",
       "...                                                  ...             ...   \n",
       "39495  This 1953 Sam Fuller movie contains some of hi...    nutritionist   \n",
       "39496  This 1953 Sam Fuller movie contains some of hi...    photographer   \n",
       "39497  This 1953 Sam Fuller movie contains some of hi...  police officer   \n",
       "39498  This 1953 Sam Fuller movie contains some of hi...          singer   \n",
       "39499  This 1953 Sam Fuller movie contains some of hi...      undertaker   \n",
       "\n",
       "       label  country  \n",
       "0        NaN      NaN  \n",
       "1        NaN      NaN  \n",
       "2        NaN      NaN  \n",
       "3        NaN      NaN  \n",
       "4        NaN      NaN  \n",
       "...      ...      ...  \n",
       "39495    NaN      NaN  \n",
       "39496    NaN      NaN  \n",
       "39497    NaN      NaN  \n",
       "39498    NaN      NaN  \n",
       "39499    NaN      NaN  \n",
       "\n",
       "[39500 rows x 7 columns]"
      ]
     },
     "execution_count": 142,
     "metadata": {},
     "output_type": "execute_result"
    }
   ],
   "source": [
    "data_dir = \"occupation\"\n",
    "df = pd.read_csv(\"../data/\" + data_dir + \"/test.csv\", header=None, sep=\"\\t\", names=[0, 1, \"mutant\", \"template\", \"gender\", \"label\", \"country\"])\n",
    "df"
   ]
  },
  {
   "cell_type": "markdown",
   "metadata": {},
   "source": [
    "#### Read Prediction Result from the Model\n",
    "\n",
    "Make sure you set variable `ouput_dir` with the same `output_dir` in the fine-tuning parameter"
   ]
  },
  {
   "cell_type": "code",
   "execution_count": 143,
   "metadata": {},
   "outputs": [],
   "source": [
    "def read_txt(fpath):\n",
    "    pred = []\n",
    "    file = open(fpath)\n",
    "    lines = file.readlines()\n",
    "    for l in lines :\n",
    "        pred.append(int(l))\n",
    "    file.close()\n",
    "    \n",
    "    return pred"
   ]
  },
  {
   "cell_type": "code",
   "execution_count": 144,
   "metadata": {},
   "outputs": [
    {
     "name": "stdout",
     "output_type": "stream",
     "text": [
      "39500\n"
     ]
    }
   ],
   "source": [
    "output_dir = \"occupation\"\n",
    "\n",
    "result_dir = \"../result/\" + output_dir + \"/\"\n",
    "\n",
    "path = result_dir + \"results_data.txt\"\n",
    "\n",
    "pred = read_txt(path)\n",
    "\n",
    "print(len(pred))"
   ]
  },
  {
   "cell_type": "code",
   "execution_count": 150,
   "metadata": {},
   "outputs": [],
   "source": [
    "df[\"pred\"] = pred\n",
    "df[\"label\"] = df[0]"
   ]
  },
  {
   "cell_type": "code",
   "execution_count": 151,
   "metadata": {},
   "outputs": [
    {
     "data": {
      "text/html": [
       "<div>\n",
       "<style scoped>\n",
       "    .dataframe tbody tr th:only-of-type {\n",
       "        vertical-align: middle;\n",
       "    }\n",
       "\n",
       "    .dataframe tbody tr th {\n",
       "        vertical-align: top;\n",
       "    }\n",
       "\n",
       "    .dataframe thead th {\n",
       "        text-align: right;\n",
       "    }\n",
       "</style>\n",
       "<table border=\"1\" class=\"dataframe\">\n",
       "  <thead>\n",
       "    <tr style=\"text-align: right;\">\n",
       "      <th></th>\n",
       "      <th>0</th>\n",
       "      <th>1</th>\n",
       "      <th>mutant</th>\n",
       "      <th>template</th>\n",
       "      <th>gender</th>\n",
       "      <th>label</th>\n",
       "      <th>country</th>\n",
       "      <th>pred</th>\n",
       "    </tr>\n",
       "  </thead>\n",
       "  <tbody>\n",
       "    <tr>\n",
       "      <th>0</th>\n",
       "      <td>0</td>\n",
       "      <td>Why do movie makers always go against the atte...</td>\n",
       "      <td>Why do movie makers always go against the atte...</td>\n",
       "      <td>Why do movie makers always go against @DetOTHE...</td>\n",
       "      <td>attendant</td>\n",
       "      <td>0</td>\n",
       "      <td>NaN</td>\n",
       "      <td>0</td>\n",
       "    </tr>\n",
       "    <tr>\n",
       "      <th>1</th>\n",
       "      <td>0</td>\n",
       "      <td>Why do movie makers always go against the cash...</td>\n",
       "      <td>Why do movie makers always go against the cash...</td>\n",
       "      <td>Why do movie makers always go against @DetOTHE...</td>\n",
       "      <td>cashier</td>\n",
       "      <td>0</td>\n",
       "      <td>NaN</td>\n",
       "      <td>0</td>\n",
       "    </tr>\n",
       "    <tr>\n",
       "      <th>2</th>\n",
       "      <td>0</td>\n",
       "      <td>Why do movie makers always go against the teac...</td>\n",
       "      <td>Why do movie makers always go against the teac...</td>\n",
       "      <td>Why do movie makers always go against @DetOTHE...</td>\n",
       "      <td>teacher</td>\n",
       "      <td>0</td>\n",
       "      <td>NaN</td>\n",
       "      <td>0</td>\n",
       "    </tr>\n",
       "    <tr>\n",
       "      <th>3</th>\n",
       "      <td>0</td>\n",
       "      <td>Why do movie makers always go against the nurs...</td>\n",
       "      <td>Why do movie makers always go against the nurs...</td>\n",
       "      <td>Why do movie makers always go against @DetOTHE...</td>\n",
       "      <td>nurse</td>\n",
       "      <td>0</td>\n",
       "      <td>NaN</td>\n",
       "      <td>0</td>\n",
       "    </tr>\n",
       "    <tr>\n",
       "      <th>4</th>\n",
       "      <td>0</td>\n",
       "      <td>Why do movie makers always go against the assi...</td>\n",
       "      <td>Why do movie makers always go against the assi...</td>\n",
       "      <td>Why do movie makers always go against @DetOTHE...</td>\n",
       "      <td>assistant</td>\n",
       "      <td>0</td>\n",
       "      <td>NaN</td>\n",
       "      <td>0</td>\n",
       "    </tr>\n",
       "  </tbody>\n",
       "</table>\n",
       "</div>"
      ],
      "text/plain": [
       "   0                                                  1  \\\n",
       "0  0  Why do movie makers always go against the atte...   \n",
       "1  0  Why do movie makers always go against the cash...   \n",
       "2  0  Why do movie makers always go against the teac...   \n",
       "3  0  Why do movie makers always go against the nurs...   \n",
       "4  0  Why do movie makers always go against the assi...   \n",
       "\n",
       "                                              mutant  \\\n",
       "0  Why do movie makers always go against the atte...   \n",
       "1  Why do movie makers always go against the cash...   \n",
       "2  Why do movie makers always go against the teac...   \n",
       "3  Why do movie makers always go against the nurs...   \n",
       "4  Why do movie makers always go against the assi...   \n",
       "\n",
       "                                            template     gender  label  \\\n",
       "0  Why do movie makers always go against @DetOTHE...  attendant      0   \n",
       "1  Why do movie makers always go against @DetOTHE...    cashier      0   \n",
       "2  Why do movie makers always go against @DetOTHE...    teacher      0   \n",
       "3  Why do movie makers always go against @DetOTHE...      nurse      0   \n",
       "4  Why do movie makers always go against @DetOTHE...  assistant      0   \n",
       "\n",
       "   country  pred  \n",
       "0      NaN     0  \n",
       "1      NaN     0  \n",
       "2      NaN     0  \n",
       "3      NaN     0  \n",
       "4      NaN     0  "
      ]
     },
     "execution_count": 151,
     "metadata": {},
     "output_type": "execute_result"
    }
   ],
   "source": [
    "df.head()"
   ]
  },
  {
   "cell_type": "markdown",
   "metadata": {},
   "source": [
    "#### Group by Country\n",
    "\n",
    "In this case, we group by `country`. You can try to group by `gender`.\n",
    "\n",
    "If you want to calculate FPED and FNED for `gender`, you can change the variable."
   ]
  },
  {
   "cell_type": "code",
   "execution_count": 152,
   "metadata": {},
   "outputs": [
    {
     "data": {
      "text/html": [
       "<div>\n",
       "<style scoped>\n",
       "    .dataframe tbody tr th:only-of-type {\n",
       "        vertical-align: middle;\n",
       "    }\n",
       "\n",
       "    .dataframe tbody tr th {\n",
       "        vertical-align: top;\n",
       "    }\n",
       "\n",
       "    .dataframe thead th {\n",
       "        text-align: right;\n",
       "    }\n",
       "</style>\n",
       "<table border=\"1\" class=\"dataframe\">\n",
       "  <thead>\n",
       "    <tr style=\"text-align: right;\">\n",
       "      <th></th>\n",
       "      <th>0</th>\n",
       "      <th>1</th>\n",
       "      <th>mutant</th>\n",
       "      <th>template</th>\n",
       "      <th>label</th>\n",
       "      <th>country</th>\n",
       "      <th>pred</th>\n",
       "    </tr>\n",
       "    <tr>\n",
       "      <th>gender</th>\n",
       "      <th></th>\n",
       "      <th></th>\n",
       "      <th></th>\n",
       "      <th></th>\n",
       "      <th></th>\n",
       "      <th></th>\n",
       "      <th></th>\n",
       "    </tr>\n",
       "  </thead>\n",
       "  <tbody>\n",
       "    <tr>\n",
       "      <th>CEO</th>\n",
       "      <td>500</td>\n",
       "      <td>500</td>\n",
       "      <td>500</td>\n",
       "      <td>500</td>\n",
       "      <td>500</td>\n",
       "      <td>0</td>\n",
       "      <td>500</td>\n",
       "    </tr>\n",
       "    <tr>\n",
       "      <th>accountant</th>\n",
       "      <td>500</td>\n",
       "      <td>500</td>\n",
       "      <td>500</td>\n",
       "      <td>500</td>\n",
       "      <td>500</td>\n",
       "      <td>0</td>\n",
       "      <td>500</td>\n",
       "    </tr>\n",
       "    <tr>\n",
       "      <th>air traffic controller</th>\n",
       "      <td>500</td>\n",
       "      <td>500</td>\n",
       "      <td>500</td>\n",
       "      <td>500</td>\n",
       "      <td>500</td>\n",
       "      <td>0</td>\n",
       "      <td>500</td>\n",
       "    </tr>\n",
       "    <tr>\n",
       "      <th>analyst</th>\n",
       "      <td>500</td>\n",
       "      <td>500</td>\n",
       "      <td>500</td>\n",
       "      <td>500</td>\n",
       "      <td>500</td>\n",
       "      <td>0</td>\n",
       "      <td>500</td>\n",
       "    </tr>\n",
       "    <tr>\n",
       "      <th>architect</th>\n",
       "      <td>500</td>\n",
       "      <td>500</td>\n",
       "      <td>500</td>\n",
       "      <td>500</td>\n",
       "      <td>500</td>\n",
       "      <td>0</td>\n",
       "      <td>500</td>\n",
       "    </tr>\n",
       "    <tr>\n",
       "      <th>...</th>\n",
       "      <td>...</td>\n",
       "      <td>...</td>\n",
       "      <td>...</td>\n",
       "      <td>...</td>\n",
       "      <td>...</td>\n",
       "      <td>...</td>\n",
       "      <td>...</td>\n",
       "    </tr>\n",
       "    <tr>\n",
       "      <th>therapist</th>\n",
       "      <td>500</td>\n",
       "      <td>500</td>\n",
       "      <td>500</td>\n",
       "      <td>500</td>\n",
       "      <td>500</td>\n",
       "      <td>0</td>\n",
       "      <td>500</td>\n",
       "    </tr>\n",
       "    <tr>\n",
       "      <th>undertaker</th>\n",
       "      <td>500</td>\n",
       "      <td>500</td>\n",
       "      <td>500</td>\n",
       "      <td>500</td>\n",
       "      <td>500</td>\n",
       "      <td>0</td>\n",
       "      <td>500</td>\n",
       "    </tr>\n",
       "    <tr>\n",
       "      <th>veterinarian</th>\n",
       "      <td>500</td>\n",
       "      <td>500</td>\n",
       "      <td>500</td>\n",
       "      <td>500</td>\n",
       "      <td>500</td>\n",
       "      <td>0</td>\n",
       "      <td>500</td>\n",
       "    </tr>\n",
       "    <tr>\n",
       "      <th>videographer</th>\n",
       "      <td>500</td>\n",
       "      <td>500</td>\n",
       "      <td>500</td>\n",
       "      <td>500</td>\n",
       "      <td>500</td>\n",
       "      <td>0</td>\n",
       "      <td>500</td>\n",
       "    </tr>\n",
       "    <tr>\n",
       "      <th>writer</th>\n",
       "      <td>500</td>\n",
       "      <td>500</td>\n",
       "      <td>500</td>\n",
       "      <td>500</td>\n",
       "      <td>500</td>\n",
       "      <td>0</td>\n",
       "      <td>500</td>\n",
       "    </tr>\n",
       "  </tbody>\n",
       "</table>\n",
       "<p>79 rows × 7 columns</p>\n",
       "</div>"
      ],
      "text/plain": [
       "                          0    1  mutant  template  label  country  pred\n",
       "gender                                                                  \n",
       "CEO                     500  500     500       500    500        0   500\n",
       "accountant              500  500     500       500    500        0   500\n",
       "air traffic controller  500  500     500       500    500        0   500\n",
       "analyst                 500  500     500       500    500        0   500\n",
       "architect               500  500     500       500    500        0   500\n",
       "...                     ...  ...     ...       ...    ...      ...   ...\n",
       "therapist               500  500     500       500    500        0   500\n",
       "undertaker              500  500     500       500    500        0   500\n",
       "veterinarian            500  500     500       500    500        0   500\n",
       "videographer            500  500     500       500    500        0   500\n",
       "writer                  500  500     500       500    500        0   500\n",
       "\n",
       "[79 rows x 7 columns]"
      ]
     },
     "execution_count": 152,
     "metadata": {},
     "output_type": "execute_result"
    }
   ],
   "source": [
    "identifier = \"gender\"\n",
    "dc = df.groupby(identifier)\n",
    "\n",
    "dc.count()"
   ]
  },
  {
   "cell_type": "code",
   "execution_count": 148,
   "metadata": {},
   "outputs": [
    {
     "name": "stdout",
     "output_type": "stream",
     "text": [
      "79\n"
     ]
    }
   ],
   "source": [
    "print(len(dc))\n",
    "\n",
    "identifiers = []\n",
    "for k, v in dict(iter(dc)).items() :\n",
    "    identifiers.append(k)"
   ]
  },
  {
   "cell_type": "markdown",
   "metadata": {},
   "source": [
    "#### Calculate Global Performance"
   ]
  },
  {
   "cell_type": "code",
   "execution_count": 149,
   "metadata": {},
   "outputs": [
    {
     "ename": "ValueError",
     "evalue": "Input contains NaN, infinity or a value too large for dtype('float64').",
     "output_type": "error",
     "traceback": [
      "\u001b[0;31m---------------------------------------------------------------------------\u001b[0m",
      "\u001b[0;31mValueError\u001b[0m                                Traceback (most recent call last)",
      "\u001b[0;32m<ipython-input-149-0ef02d2a8c10>\u001b[0m in \u001b[0;36m<module>\u001b[0;34m\u001b[0m\n\u001b[1;32m      4\u001b[0m \u001b[0my_test\u001b[0m \u001b[0;34m=\u001b[0m \u001b[0mdf\u001b[0m\u001b[0;34m[\u001b[0m\u001b[0;34m\"label\"\u001b[0m\u001b[0;34m]\u001b[0m\u001b[0;34m\u001b[0m\u001b[0;34m\u001b[0m\u001b[0m\n\u001b[1;32m      5\u001b[0m \u001b[0my_pred\u001b[0m \u001b[0;34m=\u001b[0m \u001b[0mdf\u001b[0m\u001b[0;34m[\u001b[0m\u001b[0;34m\"pred\"\u001b[0m\u001b[0;34m]\u001b[0m\u001b[0;34m\u001b[0m\u001b[0;34m\u001b[0m\u001b[0m\n\u001b[0;32m----> 6\u001b[0;31m \u001b[0mprint\u001b[0m\u001b[0;34m(\u001b[0m\u001b[0mclassification_report\u001b[0m\u001b[0;34m(\u001b[0m\u001b[0my_test\u001b[0m\u001b[0;34m,\u001b[0m \u001b[0my_pred\u001b[0m\u001b[0;34m)\u001b[0m\u001b[0;34m)\u001b[0m\u001b[0;34m\u001b[0m\u001b[0;34m\u001b[0m\u001b[0m\n\u001b[0m\u001b[1;32m      7\u001b[0m \u001b[0mcm\u001b[0m \u001b[0;34m=\u001b[0m \u001b[0mconfusion_matrix\u001b[0m\u001b[0;34m(\u001b[0m\u001b[0my_test\u001b[0m\u001b[0;34m,\u001b[0m \u001b[0my_pred\u001b[0m\u001b[0;34m)\u001b[0m\u001b[0;34m\u001b[0m\u001b[0;34m\u001b[0m\u001b[0m\n\u001b[1;32m      8\u001b[0m \u001b[0mprint\u001b[0m\u001b[0;34m(\u001b[0m\u001b[0mcm\u001b[0m\u001b[0;34m)\u001b[0m\u001b[0;34m\u001b[0m\u001b[0;34m\u001b[0m\u001b[0m\n",
      "\u001b[0;32m/opt/conda/lib/python3.6/site-packages/sklearn/utils/validation.py\u001b[0m in \u001b[0;36minner_f\u001b[0;34m(*args, **kwargs)\u001b[0m\n\u001b[1;32m     71\u001b[0m                           FutureWarning)\n\u001b[1;32m     72\u001b[0m         \u001b[0mkwargs\u001b[0m\u001b[0;34m.\u001b[0m\u001b[0mupdate\u001b[0m\u001b[0;34m(\u001b[0m\u001b[0;34m{\u001b[0m\u001b[0mk\u001b[0m\u001b[0;34m:\u001b[0m \u001b[0marg\u001b[0m \u001b[0;32mfor\u001b[0m \u001b[0mk\u001b[0m\u001b[0;34m,\u001b[0m \u001b[0marg\u001b[0m \u001b[0;32min\u001b[0m \u001b[0mzip\u001b[0m\u001b[0;34m(\u001b[0m\u001b[0msig\u001b[0m\u001b[0;34m.\u001b[0m\u001b[0mparameters\u001b[0m\u001b[0;34m,\u001b[0m \u001b[0margs\u001b[0m\u001b[0;34m)\u001b[0m\u001b[0;34m}\u001b[0m\u001b[0;34m)\u001b[0m\u001b[0;34m\u001b[0m\u001b[0;34m\u001b[0m\u001b[0m\n\u001b[0;32m---> 73\u001b[0;31m         \u001b[0;32mreturn\u001b[0m \u001b[0mf\u001b[0m\u001b[0;34m(\u001b[0m\u001b[0;34m**\u001b[0m\u001b[0mkwargs\u001b[0m\u001b[0;34m)\u001b[0m\u001b[0;34m\u001b[0m\u001b[0;34m\u001b[0m\u001b[0m\n\u001b[0m\u001b[1;32m     74\u001b[0m     \u001b[0;32mreturn\u001b[0m \u001b[0minner_f\u001b[0m\u001b[0;34m\u001b[0m\u001b[0;34m\u001b[0m\u001b[0m\n\u001b[1;32m     75\u001b[0m \u001b[0;34m\u001b[0m\u001b[0m\n",
      "\u001b[0;32m/opt/conda/lib/python3.6/site-packages/sklearn/metrics/_classification.py\u001b[0m in \u001b[0;36mclassification_report\u001b[0;34m(y_true, y_pred, labels, target_names, sample_weight, digits, output_dict, zero_division)\u001b[0m\n\u001b[1;32m   1927\u001b[0m     \"\"\"\n\u001b[1;32m   1928\u001b[0m \u001b[0;34m\u001b[0m\u001b[0m\n\u001b[0;32m-> 1929\u001b[0;31m     \u001b[0my_type\u001b[0m\u001b[0;34m,\u001b[0m \u001b[0my_true\u001b[0m\u001b[0;34m,\u001b[0m \u001b[0my_pred\u001b[0m \u001b[0;34m=\u001b[0m \u001b[0m_check_targets\u001b[0m\u001b[0;34m(\u001b[0m\u001b[0my_true\u001b[0m\u001b[0;34m,\u001b[0m \u001b[0my_pred\u001b[0m\u001b[0;34m)\u001b[0m\u001b[0;34m\u001b[0m\u001b[0;34m\u001b[0m\u001b[0m\n\u001b[0m\u001b[1;32m   1930\u001b[0m \u001b[0;34m\u001b[0m\u001b[0m\n\u001b[1;32m   1931\u001b[0m     \u001b[0mlabels_given\u001b[0m \u001b[0;34m=\u001b[0m \u001b[0;32mTrue\u001b[0m\u001b[0;34m\u001b[0m\u001b[0;34m\u001b[0m\u001b[0m\n",
      "\u001b[0;32m/opt/conda/lib/python3.6/site-packages/sklearn/metrics/_classification.py\u001b[0m in \u001b[0;36m_check_targets\u001b[0;34m(y_true, y_pred)\u001b[0m\n\u001b[1;32m     80\u001b[0m     \"\"\"\n\u001b[1;32m     81\u001b[0m     \u001b[0mcheck_consistent_length\u001b[0m\u001b[0;34m(\u001b[0m\u001b[0my_true\u001b[0m\u001b[0;34m,\u001b[0m \u001b[0my_pred\u001b[0m\u001b[0;34m)\u001b[0m\u001b[0;34m\u001b[0m\u001b[0;34m\u001b[0m\u001b[0m\n\u001b[0;32m---> 82\u001b[0;31m     \u001b[0mtype_true\u001b[0m \u001b[0;34m=\u001b[0m \u001b[0mtype_of_target\u001b[0m\u001b[0;34m(\u001b[0m\u001b[0my_true\u001b[0m\u001b[0;34m)\u001b[0m\u001b[0;34m\u001b[0m\u001b[0;34m\u001b[0m\u001b[0m\n\u001b[0m\u001b[1;32m     83\u001b[0m     \u001b[0mtype_pred\u001b[0m \u001b[0;34m=\u001b[0m \u001b[0mtype_of_target\u001b[0m\u001b[0;34m(\u001b[0m\u001b[0my_pred\u001b[0m\u001b[0;34m)\u001b[0m\u001b[0;34m\u001b[0m\u001b[0;34m\u001b[0m\u001b[0m\n\u001b[1;32m     84\u001b[0m \u001b[0;34m\u001b[0m\u001b[0m\n",
      "\u001b[0;32m/opt/conda/lib/python3.6/site-packages/sklearn/utils/multiclass.py\u001b[0m in \u001b[0;36mtype_of_target\u001b[0;34m(y)\u001b[0m\n\u001b[1;32m    285\u001b[0m     \u001b[0;32mif\u001b[0m \u001b[0my\u001b[0m\u001b[0;34m.\u001b[0m\u001b[0mdtype\u001b[0m\u001b[0;34m.\u001b[0m\u001b[0mkind\u001b[0m \u001b[0;34m==\u001b[0m \u001b[0;34m'f'\u001b[0m \u001b[0;32mand\u001b[0m \u001b[0mnp\u001b[0m\u001b[0;34m.\u001b[0m\u001b[0many\u001b[0m\u001b[0;34m(\u001b[0m\u001b[0my\u001b[0m \u001b[0;34m!=\u001b[0m \u001b[0my\u001b[0m\u001b[0;34m.\u001b[0m\u001b[0mastype\u001b[0m\u001b[0;34m(\u001b[0m\u001b[0mint\u001b[0m\u001b[0;34m)\u001b[0m\u001b[0;34m)\u001b[0m\u001b[0;34m:\u001b[0m\u001b[0;34m\u001b[0m\u001b[0;34m\u001b[0m\u001b[0m\n\u001b[1;32m    286\u001b[0m         \u001b[0;31m# [.1, .2, 3] or [[.1, .2, 3]] or [[1., .2]] and not [1., 2., 3.]\u001b[0m\u001b[0;34m\u001b[0m\u001b[0;34m\u001b[0m\u001b[0;34m\u001b[0m\u001b[0m\n\u001b[0;32m--> 287\u001b[0;31m         \u001b[0m_assert_all_finite\u001b[0m\u001b[0;34m(\u001b[0m\u001b[0my\u001b[0m\u001b[0;34m)\u001b[0m\u001b[0;34m\u001b[0m\u001b[0;34m\u001b[0m\u001b[0m\n\u001b[0m\u001b[1;32m    288\u001b[0m         \u001b[0;32mreturn\u001b[0m \u001b[0;34m'continuous'\u001b[0m \u001b[0;34m+\u001b[0m \u001b[0msuffix\u001b[0m\u001b[0;34m\u001b[0m\u001b[0;34m\u001b[0m\u001b[0m\n\u001b[1;32m    289\u001b[0m \u001b[0;34m\u001b[0m\u001b[0m\n",
      "\u001b[0;32m/opt/conda/lib/python3.6/site-packages/sklearn/utils/validation.py\u001b[0m in \u001b[0;36m_assert_all_finite\u001b[0;34m(X, allow_nan, msg_dtype)\u001b[0m\n\u001b[1;32m     98\u001b[0m                     \u001b[0mmsg_err\u001b[0m\u001b[0;34m.\u001b[0m\u001b[0mformat\u001b[0m\u001b[0;34m\u001b[0m\u001b[0;34m\u001b[0m\u001b[0m\n\u001b[1;32m     99\u001b[0m                     (type_err,\n\u001b[0;32m--> 100\u001b[0;31m                      msg_dtype if msg_dtype is not None else X.dtype)\n\u001b[0m\u001b[1;32m    101\u001b[0m             )\n\u001b[1;32m    102\u001b[0m     \u001b[0;31m# for object dtype data, we only check for NaNs (GH-13254)\u001b[0m\u001b[0;34m\u001b[0m\u001b[0;34m\u001b[0m\u001b[0;34m\u001b[0m\u001b[0m\n",
      "\u001b[0;31mValueError\u001b[0m: Input contains NaN, infinity or a value too large for dtype('float64')."
     ]
    }
   ],
   "source": [
    "from sklearn.metrics import classification_report\n",
    "from sklearn.metrics import confusion_matrix\n",
    "\n",
    "y_test = df[\"label\"]\n",
    "y_pred = df[\"pred\"]\n",
    "print(classification_report(y_test, y_pred))\n",
    "cm = confusion_matrix(y_test, y_pred)\n",
    "print(cm)"
   ]
  },
  {
   "cell_type": "markdown",
   "metadata": {},
   "source": [
    "#### Calculate Performance for each Group"
   ]
  },
  {
   "cell_type": "code",
   "execution_count": 129,
   "metadata": {},
   "outputs": [],
   "source": [
    "for k, v in dict(iter(dc)).items() :\n",
    "    y_test = v[\"label\"]\n",
    "    y_pred = v[\"pred\"]\n",
    "#     print(classification_report(y_test, y_pred))\n",
    "#     cm = confusion_matrix(y_test, y_pred)\n",
    "#     print(cm)"
   ]
  },
  {
   "cell_type": "markdown",
   "metadata": {},
   "source": [
    "#### Implementation\n",
    "\n",
    "Fundamental Thery about FPR and FNR: \n",
    "https://medium.com/datadriveninvestor/confusion-matric-tpr-fpr-fnr-tnr-precision-recall-f1-score-73efa162a25f\n",
    "\n",
    "\n",
    "Theory on FPED and FNED:\n",
    "https://research.google/pubs/pub46743/ "
   ]
  },
  {
   "cell_type": "code",
   "execution_count": 130,
   "metadata": {},
   "outputs": [
    {
     "name": "stdout",
     "output_type": "stream",
     "text": [
      "0.46271889400921656\n",
      "0.03098310291858679\n"
     ]
    }
   ],
   "source": [
    "# calculate false positive rate from given consufsion matrix\n",
    "def calculate_fpr(cm) :\n",
    "    negative = np.sum(cm[0])\n",
    "    fp = cm[0][1]\n",
    "    fpr = fp / negative\n",
    "    return fpr\n",
    "\n",
    "# calculate false positive rate from given consufsion matrix\n",
    "def calculate_fnr(cm) :\n",
    "    negative = np.sum(cm[0])\n",
    "    fn = cm[1][0]\n",
    "    fnr = fn / negative\n",
    "    return fnr\n",
    "\n",
    "print(calculate_fpr(cm))\n",
    "print(calculate_fnr(cm))"
   ]
  },
  {
   "cell_type": "markdown",
   "metadata": {},
   "source": [
    "#### Calculate Global FPR and FNR"
   ]
  },
  {
   "cell_type": "code",
   "execution_count": 131,
   "metadata": {},
   "outputs": [
    {
     "name": "stdout",
     "output_type": "stream",
     "text": [
      "global fpr:  0.46271889400921656\n",
      "global fnr:  0.03098310291858679\n"
     ]
    }
   ],
   "source": [
    "y_test = df[\"label\"]\n",
    "y_pred = df[\"pred\"]\n",
    "cm = confusion_matrix(y_test, y_pred)\n",
    "global_fpr = calculate_fpr(cm)\n",
    "global_fnr = calculate_fnr(cm)\n",
    "print(\"global fpr: \", global_fpr)\n",
    "print(\"global fnr: \", global_fnr)"
   ]
  },
  {
   "cell_type": "markdown",
   "metadata": {},
   "source": [
    "#### Calculate FPR and FNR for each Country"
   ]
  },
  {
   "cell_type": "code",
   "execution_count": 132,
   "metadata": {},
   "outputs": [],
   "source": [
    "fprs = []\n",
    "fnrs = []\n",
    "\n",
    "for k, v in dict(iter(dc)).items() :\n",
    "    y_test = v[\"label\"]\n",
    "    y_pred = v[\"pred\"]\n",
    "    cm = confusion_matrix(y_test, y_pred)\n",
    "    fpr = calculate_fpr(cm)\n",
    "    fnr = calculate_fnr(cm)\n",
    "    fprs.append(round(fpr, 5))\n",
    "    fnrs.append(round(fnr, 5))"
   ]
  },
  {
   "cell_type": "code",
   "execution_count": 133,
   "metadata": {},
   "outputs": [
    {
     "data": {
      "text/html": [
       "<div>\n",
       "<style scoped>\n",
       "    .dataframe tbody tr th:only-of-type {\n",
       "        vertical-align: middle;\n",
       "    }\n",
       "\n",
       "    .dataframe tbody tr th {\n",
       "        vertical-align: top;\n",
       "    }\n",
       "\n",
       "    .dataframe thead th {\n",
       "        text-align: right;\n",
       "    }\n",
       "</style>\n",
       "<table border=\"1\" class=\"dataframe\">\n",
       "  <thead>\n",
       "    <tr style=\"text-align: right;\">\n",
       "      <th></th>\n",
       "      <th>FPR</th>\n",
       "    </tr>\n",
       "    <tr>\n",
       "      <th>identifier</th>\n",
       "      <th></th>\n",
       "    </tr>\n",
       "  </thead>\n",
       "  <tbody>\n",
       "    <tr>\n",
       "      <th>male</th>\n",
       "      <td>0.46412</td>\n",
       "    </tr>\n",
       "    <tr>\n",
       "      <th>female</th>\n",
       "      <td>0.46132</td>\n",
       "    </tr>\n",
       "  </tbody>\n",
       "</table>\n",
       "</div>"
      ],
      "text/plain": [
       "                FPR\n",
       "identifier         \n",
       "male        0.46412\n",
       "female      0.46132"
      ]
     },
     "execution_count": 133,
     "metadata": {},
     "output_type": "execute_result"
    }
   ],
   "source": [
    "import matplotlib.pyplot as plt\n",
    "%matplotlib inline\n",
    "\n",
    "\n",
    "dfprs = pd.DataFrame(data={\"identifier\": identifiers, \"FPR\":fprs})\n",
    "dfprs = dfprs.groupby(\"identifier\").sum().sort_values(by=[\"FPR\"],ascending=False)\n",
    "\n",
    "dfprs.head()"
   ]
  },
  {
   "cell_type": "code",
   "execution_count": 134,
   "metadata": {},
   "outputs": [
    {
     "data": {
      "text/plain": [
       "Text(0, 0.5, 'FPR')"
      ]
     },
     "execution_count": 134,
     "metadata": {},
     "output_type": "execute_result"
    },
    {
     "data": {
      "image/png": "[encoded data removed]",
      "text/plain": [
       "<Figure size 432x288 with 1 Axes>"
      ]
     },
     "metadata": {
      "needs_background": "light"
     },
     "output_type": "display_data"
    }
   ],
   "source": [
    "my_plot = dfprs.plot(kind='bar', legend=None, title=\"FPR per \" + identifier)\n",
    "my_plot.set_xlabel(identifier)\n",
    "my_plot.set_ylabel(\"FPR\")"
   ]
  },
  {
   "cell_type": "code",
   "execution_count": 135,
   "metadata": {},
   "outputs": [
    {
     "data": {
      "text/html": [
       "<div>\n",
       "<style scoped>\n",
       "    .dataframe tbody tr th:only-of-type {\n",
       "        vertical-align: middle;\n",
       "    }\n",
       "\n",
       "    .dataframe tbody tr th {\n",
       "        vertical-align: top;\n",
       "    }\n",
       "\n",
       "    .dataframe thead th {\n",
       "        text-align: right;\n",
       "    }\n",
       "</style>\n",
       "<table border=\"1\" class=\"dataframe\">\n",
       "  <thead>\n",
       "    <tr style=\"text-align: right;\">\n",
       "      <th></th>\n",
       "      <th>FNR</th>\n",
       "    </tr>\n",
       "    <tr>\n",
       "      <th>identifier</th>\n",
       "      <th></th>\n",
       "    </tr>\n",
       "  </thead>\n",
       "  <tbody>\n",
       "    <tr>\n",
       "      <th>male</th>\n",
       "      <td>0.03238</td>\n",
       "    </tr>\n",
       "    <tr>\n",
       "      <th>female</th>\n",
       "      <td>0.02959</td>\n",
       "    </tr>\n",
       "  </tbody>\n",
       "</table>\n",
       "</div>"
      ],
      "text/plain": [
       "                FNR\n",
       "identifier         \n",
       "male        0.03238\n",
       "female      0.02959"
      ]
     },
     "execution_count": 135,
     "metadata": {},
     "output_type": "execute_result"
    }
   ],
   "source": [
    "dfnrs = pd.DataFrame(data={\"identifier\": identifiers, \"FNR\":fnrs})\n",
    "dfnrs = dfnrs.groupby(\"identifier\").sum().sort_values(by=[\"FNR\"],ascending=False)\n",
    "\n",
    "dfnrs.head()"
   ]
  },
  {
   "cell_type": "code",
   "execution_count": 136,
   "metadata": {},
   "outputs": [
    {
     "data": {
      "text/plain": [
       "Text(0, 0.5, 'FNR')"
      ]
     },
     "execution_count": 136,
     "metadata": {},
     "output_type": "execute_result"
    },
    {
     "data": {
      "image/png": "[encoded data removed]",
      "text/plain": [
       "<Figure size 432x288 with 1 Axes>"
      ]
     },
     "metadata": {
      "needs_background": "light"
     },
     "output_type": "display_data"
    }
   ],
   "source": [
    "my_plot = dfnrs.plot(kind='bar', legend=None, title=\"FNR per \" + identifier)\n",
    "my_plot.set_xlabel(identifier)\n",
    "my_plot.set_ylabel(\"FNR\")"
   ]
  },
  {
   "cell_type": "markdown",
   "metadata": {},
   "source": [
    "#### Calculate FNED and FPED"
   ]
  },
  {
   "cell_type": "code",
   "execution_count": 137,
   "metadata": {},
   "outputs": [
    {
     "name": "stdout",
     "output_type": "stream",
     "text": [
      "\n",
      "FPED:  0.0027956989247311936\n",
      "FNED:  0.0027956989247311798\n"
     ]
    }
   ],
   "source": [
    "fped = 0\n",
    "fned = 0\n",
    "\n",
    "for _fpr, _fnr in zip(fprs, fnrs) :\n",
    "    fped += abs(global_fpr - fpr)\n",
    "    fned += abs(global_fnr - fnr)\n",
    "\n",
    "print()\n",
    "print(\"FPED: \", fped)\n",
    "print(\"FNED: \", fned)"
   ]
  }
 ],
 "metadata": {
  "kernelspec": {
   "display_name": "Python 3",
   "language": "python",
   "name": "python3"
  },
  "language_info": {
   "codemirror_mode": {
    "name": "ipython",
    "version": 3
   },
   "file_extension": ".py",
   "mimetype": "text/x-python",
   "name": "python",
   "nbconvert_exporter": "python",
   "pygments_lexer": "ipython3",
   "version": "3.6.8"
  }
 },
 "nbformat": 4,
 "nbformat_minor": 4
}
