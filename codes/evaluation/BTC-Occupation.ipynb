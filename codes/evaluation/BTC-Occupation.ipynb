{
 "cells": [
  {
   "cell_type": "markdown",
   "source": [
    "# Bias Uncovering Test Case (BTC) for Country-of-origin Bias"
   ],
   "metadata": {}
  },
  {
   "cell_type": "code",
   "execution_count": 1,
   "source": [
    "import os\n",
    "import pandas as pd\n",
    "import numpy as np\n",
    "import math\n",
    "import time\n",
    "import pickle\n",
    "\n",
    "from metric import evaluate_btc, evaluate_btc_mtnlp\n",
    "from utils import accuracy\n",
    "from utils import load_mutant_and_prediction"
   ],
   "outputs": [],
   "metadata": {}
  },
  {
   "cell_type": "markdown",
   "source": [
    "## Measuring the number of BTCs found by BiasFinder"
   ],
   "metadata": {}
  },
  {
   "cell_type": "code",
   "execution_count": 3,
   "source": [
    "mutation_tool = \"biasfinder\"\n",
    "bias_type = \"occupation\"\n",
    "task = \"imdb\"  # dataset used for fine-tuning\n",
    "model = \"bert-base-uncased\"\n",
    "mutant = \"imdb\"  # dataset used for generating mutants\n",
    "\n",
    "\n",
    "df = load_mutant_and_prediction(mutation_tool, model, bias_type, mutant)\n",
    "\n",
    "df.head()\n"
   ],
   "outputs": [],
   "metadata": {}
  },
  {
   "cell_type": "code",
   "execution_count": 5,
   "source": [
    "print(\"Accuracy on mutants: {:.2f}%\".format(accuracy(df[\"label\"],df[\"prediction\"])))\n"
   ],
   "outputs": [
    {
     "output_type": "stream",
     "name": "stdout",
     "text": [
      "Accuracy on mutants: 91.07%\n"
     ]
    }
   ],
   "metadata": {}
  },
  {
   "cell_type": "code",
   "execution_count": 6,
   "source": [
    "def print_evaluation(evaluation):\n",
    "    print(\"# Mutants \\t:\", evaluation[\"mutant\"])\n",
    "    print(\"# Templates \\t:\", evaluation[\"template\"])\n",
    "    print(\"# BTCs \\t\\t:\", evaluation[\"btc\"])\n",
    "\n",
    "# evaluation = evaluate_btc(df[\"label\"], df[\"prediction\"], df[\"mutant\"], df[\"template\"], \"gender\", df[\"gender\"])\n",
    "# print_evaluation(evaluation)"
   ],
   "outputs": [],
   "metadata": {}
  },
  {
   "cell_type": "markdown",
   "source": [
    "## IMDB\n",
    "\n",
    "Measure the number of bias uncovering test cases found by BiasFinder on models fine-tuned using IMDB dataset."
   ],
   "metadata": {}
  },
  {
   "cell_type": "code",
   "execution_count": 6,
   "source": [
    "models = [\"bert-base-uncased\", \"bert-base-cased\", \"roberta-base\", \"xlnet-base-cased\",\n",
    "          \"albert-base-v2\", \"microsoft/mpnet-base\", \"facebook/muppet-roberta-base\", \"google/electra-base-generator\"]\n",
    "\n",
    "\n",
    "mutation_tools = [\"biasfinder\"]\n",
    "task = \"imdb\"  # dataset used for fine-tuning\n",
    "mutant = \"imdb\"  # dataset used for generating mutants\n",
    "\n",
    "d = pd.DataFrame(columns=[\"model\", \"tool\",\n",
    "                          \"template\", \"mutant\", \"btc\"])\n",
    "\n",
    "for model in models:\n",
    "    for mutation_tool in mutation_tools:\n",
    "        print(model)\n",
    "        df = load_mutant_and_prediction(\n",
    "            mutation_tool, model, bias_type, mutant)\n",
    "        if mutation_tool == \"mtnlp\" :\n",
    "            evaluation = evaluate_btc_mtnlp(df)\n",
    "        else : \n",
    "            evaluation = evaluate_btc(df[\"label\"], df[\"prediction\"],\n",
    "                                  df[\"mutant\"], df[\"template\"], \"gender\", df[\"gender\"])\n",
    "\n",
    "        d = d.append(\n",
    "            {\n",
    "                \"model\": model,\n",
    "                \"tool\": mutation_tool,\n",
    "                \"template\": evaluation['template'],\n",
    "                \"mutant\": evaluation['mutant'],\n",
    "                \"btc\": evaluation['btc']\n",
    "            },\n",
    "            ignore_index=True)\n",
    "\n",
    "d\n"
   ],
   "outputs": [
    {
     "output_type": "stream",
     "name": "stdout",
     "text": [
      "google/electra-base-generator\n"
     ]
    },
    {
     "output_type": "execute_result",
     "data": {
      "text/plain": [
       "Empty DataFrame\n",
       "Columns: [model, tool, template, mutant, btc]\n",
       "Index: []"
      ],
      "text/html": [
       "<div>\n",
       "<style scoped>\n",
       "    .dataframe tbody tr th:only-of-type {\n",
       "        vertical-align: middle;\n",
       "    }\n",
       "\n",
       "    .dataframe tbody tr th {\n",
       "        vertical-align: top;\n",
       "    }\n",
       "\n",
       "    .dataframe thead th {\n",
       "        text-align: right;\n",
       "    }\n",
       "</style>\n",
       "<table border=\"1\" class=\"dataframe\">\n",
       "  <thead>\n",
       "    <tr style=\"text-align: right;\">\n",
       "      <th></th>\n",
       "      <th>model</th>\n",
       "      <th>tool</th>\n",
       "      <th>template</th>\n",
       "      <th>mutant</th>\n",
       "      <th>btc</th>\n",
       "    </tr>\n",
       "  </thead>\n",
       "  <tbody>\n",
       "  </tbody>\n",
       "</table>\n",
       "</div>"
      ]
     },
     "metadata": {},
     "execution_count": 6
    }
   ],
   "metadata": {}
  },
  {
   "cell_type": "markdown",
   "source": [
    "## The total number of BTCs found"
   ],
   "metadata": {}
  },
  {
   "cell_type": "code",
   "execution_count": null,
   "source": [
    "d.drop(columns=[\"model\"]).groupby(\"tool\").sum()"
   ],
   "outputs": [
    {
     "output_type": "execute_result",
     "data": {
      "text/plain": [
       "            template   mutant    btc\n",
       "tool                                \n",
       "biasfinder     24120  1230928  55638\n",
       "eec             1120    67200  50908\n",
       "mtnlp         761752  2287808   6361"
      ],
      "text/html": [
       "<div>\n",
       "<style scoped>\n",
       "    .dataframe tbody tr th:only-of-type {\n",
       "        vertical-align: middle;\n",
       "    }\n",
       "\n",
       "    .dataframe tbody tr th {\n",
       "        vertical-align: top;\n",
       "    }\n",
       "\n",
       "    .dataframe thead th {\n",
       "        text-align: right;\n",
       "    }\n",
       "</style>\n",
       "<table border=\"1\" class=\"dataframe\">\n",
       "  <thead>\n",
       "    <tr style=\"text-align: right;\">\n",
       "      <th></th>\n",
       "      <th>template</th>\n",
       "      <th>mutant</th>\n",
       "      <th>btc</th>\n",
       "    </tr>\n",
       "    <tr>\n",
       "      <th>tool</th>\n",
       "      <th></th>\n",
       "      <th></th>\n",
       "      <th></th>\n",
       "    </tr>\n",
       "  </thead>\n",
       "  <tbody>\n",
       "    <tr>\n",
       "      <th>biasfinder</th>\n",
       "      <td>24120</td>\n",
       "      <td>1230928</td>\n",
       "      <td>55638</td>\n",
       "    </tr>\n",
       "    <tr>\n",
       "      <th>eec</th>\n",
       "      <td>1120</td>\n",
       "      <td>67200</td>\n",
       "      <td>50908</td>\n",
       "    </tr>\n",
       "    <tr>\n",
       "      <th>mtnlp</th>\n",
       "      <td>761752</td>\n",
       "      <td>2287808</td>\n",
       "      <td>6361</td>\n",
       "    </tr>\n",
       "  </tbody>\n",
       "</table>\n",
       "</div>"
      ]
     },
     "metadata": {},
     "execution_count": 7
    }
   ],
   "metadata": {}
  },
  {
   "cell_type": "markdown",
   "source": [
    "## Twitter Sentiment 140\n",
    "\n",
    "Measure the number of bias uncovering test cases found by BiasFinder models fine-tuned using Twitter Sentiment 140 dataset."
   ],
   "metadata": {}
  },
  {
   "cell_type": "code",
   "execution_count": 5,
   "source": [
    "models = [\"bert-base-uncased\", \"bert-base-cased\", \"roberta-base\", \"xlnet-base-cased\",\n",
    "          \"albert-base-v2\", \"microsoft/mpnet-base\", \"facebook/muppet-roberta-base\", \"google/electra-base-generator\"]\n",
    "\n",
    "mutation_tools = [\"biasfinder\"]\n",
    "\n",
    "task = \"twitter_s140\"  # dataset used for fine-tuning\n",
    "mutant = \"twitter_s140\"  # dataset used for generating mutants\n",
    "\n",
    "d = pd.DataFrame(columns=[\"model\", \"tool\",\n",
    "                          \"template\", \"mutant\", \"btc\"])\n",
    "\n",
    "for model in models:\n",
    "    for mutation_tool in mutation_tools:\n",
    "        df = load_mutant_and_prediction(\n",
    "            mutation_tool, model, bias_type, mutant)\n",
    "        if mutation_tool == \"mtnlp\":\n",
    "            evaluation = evaluate_btc_mtnlp(df)\n",
    "        else:\n",
    "            evaluation = evaluate_btc(df[\"label\"], df[\"prediction\"],\n",
    "                                      df[\"mutant\"], df[\"template\"], \"gender\", df[\"gender\"])\n",
    "\n",
    "        d = d.append(\n",
    "            {\n",
    "                \"model\": model,\n",
    "                \"tool\": mutation_tool,\n",
    "                \"template\": evaluation['template'],\n",
    "                \"mutant\": evaluation['mutant'],\n",
    "                \"btc\": evaluation['btc']\n",
    "            },\n",
    "            ignore_index=True)\n",
    "\n",
    "d\n"
   ],
   "outputs": [
    {
     "output_type": "execute_result",
     "data": {
      "text/plain": [
       "Empty DataFrame\n",
       "Columns: [model, tool, template, mutant, btc]\n",
       "Index: []"
      ],
      "text/html": [
       "<div>\n",
       "<style scoped>\n",
       "    .dataframe tbody tr th:only-of-type {\n",
       "        vertical-align: middle;\n",
       "    }\n",
       "\n",
       "    .dataframe tbody tr th {\n",
       "        vertical-align: top;\n",
       "    }\n",
       "\n",
       "    .dataframe thead th {\n",
       "        text-align: right;\n",
       "    }\n",
       "</style>\n",
       "<table border=\"1\" class=\"dataframe\">\n",
       "  <thead>\n",
       "    <tr style=\"text-align: right;\">\n",
       "      <th></th>\n",
       "      <th>model</th>\n",
       "      <th>tool</th>\n",
       "      <th>template</th>\n",
       "      <th>mutant</th>\n",
       "      <th>btc</th>\n",
       "    </tr>\n",
       "  </thead>\n",
       "  <tbody>\n",
       "  </tbody>\n",
       "</table>\n",
       "</div>"
      ]
     },
     "metadata": {},
     "execution_count": 5
    }
   ],
   "metadata": {}
  },
  {
   "cell_type": "markdown",
   "source": [
    "## The total number of BTCs found"
   ],
   "metadata": {}
  },
  {
   "cell_type": "code",
   "execution_count": null,
   "source": [
    "d.drop(columns=[\"model\"]).groupby(\"tool\").sum()\n"
   ],
   "outputs": [
    {
     "output_type": "execute_result",
     "data": {
      "text/plain": [
       "            template  mutant     btc\n",
       "tool                                \n",
       "biasfinder     14152  504832  164683\n",
       "eec             1120   67200    4782\n",
       "mtnlp         121200  475696    6184"
      ],
      "text/html": [
       "<div>\n",
       "<style scoped>\n",
       "    .dataframe tbody tr th:only-of-type {\n",
       "        vertical-align: middle;\n",
       "    }\n",
       "\n",
       "    .dataframe tbody tr th {\n",
       "        vertical-align: top;\n",
       "    }\n",
       "\n",
       "    .dataframe thead th {\n",
       "        text-align: right;\n",
       "    }\n",
       "</style>\n",
       "<table border=\"1\" class=\"dataframe\">\n",
       "  <thead>\n",
       "    <tr style=\"text-align: right;\">\n",
       "      <th></th>\n",
       "      <th>template</th>\n",
       "      <th>mutant</th>\n",
       "      <th>btc</th>\n",
       "    </tr>\n",
       "    <tr>\n",
       "      <th>tool</th>\n",
       "      <th></th>\n",
       "      <th></th>\n",
       "      <th></th>\n",
       "    </tr>\n",
       "  </thead>\n",
       "  <tbody>\n",
       "    <tr>\n",
       "      <th>biasfinder</th>\n",
       "      <td>14152</td>\n",
       "      <td>504832</td>\n",
       "      <td>164683</td>\n",
       "    </tr>\n",
       "    <tr>\n",
       "      <th>eec</th>\n",
       "      <td>1120</td>\n",
       "      <td>67200</td>\n",
       "      <td>4782</td>\n",
       "    </tr>\n",
       "    <tr>\n",
       "      <th>mtnlp</th>\n",
       "      <td>121200</td>\n",
       "      <td>475696</td>\n",
       "      <td>6184</td>\n",
       "    </tr>\n",
       "  </tbody>\n",
       "</table>\n",
       "</div>"
      ]
     },
     "metadata": {},
     "execution_count": 9
    }
   ],
   "metadata": {}
  },
  {
   "cell_type": "code",
   "execution_count": null,
   "source": [],
   "outputs": [],
   "metadata": {}
  }
 ],
 "metadata": {
  "kernelspec": {
   "name": "python3",
   "display_name": "Python 3.8.5 64-bit"
  },
  "language_info": {
   "codemirror_mode": {
    "name": "ipython",
    "version": 3
   },
   "file_extension": ".py",
   "mimetype": "text/x-python",
   "name": "python",
   "nbconvert_exporter": "python",
   "pygments_lexer": "ipython3",
   "version": "3.8.5"
  },
  "interpreter": {
   "hash": "31f2aee4e71d21fbe5cf8b01ff0e069b9275f58929596ceb00d14d90e3e16cd6"
  }
 },
 "nbformat": 4,
 "nbformat_minor": 4
}