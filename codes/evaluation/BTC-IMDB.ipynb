{
 "cells": [
  {
   "cell_type": "markdown",
   "source": [
    "# Bias Uncovering Test Case (BTC) for Gender Bias"
   ],
   "metadata": {}
  },
  {
   "cell_type": "code",
   "execution_count": 1,
   "source": [
    "import os\n",
    "import pandas as pd\n",
    "import numpy as np\n",
    "import math\n",
    "import time\n",
    "import pickle\n",
    "\n",
    "from metric import evaluate_btc, evaluate_fairness_violation\n",
    "from utils import load_pickle, calculate_test_accuracy, accuracy\n",
    "from utils import load_original_prediction, load_mutant_and_prediction\n"
   ],
   "outputs": [],
   "metadata": {}
  },
  {
   "cell_type": "markdown",
   "source": [
    "## Measuring the BTC that can be found by BiasFinder"
   ],
   "metadata": {}
  },
  {
   "cell_type": "code",
   "execution_count": 2,
   "source": [
    "mutation_tool = \"biasfinder\"\n",
    "bias_type = \"gender\"\n",
    "task = \"imdb\"  # dataset used for fine-tuning\n",
    "model = \"bert-base-uncased\"\n",
    "mutant = \"imdb\"  # dataset used for generating mutants\n",
    "\n",
    "\n",
    "df = load_mutant_and_prediction(mutation_tool, model, bias_type, mutant)\n",
    "\n",
    "df.head()\n"
   ],
   "outputs": [
    {
     "output_type": "execute_result",
     "data": {
      "text/plain": [
       "   label                                             mutant  \\\n",
       "0      0  I hated the book. A guy meets a smart dog, get...   \n",
       "1      0  I hated the book. A guy meets a smart dog, get...   \n",
       "2      1  The Great Dictator is a beyondexcellent film. ...   \n",
       "3      1  The Great Dictator is a beyondexcellent film. ...   \n",
       "4      1  The Great Dictator is a beyondexcellent film. ...   \n",
       "\n",
       "                                            template  \\\n",
       "0  I hated the book. A guy meets a smart dog, get...   \n",
       "1  I hated the book. A guy meets a smart dog, get...   \n",
       "2  The Great Dictator is a beyondexcellent film. ...   \n",
       "3  The Great Dictator is a beyondexcellent film. ...   \n",
       "4  The Great Dictator is a beyondexcellent film. ...   \n",
       "\n",
       "                                            original  gender  template_id  \\\n",
       "0  I hated the book. A guy meets a smart dog, get...    male          929   \n",
       "1  I hated the book. A guy meets a smart dog, get...  female          929   \n",
       "2  The Great Dictator is a beyondexcellent film. ...    male         1980   \n",
       "3  The Great Dictator is a beyondexcellent film. ...    male         1980   \n",
       "4  The Great Dictator is a beyondexcellent film. ...    male         1980   \n",
       "\n",
       "   prediction  original_prediction  \n",
       "0           0                    0  \n",
       "1           0                    0  \n",
       "2           1                    1  \n",
       "3           1                    1  \n",
       "4           1                    1  "
      ],
      "text/html": [
       "<div>\n",
       "<style scoped>\n",
       "    .dataframe tbody tr th:only-of-type {\n",
       "        vertical-align: middle;\n",
       "    }\n",
       "\n",
       "    .dataframe tbody tr th {\n",
       "        vertical-align: top;\n",
       "    }\n",
       "\n",
       "    .dataframe thead th {\n",
       "        text-align: right;\n",
       "    }\n",
       "</style>\n",
       "<table border=\"1\" class=\"dataframe\">\n",
       "  <thead>\n",
       "    <tr style=\"text-align: right;\">\n",
       "      <th></th>\n",
       "      <th>label</th>\n",
       "      <th>mutant</th>\n",
       "      <th>template</th>\n",
       "      <th>original</th>\n",
       "      <th>gender</th>\n",
       "      <th>template_id</th>\n",
       "      <th>prediction</th>\n",
       "      <th>original_prediction</th>\n",
       "    </tr>\n",
       "  </thead>\n",
       "  <tbody>\n",
       "    <tr>\n",
       "      <th>0</th>\n",
       "      <td>0</td>\n",
       "      <td>I hated the book. A guy meets a smart dog, get...</td>\n",
       "      <td>I hated the book. A guy meets a smart dog, get...</td>\n",
       "      <td>I hated the book. A guy meets a smart dog, get...</td>\n",
       "      <td>male</td>\n",
       "      <td>929</td>\n",
       "      <td>0</td>\n",
       "      <td>0</td>\n",
       "    </tr>\n",
       "    <tr>\n",
       "      <th>1</th>\n",
       "      <td>0</td>\n",
       "      <td>I hated the book. A guy meets a smart dog, get...</td>\n",
       "      <td>I hated the book. A guy meets a smart dog, get...</td>\n",
       "      <td>I hated the book. A guy meets a smart dog, get...</td>\n",
       "      <td>female</td>\n",
       "      <td>929</td>\n",
       "      <td>0</td>\n",
       "      <td>0</td>\n",
       "    </tr>\n",
       "    <tr>\n",
       "      <th>2</th>\n",
       "      <td>1</td>\n",
       "      <td>The Great Dictator is a beyondexcellent film. ...</td>\n",
       "      <td>The Great Dictator is a beyondexcellent film. ...</td>\n",
       "      <td>The Great Dictator is a beyondexcellent film. ...</td>\n",
       "      <td>male</td>\n",
       "      <td>1980</td>\n",
       "      <td>1</td>\n",
       "      <td>1</td>\n",
       "    </tr>\n",
       "    <tr>\n",
       "      <th>3</th>\n",
       "      <td>1</td>\n",
       "      <td>The Great Dictator is a beyondexcellent film. ...</td>\n",
       "      <td>The Great Dictator is a beyondexcellent film. ...</td>\n",
       "      <td>The Great Dictator is a beyondexcellent film. ...</td>\n",
       "      <td>male</td>\n",
       "      <td>1980</td>\n",
       "      <td>1</td>\n",
       "      <td>1</td>\n",
       "    </tr>\n",
       "    <tr>\n",
       "      <th>4</th>\n",
       "      <td>1</td>\n",
       "      <td>The Great Dictator is a beyondexcellent film. ...</td>\n",
       "      <td>The Great Dictator is a beyondexcellent film. ...</td>\n",
       "      <td>The Great Dictator is a beyondexcellent film. ...</td>\n",
       "      <td>male</td>\n",
       "      <td>1980</td>\n",
       "      <td>1</td>\n",
       "      <td>1</td>\n",
       "    </tr>\n",
       "  </tbody>\n",
       "</table>\n",
       "</div>"
      ]
     },
     "metadata": {},
     "execution_count": 2
    }
   ],
   "metadata": {}
  },
  {
   "cell_type": "code",
   "execution_count": 3,
   "source": [
    "print(\"Accuracy on mutants: {:.2f}%\".format(accuracy(df[\"label\"],df[\"prediction\"])))\n"
   ],
   "outputs": [
    {
     "output_type": "stream",
     "name": "stdout",
     "text": [
      "Accuracy on mutants: 93.29%\n"
     ]
    }
   ],
   "metadata": {}
  },
  {
   "cell_type": "code",
   "execution_count": 4,
   "source": [
    "def print_evaluation(evaluation):\n",
    "    print(\"# Mutants \\t:\", evaluation[\"mutant\"])\n",
    "    print(\"# Templates \\t:\", evaluation[\"template\"])\n",
    "    print(\"# BTCs \\t\\t:\", evaluation[\"btc\"])\n",
    "\n",
    "evaluation = evaluate_btc(df[\"label\"], df[\"prediction\"], df[\"mutant\"], df[\"template\"], \"gender\", df[\"gender\"])\n",
    "print_evaluation(evaluation)"
   ],
   "outputs": [
    {
     "output_type": "stream",
     "name": "stdout",
     "text": [
      "# Mutants \t: 153866\n",
      "# Templates \t: 3015\n",
      "# BTCs \t\t: 5543\n"
     ]
    }
   ],
   "metadata": {}
  },
  {
   "cell_type": "code",
   "execution_count": 5,
   "source": [
    "# models = [\"bert-base-uncased\", \"bert-base-cased\", \"roberta-base\", \"albert-base-v2\", \"microsoft/mpnet-base\", \"microsoft/deberta-base\", \"facebook/muppet-roberta-base\", \"google/electra-base-generator\"]\n",
    "\n",
    "# fine-tune\n",
    "# \n",
    "\n",
    "# test accuracy\n",
    "# \n",
    "\n",
    "# predict mutants\n",
    "# \"roberta-base\", \"albert-base-v2\",\n",
    "\n",
    "\n",
    "# models = [\"bert-base-uncased\"]\n",
    "\n",
    "models = [\"bert-base-uncased\", \"bert-base-cased\", \"roberta-base\", \"xlnet-base-cased\",\n",
    "          \"albert-base-v2\", \"microsoft/mpnet-base\", \"microsoft/deberta-base\",\n",
    "          \"facebook/muppet-roberta-base\", \"google/electra-base-generator\"]\n",
    "\n",
    "mutation_tool = \"biasfinder\"\n",
    "bias_type = \"gender\"\n",
    "task = \"imdb\"  # dataset used for fine-tuning\n",
    "mutant = \"imdb\"  # dataset used for generating mutants\n",
    "\n",
    "d = pd.DataFrame(columns=[\"model\", \"tool\",\n",
    "                          \"template\", \"mutant\", \"btc\"])\n",
    "\n",
    "for model in models :\n",
    "    df = load_mutant_and_prediction(mutation_tool, model, bias_type, mutant)\n",
    "    evaluation = evaluate_btc(df[\"label\"], df[\"prediction\"],\n",
    "                            df[\"mutant\"], df[\"template\"], \"gender\", df[\"gender\"])\n",
    "    \n",
    "    d = d.append(\n",
    "            {\n",
    "                \"model\": model, \n",
    "                \"tool\": mutation_tool, \n",
    "                \"template\": evaluation['template'], \n",
    "                \"mutant\": evaluation['mutant'],\n",
    "                \"btc\" : evaluation['btc']\n",
    "            }, \n",
    "            ignore_index=True)\n",
    "\n",
    "d\n"
   ],
   "outputs": [],
   "metadata": {}
  }
 ],
 "metadata": {
  "kernelspec": {
   "name": "python3",
   "display_name": "Python 3.8.5 64-bit"
  },
  "language_info": {
   "codemirror_mode": {
    "name": "ipython",
    "version": 3
   },
   "file_extension": ".py",
   "mimetype": "text/x-python",
   "name": "python",
   "nbconvert_exporter": "python",
   "pygments_lexer": "ipython3",
   "version": "3.8.5"
  },
  "interpreter": {
   "hash": "31f2aee4e71d21fbe5cf8b01ff0e069b9275f58929596ceb00d14d90e3e16cd6"
  }
 },
 "nbformat": 4,
 "nbformat_minor": 4
}