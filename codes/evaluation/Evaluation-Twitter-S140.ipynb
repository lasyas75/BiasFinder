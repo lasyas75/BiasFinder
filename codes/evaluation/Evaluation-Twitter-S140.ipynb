{
 "cells": [
  {
   "cell_type": "markdown",
   "source": [
    "# Bias Uncovering Test Case (BTC) for Gender Bias"
   ],
   "metadata": {}
  },
  {
   "cell_type": "code",
   "execution_count": 1,
   "source": [
    "import os\n",
    "import pandas as pd\n",
    "import numpy as np\n",
    "import math\n",
    "import time\n",
    "import pickle\n",
    "\n",
    "from metric import evaluate_btc"
   ],
   "outputs": [],
   "metadata": {}
  },
  {
   "cell_type": "markdown",
   "source": [
    "## Measuring the Performance of the Fine-tuned SA models on the Test set"
   ],
   "metadata": {}
  },
  {
   "cell_type": "code",
   "execution_count": 2,
   "source": [
    "def load_pickle(fpath):\n",
    "    with open(fpath, 'rb') as f:\n",
    "        pred = pickle.load(f)\n",
    "    return pred\n",
    "\n",
    "def accuracy(label, prediction):\n",
    "    return round(100 * sum(label == prediction) / len(label), 2)\n",
    "\n",
    "def calculate_test_accuracy(task, model) :\n",
    "    label_path = f\"../../asset/{task}/test.csv\"\n",
    "    pred_path = f\"../../asset/{task}/predictions/{model}.pkl\"\n",
    "\n",
    "\n",
    "    test_df = pd.read_csv(label_path, header=None, sep=\"\\t\")\n",
    "\n",
    "    test_labels = test_df[0].values\n",
    "    predicitons = load_pickle(pred_path)\n",
    "\n",
    "    return accuracy(test_labels, predicitons)\n",
    "\n",
    "\n",
    "task = \"twitter_s140\"\n",
    "model = \"bert-base-uncased\"\n",
    "\n",
    "\n",
    "calculate_test_accuracy(task, model)\n"
   ],
   "outputs": [
    {
     "output_type": "execute_result",
     "data": {
      "text/plain": [
       "82.76"
      ]
     },
     "metadata": {},
     "execution_count": 2
    }
   ],
   "metadata": {}
  },
  {
   "cell_type": "markdown",
   "source": [
    "## Measuring the BTC that can be found by BiasFinder"
   ],
   "metadata": {}
  },
  {
   "cell_type": "code",
   "execution_count": 3,
   "source": [
    "mutation_tool = \"biasfinder\"\n",
    "bias_type = \"gender\"\n",
    "task = \"twitter_semeval\" # dataset used for fine-tuning\n",
    "model = \"bert-base-uncased\"\n",
    "mutant = \"twitter_semeval\" # dataset used for generating mutants\n",
    "\n",
    "def load_mutant_and_prediction(mutation_tool, bias_type, mutant):\n",
    "    base_dir = f\"../../data/{mutation_tool}/{bias_type}/{mutant}/\"\n",
    "    if mutation_tool == \"biasfinder\" :\n",
    "        df = pd.read_csv(base_dir + \"test.csv\", header=None, sep=\"\\t\", names=[\"label\", \"mutant\", \"template\", \"original\", \"gender\"])\n",
    "    elif mutation_tool == \"eec\":\n",
    "        df = pd.read_csv(base_dir + \"test.csv\", header=None, sep=\"\\t\", names=[\"label\", \"mutant\", \"template\", \"original\", \"person\", \"gender\", \"emotion\"])\n",
    "\n",
    "    df[\"template\"] = df[\"template\"].astype(\"category\")\n",
    "    df[\"template_id\"] = df[\"template\"].cat.codes\n",
    "\n",
    "    prediction_fpath = os.path.join(base_dir, f\"predictions/{model}.pkl\")\n",
    "    pred = load_pickle(prediction_fpath)\n",
    "\n",
    "    df[\"prediction\"] = pred\n",
    "\n",
    "    return df\n",
    "\n",
    "\n",
    "df = load_mutant_and_prediction(mutation_tool, bias_type, mutant)\n",
    "\n",
    "df.head()\n"
   ],
   "outputs": [
    {
     "output_type": "error",
     "ename": "FileNotFoundError",
     "evalue": "[Errno 2] No such file or directory: '../../data/biasfinder/gender/twitter_semeval/predictions/bert-base-uncased.pkl'",
     "traceback": [
      "\u001b[0;31m---------------------------------------------------------------------------\u001b[0m",
      "\u001b[0;31mFileNotFoundError\u001b[0m                         Traceback (most recent call last)",
      "\u001b[0;32m<ipython-input-3-ebff896a0f98>\u001b[0m in \u001b[0;36m<module>\u001b[0;34m\u001b[0m\n\u001b[1;32m     23\u001b[0m \u001b[0;34m\u001b[0m\u001b[0m\n\u001b[1;32m     24\u001b[0m \u001b[0;34m\u001b[0m\u001b[0m\n\u001b[0;32m---> 25\u001b[0;31m \u001b[0mdf\u001b[0m \u001b[0;34m=\u001b[0m \u001b[0mload_mutant_and_prediction\u001b[0m\u001b[0;34m(\u001b[0m\u001b[0mmutation_tool\u001b[0m\u001b[0;34m,\u001b[0m \u001b[0mbias_type\u001b[0m\u001b[0;34m,\u001b[0m \u001b[0mmutant\u001b[0m\u001b[0;34m)\u001b[0m\u001b[0;34m\u001b[0m\u001b[0;34m\u001b[0m\u001b[0m\n\u001b[0m\u001b[1;32m     26\u001b[0m \u001b[0;34m\u001b[0m\u001b[0m\n\u001b[1;32m     27\u001b[0m \u001b[0mdf\u001b[0m\u001b[0;34m.\u001b[0m\u001b[0mhead\u001b[0m\u001b[0;34m(\u001b[0m\u001b[0;34m)\u001b[0m\u001b[0;34m\u001b[0m\u001b[0;34m\u001b[0m\u001b[0m\n",
      "\u001b[0;32m<ipython-input-3-ebff896a0f98>\u001b[0m in \u001b[0;36mload_mutant_and_prediction\u001b[0;34m(mutation_tool, bias_type, mutant)\u001b[0m\n\u001b[1;32m     16\u001b[0m \u001b[0;34m\u001b[0m\u001b[0m\n\u001b[1;32m     17\u001b[0m     \u001b[0mprediction_fpath\u001b[0m \u001b[0;34m=\u001b[0m \u001b[0mos\u001b[0m\u001b[0;34m.\u001b[0m\u001b[0mpath\u001b[0m\u001b[0;34m.\u001b[0m\u001b[0mjoin\u001b[0m\u001b[0;34m(\u001b[0m\u001b[0mbase_dir\u001b[0m\u001b[0;34m,\u001b[0m \u001b[0;34mf\"predictions/{model}.pkl\"\u001b[0m\u001b[0;34m)\u001b[0m\u001b[0;34m\u001b[0m\u001b[0;34m\u001b[0m\u001b[0m\n\u001b[0;32m---> 18\u001b[0;31m     \u001b[0mpred\u001b[0m \u001b[0;34m=\u001b[0m \u001b[0mload_pickle\u001b[0m\u001b[0;34m(\u001b[0m\u001b[0mprediction_fpath\u001b[0m\u001b[0;34m)\u001b[0m\u001b[0;34m\u001b[0m\u001b[0;34m\u001b[0m\u001b[0m\n\u001b[0m\u001b[1;32m     19\u001b[0m \u001b[0;34m\u001b[0m\u001b[0m\n\u001b[1;32m     20\u001b[0m     \u001b[0mdf\u001b[0m\u001b[0;34m[\u001b[0m\u001b[0;34m\"prediction\"\u001b[0m\u001b[0;34m]\u001b[0m \u001b[0;34m=\u001b[0m \u001b[0mpred\u001b[0m\u001b[0;34m\u001b[0m\u001b[0;34m\u001b[0m\u001b[0m\n",
      "\u001b[0;32m<ipython-input-2-90bc8f84139b>\u001b[0m in \u001b[0;36mload_pickle\u001b[0;34m(fpath)\u001b[0m\n\u001b[1;32m      1\u001b[0m \u001b[0;32mdef\u001b[0m \u001b[0mload_pickle\u001b[0m\u001b[0;34m(\u001b[0m\u001b[0mfpath\u001b[0m\u001b[0;34m)\u001b[0m\u001b[0;34m:\u001b[0m\u001b[0;34m\u001b[0m\u001b[0;34m\u001b[0m\u001b[0m\n\u001b[0;32m----> 2\u001b[0;31m     \u001b[0;32mwith\u001b[0m \u001b[0mopen\u001b[0m\u001b[0;34m(\u001b[0m\u001b[0mfpath\u001b[0m\u001b[0;34m,\u001b[0m \u001b[0;34m'rb'\u001b[0m\u001b[0;34m)\u001b[0m \u001b[0;32mas\u001b[0m \u001b[0mf\u001b[0m\u001b[0;34m:\u001b[0m\u001b[0;34m\u001b[0m\u001b[0;34m\u001b[0m\u001b[0m\n\u001b[0m\u001b[1;32m      3\u001b[0m         \u001b[0mpred\u001b[0m \u001b[0;34m=\u001b[0m \u001b[0mpickle\u001b[0m\u001b[0;34m.\u001b[0m\u001b[0mload\u001b[0m\u001b[0;34m(\u001b[0m\u001b[0mf\u001b[0m\u001b[0;34m)\u001b[0m\u001b[0;34m\u001b[0m\u001b[0;34m\u001b[0m\u001b[0m\n\u001b[1;32m      4\u001b[0m     \u001b[0;32mreturn\u001b[0m \u001b[0mpred\u001b[0m\u001b[0;34m\u001b[0m\u001b[0;34m\u001b[0m\u001b[0m\n\u001b[1;32m      5\u001b[0m \u001b[0;34m\u001b[0m\u001b[0m\n",
      "\u001b[0;31mFileNotFoundError\u001b[0m: [Errno 2] No such file or directory: '../../data/biasfinder/gender/twitter_semeval/predictions/bert-base-uncased.pkl'"
     ]
    }
   ],
   "metadata": {}
  },
  {
   "cell_type": "code",
   "execution_count": null,
   "source": [
    "print(\"Accuracy on mutants: {:.2f}%\".format(accuracy(df[\"label\"],df[\"prediction\"])))\n"
   ],
   "outputs": [
    {
     "output_type": "stream",
     "name": "stdout",
     "text": [
      "Accuracy on mutants: 84.46%\n"
     ]
    }
   ],
   "metadata": {}
  },
  {
   "cell_type": "code",
   "execution_count": 4,
   "source": [
    "def print_evaluation(evaluation):\n",
    "    print(\"# Mutants \\t:\", evaluation[\"mutant\"])\n",
    "    print(\"# Templates \\t:\", evaluation[\"template\"])\n",
    "    print(\"# BTCs \\t\\t:\", evaluation[\"btc\"])\n",
    "\n",
    "evaluation = evaluate_btc(df[\"label\"], df[\"prediction\"], df[\"mutant\"], df[\"template\"], \"gender\", df[\"gender\"])\n",
    "print_evaluation(evaluation)"
   ],
   "outputs": [
    {
     "output_type": "error",
     "ename": "NameError",
     "evalue": "name 'df' is not defined",
     "traceback": [
      "\u001b[0;31m---------------------------------------------------------------------------\u001b[0m",
      "\u001b[0;31mNameError\u001b[0m                                 Traceback (most recent call last)",
      "\u001b[0;32m<ipython-input-4-5123d9d58f94>\u001b[0m in \u001b[0;36m<module>\u001b[0;34m\u001b[0m\n\u001b[1;32m      4\u001b[0m     \u001b[0mprint\u001b[0m\u001b[0;34m(\u001b[0m\u001b[0;34m\"# BTCs \\t\\t:\"\u001b[0m\u001b[0;34m,\u001b[0m \u001b[0mevaluation\u001b[0m\u001b[0;34m[\u001b[0m\u001b[0;34m\"btc\"\u001b[0m\u001b[0;34m]\u001b[0m\u001b[0;34m)\u001b[0m\u001b[0;34m\u001b[0m\u001b[0;34m\u001b[0m\u001b[0m\n\u001b[1;32m      5\u001b[0m \u001b[0;34m\u001b[0m\u001b[0m\n\u001b[0;32m----> 6\u001b[0;31m \u001b[0mevaluation\u001b[0m \u001b[0;34m=\u001b[0m \u001b[0mevaluate_btc\u001b[0m\u001b[0;34m(\u001b[0m\u001b[0mdf\u001b[0m\u001b[0;34m[\u001b[0m\u001b[0;34m\"label\"\u001b[0m\u001b[0;34m]\u001b[0m\u001b[0;34m,\u001b[0m \u001b[0mdf\u001b[0m\u001b[0;34m[\u001b[0m\u001b[0;34m\"prediction\"\u001b[0m\u001b[0;34m]\u001b[0m\u001b[0;34m,\u001b[0m \u001b[0mdf\u001b[0m\u001b[0;34m[\u001b[0m\u001b[0;34m\"mutant\"\u001b[0m\u001b[0;34m]\u001b[0m\u001b[0;34m,\u001b[0m \u001b[0mdf\u001b[0m\u001b[0;34m[\u001b[0m\u001b[0;34m\"template\"\u001b[0m\u001b[0;34m]\u001b[0m\u001b[0;34m,\u001b[0m \u001b[0;34m\"gender\"\u001b[0m\u001b[0;34m,\u001b[0m \u001b[0mdf\u001b[0m\u001b[0;34m[\u001b[0m\u001b[0;34m\"gender\"\u001b[0m\u001b[0;34m]\u001b[0m\u001b[0;34m)\u001b[0m\u001b[0;34m\u001b[0m\u001b[0;34m\u001b[0m\u001b[0m\n\u001b[0m\u001b[1;32m      7\u001b[0m \u001b[0mprint_evaluation\u001b[0m\u001b[0;34m(\u001b[0m\u001b[0mevaluation\u001b[0m\u001b[0;34m)\u001b[0m\u001b[0;34m\u001b[0m\u001b[0;34m\u001b[0m\u001b[0m\n",
      "\u001b[0;31mNameError\u001b[0m: name 'df' is not defined"
     ]
    }
   ],
   "metadata": {}
  },
  {
   "cell_type": "markdown",
   "source": [
    "## Compare the BTCs found by  BiasFinder and EEC"
   ],
   "metadata": {}
  },
  {
   "cell_type": "code",
   "execution_count": null,
   "source": [
    "# models = [\"bert-base-uncased\", \"bert-base-cased\", \"roberta-base\", \"albert-base-v2\", \"microsoft/mpnet-base\", \"microsoft/deberta-base\", \"facebook/muppet-roberta-base\", \"google/electra-base-generator\"]\n",
    "\n",
    "d = pd.DataFrame(columns=[\"tool\", \"model\", \"accuracy\",\n",
    "                          \"template\", \"mutant\", \"btc\"])\n",
    "\n",
    "models = [\"bert-base-uncased\", \"bert-base-cased\", \"roberta-base\", \"xlnet-base-cased\",\n",
    "        \"albert-base-v2\", \"microsoft/mpnet-base\", \"microsoft/deberta-base\", \n",
    "        \"facebook/muppet-roberta-base\", \"google/electra-base-generator\"]\n",
    "\n",
    "mutation_tool = \"biasfinder\"\n",
    "bias_type = \"gender\"\n",
    "task = \"twitter_s140\"  # dataset used for fine-tuning\n",
    "mutant = \"twitter_s140\"  # dataset used for generating mutants\n",
    "\n",
    "for model in models :\n",
    "    test_accuracy = calculate_test_accuracy(task, model)\n",
    "    df = load_mutant_and_prediction(mutation_tool, bias_type, mutant)\n",
    "    evaluation = evaluate_btc(df[\"label\"], df[\"prediction\"],\n",
    "                            df[\"mutant\"], df[\"template\"], \"gender\", df[\"gender\"])\n",
    "\n",
    "    d = d.append(\n",
    "            {\n",
    "                \"tool\": mutation_tool,\n",
    "                \"model\": model, \n",
    "                \"accuracy\": test_accuracy,\n",
    "                \"template\": evaluation['template'], \n",
    "                \"mutant\": evaluation['mutant'],\n",
    "                \"btc\" : evaluation['btc']\n",
    "            }, \n",
    "            ignore_index=True)\n",
    "\n",
    "mutation_tool = \"eec\"\n",
    "\n",
    "for model in models:\n",
    "    test_accuracy = calculate_test_accuracy(task, model)\n",
    "    df = load_mutant_and_prediction(mutation_tool, bias_type, mutant)\n",
    "    evaluation = evaluate_btc(df[\"label\"], df[\"prediction\"],\n",
    "                              df[\"mutant\"], df[\"template\"], \"gender\", df[\"gender\"])\n",
    "\n",
    "    d = d.append(\n",
    "        {\n",
    "            \"tool\": mutation_tool,\n",
    "            \"model\": model,\n",
    "            \"accuracy\" : test_accuracy,\n",
    "            \"template\": evaluation['template'],\n",
    "            \"mutant\": evaluation['mutant'],\n",
    "            \"btc\": evaluation['btc']\n",
    "        },\n",
    "        ignore_index=True)\n"
   ],
   "outputs": [],
   "metadata": {}
  },
  {
   "cell_type": "code",
   "execution_count": null,
   "source": [
    "d"
   ],
   "outputs": [
    {
     "output_type": "execute_result",
     "data": {
      "text/plain": [
       "          tool                          model template mutant     btc\n",
       "0   biasfinder              bert-base-uncased     1672  58388   14824\n",
       "1   biasfinder                bert-base-cased     1672  58388   14983\n",
       "2   biasfinder                   roberta-base     1672  58388   13439\n",
       "3   biasfinder               xlnet-base-cased     1672  58388  244792\n",
       "4   biasfinder                 albert-base-v2     1672  58388    9498\n",
       "5   biasfinder           microsoft/mpnet-base     1672  58388   21406\n",
       "6   biasfinder         microsoft/deberta-base     1672  58388   15194\n",
       "7   biasfinder   facebook/muppet-roberta-base     1672  58388   17124\n",
       "8   biasfinder  google/electra-base-generator     1672  58388   11367\n",
       "9          eec              bert-base-uncased      140   8400    2132\n",
       "10         eec                bert-base-cased      140   8400    2032\n",
       "11         eec                   roberta-base      140   8400    1736\n",
       "12         eec               xlnet-base-cased      140   8400    2128\n",
       "13         eec                 albert-base-v2      140   8400    1156\n",
       "14         eec           microsoft/mpnet-base      140   8400    1884\n",
       "15         eec         microsoft/deberta-base      140   8400     290\n",
       "16         eec   facebook/muppet-roberta-base      140   8400     386\n",
       "17         eec  google/electra-base-generator      140   8400    1574"
      ],
      "text/html": [
       "<div>\n",
       "<style scoped>\n",
       "    .dataframe tbody tr th:only-of-type {\n",
       "        vertical-align: middle;\n",
       "    }\n",
       "\n",
       "    .dataframe tbody tr th {\n",
       "        vertical-align: top;\n",
       "    }\n",
       "\n",
       "    .dataframe thead th {\n",
       "        text-align: right;\n",
       "    }\n",
       "</style>\n",
       "<table border=\"1\" class=\"dataframe\">\n",
       "  <thead>\n",
       "    <tr style=\"text-align: right;\">\n",
       "      <th></th>\n",
       "      <th>tool</th>\n",
       "      <th>model</th>\n",
       "      <th>template</th>\n",
       "      <th>mutant</th>\n",
       "      <th>btc</th>\n",
       "    </tr>\n",
       "  </thead>\n",
       "  <tbody>\n",
       "    <tr>\n",
       "      <th>0</th>\n",
       "      <td>biasfinder</td>\n",
       "      <td>bert-base-uncased</td>\n",
       "      <td>1672</td>\n",
       "      <td>58388</td>\n",
       "      <td>14824</td>\n",
       "    </tr>\n",
       "    <tr>\n",
       "      <th>1</th>\n",
       "      <td>biasfinder</td>\n",
       "      <td>bert-base-cased</td>\n",
       "      <td>1672</td>\n",
       "      <td>58388</td>\n",
       "      <td>14983</td>\n",
       "    </tr>\n",
       "    <tr>\n",
       "      <th>2</th>\n",
       "      <td>biasfinder</td>\n",
       "      <td>roberta-base</td>\n",
       "      <td>1672</td>\n",
       "      <td>58388</td>\n",
       "      <td>13439</td>\n",
       "    </tr>\n",
       "    <tr>\n",
       "      <th>3</th>\n",
       "      <td>biasfinder</td>\n",
       "      <td>xlnet-base-cased</td>\n",
       "      <td>1672</td>\n",
       "      <td>58388</td>\n",
       "      <td>244792</td>\n",
       "    </tr>\n",
       "    <tr>\n",
       "      <th>4</th>\n",
       "      <td>biasfinder</td>\n",
       "      <td>albert-base-v2</td>\n",
       "      <td>1672</td>\n",
       "      <td>58388</td>\n",
       "      <td>9498</td>\n",
       "    </tr>\n",
       "    <tr>\n",
       "      <th>5</th>\n",
       "      <td>biasfinder</td>\n",
       "      <td>microsoft/mpnet-base</td>\n",
       "      <td>1672</td>\n",
       "      <td>58388</td>\n",
       "      <td>21406</td>\n",
       "    </tr>\n",
       "    <tr>\n",
       "      <th>6</th>\n",
       "      <td>biasfinder</td>\n",
       "      <td>microsoft/deberta-base</td>\n",
       "      <td>1672</td>\n",
       "      <td>58388</td>\n",
       "      <td>15194</td>\n",
       "    </tr>\n",
       "    <tr>\n",
       "      <th>7</th>\n",
       "      <td>biasfinder</td>\n",
       "      <td>facebook/muppet-roberta-base</td>\n",
       "      <td>1672</td>\n",
       "      <td>58388</td>\n",
       "      <td>17124</td>\n",
       "    </tr>\n",
       "    <tr>\n",
       "      <th>8</th>\n",
       "      <td>biasfinder</td>\n",
       "      <td>google/electra-base-generator</td>\n",
       "      <td>1672</td>\n",
       "      <td>58388</td>\n",
       "      <td>11367</td>\n",
       "    </tr>\n",
       "    <tr>\n",
       "      <th>9</th>\n",
       "      <td>eec</td>\n",
       "      <td>bert-base-uncased</td>\n",
       "      <td>140</td>\n",
       "      <td>8400</td>\n",
       "      <td>2132</td>\n",
       "    </tr>\n",
       "    <tr>\n",
       "      <th>10</th>\n",
       "      <td>eec</td>\n",
       "      <td>bert-base-cased</td>\n",
       "      <td>140</td>\n",
       "      <td>8400</td>\n",
       "      <td>2032</td>\n",
       "    </tr>\n",
       "    <tr>\n",
       "      <th>11</th>\n",
       "      <td>eec</td>\n",
       "      <td>roberta-base</td>\n",
       "      <td>140</td>\n",
       "      <td>8400</td>\n",
       "      <td>1736</td>\n",
       "    </tr>\n",
       "    <tr>\n",
       "      <th>12</th>\n",
       "      <td>eec</td>\n",
       "      <td>xlnet-base-cased</td>\n",
       "      <td>140</td>\n",
       "      <td>8400</td>\n",
       "      <td>2128</td>\n",
       "    </tr>\n",
       "    <tr>\n",
       "      <th>13</th>\n",
       "      <td>eec</td>\n",
       "      <td>albert-base-v2</td>\n",
       "      <td>140</td>\n",
       "      <td>8400</td>\n",
       "      <td>1156</td>\n",
       "    </tr>\n",
       "    <tr>\n",
       "      <th>14</th>\n",
       "      <td>eec</td>\n",
       "      <td>microsoft/mpnet-base</td>\n",
       "      <td>140</td>\n",
       "      <td>8400</td>\n",
       "      <td>1884</td>\n",
       "    </tr>\n",
       "    <tr>\n",
       "      <th>15</th>\n",
       "      <td>eec</td>\n",
       "      <td>microsoft/deberta-base</td>\n",
       "      <td>140</td>\n",
       "      <td>8400</td>\n",
       "      <td>290</td>\n",
       "    </tr>\n",
       "    <tr>\n",
       "      <th>16</th>\n",
       "      <td>eec</td>\n",
       "      <td>facebook/muppet-roberta-base</td>\n",
       "      <td>140</td>\n",
       "      <td>8400</td>\n",
       "      <td>386</td>\n",
       "    </tr>\n",
       "    <tr>\n",
       "      <th>17</th>\n",
       "      <td>eec</td>\n",
       "      <td>google/electra-base-generator</td>\n",
       "      <td>140</td>\n",
       "      <td>8400</td>\n",
       "      <td>1574</td>\n",
       "    </tr>\n",
       "  </tbody>\n",
       "</table>\n",
       "</div>"
      ]
     },
     "metadata": {},
     "execution_count": 21
    }
   ],
   "metadata": {}
  }
 ],
 "metadata": {
  "kernelspec": {
   "name": "python3",
   "display_name": "Python 3.6.9 64-bit"
  },
  "language_info": {
   "codemirror_mode": {
    "name": "ipython",
    "version": 3
   },
   "file_extension": ".py",
   "mimetype": "text/x-python",
   "name": "python",
   "nbconvert_exporter": "python",
   "pygments_lexer": "ipython3",
   "version": "3.6.9"
  },
  "interpreter": {
   "hash": "31f2aee4e71d21fbe5cf8b01ff0e069b9275f58929596ceb00d14d90e3e16cd6"
  }
 },
 "nbformat": 4,
 "nbformat_minor": 4
}