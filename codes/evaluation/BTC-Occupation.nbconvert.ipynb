{
 "cells": [
  {
   "cell_type": "markdown",
   "metadata": {},
   "source": [
    "# Bias Uncovering Test Case (BTC) for Country-of-origin Bias"
   ]
  },
  {
   "cell_type": "code",
   "execution_count": 1,
   "metadata": {
    "execution": {
     "iopub.execute_input": "2021-08-25T05:05:29.270157Z",
     "iopub.status.busy": "2021-08-25T05:05:29.269727Z",
     "iopub.status.idle": "2021-08-25T05:05:29.584972Z",
     "shell.execute_reply": "2021-08-25T05:05:29.584503Z"
    }
   },
   "outputs": [],
   "source": [
    "import os\n",
    "import pandas as pd\n",
    "import numpy as np\n",
    "import math\n",
    "import time\n",
    "import pickle\n",
    "\n",
    "from metric import evaluate_btc, evaluate_btc_mtnlp\n",
    "from utils import accuracy\n",
    "from utils import load_mutant_and_prediction"
   ]
  },
  {
   "cell_type": "markdown",
   "metadata": {},
   "source": [
    "## Measuring the number of BTCs found by BiasFinder"
   ]
  },
  {
   "cell_type": "code",
   "execution_count": 2,
   "metadata": {
    "execution": {
     "iopub.execute_input": "2021-08-25T05:05:29.589911Z",
     "iopub.status.busy": "2021-08-25T05:05:29.589412Z",
     "iopub.status.idle": "2021-08-25T05:06:06.356033Z",
     "shell.execute_reply": "2021-08-25T05:06:06.356414Z"
    }
   },
   "outputs": [
    {
     "data": {
      "text/html": [
       "<div>\n",
       "<style scoped>\n",
       "    .dataframe tbody tr th:only-of-type {\n",
       "        vertical-align: middle;\n",
       "    }\n",
       "\n",
       "    .dataframe tbody tr th {\n",
       "        vertical-align: top;\n",
       "    }\n",
       "\n",
       "    .dataframe thead th {\n",
       "        text-align: right;\n",
       "    }\n",
       "</style>\n",
       "<table border=\"1\" class=\"dataframe\">\n",
       "  <thead>\n",
       "    <tr style=\"text-align: right;\">\n",
       "      <th></th>\n",
       "      <th>label</th>\n",
       "      <th>mutant</th>\n",
       "      <th>template</th>\n",
       "      <th>original</th>\n",
       "      <th>gender</th>\n",
       "      <th>template_id</th>\n",
       "      <th>prediction</th>\n",
       "      <th>original_prediction</th>\n",
       "    </tr>\n",
       "  </thead>\n",
       "  <tbody>\n",
       "    <tr>\n",
       "      <th>0</th>\n",
       "      <td>0</td>\n",
       "      <td>THE PLOT: A trucker (Kristofferson) battles a...</td>\n",
       "      <td>THE PLOT: A trucker (Kristofferson) battles &lt;...</td>\n",
       "      <td>THE PLOT: A trucker (Kristofferson) battles a ...</td>\n",
       "      <td>attendant</td>\n",
       "      <td>9884</td>\n",
       "      <td>0</td>\n",
       "      <td>0</td>\n",
       "    </tr>\n",
       "    <tr>\n",
       "      <th>1</th>\n",
       "      <td>0</td>\n",
       "      <td>THE PLOT: A trucker (Kristofferson) battles a...</td>\n",
       "      <td>THE PLOT: A trucker (Kristofferson) battles &lt;...</td>\n",
       "      <td>THE PLOT: A trucker (Kristofferson) battles a ...</td>\n",
       "      <td>cashier</td>\n",
       "      <td>9884</td>\n",
       "      <td>0</td>\n",
       "      <td>0</td>\n",
       "    </tr>\n",
       "    <tr>\n",
       "      <th>2</th>\n",
       "      <td>0</td>\n",
       "      <td>THE PLOT: A trucker (Kristofferson) battles a...</td>\n",
       "      <td>THE PLOT: A trucker (Kristofferson) battles &lt;...</td>\n",
       "      <td>THE PLOT: A trucker (Kristofferson) battles a ...</td>\n",
       "      <td>teacher</td>\n",
       "      <td>9884</td>\n",
       "      <td>0</td>\n",
       "      <td>0</td>\n",
       "    </tr>\n",
       "    <tr>\n",
       "      <th>3</th>\n",
       "      <td>0</td>\n",
       "      <td>THE PLOT: A trucker (Kristofferson) battles a...</td>\n",
       "      <td>THE PLOT: A trucker (Kristofferson) battles &lt;...</td>\n",
       "      <td>THE PLOT: A trucker (Kristofferson) battles a ...</td>\n",
       "      <td>nurse</td>\n",
       "      <td>9884</td>\n",
       "      <td>0</td>\n",
       "      <td>0</td>\n",
       "    </tr>\n",
       "    <tr>\n",
       "      <th>4</th>\n",
       "      <td>0</td>\n",
       "      <td>THE PLOT: A trucker (Kristofferson) battles a...</td>\n",
       "      <td>THE PLOT: A trucker (Kristofferson) battles &lt;...</td>\n",
       "      <td>THE PLOT: A trucker (Kristofferson) battles a ...</td>\n",
       "      <td>assistant</td>\n",
       "      <td>9884</td>\n",
       "      <td>0</td>\n",
       "      <td>0</td>\n",
       "    </tr>\n",
       "  </tbody>\n",
       "</table>\n",
       "</div>"
      ],
      "text/plain": [
       "   label                                             mutant  \\\n",
       "0      0   THE PLOT: A trucker (Kristofferson) battles a...   \n",
       "1      0   THE PLOT: A trucker (Kristofferson) battles a...   \n",
       "2      0   THE PLOT: A trucker (Kristofferson) battles a...   \n",
       "3      0   THE PLOT: A trucker (Kristofferson) battles a...   \n",
       "4      0   THE PLOT: A trucker (Kristofferson) battles a...   \n",
       "\n",
       "                                            template  \\\n",
       "0   THE PLOT: A trucker (Kristofferson) battles <...   \n",
       "1   THE PLOT: A trucker (Kristofferson) battles <...   \n",
       "2   THE PLOT: A trucker (Kristofferson) battles <...   \n",
       "3   THE PLOT: A trucker (Kristofferson) battles <...   \n",
       "4   THE PLOT: A trucker (Kristofferson) battles <...   \n",
       "\n",
       "                                            original     gender  template_id  \\\n",
       "0  THE PLOT: A trucker (Kristofferson) battles a ...  attendant         9884   \n",
       "1  THE PLOT: A trucker (Kristofferson) battles a ...    cashier         9884   \n",
       "2  THE PLOT: A trucker (Kristofferson) battles a ...    teacher         9884   \n",
       "3  THE PLOT: A trucker (Kristofferson) battles a ...      nurse         9884   \n",
       "4  THE PLOT: A trucker (Kristofferson) battles a ...  assistant         9884   \n",
       "\n",
       "   prediction  original_prediction  \n",
       "0           0                    0  \n",
       "1           0                    0  \n",
       "2           0                    0  \n",
       "3           0                    0  \n",
       "4           0                    0  "
      ]
     },
     "execution_count": 2,
     "metadata": {},
     "output_type": "execute_result"
    }
   ],
   "source": [
    "mutation_tool = \"biasfinder\"\n",
    "bias_type = \"occupation\"\n",
    "task = \"imdb\"  # dataset used for fine-tuning\n",
    "model = \"bert-base-uncased\"\n",
    "mutant = \"imdb\"  # dataset used for generating mutants\n",
    "\n",
    "\n",
    "df = load_mutant_and_prediction(mutation_tool, model, bias_type, mutant)\n",
    "\n",
    "df.head()\n"
   ]
  },
  {
   "cell_type": "code",
   "execution_count": 3,
   "metadata": {
    "execution": {
     "iopub.execute_input": "2021-08-25T05:06:06.360116Z",
     "iopub.status.busy": "2021-08-25T05:06:06.359647Z",
     "iopub.status.idle": "2021-08-25T05:06:06.451730Z",
     "shell.execute_reply": "2021-08-25T05:06:06.451242Z"
    }
   },
   "outputs": [
    {
     "name": "stdout",
     "output_type": "stream",
     "text": [
      "Accuracy on mutants: 91.07%\n"
     ]
    }
   ],
   "source": [
    "print(\"Accuracy on mutants: {:.2f}%\".format(accuracy(df[\"label\"],df[\"prediction\"])))\n"
   ]
  },
  {
   "cell_type": "code",
   "execution_count": 4,
   "metadata": {
    "execution": {
     "iopub.execute_input": "2021-08-25T05:06:06.455348Z",
     "iopub.status.busy": "2021-08-25T05:06:06.454869Z",
     "iopub.status.idle": "2021-08-25T05:06:06.457310Z",
     "shell.execute_reply": "2021-08-25T05:06:06.456882Z"
    }
   },
   "outputs": [],
   "source": [
    "def print_evaluation(evaluation):\n",
    "    print(\"# Mutants \\t:\", evaluation[\"mutant\"])\n",
    "    print(\"# Templates \\t:\", evaluation[\"template\"])\n",
    "    print(\"# BTCs \\t\\t:\", evaluation[\"btc\"])\n",
    "\n",
    "# evaluation = evaluate_btc(df[\"label\"], df[\"prediction\"], df[\"mutant\"], df[\"template\"], \"gender\", df[\"gender\"])\n",
    "# print_evaluation(evaluation)"
   ]
  },
  {
   "cell_type": "markdown",
   "metadata": {},
   "source": [
    "## IMDB\n",
    "\n",
    "Measure the number of bias uncovering test cases found by BiasFinder on models fine-tuned using IMDB dataset."
   ]
  },
  {
   "cell_type": "code",
   "execution_count": 5,
   "metadata": {
    "execution": {
     "iopub.execute_input": "2021-08-25T05:06:06.465407Z",
     "iopub.status.busy": "2021-08-25T05:06:06.464884Z",
     "iopub.status.idle": "2021-08-25T09:50:20.623414Z",
     "shell.execute_reply": "2021-08-25T09:50:20.622933Z"
    }
   },
   "outputs": [
    {
     "name": "stdout",
     "output_type": "stream",
     "text": [
      "bert-base-uncased\n",
      "bert-base-cased\n",
      "roberta-base\n",
      "xlnet-base-cased\n",
      "albert-base-v2\n",
      "microsoft/mpnet-base\n",
      "facebook/muppet-roberta-base\n",
      "google/electra-base-generator\n"
     ]
    },
    {
     "data": {
      "text/html": [
       "<div>\n",
       "<style scoped>\n",
       "    .dataframe tbody tr th:only-of-type {\n",
       "        vertical-align: middle;\n",
       "    }\n",
       "\n",
       "    .dataframe tbody tr th {\n",
       "        vertical-align: top;\n",
       "    }\n",
       "\n",
       "    .dataframe thead th {\n",
       "        text-align: right;\n",
       "    }\n",
       "</style>\n",
       "<table border=\"1\" class=\"dataframe\">\n",
       "  <thead>\n",
       "    <tr style=\"text-align: right;\">\n",
       "      <th></th>\n",
       "      <th>model</th>\n",
       "      <th>tool</th>\n",
       "      <th>template</th>\n",
       "      <th>mutant</th>\n",
       "      <th>btc</th>\n",
       "    </tr>\n",
       "  </thead>\n",
       "  <tbody>\n",
       "    <tr>\n",
       "      <th>0</th>\n",
       "      <td>bert-base-uncased</td>\n",
       "      <td>biasfinder</td>\n",
       "      <td>14319</td>\n",
       "      <td>1131201</td>\n",
       "      <td>174666</td>\n",
       "    </tr>\n",
       "    <tr>\n",
       "      <th>1</th>\n",
       "      <td>bert-base-cased</td>\n",
       "      <td>biasfinder</td>\n",
       "      <td>14319</td>\n",
       "      <td>1131201</td>\n",
       "      <td>200400</td>\n",
       "    </tr>\n",
       "    <tr>\n",
       "      <th>2</th>\n",
       "      <td>roberta-base</td>\n",
       "      <td>biasfinder</td>\n",
       "      <td>14319</td>\n",
       "      <td>1131201</td>\n",
       "      <td>134926</td>\n",
       "    </tr>\n",
       "    <tr>\n",
       "      <th>3</th>\n",
       "      <td>xlnet-base-cased</td>\n",
       "      <td>biasfinder</td>\n",
       "      <td>14319</td>\n",
       "      <td>1131201</td>\n",
       "      <td>106574</td>\n",
       "    </tr>\n",
       "    <tr>\n",
       "      <th>4</th>\n",
       "      <td>albert-base-v2</td>\n",
       "      <td>biasfinder</td>\n",
       "      <td>14319</td>\n",
       "      <td>1131201</td>\n",
       "      <td>184496</td>\n",
       "    </tr>\n",
       "    <tr>\n",
       "      <th>5</th>\n",
       "      <td>microsoft/mpnet-base</td>\n",
       "      <td>biasfinder</td>\n",
       "      <td>14319</td>\n",
       "      <td>1131201</td>\n",
       "      <td>79420</td>\n",
       "    </tr>\n",
       "    <tr>\n",
       "      <th>6</th>\n",
       "      <td>facebook/muppet-roberta-base</td>\n",
       "      <td>biasfinder</td>\n",
       "      <td>14319</td>\n",
       "      <td>1131201</td>\n",
       "      <td>85256</td>\n",
       "    </tr>\n",
       "    <tr>\n",
       "      <th>7</th>\n",
       "      <td>google/electra-base-generator</td>\n",
       "      <td>biasfinder</td>\n",
       "      <td>14319</td>\n",
       "      <td>1131201</td>\n",
       "      <td>118338</td>\n",
       "    </tr>\n",
       "  </tbody>\n",
       "</table>\n",
       "</div>"
      ],
      "text/plain": [
       "                           model        tool template   mutant     btc\n",
       "0              bert-base-uncased  biasfinder    14319  1131201  174666\n",
       "1                bert-base-cased  biasfinder    14319  1131201  200400\n",
       "2                   roberta-base  biasfinder    14319  1131201  134926\n",
       "3               xlnet-base-cased  biasfinder    14319  1131201  106574\n",
       "4                 albert-base-v2  biasfinder    14319  1131201  184496\n",
       "5           microsoft/mpnet-base  biasfinder    14319  1131201   79420\n",
       "6   facebook/muppet-roberta-base  biasfinder    14319  1131201   85256\n",
       "7  google/electra-base-generator  biasfinder    14319  1131201  118338"
      ]
     },
     "execution_count": 5,
     "metadata": {},
     "output_type": "execute_result"
    }
   ],
   "source": [
    "models = [\"bert-base-uncased\", \"bert-base-cased\", \"roberta-base\", \"xlnet-base-cased\",\n",
    "          \"albert-base-v2\", \"microsoft/mpnet-base\", \"facebook/muppet-roberta-base\", \"google/electra-base-generator\"]\n",
    "\n",
    "\n",
    "mutation_tools = [\"biasfinder\"]\n",
    "task = \"imdb\"  # dataset used for fine-tuning\n",
    "mutant = \"imdb\"  # dataset used for generating mutants\n",
    "\n",
    "d = pd.DataFrame(columns=[\"model\", \"tool\",\n",
    "                          \"template\", \"mutant\", \"btc\"])\n",
    "\n",
    "for model in models:\n",
    "    for mutation_tool in mutation_tools:\n",
    "        print(model)\n",
    "        df = load_mutant_and_prediction(\n",
    "            mutation_tool, model, bias_type, mutant)\n",
    "        if mutation_tool == \"mtnlp\" :\n",
    "            evaluation = evaluate_btc_mtnlp(df)\n",
    "        else : \n",
    "            evaluation = evaluate_btc(df[\"label\"], df[\"prediction\"],\n",
    "                                  df[\"mutant\"], df[\"template\"], \"gender\", df[\"gender\"])\n",
    "\n",
    "        d = d.append(\n",
    "            {\n",
    "                \"model\": model,\n",
    "                \"tool\": mutation_tool,\n",
    "                \"template\": evaluation['template'],\n",
    "                \"mutant\": evaluation['mutant'],\n",
    "                \"btc\": evaluation['btc']\n",
    "            },\n",
    "            ignore_index=True)\n",
    "\n",
    "d\n"
   ]
  },
  {
   "cell_type": "markdown",
   "metadata": {},
   "source": [
    "## The total number of BTCs found"
   ]
  },
  {
   "cell_type": "code",
   "execution_count": 6,
   "metadata": {
    "execution": {
     "iopub.execute_input": "2021-08-25T09:50:20.629467Z",
     "iopub.status.busy": "2021-08-25T09:50:20.628967Z",
     "iopub.status.idle": "2021-08-25T09:50:20.631858Z",
     "shell.execute_reply": "2021-08-25T09:50:20.631354Z"
    }
   },
   "outputs": [
    {
     "data": {
      "text/html": [
       "<div>\n",
       "<style scoped>\n",
       "    .dataframe tbody tr th:only-of-type {\n",
       "        vertical-align: middle;\n",
       "    }\n",
       "\n",
       "    .dataframe tbody tr th {\n",
       "        vertical-align: top;\n",
       "    }\n",
       "\n",
       "    .dataframe thead th {\n",
       "        text-align: right;\n",
       "    }\n",
       "</style>\n",
       "<table border=\"1\" class=\"dataframe\">\n",
       "  <thead>\n",
       "    <tr style=\"text-align: right;\">\n",
       "      <th></th>\n",
       "    </tr>\n",
       "    <tr>\n",
       "      <th>tool</th>\n",
       "    </tr>\n",
       "  </thead>\n",
       "  <tbody>\n",
       "    <tr>\n",
       "      <th>biasfinder</th>\n",
       "    </tr>\n",
       "  </tbody>\n",
       "</table>\n",
       "</div>"
      ],
      "text/plain": [
       "Empty DataFrame\n",
       "Columns: []\n",
       "Index: [biasfinder]"
      ]
     },
     "execution_count": 6,
     "metadata": {},
     "output_type": "execute_result"
    }
   ],
   "source": [
    "d.drop(columns=[\"model\"]).groupby(\"tool\").sum()"
   ]
  },
  {
   "cell_type": "markdown",
   "metadata": {},
   "source": [
    "## Twitter Sentiment 140\n",
    "\n",
    "Measure the number of bias uncovering test cases found by BiasFinder models fine-tuned using Twitter Sentiment 140 dataset."
   ]
  },
  {
   "cell_type": "code",
   "execution_count": 7,
   "metadata": {
    "execution": {
     "iopub.execute_input": "2021-08-25T09:50:20.639065Z",
     "iopub.status.busy": "2021-08-25T09:50:20.638540Z",
     "iopub.status.idle": "2021-08-25T09:53:58.062024Z",
     "shell.execute_reply": "2021-08-25T09:53:58.061655Z"
    }
   },
   "outputs": [
    {
     "data": {
      "text/html": [
       "<div>\n",
       "<style scoped>\n",
       "    .dataframe tbody tr th:only-of-type {\n",
       "        vertical-align: middle;\n",
       "    }\n",
       "\n",
       "    .dataframe tbody tr th {\n",
       "        vertical-align: top;\n",
       "    }\n",
       "\n",
       "    .dataframe thead th {\n",
       "        text-align: right;\n",
       "    }\n",
       "</style>\n",
       "<table border=\"1\" class=\"dataframe\">\n",
       "  <thead>\n",
       "    <tr style=\"text-align: right;\">\n",
       "      <th></th>\n",
       "      <th>model</th>\n",
       "      <th>tool</th>\n",
       "      <th>template</th>\n",
       "      <th>mutant</th>\n",
       "      <th>btc</th>\n",
       "    </tr>\n",
       "  </thead>\n",
       "  <tbody>\n",
       "    <tr>\n",
       "      <th>0</th>\n",
       "      <td>bert-base-uncased</td>\n",
       "      <td>biasfinder</td>\n",
       "      <td>202</td>\n",
       "      <td>15958</td>\n",
       "      <td>25336</td>\n",
       "    </tr>\n",
       "    <tr>\n",
       "      <th>1</th>\n",
       "      <td>bert-base-cased</td>\n",
       "      <td>biasfinder</td>\n",
       "      <td>202</td>\n",
       "      <td>15958</td>\n",
       "      <td>16938</td>\n",
       "    </tr>\n",
       "    <tr>\n",
       "      <th>2</th>\n",
       "      <td>roberta-base</td>\n",
       "      <td>biasfinder</td>\n",
       "      <td>202</td>\n",
       "      <td>15958</td>\n",
       "      <td>25656</td>\n",
       "    </tr>\n",
       "    <tr>\n",
       "      <th>3</th>\n",
       "      <td>xlnet-base-cased</td>\n",
       "      <td>biasfinder</td>\n",
       "      <td>202</td>\n",
       "      <td>15958</td>\n",
       "      <td>16648</td>\n",
       "    </tr>\n",
       "    <tr>\n",
       "      <th>4</th>\n",
       "      <td>albert-base-v2</td>\n",
       "      <td>biasfinder</td>\n",
       "      <td>202</td>\n",
       "      <td>15958</td>\n",
       "      <td>16956</td>\n",
       "    </tr>\n",
       "    <tr>\n",
       "      <th>5</th>\n",
       "      <td>microsoft/mpnet-base</td>\n",
       "      <td>biasfinder</td>\n",
       "      <td>202</td>\n",
       "      <td>15958</td>\n",
       "      <td>19026</td>\n",
       "    </tr>\n",
       "    <tr>\n",
       "      <th>6</th>\n",
       "      <td>facebook/muppet-roberta-base</td>\n",
       "      <td>biasfinder</td>\n",
       "      <td>202</td>\n",
       "      <td>15958</td>\n",
       "      <td>20098</td>\n",
       "    </tr>\n",
       "    <tr>\n",
       "      <th>7</th>\n",
       "      <td>google/electra-base-generator</td>\n",
       "      <td>biasfinder</td>\n",
       "      <td>202</td>\n",
       "      <td>15958</td>\n",
       "      <td>15458</td>\n",
       "    </tr>\n",
       "  </tbody>\n",
       "</table>\n",
       "</div>"
      ],
      "text/plain": [
       "                           model        tool template mutant    btc\n",
       "0              bert-base-uncased  biasfinder      202  15958  25336\n",
       "1                bert-base-cased  biasfinder      202  15958  16938\n",
       "2                   roberta-base  biasfinder      202  15958  25656\n",
       "3               xlnet-base-cased  biasfinder      202  15958  16648\n",
       "4                 albert-base-v2  biasfinder      202  15958  16956\n",
       "5           microsoft/mpnet-base  biasfinder      202  15958  19026\n",
       "6   facebook/muppet-roberta-base  biasfinder      202  15958  20098\n",
       "7  google/electra-base-generator  biasfinder      202  15958  15458"
      ]
     },
     "execution_count": 7,
     "metadata": {},
     "output_type": "execute_result"
    }
   ],
   "source": [
    "models = [\"bert-base-uncased\", \"bert-base-cased\", \"roberta-base\", \"xlnet-base-cased\",\n",
    "          \"albert-base-v2\", \"microsoft/mpnet-base\", \"facebook/muppet-roberta-base\", \"google/electra-base-generator\"]\n",
    "\n",
    "mutation_tools = [\"biasfinder\"]\n",
    "\n",
    "task = \"twitter_s140\"  # dataset used for fine-tuning\n",
    "mutant = \"twitter_s140\"  # dataset used for generating mutants\n",
    "\n",
    "d = pd.DataFrame(columns=[\"model\", \"tool\",\n",
    "                          \"template\", \"mutant\", \"btc\"])\n",
    "\n",
    "for model in models:\n",
    "    for mutation_tool in mutation_tools:\n",
    "        df = load_mutant_and_prediction(\n",
    "            mutation_tool, model, bias_type, mutant)\n",
    "        if mutation_tool == \"mtnlp\":\n",
    "            evaluation = evaluate_btc_mtnlp(df)\n",
    "        else:\n",
    "            evaluation = evaluate_btc(df[\"label\"], df[\"prediction\"],\n",
    "                                      df[\"mutant\"], df[\"template\"], \"gender\", df[\"gender\"])\n",
    "\n",
    "        d = d.append(\n",
    "            {\n",
    "                \"model\": model,\n",
    "                \"tool\": mutation_tool,\n",
    "                \"template\": evaluation['template'],\n",
    "                \"mutant\": evaluation['mutant'],\n",
    "                \"btc\": evaluation['btc']\n",
    "            },\n",
    "            ignore_index=True)\n",
    "\n",
    "d\n"
   ]
  },
  {
   "cell_type": "markdown",
   "metadata": {},
   "source": [
    "## The total number of BTCs found"
   ]
  },
  {
   "cell_type": "code",
   "execution_count": 8,
   "metadata": {
    "execution": {
     "iopub.execute_input": "2021-08-25T09:53:58.067130Z",
     "iopub.status.busy": "2021-08-25T09:53:58.066640Z",
     "iopub.status.idle": "2021-08-25T09:53:58.069393Z",
     "shell.execute_reply": "2021-08-25T09:53:58.068921Z"
    }
   },
   "outputs": [
    {
     "data": {
      "text/html": [
       "<div>\n",
       "<style scoped>\n",
       "    .dataframe tbody tr th:only-of-type {\n",
       "        vertical-align: middle;\n",
       "    }\n",
       "\n",
       "    .dataframe tbody tr th {\n",
       "        vertical-align: top;\n",
       "    }\n",
       "\n",
       "    .dataframe thead th {\n",
       "        text-align: right;\n",
       "    }\n",
       "</style>\n",
       "<table border=\"1\" class=\"dataframe\">\n",
       "  <thead>\n",
       "    <tr style=\"text-align: right;\">\n",
       "      <th></th>\n",
       "    </tr>\n",
       "    <tr>\n",
       "      <th>tool</th>\n",
       "    </tr>\n",
       "  </thead>\n",
       "  <tbody>\n",
       "    <tr>\n",
       "      <th>biasfinder</th>\n",
       "    </tr>\n",
       "  </tbody>\n",
       "</table>\n",
       "</div>"
      ],
      "text/plain": [
       "Empty DataFrame\n",
       "Columns: []\n",
       "Index: [biasfinder]"
      ]
     },
     "execution_count": 8,
     "metadata": {},
     "output_type": "execute_result"
    }
   ],
   "source": [
    "d.drop(columns=[\"model\"]).groupby(\"tool\").sum()\n"
   ]
  },
  {
   "cell_type": "code",
   "execution_count": null,
   "metadata": {},
   "outputs": [],
   "source": []
  }
 ],
 "metadata": {
  "interpreter": {
   "hash": "31f2aee4e71d21fbe5cf8b01ff0e069b9275f58929596ceb00d14d90e3e16cd6"
  },
  "kernelspec": {
   "display_name": "Python 3.8.5 64-bit",
   "name": "python3"
  },
  "language_info": {
   "codemirror_mode": {
    "name": "ipython",
    "version": 3
   },
   "file_extension": ".py",
   "mimetype": "text/x-python",
   "name": "python",
   "nbconvert_exporter": "python",
   "pygments_lexer": "ipython3",
   "version": "3.7.10"
  }
 },
 "nbformat": 4,
 "nbformat_minor": 4
}
