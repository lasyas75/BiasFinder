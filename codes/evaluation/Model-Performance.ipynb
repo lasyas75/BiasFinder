{
 "cells": [
  {
   "cell_type": "markdown",
   "source": [
    "# Accuracy of Fine-tuned Models\n",
    "\n",
    "Evaluate the performance of fine-tuned models on 2 datasets:\n",
    " * IMDB (Large Movie Review Dataset)\n",
    " * Twitter Sentiment140"
   ],
   "metadata": {}
  },
  {
   "cell_type": "code",
   "execution_count": 2,
   "source": [
    "import pandas as pd\n",
    "from utils import load_pickle, calculate_test_accuracy\n",
    "import pickle\n",
    "import numpy as np"
   ],
   "outputs": [],
   "metadata": {}
  },
  {
   "cell_type": "code",
   "execution_count": 3,
   "source": [
    "models = [\"bert-base-uncased\", \"bert-base-cased\", \"roberta-base\", \"xlnet-base-cased\",\n",
    "          \"albert-base-v2\", \"microsoft/mpnet-base\",\n",
    "          \"facebook/muppet-roberta-base\", \"google/electra-base-generator\"]\n",
    "\n",
    "tasks = [\"imdb\", \"twitter_s140\"]  # dataset used for fine-tuning\n",
    "\n",
    "\n",
    "accuracies = {}\n",
    "pearsoncors = {}\n",
    "accuracies[\"imdb\"] = []\n",
    "accuracies[\"twitter_s140\"] = []\n",
    "\n",
    "for model in models:\n",
    "    for task in tasks :\n",
    "        test_accuracy = calculate_test_accuracy(task, model)\n",
    "        accuracies[task].append(test_accuracy)\n",
    "\n",
    "df = pd.DataFrame(data={\n",
    "                        \"model\" : models,\n",
    "                        \"accuracy-imdb\": accuracies[\"imdb\"],\n",
    "                        \"accuracy-twitter-s140\": accuracies[\"twitter_s140\"]\n",
    "                        })\n",
    "\n",
    "df\n"
   ],
   "outputs": [
    {
     "output_type": "execute_result",
     "data": {
      "text/plain": [
       "                           model  accuracy-imdb  accuracy-twitter-s140\n",
       "0              bert-base-uncased          92.57                  85.77\n",
       "1                bert-base-cased          89.12                  83.54\n",
       "2                   roberta-base          92.84                  86.24\n",
       "3               xlnet-base-cased          93.88                  83.45\n",
       "4                 albert-base-v2          89.45                  82.96\n",
       "5           microsoft/mpnet-base          93.62                  84.36\n",
       "6   facebook/muppet-roberta-base          95.29                  85.69\n",
       "7  google/electra-base-generator          91.20                  84.39"
      ],
      "text/html": [
       "<div>\n",
       "<style scoped>\n",
       "    .dataframe tbody tr th:only-of-type {\n",
       "        vertical-align: middle;\n",
       "    }\n",
       "\n",
       "    .dataframe tbody tr th {\n",
       "        vertical-align: top;\n",
       "    }\n",
       "\n",
       "    .dataframe thead th {\n",
       "        text-align: right;\n",
       "    }\n",
       "</style>\n",
       "<table border=\"1\" class=\"dataframe\">\n",
       "  <thead>\n",
       "    <tr style=\"text-align: right;\">\n",
       "      <th></th>\n",
       "      <th>model</th>\n",
       "      <th>accuracy-imdb</th>\n",
       "      <th>accuracy-twitter-s140</th>\n",
       "    </tr>\n",
       "  </thead>\n",
       "  <tbody>\n",
       "    <tr>\n",
       "      <th>0</th>\n",
       "      <td>bert-base-uncased</td>\n",
       "      <td>92.57</td>\n",
       "      <td>85.77</td>\n",
       "    </tr>\n",
       "    <tr>\n",
       "      <th>1</th>\n",
       "      <td>bert-base-cased</td>\n",
       "      <td>89.12</td>\n",
       "      <td>83.54</td>\n",
       "    </tr>\n",
       "    <tr>\n",
       "      <th>2</th>\n",
       "      <td>roberta-base</td>\n",
       "      <td>92.84</td>\n",
       "      <td>86.24</td>\n",
       "    </tr>\n",
       "    <tr>\n",
       "      <th>3</th>\n",
       "      <td>xlnet-base-cased</td>\n",
       "      <td>93.88</td>\n",
       "      <td>83.45</td>\n",
       "    </tr>\n",
       "    <tr>\n",
       "      <th>4</th>\n",
       "      <td>albert-base-v2</td>\n",
       "      <td>89.45</td>\n",
       "      <td>82.96</td>\n",
       "    </tr>\n",
       "    <tr>\n",
       "      <th>5</th>\n",
       "      <td>microsoft/mpnet-base</td>\n",
       "      <td>93.62</td>\n",
       "      <td>84.36</td>\n",
       "    </tr>\n",
       "    <tr>\n",
       "      <th>6</th>\n",
       "      <td>facebook/muppet-roberta-base</td>\n",
       "      <td>95.29</td>\n",
       "      <td>85.69</td>\n",
       "    </tr>\n",
       "    <tr>\n",
       "      <th>7</th>\n",
       "      <td>google/electra-base-generator</td>\n",
       "      <td>91.20</td>\n",
       "      <td>84.39</td>\n",
       "    </tr>\n",
       "  </tbody>\n",
       "</table>\n",
       "</div>"
      ]
     },
     "metadata": {},
     "execution_count": 3
    }
   ],
   "metadata": {}
  },
  {
   "cell_type": "code",
   "execution_count": null,
   "source": [],
   "outputs": [],
   "metadata": {}
  }
 ],
 "metadata": {
  "orig_nbformat": 4,
  "language_info": {
   "name": "python",
   "version": "3.8.5",
   "mimetype": "text/x-python",
   "codemirror_mode": {
    "name": "ipython",
    "version": 3
   },
   "pygments_lexer": "ipython3",
   "nbconvert_exporter": "python",
   "file_extension": ".py"
  },
  "kernelspec": {
   "name": "python3",
   "display_name": "Python 3.8.5 64-bit"
  },
  "interpreter": {
   "hash": "31f2aee4e71d21fbe5cf8b01ff0e069b9275f58929596ceb00d14d90e3e16cd6"
  }
 },
 "nbformat": 4,
 "nbformat_minor": 2
}