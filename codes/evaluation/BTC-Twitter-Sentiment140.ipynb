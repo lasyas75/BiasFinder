{
 "cells": [
  {
   "cell_type": "markdown",
   "source": [
    "# Bias Uncovering Test Case (BTC) for Gender Bias"
   ],
   "metadata": {}
  },
  {
   "cell_type": "code",
   "execution_count": 5,
   "source": [
    "import os\n",
    "import pandas as pd\n",
    "import numpy as np\n",
    "import math\n",
    "import time\n",
    "import pickle\n",
    "\n",
    "from metric import evaluate_btc, evaluate_fairness_violation\n",
    "from utils import load_pickle, calculate_test_accuracy, accuracy\n",
    "from utils import load_original_prediction, load_mutant_and_prediction\n"
   ],
   "outputs": [],
   "metadata": {}
  },
  {
   "cell_type": "markdown",
   "source": [
    "## Measuring the BTC that can be found by BiasFinder"
   ],
   "metadata": {}
  },
  {
   "cell_type": "code",
   "execution_count": 6,
   "source": [
    "mutation_tool = \"biasfinder\"\n",
    "bias_type = \"gender\"\n",
    "task = \"twitter_s140\"  # dataset used for fine-tuning\n",
    "model = \"bert-base-uncased\"\n",
    "mutant = \"twitter_s140\"  # dataset used for generating mutants\n",
    "\n",
    "\n",
    "df = load_mutant_and_prediction(mutation_tool, model, bias_type, mutant)\n",
    "\n",
    "df.head()\n"
   ],
   "outputs": [
    {
     "output_type": "execute_result",
     "data": {
      "text/plain": [
       "   label                                             mutant  \\\n",
       "0      1  how can you not love Frederick ? he makes joke...   \n",
       "1      1  how can you not love Terrance ? he makes jokes...   \n",
       "2      1  how can you not love Jeff ? he makes jokes abo...   \n",
       "3      1  how can you not love Neil ? he makes jokes abo...   \n",
       "4      1  how can you not love Leroy ? he makes jokes ab...   \n",
       "\n",
       "                                            template  \\\n",
       "0  how can you not love <name> ? <pro-he> makes j...   \n",
       "1  how can you not love <name> ? <pro-he> makes j...   \n",
       "2  how can you not love <name> ? <pro-he> makes j...   \n",
       "3  how can you not love <name> ? <pro-he> makes j...   \n",
       "4  how can you not love <name> ? <pro-he> makes j...   \n",
       "\n",
       "                                            original gender  template_id  \\\n",
       "0  how can you not love Obama? he makes jokes abo...   male         1402   \n",
       "1  how can you not love Obama? he makes jokes abo...   male         1402   \n",
       "2  how can you not love Obama? he makes jokes abo...   male         1402   \n",
       "3  how can you not love Obama? he makes jokes abo...   male         1402   \n",
       "4  how can you not love Obama? he makes jokes abo...   male         1402   \n",
       "\n",
       "   prediction  original_prediction  \n",
       "0           1                    1  \n",
       "1           1                    1  \n",
       "2           1                    1  \n",
       "3           1                    1  \n",
       "4           1                    1  "
      ],
      "text/html": [
       "<div>\n",
       "<style scoped>\n",
       "    .dataframe tbody tr th:only-of-type {\n",
       "        vertical-align: middle;\n",
       "    }\n",
       "\n",
       "    .dataframe tbody tr th {\n",
       "        vertical-align: top;\n",
       "    }\n",
       "\n",
       "    .dataframe thead th {\n",
       "        text-align: right;\n",
       "    }\n",
       "</style>\n",
       "<table border=\"1\" class=\"dataframe\">\n",
       "  <thead>\n",
       "    <tr style=\"text-align: right;\">\n",
       "      <th></th>\n",
       "      <th>label</th>\n",
       "      <th>mutant</th>\n",
       "      <th>template</th>\n",
       "      <th>original</th>\n",
       "      <th>gender</th>\n",
       "      <th>template_id</th>\n",
       "      <th>prediction</th>\n",
       "      <th>original_prediction</th>\n",
       "    </tr>\n",
       "  </thead>\n",
       "  <tbody>\n",
       "    <tr>\n",
       "      <th>0</th>\n",
       "      <td>1</td>\n",
       "      <td>how can you not love Frederick ? he makes joke...</td>\n",
       "      <td>how can you not love &lt;name&gt; ? &lt;pro-he&gt; makes j...</td>\n",
       "      <td>how can you not love Obama? he makes jokes abo...</td>\n",
       "      <td>male</td>\n",
       "      <td>1402</td>\n",
       "      <td>1</td>\n",
       "      <td>1</td>\n",
       "    </tr>\n",
       "    <tr>\n",
       "      <th>1</th>\n",
       "      <td>1</td>\n",
       "      <td>how can you not love Terrance ? he makes jokes...</td>\n",
       "      <td>how can you not love &lt;name&gt; ? &lt;pro-he&gt; makes j...</td>\n",
       "      <td>how can you not love Obama? he makes jokes abo...</td>\n",
       "      <td>male</td>\n",
       "      <td>1402</td>\n",
       "      <td>1</td>\n",
       "      <td>1</td>\n",
       "    </tr>\n",
       "    <tr>\n",
       "      <th>2</th>\n",
       "      <td>1</td>\n",
       "      <td>how can you not love Jeff ? he makes jokes abo...</td>\n",
       "      <td>how can you not love &lt;name&gt; ? &lt;pro-he&gt; makes j...</td>\n",
       "      <td>how can you not love Obama? he makes jokes abo...</td>\n",
       "      <td>male</td>\n",
       "      <td>1402</td>\n",
       "      <td>1</td>\n",
       "      <td>1</td>\n",
       "    </tr>\n",
       "    <tr>\n",
       "      <th>3</th>\n",
       "      <td>1</td>\n",
       "      <td>how can you not love Neil ? he makes jokes abo...</td>\n",
       "      <td>how can you not love &lt;name&gt; ? &lt;pro-he&gt; makes j...</td>\n",
       "      <td>how can you not love Obama? he makes jokes abo...</td>\n",
       "      <td>male</td>\n",
       "      <td>1402</td>\n",
       "      <td>1</td>\n",
       "      <td>1</td>\n",
       "    </tr>\n",
       "    <tr>\n",
       "      <th>4</th>\n",
       "      <td>1</td>\n",
       "      <td>how can you not love Leroy ? he makes jokes ab...</td>\n",
       "      <td>how can you not love &lt;name&gt; ? &lt;pro-he&gt; makes j...</td>\n",
       "      <td>how can you not love Obama? he makes jokes abo...</td>\n",
       "      <td>male</td>\n",
       "      <td>1402</td>\n",
       "      <td>1</td>\n",
       "      <td>1</td>\n",
       "    </tr>\n",
       "  </tbody>\n",
       "</table>\n",
       "</div>"
      ]
     },
     "metadata": {},
     "execution_count": 6
    }
   ],
   "metadata": {}
  },
  {
   "cell_type": "code",
   "execution_count": 7,
   "source": [
    "print(\"Accuracy on mutants: {:.2f}%\".format(accuracy(df[\"label\"],df[\"prediction\"])))\n"
   ],
   "outputs": [
    {
     "output_type": "stream",
     "name": "stdout",
     "text": [
      "Accuracy on mutants: 81.85%\n"
     ]
    }
   ],
   "metadata": {}
  },
  {
   "cell_type": "code",
   "execution_count": 8,
   "source": [
    "def print_evaluation(evaluation):\n",
    "    print(\"# Mutants \\t:\", evaluation[\"mutant\"])\n",
    "    print(\"# Templates \\t:\", evaluation[\"template\"])\n",
    "    print(\"# BTCs \\t\\t:\", evaluation[\"btc\"])\n",
    "\n",
    "evaluation = evaluate_btc(df[\"label\"], df[\"prediction\"], df[\"mutant\"], df[\"template\"], \"gender\", df[\"gender\"])\n",
    "print_evaluation(evaluation)"
   ],
   "outputs": [
    {
     "output_type": "stream",
     "name": "stdout",
     "text": [
      "# Mutants \t: 58388\n",
      "# Templates \t: 1672\n",
      "# BTCs \t\t: 14824\n"
     ]
    }
   ],
   "metadata": {}
  },
  {
   "cell_type": "code",
   "execution_count": 10,
   "source": [
    "# models = [\"bert-base-uncased\", \"bert-base-cased\", \"roberta-base\", \"albert-base-v2\", \"microsoft/mpnet-base\", \"microsoft/deberta-base\", \"facebook/muppet-roberta-base\", \"google/electra-base-generator\"]\n",
    "\n",
    "# fine-tune\n",
    "# \n",
    "\n",
    "# test accuracy\n",
    "# \n",
    "\n",
    "# predict mutants\n",
    "# \"roberta-base\", \"albert-base-v2\",\n",
    "\n",
    "\n",
    "# models = [\"bert-base-uncased\"]\n",
    "\n",
    "models = [\"bert-base-uncased\", \"bert-base-cased\", \"roberta-base\", \"xlnet-base-cased\",\n",
    "          \"albert-base-v2\", \"microsoft/mpnet-base\", \"microsoft/deberta-base\",\n",
    "          \"facebook/muppet-roberta-base\", \"google/electra-base-generator\"]\n",
    "\n",
    "mutation_tool = \"biasfinder\"\n",
    "bias_type = \"gender\"\n",
    "task = \"twitter_s140\"  # dataset used for fine-tuning\n",
    "mutant = \"twitter_s140\"  # dataset used for generating mutants\n",
    "\n",
    "d = pd.DataFrame(columns=[\"model\", \"tool\",\n",
    "                          \"template\", \"mutant\", \"btc\"])\n",
    "\n",
    "for model in models :\n",
    "    df = load_mutant_and_prediction(mutation_tool, model, bias_type, mutant)\n",
    "    evaluation = evaluate_btc(df[\"label\"], df[\"prediction\"],\n",
    "                            df[\"mutant\"], df[\"template\"], \"gender\", df[\"gender\"])\n",
    "    \n",
    "    d = d.append(\n",
    "            {\n",
    "                \"model\": model, \n",
    "                \"tool\": mutation_tool, \n",
    "                \"template\": evaluation['template'], \n",
    "                \"mutant\": evaluation['mutant'],\n",
    "                \"btc\" : evaluation['btc']\n",
    "            }, \n",
    "            ignore_index=True)\n",
    "\n",
    "d\n"
   ],
   "outputs": [
    {
     "output_type": "error",
     "ename": "FileNotFoundError",
     "evalue": "[Errno 2] No such file or directory: '../../data/biasfinder/gender/twitter_s140/original-predictions/xlnet-base-cased.pkl'",
     "traceback": [
      "\u001b[0;31m---------------------------------------------------------------------------\u001b[0m",
      "\u001b[0;31mFileNotFoundError\u001b[0m                         Traceback (most recent call last)",
      "\u001b[0;32m<ipython-input-10-aa88d1b682d6>\u001b[0m in \u001b[0;36m<module>\u001b[0;34m\u001b[0m\n\u001b[1;32m     26\u001b[0m \u001b[0;34m\u001b[0m\u001b[0m\n\u001b[1;32m     27\u001b[0m \u001b[0;32mfor\u001b[0m \u001b[0mmodel\u001b[0m \u001b[0;32min\u001b[0m \u001b[0mmodels\u001b[0m \u001b[0;34m:\u001b[0m\u001b[0;34m\u001b[0m\u001b[0;34m\u001b[0m\u001b[0m\n\u001b[0;32m---> 28\u001b[0;31m     \u001b[0mdf\u001b[0m \u001b[0;34m=\u001b[0m \u001b[0mload_mutant_and_prediction\u001b[0m\u001b[0;34m(\u001b[0m\u001b[0mmutation_tool\u001b[0m\u001b[0;34m,\u001b[0m \u001b[0mmodel\u001b[0m\u001b[0;34m,\u001b[0m \u001b[0mbias_type\u001b[0m\u001b[0;34m,\u001b[0m \u001b[0mmutant\u001b[0m\u001b[0;34m)\u001b[0m\u001b[0;34m\u001b[0m\u001b[0;34m\u001b[0m\u001b[0m\n\u001b[0m\u001b[1;32m     29\u001b[0m     evaluation = evaluate_btc(df[\"label\"], df[\"prediction\"],\n\u001b[1;32m     30\u001b[0m                             df[\"mutant\"], df[\"template\"], \"gender\", df[\"gender\"])\n",
      "\u001b[0;32m/media/DATA/mhilmiasyrofi-data/BiasFinder/codes/evaluation/utils.py\u001b[0m in \u001b[0;36mload_mutant_and_prediction\u001b[0;34m(mutation_tool, model, bias_type, mutant)\u001b[0m\n\u001b[1;32m     73\u001b[0m     \u001b[0mdf\u001b[0m\u001b[0;34m[\u001b[0m\u001b[0;34m\"prediction\"\u001b[0m\u001b[0;34m]\u001b[0m \u001b[0;34m=\u001b[0m \u001b[0mload_pickle\u001b[0m\u001b[0;34m(\u001b[0m\u001b[0mmutant_prediction_fpath\u001b[0m\u001b[0;34m)\u001b[0m\u001b[0;34m\u001b[0m\u001b[0;34m\u001b[0m\u001b[0m\n\u001b[1;32m     74\u001b[0m \u001b[0;34m\u001b[0m\u001b[0m\n\u001b[0;32m---> 75\u001b[0;31m     \u001b[0mori_df\u001b[0m \u001b[0;34m=\u001b[0m \u001b[0mload_original_prediction\u001b[0m\u001b[0;34m(\u001b[0m\u001b[0mmutation_tool\u001b[0m\u001b[0;34m,\u001b[0m \u001b[0mmodel\u001b[0m\u001b[0;34m,\u001b[0m \u001b[0mbias_type\u001b[0m\u001b[0;34m,\u001b[0m \u001b[0mmutant\u001b[0m\u001b[0;34m)\u001b[0m\u001b[0;34m\u001b[0m\u001b[0;34m\u001b[0m\u001b[0m\n\u001b[0m\u001b[1;32m     76\u001b[0m     \u001b[0mori2prediction\u001b[0m \u001b[0;34m=\u001b[0m \u001b[0;34m{\u001b[0m\u001b[0;34m}\u001b[0m\u001b[0;34m\u001b[0m\u001b[0;34m\u001b[0m\u001b[0m\n\u001b[1;32m     77\u001b[0m     \u001b[0;32mfor\u001b[0m \u001b[0mindex\u001b[0m\u001b[0;34m,\u001b[0m \u001b[0mrow\u001b[0m \u001b[0;32min\u001b[0m \u001b[0mori_df\u001b[0m\u001b[0;34m.\u001b[0m\u001b[0miterrows\u001b[0m\u001b[0;34m(\u001b[0m\u001b[0;34m)\u001b[0m\u001b[0;34m:\u001b[0m\u001b[0;34m\u001b[0m\u001b[0;34m\u001b[0m\u001b[0m\n",
      "\u001b[0;32m/media/DATA/mhilmiasyrofi-data/BiasFinder/codes/evaluation/utils.py\u001b[0m in \u001b[0;36mload_original_prediction\u001b[0;34m(mutation_tool, model, bias_type, mutant)\u001b[0m\n\u001b[1;32m     45\u001b[0m     original_prediction_fpath = os.path.join(\n\u001b[1;32m     46\u001b[0m         base_dir, f\"original-predictions/{model}.pkl\")\n\u001b[0;32m---> 47\u001b[0;31m     \u001b[0mori_df\u001b[0m\u001b[0;34m[\u001b[0m\u001b[0;34m\"prediction\"\u001b[0m\u001b[0;34m]\u001b[0m \u001b[0;34m=\u001b[0m \u001b[0mload_pickle\u001b[0m\u001b[0;34m(\u001b[0m\u001b[0moriginal_prediction_fpath\u001b[0m\u001b[0;34m)\u001b[0m\u001b[0;34m\u001b[0m\u001b[0;34m\u001b[0m\u001b[0m\n\u001b[0m\u001b[1;32m     48\u001b[0m     \u001b[0;32mreturn\u001b[0m \u001b[0mori_df\u001b[0m\u001b[0;34m\u001b[0m\u001b[0;34m\u001b[0m\u001b[0m\n\u001b[1;32m     49\u001b[0m \u001b[0;34m\u001b[0m\u001b[0m\n",
      "\u001b[0;32m/media/DATA/mhilmiasyrofi-data/BiasFinder/codes/evaluation/utils.py\u001b[0m in \u001b[0;36mload_pickle\u001b[0;34m(fpath)\u001b[0m\n\u001b[1;32m      5\u001b[0m \u001b[0;34m\u001b[0m\u001b[0m\n\u001b[1;32m      6\u001b[0m \u001b[0;32mdef\u001b[0m \u001b[0mload_pickle\u001b[0m\u001b[0;34m(\u001b[0m\u001b[0mfpath\u001b[0m\u001b[0;34m)\u001b[0m\u001b[0;34m:\u001b[0m\u001b[0;34m\u001b[0m\u001b[0;34m\u001b[0m\u001b[0m\n\u001b[0;32m----> 7\u001b[0;31m     \u001b[0;32mwith\u001b[0m \u001b[0mopen\u001b[0m\u001b[0;34m(\u001b[0m\u001b[0mfpath\u001b[0m\u001b[0;34m,\u001b[0m \u001b[0;34m'rb'\u001b[0m\u001b[0;34m)\u001b[0m \u001b[0;32mas\u001b[0m \u001b[0mf\u001b[0m\u001b[0;34m:\u001b[0m\u001b[0;34m\u001b[0m\u001b[0;34m\u001b[0m\u001b[0m\n\u001b[0m\u001b[1;32m      8\u001b[0m         \u001b[0mpred\u001b[0m \u001b[0;34m=\u001b[0m \u001b[0mpickle\u001b[0m\u001b[0;34m.\u001b[0m\u001b[0mload\u001b[0m\u001b[0;34m(\u001b[0m\u001b[0mf\u001b[0m\u001b[0;34m)\u001b[0m\u001b[0;34m\u001b[0m\u001b[0;34m\u001b[0m\u001b[0m\n\u001b[1;32m      9\u001b[0m     \u001b[0;32mreturn\u001b[0m \u001b[0mpred\u001b[0m\u001b[0;34m\u001b[0m\u001b[0;34m\u001b[0m\u001b[0m\n",
      "\u001b[0;31mFileNotFoundError\u001b[0m: [Errno 2] No such file or directory: '../../data/biasfinder/gender/twitter_s140/original-predictions/xlnet-base-cased.pkl'"
     ]
    }
   ],
   "metadata": {}
  },
  {
   "cell_type": "code",
   "execution_count": null,
   "source": [],
   "outputs": [],
   "metadata": {}
  }
 ],
 "metadata": {
  "kernelspec": {
   "name": "python3",
   "display_name": "Python 3.6.9 64-bit"
  },
  "language_info": {
   "codemirror_mode": {
    "name": "ipython",
    "version": 3
   },
   "file_extension": ".py",
   "mimetype": "text/x-python",
   "name": "python",
   "nbconvert_exporter": "python",
   "pygments_lexer": "ipython3",
   "version": "3.6.9"
  },
  "interpreter": {
   "hash": "31f2aee4e71d21fbe5cf8b01ff0e069b9275f58929596ceb00d14d90e3e16cd6"
  }
 },
 "nbformat": 4,
 "nbformat_minor": 4
}