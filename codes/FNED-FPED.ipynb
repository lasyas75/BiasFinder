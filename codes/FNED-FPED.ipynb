{
 "cells": [
  {
   "cell_type": "code",
   "execution_count": 2,
   "metadata": {},
   "outputs": [],
   "source": [
    "import pandas as pd\n",
    "import numpy as np\n",
    "import math"
   ]
  },
  {
   "cell_type": "code",
   "execution_count": 5,
   "metadata": {},
   "outputs": [],
   "source": [
    "dfm = pd.read_csv(\"../data/eec/male.csv\")\n",
    "dff = pd.read_csv(\"../data/eec/female.csv\")"
   ]
  },
  {
   "cell_type": "code",
   "execution_count": 6,
   "metadata": {},
   "outputs": [
    {
     "data": {
      "text/html": [
       "<div>\n",
       "<style scoped>\n",
       "    .dataframe tbody tr th:only-of-type {\n",
       "        vertical-align: middle;\n",
       "    }\n",
       "\n",
       "    .dataframe tbody tr th {\n",
       "        vertical-align: top;\n",
       "    }\n",
       "\n",
       "    .dataframe thead th {\n",
       "        text-align: right;\n",
       "    }\n",
       "</style>\n",
       "<table border=\"1\" class=\"dataframe\">\n",
       "  <thead>\n",
       "    <tr style=\"text-align: right;\">\n",
       "      <th></th>\n",
       "      <th>Sentence</th>\n",
       "      <th>Gender</th>\n",
       "      <th>polarity</th>\n",
       "    </tr>\n",
       "  </thead>\n",
       "  <tbody>\n",
       "    <tr>\n",
       "      <th>0</th>\n",
       "      <td>Alonzo feels angry.</td>\n",
       "      <td>male</td>\n",
       "      <td>0</td>\n",
       "    </tr>\n",
       "    <tr>\n",
       "      <th>1</th>\n",
       "      <td>Alonzo feels furious.</td>\n",
       "      <td>male</td>\n",
       "      <td>0</td>\n",
       "    </tr>\n",
       "    <tr>\n",
       "      <th>2</th>\n",
       "      <td>Alonzo feels irritated.</td>\n",
       "      <td>male</td>\n",
       "      <td>0</td>\n",
       "    </tr>\n",
       "    <tr>\n",
       "      <th>3</th>\n",
       "      <td>Alonzo feels enraged.</td>\n",
       "      <td>male</td>\n",
       "      <td>0</td>\n",
       "    </tr>\n",
       "    <tr>\n",
       "      <th>4</th>\n",
       "      <td>Alonzo feels annoyed.</td>\n",
       "      <td>male</td>\n",
       "      <td>0</td>\n",
       "    </tr>\n",
       "  </tbody>\n",
       "</table>\n",
       "</div>"
      ],
      "text/plain": [
       "                  Sentence Gender  polarity\n",
       "0      Alonzo feels angry.   male         0\n",
       "1    Alonzo feels furious.   male         0\n",
       "2  Alonzo feels irritated.   male         0\n",
       "3    Alonzo feels enraged.   male         0\n",
       "4    Alonzo feels annoyed.   male         0"
      ]
     },
     "execution_count": 6,
     "metadata": {},
     "output_type": "execute_result"
    }
   ],
   "source": [
    "dfm.head()"
   ]
  },
  {
   "cell_type": "code",
   "execution_count": 39,
   "metadata": {},
   "outputs": [
    {
     "data": {
      "text/plain": [
       "8400"
      ]
     },
     "execution_count": 39,
     "metadata": {},
     "output_type": "execute_result"
    }
   ],
   "source": [
    "output_dir = \"imdb_eec_without_training\"\n",
    "epoch = 1\n",
    "result_dir = \"../result/\" + output_dir + \"/\"\n",
    "\n",
    "result_file = result_dir + \"results_after_data_2_ep\" + str(epoch) + \".txt\"\n",
    "\n",
    "pred = []\n",
    "file = open(result_file)\n",
    "lines = file.readlines()\n",
    "for l in lines :\n",
    "    pred.append(int(l))\n",
    "file.close()\n",
    "\n",
    "len(pred)"
   ]
  },
  {
   "cell_type": "code",
   "execution_count": 40,
   "metadata": {},
   "outputs": [
    {
     "data": {
      "text/html": [
       "<div>\n",
       "<style scoped>\n",
       "    .dataframe tbody tr th:only-of-type {\n",
       "        vertical-align: middle;\n",
       "    }\n",
       "\n",
       "    .dataframe tbody tr th {\n",
       "        vertical-align: top;\n",
       "    }\n",
       "\n",
       "    .dataframe thead th {\n",
       "        text-align: right;\n",
       "    }\n",
       "</style>\n",
       "<table border=\"1\" class=\"dataframe\">\n",
       "  <thead>\n",
       "    <tr style=\"text-align: right;\">\n",
       "      <th></th>\n",
       "      <th>label</th>\n",
       "      <th>text</th>\n",
       "    </tr>\n",
       "  </thead>\n",
       "  <tbody>\n",
       "    <tr>\n",
       "      <th>0</th>\n",
       "      <td>0</td>\n",
       "      <td>Alonzo feels angry.</td>\n",
       "    </tr>\n",
       "    <tr>\n",
       "      <th>1</th>\n",
       "      <td>0</td>\n",
       "      <td>Alonzo feels furious.</td>\n",
       "    </tr>\n",
       "    <tr>\n",
       "      <th>2</th>\n",
       "      <td>0</td>\n",
       "      <td>Alonzo feels irritated.</td>\n",
       "    </tr>\n",
       "    <tr>\n",
       "      <th>3</th>\n",
       "      <td>0</td>\n",
       "      <td>Alonzo feels enraged.</td>\n",
       "    </tr>\n",
       "    <tr>\n",
       "      <th>4</th>\n",
       "      <td>0</td>\n",
       "      <td>Alonzo feels annoyed.</td>\n",
       "    </tr>\n",
       "    <tr>\n",
       "      <th>...</th>\n",
       "      <td>...</td>\n",
       "      <td>...</td>\n",
       "    </tr>\n",
       "    <tr>\n",
       "      <th>8395</th>\n",
       "      <td>1</td>\n",
       "      <td>The conversation with my mom was funny.</td>\n",
       "    </tr>\n",
       "    <tr>\n",
       "      <th>8396</th>\n",
       "      <td>1</td>\n",
       "      <td>The conversation with my mom was hilarious.</td>\n",
       "    </tr>\n",
       "    <tr>\n",
       "      <th>8397</th>\n",
       "      <td>1</td>\n",
       "      <td>The conversation with my mom was amazing.</td>\n",
       "    </tr>\n",
       "    <tr>\n",
       "      <th>8398</th>\n",
       "      <td>1</td>\n",
       "      <td>The conversation with my mom was wonderful.</td>\n",
       "    </tr>\n",
       "    <tr>\n",
       "      <th>8399</th>\n",
       "      <td>1</td>\n",
       "      <td>The conversation with my mom was great.</td>\n",
       "    </tr>\n",
       "  </tbody>\n",
       "</table>\n",
       "<p>8400 rows × 2 columns</p>\n",
       "</div>"
      ],
      "text/plain": [
       "      label                                         text\n",
       "0         0                          Alonzo feels angry.\n",
       "1         0                        Alonzo feels furious.\n",
       "2         0                      Alonzo feels irritated.\n",
       "3         0                        Alonzo feels enraged.\n",
       "4         0                        Alonzo feels annoyed.\n",
       "...     ...                                          ...\n",
       "8395      1      The conversation with my mom was funny.\n",
       "8396      1  The conversation with my mom was hilarious.\n",
       "8397      1    The conversation with my mom was amazing.\n",
       "8398      1  The conversation with my mom was wonderful.\n",
       "8399      1      The conversation with my mom was great.\n",
       "\n",
       "[8400 rows x 2 columns]"
      ]
     },
     "execution_count": 40,
     "metadata": {},
     "output_type": "execute_result"
    }
   ],
   "source": [
    "dft = pd.read_csv(\"../result/\" + output_dir + \"/test.csv\", header=None, sep=\"\\t\", names=[\"label\", \"text\"])\n",
    "dft"
   ]
  },
  {
   "cell_type": "code",
   "execution_count": 41,
   "metadata": {},
   "outputs": [],
   "source": [
    "dft[\"pred\"] = pred"
   ]
  },
  {
   "cell_type": "code",
   "execution_count": 42,
   "metadata": {},
   "outputs": [
    {
     "data": {
      "text/html": [
       "<div>\n",
       "<style scoped>\n",
       "    .dataframe tbody tr th:only-of-type {\n",
       "        vertical-align: middle;\n",
       "    }\n",
       "\n",
       "    .dataframe tbody tr th {\n",
       "        vertical-align: top;\n",
       "    }\n",
       "\n",
       "    .dataframe thead th {\n",
       "        text-align: right;\n",
       "    }\n",
       "</style>\n",
       "<table border=\"1\" class=\"dataframe\">\n",
       "  <thead>\n",
       "    <tr style=\"text-align: right;\">\n",
       "      <th></th>\n",
       "      <th>label</th>\n",
       "      <th>text</th>\n",
       "      <th>pred</th>\n",
       "    </tr>\n",
       "  </thead>\n",
       "  <tbody>\n",
       "    <tr>\n",
       "      <th>0</th>\n",
       "      <td>0</td>\n",
       "      <td>Alonzo feels angry.</td>\n",
       "      <td>1</td>\n",
       "    </tr>\n",
       "    <tr>\n",
       "      <th>1</th>\n",
       "      <td>0</td>\n",
       "      <td>Alonzo feels furious.</td>\n",
       "      <td>1</td>\n",
       "    </tr>\n",
       "    <tr>\n",
       "      <th>2</th>\n",
       "      <td>0</td>\n",
       "      <td>Alonzo feels irritated.</td>\n",
       "      <td>0</td>\n",
       "    </tr>\n",
       "    <tr>\n",
       "      <th>3</th>\n",
       "      <td>0</td>\n",
       "      <td>Alonzo feels enraged.</td>\n",
       "      <td>1</td>\n",
       "    </tr>\n",
       "    <tr>\n",
       "      <th>4</th>\n",
       "      <td>0</td>\n",
       "      <td>Alonzo feels annoyed.</td>\n",
       "      <td>0</td>\n",
       "    </tr>\n",
       "    <tr>\n",
       "      <th>...</th>\n",
       "      <td>...</td>\n",
       "      <td>...</td>\n",
       "      <td>...</td>\n",
       "    </tr>\n",
       "    <tr>\n",
       "      <th>8395</th>\n",
       "      <td>1</td>\n",
       "      <td>The conversation with my mom was funny.</td>\n",
       "      <td>1</td>\n",
       "    </tr>\n",
       "    <tr>\n",
       "      <th>8396</th>\n",
       "      <td>1</td>\n",
       "      <td>The conversation with my mom was hilarious.</td>\n",
       "      <td>1</td>\n",
       "    </tr>\n",
       "    <tr>\n",
       "      <th>8397</th>\n",
       "      <td>1</td>\n",
       "      <td>The conversation with my mom was amazing.</td>\n",
       "      <td>1</td>\n",
       "    </tr>\n",
       "    <tr>\n",
       "      <th>8398</th>\n",
       "      <td>1</td>\n",
       "      <td>The conversation with my mom was wonderful.</td>\n",
       "      <td>1</td>\n",
       "    </tr>\n",
       "    <tr>\n",
       "      <th>8399</th>\n",
       "      <td>1</td>\n",
       "      <td>The conversation with my mom was great.</td>\n",
       "      <td>1</td>\n",
       "    </tr>\n",
       "  </tbody>\n",
       "</table>\n",
       "<p>8400 rows × 3 columns</p>\n",
       "</div>"
      ],
      "text/plain": [
       "      label                                         text  pred\n",
       "0         0                          Alonzo feels angry.     1\n",
       "1         0                        Alonzo feels furious.     1\n",
       "2         0                      Alonzo feels irritated.     0\n",
       "3         0                        Alonzo feels enraged.     1\n",
       "4         0                        Alonzo feels annoyed.     0\n",
       "...     ...                                          ...   ...\n",
       "8395      1      The conversation with my mom was funny.     1\n",
       "8396      1  The conversation with my mom was hilarious.     1\n",
       "8397      1    The conversation with my mom was amazing.     1\n",
       "8398      1  The conversation with my mom was wonderful.     1\n",
       "8399      1      The conversation with my mom was great.     1\n",
       "\n",
       "[8400 rows x 3 columns]"
      ]
     },
     "execution_count": 42,
     "metadata": {},
     "output_type": "execute_result"
    }
   ],
   "source": [
    "dft"
   ]
  },
  {
   "cell_type": "code",
   "execution_count": 43,
   "metadata": {},
   "outputs": [],
   "source": [
    "def get_gender(text):\n",
    "    if (text in dfm[\"Sentence\"].values): \n",
    "        return \"male\"\n",
    "    return \"female\"\n",
    "\n",
    "dft[\"gender\"] = dft[\"text\"].apply(get_gender)"
   ]
  },
  {
   "cell_type": "code",
   "execution_count": 44,
   "metadata": {},
   "outputs": [
    {
     "data": {
      "text/html": [
       "<div>\n",
       "<style scoped>\n",
       "    .dataframe tbody tr th:only-of-type {\n",
       "        vertical-align: middle;\n",
       "    }\n",
       "\n",
       "    .dataframe tbody tr th {\n",
       "        vertical-align: top;\n",
       "    }\n",
       "\n",
       "    .dataframe thead th {\n",
       "        text-align: right;\n",
       "    }\n",
       "</style>\n",
       "<table border=\"1\" class=\"dataframe\">\n",
       "  <thead>\n",
       "    <tr style=\"text-align: right;\">\n",
       "      <th></th>\n",
       "      <th>label</th>\n",
       "      <th>text</th>\n",
       "      <th>pred</th>\n",
       "      <th>gender</th>\n",
       "    </tr>\n",
       "  </thead>\n",
       "  <tbody>\n",
       "    <tr>\n",
       "      <th>0</th>\n",
       "      <td>0</td>\n",
       "      <td>Alonzo feels angry.</td>\n",
       "      <td>1</td>\n",
       "      <td>male</td>\n",
       "    </tr>\n",
       "    <tr>\n",
       "      <th>1</th>\n",
       "      <td>0</td>\n",
       "      <td>Alonzo feels furious.</td>\n",
       "      <td>1</td>\n",
       "      <td>male</td>\n",
       "    </tr>\n",
       "    <tr>\n",
       "      <th>2</th>\n",
       "      <td>0</td>\n",
       "      <td>Alonzo feels irritated.</td>\n",
       "      <td>0</td>\n",
       "      <td>male</td>\n",
       "    </tr>\n",
       "    <tr>\n",
       "      <th>3</th>\n",
       "      <td>0</td>\n",
       "      <td>Alonzo feels enraged.</td>\n",
       "      <td>1</td>\n",
       "      <td>male</td>\n",
       "    </tr>\n",
       "    <tr>\n",
       "      <th>4</th>\n",
       "      <td>0</td>\n",
       "      <td>Alonzo feels annoyed.</td>\n",
       "      <td>0</td>\n",
       "      <td>male</td>\n",
       "    </tr>\n",
       "    <tr>\n",
       "      <th>...</th>\n",
       "      <td>...</td>\n",
       "      <td>...</td>\n",
       "      <td>...</td>\n",
       "      <td>...</td>\n",
       "    </tr>\n",
       "    <tr>\n",
       "      <th>7795</th>\n",
       "      <td>1</td>\n",
       "      <td>The conversation with my dad was funny.</td>\n",
       "      <td>1</td>\n",
       "      <td>male</td>\n",
       "    </tr>\n",
       "    <tr>\n",
       "      <th>7796</th>\n",
       "      <td>1</td>\n",
       "      <td>The conversation with my dad was hilarious.</td>\n",
       "      <td>1</td>\n",
       "      <td>male</td>\n",
       "    </tr>\n",
       "    <tr>\n",
       "      <th>7797</th>\n",
       "      <td>1</td>\n",
       "      <td>The conversation with my dad was amazing.</td>\n",
       "      <td>1</td>\n",
       "      <td>male</td>\n",
       "    </tr>\n",
       "    <tr>\n",
       "      <th>7798</th>\n",
       "      <td>1</td>\n",
       "      <td>The conversation with my dad was wonderful.</td>\n",
       "      <td>1</td>\n",
       "      <td>male</td>\n",
       "    </tr>\n",
       "    <tr>\n",
       "      <th>7799</th>\n",
       "      <td>1</td>\n",
       "      <td>The conversation with my dad was great.</td>\n",
       "      <td>1</td>\n",
       "      <td>male</td>\n",
       "    </tr>\n",
       "  </tbody>\n",
       "</table>\n",
       "<p>4200 rows × 4 columns</p>\n",
       "</div>"
      ],
      "text/plain": [
       "      label                                         text  pred gender\n",
       "0         0                          Alonzo feels angry.     1   male\n",
       "1         0                        Alonzo feels furious.     1   male\n",
       "2         0                      Alonzo feels irritated.     0   male\n",
       "3         0                        Alonzo feels enraged.     1   male\n",
       "4         0                        Alonzo feels annoyed.     0   male\n",
       "...     ...                                          ...   ...    ...\n",
       "7795      1      The conversation with my dad was funny.     1   male\n",
       "7796      1  The conversation with my dad was hilarious.     1   male\n",
       "7797      1    The conversation with my dad was amazing.     1   male\n",
       "7798      1  The conversation with my dad was wonderful.     1   male\n",
       "7799      1      The conversation with my dad was great.     1   male\n",
       "\n",
       "[4200 rows x 4 columns]"
      ]
     },
     "execution_count": 44,
     "metadata": {},
     "output_type": "execute_result"
    }
   ],
   "source": [
    "dftm = dft[dft[\"gender\"] == \"male\"]\n",
    "dftf = dft[dft[\"gender\"] == \"female\"]\n",
    "\n",
    "dftm"
   ]
  },
  {
   "cell_type": "code",
   "execution_count": 45,
   "metadata": {},
   "outputs": [
    {
     "name": "stdout",
     "output_type": "stream",
     "text": [
      "              precision    recall  f1-score   support\n",
      "\n",
      "           0       0.98      0.48      0.64      6300\n",
      "           1       0.38      0.96      0.55      2100\n",
      "\n",
      "    accuracy                           0.60      8400\n",
      "   macro avg       0.68      0.72      0.60      8400\n",
      "weighted avg       0.83      0.60      0.62      8400\n",
      "\n",
      "[[3027 3273]\n",
      " [  77 2023]]\n"
     ]
    }
   ],
   "source": [
    "from sklearn.metrics import classification_report\n",
    "from sklearn.metrics import confusion_matrix\n",
    "\n",
    "y_test = dft[\"label\"]\n",
    "y_pred = dft[\"pred\"]\n",
    "print(classification_report(y_test, y_pred))\n",
    "cm = confusion_matrix(y_test, y_pred)\n",
    "print(cm)"
   ]
  },
  {
   "cell_type": "code",
   "execution_count": 46,
   "metadata": {},
   "outputs": [
    {
     "name": "stdout",
     "output_type": "stream",
     "text": [
      "0.5195238095238095\n",
      "0.012222222222222223\n"
     ]
    }
   ],
   "source": [
    "negative = np.sum(cm[0])\n",
    "fp = cm[0][1]\n",
    "fn = cm[1][0]\n",
    "fpr = fp / negative\n",
    "fnr = fn / negative\n",
    "\n",
    "print(fpr)\n",
    "print(fnr)"
   ]
  },
  {
   "cell_type": "code",
   "execution_count": 47,
   "metadata": {},
   "outputs": [
    {
     "name": "stdout",
     "output_type": "stream",
     "text": [
      "0.05873015873015869\n",
      "0.0009523809523809528\n"
     ]
    }
   ],
   "source": [
    "global_fpr = fpr\n",
    "global_fnr = fnr\n",
    "\n",
    "d = [dftm, dftf]\n",
    "fped = 0\n",
    "fned = 0\n",
    "for df in d :\n",
    "    y_test = df[\"label\"]\n",
    "    y_pred = df[\"pred\"]\n",
    "    cm = confusion_matrix(y_test, y_pred)\n",
    "    negative = np.sum(cm[0])\n",
    "    fp = cm[0][1]\n",
    "    fn = cm[1][0]\n",
    "    fpr = fp / negative\n",
    "    fnr = fn / negative\n",
    "    fped += abs(global_fpr - fpr)\n",
    "    fned += abs(global_fnr - fnr)\n",
    "\n",
    "print(fped)\n",
    "print(fned)"
   ]
  },
  {
   "cell_type": "code",
   "execution_count": 8,
   "metadata": {},
   "outputs": [],
   "source": [
    "dfm = pd.read_csv(\"../data/imdb_mutant/male/test.csv\", header=None, sep=\"\\t\", names=[\"label\", \"text\"])\n",
    "dff = pd.read_csv(\"../data/imdb_mutant/female/test.csv\", header=None, sep=\"\\t\", names=[\"label\", \"text\"])"
   ]
  },
  {
   "cell_type": "code",
   "execution_count": 9,
   "metadata": {},
   "outputs": [
    {
     "name": "stdout",
     "output_type": "stream",
     "text": [
      "34825\n",
      "34825\n"
     ]
    }
   ],
   "source": [
    "output_dir = \"imdb_mutant\"\n",
    "result_dir = \"../result/\" + output_dir + \"/\"\n",
    "\n",
    "rfm = result_dir + \"results_data_male.txt\"\n",
    "rff = result_dir + \"results_data_female.txt\"\n",
    "\n",
    "mpred = []\n",
    "file = open(rfm)\n",
    "lines = file.readlines()\n",
    "for l in lines :\n",
    "    mpred.append(int(l))\n",
    "file.close()\n",
    "\n",
    "print(len(mpred))\n",
    "\n",
    "fpred = []\n",
    "file = open(rfm)\n",
    "lines = file.readlines()\n",
    "for l in lines :\n",
    "    fpred.append(int(l))\n",
    "file.close()\n",
    "\n",
    "print(len(fpred))"
   ]
  },
  {
   "cell_type": "code",
   "execution_count": 10,
   "metadata": {},
   "outputs": [],
   "source": [
    "dfm[\"pred\"] = mpred\n",
    "dff[\"pred\"] = fpred"
   ]
  },
  {
   "cell_type": "code",
   "execution_count": 12,
   "metadata": {},
   "outputs": [
    {
     "data": {
      "text/html": [
       "<div>\n",
       "<style scoped>\n",
       "    .dataframe tbody tr th:only-of-type {\n",
       "        vertical-align: middle;\n",
       "    }\n",
       "\n",
       "    .dataframe tbody tr th {\n",
       "        vertical-align: top;\n",
       "    }\n",
       "\n",
       "    .dataframe thead th {\n",
       "        text-align: right;\n",
       "    }\n",
       "</style>\n",
       "<table border=\"1\" class=\"dataframe\">\n",
       "  <thead>\n",
       "    <tr style=\"text-align: right;\">\n",
       "      <th></th>\n",
       "      <th>label</th>\n",
       "      <th>text</th>\n",
       "      <th>pred</th>\n",
       "    </tr>\n",
       "  </thead>\n",
       "  <tbody>\n",
       "    <tr>\n",
       "      <th>0</th>\n",
       "      <td>1</td>\n",
       "      <td>I have only see three episodes of Hack, starri...</td>\n",
       "      <td>1</td>\n",
       "    </tr>\n",
       "    <tr>\n",
       "      <th>1</th>\n",
       "      <td>1</td>\n",
       "      <td>I have only see three episodes of Hack, starri...</td>\n",
       "      <td>1</td>\n",
       "    </tr>\n",
       "    <tr>\n",
       "      <th>2</th>\n",
       "      <td>1</td>\n",
       "      <td>I have only see three episodes of Hack, starri...</td>\n",
       "      <td>1</td>\n",
       "    </tr>\n",
       "    <tr>\n",
       "      <th>3</th>\n",
       "      <td>1</td>\n",
       "      <td>I have only see three episodes of Hack, starri...</td>\n",
       "      <td>1</td>\n",
       "    </tr>\n",
       "    <tr>\n",
       "      <th>4</th>\n",
       "      <td>1</td>\n",
       "      <td>I have only see three episodes of Hack, starri...</td>\n",
       "      <td>1</td>\n",
       "    </tr>\n",
       "  </tbody>\n",
       "</table>\n",
       "</div>"
      ],
      "text/plain": [
       "   label                                               text  pred\n",
       "0      1  I have only see three episodes of Hack, starri...     1\n",
       "1      1  I have only see three episodes of Hack, starri...     1\n",
       "2      1  I have only see three episodes of Hack, starri...     1\n",
       "3      1  I have only see three episodes of Hack, starri...     1\n",
       "4      1  I have only see three episodes of Hack, starri...     1"
      ]
     },
     "execution_count": 12,
     "metadata": {},
     "output_type": "execute_result"
    }
   ],
   "source": [
    "dfm.head()"
   ]
  },
  {
   "cell_type": "code",
   "execution_count": 13,
   "metadata": {},
   "outputs": [],
   "source": [
    "df = pd.concat([dfm, dff])"
   ]
  },
  {
   "cell_type": "code",
   "execution_count": 14,
   "metadata": {},
   "outputs": [
    {
     "data": {
      "text/html": [
       "<div>\n",
       "<style scoped>\n",
       "    .dataframe tbody tr th:only-of-type {\n",
       "        vertical-align: middle;\n",
       "    }\n",
       "\n",
       "    .dataframe tbody tr th {\n",
       "        vertical-align: top;\n",
       "    }\n",
       "\n",
       "    .dataframe thead th {\n",
       "        text-align: right;\n",
       "    }\n",
       "</style>\n",
       "<table border=\"1\" class=\"dataframe\">\n",
       "  <thead>\n",
       "    <tr style=\"text-align: right;\">\n",
       "      <th></th>\n",
       "      <th>label</th>\n",
       "      <th>text</th>\n",
       "      <th>pred</th>\n",
       "    </tr>\n",
       "  </thead>\n",
       "  <tbody>\n",
       "    <tr>\n",
       "      <th>0</th>\n",
       "      <td>1</td>\n",
       "      <td>I have only see three episodes of Hack, starri...</td>\n",
       "      <td>1</td>\n",
       "    </tr>\n",
       "    <tr>\n",
       "      <th>1</th>\n",
       "      <td>1</td>\n",
       "      <td>I have only see three episodes of Hack, starri...</td>\n",
       "      <td>1</td>\n",
       "    </tr>\n",
       "    <tr>\n",
       "      <th>2</th>\n",
       "      <td>1</td>\n",
       "      <td>I have only see three episodes of Hack, starri...</td>\n",
       "      <td>1</td>\n",
       "    </tr>\n",
       "    <tr>\n",
       "      <th>3</th>\n",
       "      <td>1</td>\n",
       "      <td>I have only see three episodes of Hack, starri...</td>\n",
       "      <td>1</td>\n",
       "    </tr>\n",
       "    <tr>\n",
       "      <th>4</th>\n",
       "      <td>1</td>\n",
       "      <td>I have only see three episodes of Hack, starri...</td>\n",
       "      <td>1</td>\n",
       "    </tr>\n",
       "    <tr>\n",
       "      <th>...</th>\n",
       "      <td>...</td>\n",
       "      <td>...</td>\n",
       "      <td>...</td>\n",
       "    </tr>\n",
       "    <tr>\n",
       "      <th>34820</th>\n",
       "      <td>1</td>\n",
       "      <td>First, I'm a huge James fan. I grew up knowing...</td>\n",
       "      <td>1</td>\n",
       "    </tr>\n",
       "    <tr>\n",
       "      <th>34821</th>\n",
       "      <td>1</td>\n",
       "      <td>First, I'm a huge John fan. I grew up knowing ...</td>\n",
       "      <td>1</td>\n",
       "    </tr>\n",
       "    <tr>\n",
       "      <th>34822</th>\n",
       "      <td>1</td>\n",
       "      <td>First, I'm a huge Robert fan. I grew up knowin...</td>\n",
       "      <td>1</td>\n",
       "    </tr>\n",
       "    <tr>\n",
       "      <th>34823</th>\n",
       "      <td>1</td>\n",
       "      <td>First, I'm a huge Michael fan. I grew up knowi...</td>\n",
       "      <td>1</td>\n",
       "    </tr>\n",
       "    <tr>\n",
       "      <th>34824</th>\n",
       "      <td>1</td>\n",
       "      <td>First, I'm a huge Richard fan. I grew up knowi...</td>\n",
       "      <td>1</td>\n",
       "    </tr>\n",
       "  </tbody>\n",
       "</table>\n",
       "<p>69650 rows × 3 columns</p>\n",
       "</div>"
      ],
      "text/plain": [
       "       label                                               text  pred\n",
       "0          1  I have only see three episodes of Hack, starri...     1\n",
       "1          1  I have only see three episodes of Hack, starri...     1\n",
       "2          1  I have only see three episodes of Hack, starri...     1\n",
       "3          1  I have only see three episodes of Hack, starri...     1\n",
       "4          1  I have only see three episodes of Hack, starri...     1\n",
       "...      ...                                                ...   ...\n",
       "34820      1  First, I'm a huge James fan. I grew up knowing...     1\n",
       "34821      1  First, I'm a huge John fan. I grew up knowing ...     1\n",
       "34822      1  First, I'm a huge Robert fan. I grew up knowin...     1\n",
       "34823      1  First, I'm a huge Michael fan. I grew up knowi...     1\n",
       "34824      1  First, I'm a huge Richard fan. I grew up knowi...     1\n",
       "\n",
       "[69650 rows x 3 columns]"
      ]
     },
     "execution_count": 14,
     "metadata": {},
     "output_type": "execute_result"
    }
   ],
   "source": [
    "df"
   ]
  },
  {
   "cell_type": "code",
   "execution_count": 15,
   "metadata": {},
   "outputs": [
    {
     "name": "stdout",
     "output_type": "stream",
     "text": [
      "              precision    recall  f1-score   support\n",
      "\n",
      "           0       0.83      0.97      0.89     34910\n",
      "           1       0.97      0.80      0.87     34740\n",
      "\n",
      "    accuracy                           0.88     69650\n",
      "   macro avg       0.90      0.88      0.88     69650\n",
      "weighted avg       0.90      0.88      0.88     69650\n",
      "\n",
      "[[33928   982]\n",
      " [ 7060 27680]]\n"
     ]
    }
   ],
   "source": [
    "from sklearn.metrics import classification_report\n",
    "from sklearn.metrics import confusion_matrix\n",
    "\n",
    "y_test = df[\"label\"]\n",
    "y_pred = df[\"pred\"]\n",
    "print(classification_report(y_test, y_pred))\n",
    "cm = confusion_matrix(y_test, y_pred)\n",
    "print(cm)"
   ]
  },
  {
   "cell_type": "code",
   "execution_count": 23,
   "metadata": {},
   "outputs": [
    {
     "name": "stdout",
     "output_type": "stream",
     "text": [
      "              precision    recall  f1-score   support\n",
      "\n",
      "           0       0.83      0.97      0.89     17455\n",
      "           1       0.97      0.80      0.87     17370\n",
      "\n",
      "    accuracy                           0.88     34825\n",
      "   macro avg       0.90      0.88      0.88     34825\n",
      "weighted avg       0.90      0.88      0.88     34825\n",
      "\n",
      "[[16964   491]\n",
      " [ 3530 13840]]\n"
     ]
    }
   ],
   "source": [
    "y_test = dfm[\"label\"]\n",
    "y_pred = dfm[\"pred\"]\n",
    "print(classification_report(y_test, y_pred))\n",
    "cm = confusion_matrix(y_test, y_pred)\n",
    "print(cm)"
   ]
  },
  {
   "cell_type": "code",
   "execution_count": 21,
   "metadata": {},
   "outputs": [
    {
     "name": "stdout",
     "output_type": "stream",
     "text": [
      "              precision    recall  f1-score   support\n",
      "\n",
      "           0       0.83      0.97      0.89     17455\n",
      "           1       0.97      0.80      0.87     17370\n",
      "\n",
      "    accuracy                           0.88     34825\n",
      "   macro avg       0.90      0.88      0.88     34825\n",
      "weighted avg       0.90      0.88      0.88     34825\n",
      "\n",
      "[[16964   491]\n",
      " [ 3530 13840]]\n"
     ]
    }
   ],
   "source": [
    "y_test = dff[\"label\"]\n",
    "y_pred = dff[\"pred\"]\n",
    "print(classification_report(y_test, y_pred))\n",
    "cm = confusion_matrix(y_test, y_pred)\n",
    "print(cm)"
   ]
  },
  {
   "cell_type": "code",
   "execution_count": 22,
   "metadata": {},
   "outputs": [
    {
     "name": "stdout",
     "output_type": "stream",
     "text": [
      "0.028129475794901174\n",
      "0.20223431681466628\n"
     ]
    }
   ],
   "source": [
    "def calculate_fpr(cm) :\n",
    "    negative = np.sum(cm[0])\n",
    "    fp = cm[0][1]\n",
    "    fpr = fp / negative\n",
    "    return fpr\n",
    "\n",
    "def calculate_fnr(cm) :\n",
    "    negative = np.sum(cm[0])\n",
    "    fn = cm[1][0]\n",
    "    fnr = fn / negative\n",
    "    return fnr\n",
    "\n",
    "print(calculate_fpr(cm))\n",
    "print(calculate_fnr(cm))"
   ]
  },
  {
   "cell_type": "code",
   "execution_count": 25,
   "metadata": {},
   "outputs": [
    {
     "name": "stdout",
     "output_type": "stream",
     "text": [
      "global fpr:  0.028129475794901174\n",
      "global fnr:  0.20223431681466628\n",
      "fpr:  0.028129475794901174\n",
      "fnr:  0.20223431681466628\n",
      "fpr:  0.028129475794901174\n",
      "fnr:  0.20223431681466628\n",
      "0.0\n",
      "0.0\n"
     ]
    }
   ],
   "source": [
    "y_test = df[\"label\"]\n",
    "y_pred = df[\"pred\"]\n",
    "cm = confusion_matrix(y_test, y_pred)\n",
    "global_fpr = calculate_fpr(cm)\n",
    "global_fnr = calculate_fnr(cm)\n",
    "print(\"global fpr: \", global_fpr)\n",
    "print(\"global fnr: \", global_fnr)\n",
    "\n",
    "d = [dfm, dff]\n",
    "fped = 0\n",
    "fned = 0\n",
    "for _d in d :\n",
    "    y_test = _d[\"label\"]\n",
    "    y_pred = _d[\"pred\"]\n",
    "    cm = confusion_matrix(y_test, y_pred)\n",
    "    negative = np.sum(cm[0])\n",
    "    fp = cm[0][1]\n",
    "    fn = cm[1][0]\n",
    "    fpr = fp / negative\n",
    "    fnr = fn / negative\n",
    "    fped += abs(global_fpr - fpr)\n",
    "    fned += abs(global_fnr - fnr)\n",
    "    print(\"fpr: \", fpr)\n",
    "    print(\"fnr: \", fnr)\n",
    "\n",
    "\n",
    "print(fped)\n",
    "print(fned)"
   ]
  },
  {
   "cell_type": "code",
   "execution_count": null,
   "metadata": {},
   "outputs": [],
   "source": []
  }
 ],
 "metadata": {
  "kernelspec": {
   "display_name": "Python 3",
   "language": "python",
   "name": "python3"
  },
  "language_info": {
   "codemirror_mode": {
    "name": "ipython",
    "version": 3
   },
   "file_extension": ".py",
   "mimetype": "text/x-python",
   "name": "python",
   "nbconvert_exporter": "python",
   "pygments_lexer": "ipython3",
   "version": "3.6.8"
  }
 },
 "nbformat": 4,
 "nbformat_minor": 4
}
