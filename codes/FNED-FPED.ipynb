{
 "cells": [
  {
   "cell_type": "markdown",
   "metadata": {},
   "source": [
    "## FNED and FPED Implementation"
   ]
  },
  {
   "cell_type": "code",
   "execution_count": 2,
   "metadata": {},
   "outputs": [],
   "source": [
    "import pandas as pd\n",
    "import numpy as np\n",
    "import math"
   ]
  },
  {
   "cell_type": "code",
   "execution_count": 196,
   "metadata": {},
   "outputs": [],
   "source": [
    "data_dir = \"imdb_mutant\"\n",
    "dfm = pd.read_csv(\"../data/\" + data_dir + \"/male/test.csv\", header=None, sep=\"\\t\", names=[\"label\", \"text\", \"template\"])\n",
    "dff = pd.read_csv(\"../data/\" + data_dir + \"/female/test.csv\", header=None, sep=\"\\t\", names=[\"label\", \"text\", \"template\"])"
   ]
  },
  {
   "cell_type": "code",
   "execution_count": 197,
   "metadata": {},
   "outputs": [
    {
     "name": "stdout",
     "output_type": "stream",
     "text": [
      "139300\n",
      "139300\n"
     ]
    }
   ],
   "source": [
    "output_dir = \"exp1_on_imdb\"\n",
    "\n",
    "result_dir = \"../result/\" + output_dir + \"/\"\n",
    "\n",
    "rfm = result_dir + \"results_data_male.txt\"\n",
    "rff = result_dir + \"results_data_female.txt\"\n",
    "\n",
    "mpred = []\n",
    "file = open(rfm)\n",
    "lines = file.readlines()\n",
    "for l in lines :\n",
    "    mpred.append(int(l))\n",
    "file.close()\n",
    "\n",
    "print(len(mpred))\n",
    "\n",
    "fpred = []\n",
    "file = open(rff)\n",
    "lines = file.readlines()\n",
    "for l in lines :\n",
    "    fpred.append(int(l))\n",
    "file.close()\n",
    "\n",
    "print(len(fpred))"
   ]
  },
  {
   "cell_type": "code",
   "execution_count": 198,
   "metadata": {},
   "outputs": [],
   "source": [
    "dfm[\"pred\"] = mpred\n",
    "dff[\"pred\"] = fpred"
   ]
  },
  {
   "cell_type": "code",
   "execution_count": 199,
   "metadata": {},
   "outputs": [
    {
     "data": {
      "text/html": [
       "<div>\n",
       "<style scoped>\n",
       "    .dataframe tbody tr th:only-of-type {\n",
       "        vertical-align: middle;\n",
       "    }\n",
       "\n",
       "    .dataframe tbody tr th {\n",
       "        vertical-align: top;\n",
       "    }\n",
       "\n",
       "    .dataframe thead th {\n",
       "        text-align: right;\n",
       "    }\n",
       "</style>\n",
       "<table border=\"1\" class=\"dataframe\">\n",
       "  <thead>\n",
       "    <tr style=\"text-align: right;\">\n",
       "      <th></th>\n",
       "      <th>label</th>\n",
       "      <th>text</th>\n",
       "      <th>template</th>\n",
       "      <th>pred</th>\n",
       "    </tr>\n",
       "  </thead>\n",
       "  <tbody>\n",
       "    <tr>\n",
       "      <th>0</th>\n",
       "      <td>1</td>\n",
       "      <td>I have only see three episodes of Hack, starri...</td>\n",
       "      <td>I have only see three episodes of Hack, starri...</td>\n",
       "      <td>1</td>\n",
       "    </tr>\n",
       "    <tr>\n",
       "      <th>1</th>\n",
       "      <td>1</td>\n",
       "      <td>I have only see three episodes of Hack, starri...</td>\n",
       "      <td>I have only see three episodes of Hack, starri...</td>\n",
       "      <td>1</td>\n",
       "    </tr>\n",
       "    <tr>\n",
       "      <th>2</th>\n",
       "      <td>1</td>\n",
       "      <td>I have only see three episodes of Hack, starri...</td>\n",
       "      <td>I have only see three episodes of Hack, starri...</td>\n",
       "      <td>1</td>\n",
       "    </tr>\n",
       "    <tr>\n",
       "      <th>3</th>\n",
       "      <td>1</td>\n",
       "      <td>I have only see three episodes of Hack, starri...</td>\n",
       "      <td>I have only see three episodes of Hack, starri...</td>\n",
       "      <td>1</td>\n",
       "    </tr>\n",
       "    <tr>\n",
       "      <th>4</th>\n",
       "      <td>1</td>\n",
       "      <td>I have only see three episodes of Hack, starri...</td>\n",
       "      <td>I have only see three episodes of Hack, starri...</td>\n",
       "      <td>1</td>\n",
       "    </tr>\n",
       "  </tbody>\n",
       "</table>\n",
       "</div>"
      ],
      "text/plain": [
       "   label                                               text  \\\n",
       "0      1  I have only see three episodes of Hack, starri...   \n",
       "1      1  I have only see three episodes of Hack, starri...   \n",
       "2      1  I have only see three episodes of Hack, starri...   \n",
       "3      1  I have only see three episodes of Hack, starri...   \n",
       "4      1  I have only see three episodes of Hack, starri...   \n",
       "\n",
       "                                            template  pred  \n",
       "0  I have only see three episodes of Hack, starri...     1  \n",
       "1  I have only see three episodes of Hack, starri...     1  \n",
       "2  I have only see three episodes of Hack, starri...     1  \n",
       "3  I have only see three episodes of Hack, starri...     1  \n",
       "4  I have only see three episodes of Hack, starri...     1  "
      ]
     },
     "execution_count": 199,
     "metadata": {},
     "output_type": "execute_result"
    }
   ],
   "source": [
    "dfm.head()"
   ]
  },
  {
   "cell_type": "code",
   "execution_count": 200,
   "metadata": {},
   "outputs": [],
   "source": [
    "df = pd.concat([dfm, dff])"
   ]
  },
  {
   "cell_type": "code",
   "execution_count": 201,
   "metadata": {},
   "outputs": [
    {
     "data": {
      "text/html": [
       "<div>\n",
       "<style scoped>\n",
       "    .dataframe tbody tr th:only-of-type {\n",
       "        vertical-align: middle;\n",
       "    }\n",
       "\n",
       "    .dataframe tbody tr th {\n",
       "        vertical-align: top;\n",
       "    }\n",
       "\n",
       "    .dataframe thead th {\n",
       "        text-align: right;\n",
       "    }\n",
       "</style>\n",
       "<table border=\"1\" class=\"dataframe\">\n",
       "  <thead>\n",
       "    <tr style=\"text-align: right;\">\n",
       "      <th></th>\n",
       "      <th>label</th>\n",
       "      <th>text</th>\n",
       "      <th>template</th>\n",
       "      <th>pred</th>\n",
       "    </tr>\n",
       "  </thead>\n",
       "  <tbody>\n",
       "    <tr>\n",
       "      <th>0</th>\n",
       "      <td>1</td>\n",
       "      <td>I have only see three episodes of Hack, starri...</td>\n",
       "      <td>I have only see three episodes of Hack, starri...</td>\n",
       "      <td>1</td>\n",
       "    </tr>\n",
       "    <tr>\n",
       "      <th>1</th>\n",
       "      <td>1</td>\n",
       "      <td>I have only see three episodes of Hack, starri...</td>\n",
       "      <td>I have only see three episodes of Hack, starri...</td>\n",
       "      <td>1</td>\n",
       "    </tr>\n",
       "    <tr>\n",
       "      <th>2</th>\n",
       "      <td>1</td>\n",
       "      <td>I have only see three episodes of Hack, starri...</td>\n",
       "      <td>I have only see three episodes of Hack, starri...</td>\n",
       "      <td>1</td>\n",
       "    </tr>\n",
       "    <tr>\n",
       "      <th>3</th>\n",
       "      <td>1</td>\n",
       "      <td>I have only see three episodes of Hack, starri...</td>\n",
       "      <td>I have only see three episodes of Hack, starri...</td>\n",
       "      <td>1</td>\n",
       "    </tr>\n",
       "    <tr>\n",
       "      <th>4</th>\n",
       "      <td>1</td>\n",
       "      <td>I have only see three episodes of Hack, starri...</td>\n",
       "      <td>I have only see three episodes of Hack, starri...</td>\n",
       "      <td>1</td>\n",
       "    </tr>\n",
       "    <tr>\n",
       "      <th>...</th>\n",
       "      <td>...</td>\n",
       "      <td>...</td>\n",
       "      <td>...</td>\n",
       "      <td>...</td>\n",
       "    </tr>\n",
       "    <tr>\n",
       "      <th>139295</th>\n",
       "      <td>1</td>\n",
       "      <td>First, I'm a huge Melanie fan. I grew up knowi...</td>\n",
       "      <td>First, I'm a huge Buddy Holly fan. I grew up k...</td>\n",
       "      <td>1</td>\n",
       "    </tr>\n",
       "    <tr>\n",
       "      <th>139296</th>\n",
       "      <td>1</td>\n",
       "      <td>First, I'm a huge Tanisha fan. I grew up knowi...</td>\n",
       "      <td>First, I'm a huge Buddy Holly fan. I grew up k...</td>\n",
       "      <td>1</td>\n",
       "    </tr>\n",
       "    <tr>\n",
       "      <th>139297</th>\n",
       "      <td>1</td>\n",
       "      <td>First, I'm a huge Nancy fan. I grew up knowing...</td>\n",
       "      <td>First, I'm a huge Buddy Holly fan. I grew up k...</td>\n",
       "      <td>1</td>\n",
       "    </tr>\n",
       "    <tr>\n",
       "      <th>139298</th>\n",
       "      <td>1</td>\n",
       "      <td>First, I'm a huge Tia fan. I grew up knowing w...</td>\n",
       "      <td>First, I'm a huge Buddy Holly fan. I grew up k...</td>\n",
       "      <td>1</td>\n",
       "    </tr>\n",
       "    <tr>\n",
       "      <th>139299</th>\n",
       "      <td>1</td>\n",
       "      <td>First, I'm a huge Stephanie fan. I grew up kno...</td>\n",
       "      <td>First, I'm a huge Buddy Holly fan. I grew up k...</td>\n",
       "      <td>1</td>\n",
       "    </tr>\n",
       "  </tbody>\n",
       "</table>\n",
       "<p>278600 rows × 4 columns</p>\n",
       "</div>"
      ],
      "text/plain": [
       "        label                                               text  \\\n",
       "0           1  I have only see three episodes of Hack, starri...   \n",
       "1           1  I have only see three episodes of Hack, starri...   \n",
       "2           1  I have only see three episodes of Hack, starri...   \n",
       "3           1  I have only see three episodes of Hack, starri...   \n",
       "4           1  I have only see three episodes of Hack, starri...   \n",
       "...       ...                                                ...   \n",
       "139295      1  First, I'm a huge Melanie fan. I grew up knowi...   \n",
       "139296      1  First, I'm a huge Tanisha fan. I grew up knowi...   \n",
       "139297      1  First, I'm a huge Nancy fan. I grew up knowing...   \n",
       "139298      1  First, I'm a huge Tia fan. I grew up knowing w...   \n",
       "139299      1  First, I'm a huge Stephanie fan. I grew up kno...   \n",
       "\n",
       "                                                 template  pred  \n",
       "0       I have only see three episodes of Hack, starri...     1  \n",
       "1       I have only see three episodes of Hack, starri...     1  \n",
       "2       I have only see three episodes of Hack, starri...     1  \n",
       "3       I have only see three episodes of Hack, starri...     1  \n",
       "4       I have only see three episodes of Hack, starri...     1  \n",
       "...                                                   ...   ...  \n",
       "139295  First, I'm a huge Buddy Holly fan. I grew up k...     1  \n",
       "139296  First, I'm a huge Buddy Holly fan. I grew up k...     1  \n",
       "139297  First, I'm a huge Buddy Holly fan. I grew up k...     1  \n",
       "139298  First, I'm a huge Buddy Holly fan. I grew up k...     1  \n",
       "139299  First, I'm a huge Buddy Holly fan. I grew up k...     1  \n",
       "\n",
       "[278600 rows x 4 columns]"
      ]
     },
     "execution_count": 201,
     "metadata": {},
     "output_type": "execute_result"
    }
   ],
   "source": [
    "df"
   ]
  },
  {
   "cell_type": "code",
   "execution_count": 202,
   "metadata": {},
   "outputs": [
    {
     "name": "stdout",
     "output_type": "stream",
     "text": [
      "              precision    recall  f1-score   support\n",
      "\n",
      "           0       0.86      0.95      0.90    139640\n",
      "           1       0.94      0.85      0.89    138960\n",
      "\n",
      "    accuracy                           0.90    278600\n",
      "   macro avg       0.90      0.90      0.90    278600\n",
      "weighted avg       0.90      0.90      0.90    278600\n",
      "\n",
      "[[132186   7454]\n",
      " [ 20923 118037]]\n"
     ]
    }
   ],
   "source": [
    "from sklearn.metrics import classification_report\n",
    "from sklearn.metrics import confusion_matrix\n",
    "\n",
    "y_test = df[\"label\"]\n",
    "y_pred = df[\"pred\"]\n",
    "print(classification_report(y_test, y_pred))\n",
    "cm = confusion_matrix(y_test, y_pred)\n",
    "print(cm)"
   ]
  },
  {
   "cell_type": "code",
   "execution_count": 203,
   "metadata": {},
   "outputs": [
    {
     "name": "stdout",
     "output_type": "stream",
     "text": [
      "              precision    recall  f1-score   support\n",
      "\n",
      "           0       0.86      0.95      0.90     69820\n",
      "           1       0.94      0.85      0.89     69480\n",
      "\n",
      "    accuracy                           0.90    139300\n",
      "   macro avg       0.90      0.90      0.90    139300\n",
      "weighted avg       0.90      0.90      0.90    139300\n",
      "\n",
      "[[66044  3776]\n",
      " [10348 59132]]\n"
     ]
    }
   ],
   "source": [
    "y_test = dfm[\"label\"]\n",
    "y_pred = dfm[\"pred\"]\n",
    "print(classification_report(y_test, y_pred))\n",
    "cm = confusion_matrix(y_test, y_pred)\n",
    "print(cm)"
   ]
  },
  {
   "cell_type": "code",
   "execution_count": 204,
   "metadata": {},
   "outputs": [
    {
     "name": "stdout",
     "output_type": "stream",
     "text": [
      "              precision    recall  f1-score   support\n",
      "\n",
      "           0       0.86      0.95      0.90     69820\n",
      "           1       0.94      0.85      0.89     69480\n",
      "\n",
      "    accuracy                           0.90    139300\n",
      "   macro avg       0.90      0.90      0.90    139300\n",
      "weighted avg       0.90      0.90      0.90    139300\n",
      "\n",
      "[[66142  3678]\n",
      " [10575 58905]]\n"
     ]
    }
   ],
   "source": [
    "y_test = dff[\"label\"]\n",
    "y_pred = dff[\"pred\"]\n",
    "print(classification_report(y_test, y_pred))\n",
    "cm = confusion_matrix(y_test, y_pred)\n",
    "print(cm)"
   ]
  },
  {
   "cell_type": "code",
   "execution_count": 205,
   "metadata": {},
   "outputs": [
    {
     "name": "stdout",
     "output_type": "stream",
     "text": [
      "0.05267831566886279\n",
      "0.15146089945574334\n"
     ]
    }
   ],
   "source": [
    "def calculate_fpr(cm) :\n",
    "    negative = np.sum(cm[0])\n",
    "    fp = cm[0][1]\n",
    "    fpr = fp / negative\n",
    "    return fpr\n",
    "\n",
    "def calculate_fnr(cm) :\n",
    "    negative = np.sum(cm[0])\n",
    "    fn = cm[1][0]\n",
    "    fnr = fn / negative\n",
    "    return fnr\n",
    "\n",
    "print(calculate_fpr(cm))\n",
    "print(calculate_fnr(cm))"
   ]
  },
  {
   "cell_type": "code",
   "execution_count": 206,
   "metadata": {},
   "outputs": [
    {
     "name": "stdout",
     "output_type": "stream",
     "text": [
      "global fpr:  0.053380120309366945\n",
      "global fnr:  0.14983529074763677\n",
      "fpr:  0.054081924949871095\n",
      "fnr:  0.14820968203953022\n",
      "fpr:  0.05267831566886279\n",
      "fnr:  0.15146089945574334\n",
      "0.001403609281008307\n",
      "0.00325121741621312\n"
     ]
    }
   ],
   "source": [
    "y_test = df[\"label\"]\n",
    "y_pred = df[\"pred\"]\n",
    "cm = confusion_matrix(y_test, y_pred)\n",
    "global_fpr = calculate_fpr(cm)\n",
    "global_fnr = calculate_fnr(cm)\n",
    "print(\"global fpr: \", global_fpr)\n",
    "print(\"global fnr: \", global_fnr)\n",
    "\n",
    "d = [dfm, dff]\n",
    "fped = 0\n",
    "fned = 0\n",
    "for _d in d :\n",
    "    y_test = _d[\"label\"]\n",
    "    y_pred = _d[\"pred\"]\n",
    "    cm = confusion_matrix(y_test, y_pred)\n",
    "    fpr = calculate_fpr(cm)\n",
    "    fnr = calculate_fnr(cm)\n",
    "    fped += abs(global_fpr - fpr)\n",
    "    fned += abs(global_fnr - fnr)\n",
    "    print(\"fpr: \", fpr)\n",
    "    print(\"fnr: \", fnr)\n",
    "\n",
    "\n",
    "print(fped)\n",
    "print(fned)"
   ]
  }
 ],
 "metadata": {
  "kernelspec": {
   "display_name": "Python 3",
   "language": "python",
   "name": "python3"
  },
  "language_info": {
   "codemirror_mode": {
    "name": "ipython",
    "version": 3
   },
   "file_extension": ".py",
   "mimetype": "text/x-python",
   "name": "python",
   "nbconvert_exporter": "python",
   "pygments_lexer": "ipython3",
   "version": "3.6.8"
  }
 },
 "nbformat": 4,
 "nbformat_minor": 4
}
