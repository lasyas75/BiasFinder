{
 "cells": [
  {
   "cell_type": "code",
   "execution_count": 1,
   "metadata": {},
   "outputs": [],
   "source": [
    "import neuralcoref\n",
    "# import en_core_web_sm\n",
    "# nlp = en_core_web_sm.load()\n",
    "import en_core_web_lg\n",
    "nlp = en_core_web_lg.load()\n",
    "coref = neuralcoref.NeuralCoref(nlp.vocab)\n",
    "nlp.add_pipe(coref, name='neuralcoref')"
   ]
  },
  {
   "cell_type": "code",
   "execution_count": 2,
   "metadata": {},
   "outputs": [],
   "source": [
    "text = \"A young woman, Jodie Foster, is witnessing a mafia murder, reports the killing to the local police, and becomes herself a hit target by the mob operatives. A professional killer, Dennis Hopper, hired by mafia, is stalking her to prepare for the hit, but eventually he falls for her. Then, as a parody of the Stockholm Syndrome that defines a case when an abducted hostage begins to like and cooperate with the kidnapper, Jodie Foster falls for her abductor too, make love, and both prepare for a getaway. Denis Hopper, the actor, tries to align himself with the creative ambitions of Dennis Hopper, the director. The result is disappointing, and fails to keep pace with the artistic level of a great performer as Dennis Hopper is. There is no real thrill and the script is sometimes naive and predictable. The film is saved to some extent by the performance of Jodie Foster who is not at her best, but still shines with her talent, beauty and gift. Of historical interest is the short appearance of Vincent Price, and, in a small act, of Charlie Sawn known from his great part in \\\" Wall Street \\\". If you decide to spend the 116 minutes to see the film, it is not a complete loss; this movie offers easy entertainment, but we would expect much more from the director of \\\" Easy Rider \\\", and the actress who gave us the character of Sarah Tobias in \\\" The Accused \\.\""
   ]
  },
  {
   "cell_type": "code",
   "execution_count": 3,
   "metadata": {},
   "outputs": [
    {
     "name": "stdout",
     "output_type": "stream",
     "text": [
      "A young woman, Jodie Foster, is witnessing a mafia murder, reports the killing to the local police, and becomes herself a hit target by the mob operatives. A professional killer, Dennis Hopper, hired by mafia, is stalking her to prepare for the hit, but eventually he falls for her. Then, as a parody of the Stockholm Syndrome that defines a case when an abducted hostage begins to like and cooperate with the kidnapper, Jodie Foster falls for her abductor too, make love, and both prepare for a getaway. Denis Hopper, the actor, tries to align himself with the creative ambitions of Dennis Hopper, the director. The result is disappointing, and fails to keep pace with the artistic level of a great performer as Dennis Hopper is. There is no real thrill and the script is sometimes naive and predictable. The film is saved to some extent by the performance of Jodie Foster who is not at her best, but still shines with her talent, beauty and gift. Of historical interest is the short appearance of Vincent Price, and, in a small act, of Charlie Sawn known from his great part in \" Wall Street \". If you decide to spend the 116 minutes to see the film, it is not a complete loss; this movie offers easy entertainment, but we would expect much more from the director of \" Easy Rider \", and the actress who gave us the character of Sarah Tobias in \" The Accused \\.\n"
     ]
    }
   ],
   "source": [
    "print(text)"
   ]
  },
  {
   "cell_type": "code",
   "execution_count": 5,
   "metadata": {},
   "outputs": [
    {
     "data": {
      "text/plain": [
       "[A young woman, Jodie Foster: [A young woman, Jodie Foster, herself, her, her],\n",
       " A professional killer, Dennis Hopper, hired by mafia: [A professional killer, Dennis Hopper, hired by mafia, he],\n",
       " Jodie Foster: [Jodie Foster, her, Jodie Foster, her, her],\n",
       " Denis Hopper, the actor: [Denis Hopper, the actor, himself],\n",
       " The film: [The film, the film],\n",
       " Charlie Sawn: [Charlie Sawn, his],\n",
       " we: [we, us]]"
      ]
     },
     "execution_count": 5,
     "metadata": {},
     "output_type": "execute_result"
    }
   ],
   "source": [
    "nlp(text)._.coref_clusters"
   ]
  },
  {
   "cell_type": "code",
   "execution_count": null,
   "metadata": {},
   "outputs": [],
   "source": []
  }
 ],
 "metadata": {
  "kernelspec": {
   "display_name": "Python 3",
   "language": "python",
   "name": "python3"
  },
  "language_info": {
   "codemirror_mode": {
    "name": "ipython",
    "version": 3
   },
   "file_extension": ".py",
   "mimetype": "text/x-python",
   "name": "python",
   "nbconvert_exporter": "python",
   "pygments_lexer": "ipython3",
   "version": "3.6.8"
  }
 },
 "nbformat": 4,
 "nbformat_minor": 4
}
