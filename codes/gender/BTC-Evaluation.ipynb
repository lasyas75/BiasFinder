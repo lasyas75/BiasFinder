{
 "cells": [
  {
   "cell_type": "markdown",
   "source": [
    "# Bias Uncovering Test Case (BTC) for Gender Bias"
   ],
   "metadata": {}
  },
  {
   "cell_type": "code",
   "execution_count": 2,
   "source": [
    "import pandas as pd\n",
    "import numpy as np\n",
    "import math\n",
    "import time\n",
    "import pickle\n",
    "\n",
    "from metric import evaluate_btc"
   ],
   "outputs": [],
   "metadata": {}
  },
  {
   "cell_type": "markdown",
   "source": [
    "## BiasFinder on IMDB"
   ],
   "metadata": {}
  },
  {
   "cell_type": "code",
   "execution_count": 69,
   "source": [
    "mutation_tool = \"biasfinder\"\n",
    "# mutation_tool = \"eec\"\n",
    "bias_type = \"gender\"\n",
    "# task = \"imdb\" # dataset used for fine-tuning\n",
    "mutant = \"imdb\" # dataset used for generating mutants\n",
    "# mutant = \"twitter_semeval\" # dataset used for generating mutants\n",
    "# mutant = \"twitter_s140\" # dataset used for generating mutants\n",
    "\n",
    "def load_prediction(fpath):\n",
    "    with open(fpath, 'rb') as f:\n",
    "        pred = pickle.load(f)\n",
    "    return pred\n",
    "\n",
    "def load_mutant_and_prediction(mutation_tool, bias_type, mutant):\n",
    "    base_dir = f\"../../data/{mutation_tool}/{bias_type}/{mutant}/\"\n",
    "    if mutation_tool == \"biasfinder\" :\n",
    "        df = pd.read_csv(base_dir + \"test.csv\", header=None, sep=\"\\t\", names=[\"label\", \"mutant\", \"template\", \"original\", \"gender\"])\n",
    "    elif mutation_tool == \"eec\":\n",
    "        df = pd.read_csv(base_dir + \"test.csv\", header=None, sep=\"\\t\", names=[\"label\", \"mutant\", \"template\", \"original\", \"person\", \"gender\", \"emotion\"])\n",
    "\n",
    "    df[\"template\"] = df[\"template\"].astype(\"category\")\n",
    "    df[\"template_id\"] = df[\"template\"].cat.codes\n",
    "\n",
    "    prediction_fpath = os.path.join(base_dir, \"prediction.pkl\")\n",
    "    pred = load_prediction(prediction_fpath)\n",
    "\n",
    "    df[\"prediction\"] = pred\n",
    "\n",
    "    return df\n",
    "\n",
    "\n",
    "df = load_mutant_and_prediction(mutation_tool, bias_type, mutant)\n",
    "\n",
    "df.head()\n"
   ],
   "outputs": [
    {
     "output_type": "execute_result",
     "data": {
      "text/plain": [
       "   label                                             mutant  \\\n",
       "0      0  I hated the book. A guy meets a smart dog, get...   \n",
       "1      0  I hated the book. A guy meets a smart dog, get...   \n",
       "2      1  The Great Dictator is a beyondexcellent film. ...   \n",
       "3      1  The Great Dictator is a beyondexcellent film. ...   \n",
       "4      1  The Great Dictator is a beyondexcellent film. ...   \n",
       "\n",
       "                                            template  \\\n",
       "0  I hated the book. A guy meets a smart dog, get...   \n",
       "1  I hated the book. A guy meets a smart dog, get...   \n",
       "2  The Great Dictator is a beyondexcellent film. ...   \n",
       "3  The Great Dictator is a beyondexcellent film. ...   \n",
       "4  The Great Dictator is a beyondexcellent film. ...   \n",
       "\n",
       "                                            original  gender  template_id  \\\n",
       "0  I hated the book. A guy meets a smart dog, get...    male          929   \n",
       "1  I hated the book. A guy meets a smart dog, get...  female          929   \n",
       "2  The Great Dictator is a beyondexcellent film. ...    male         1980   \n",
       "3  The Great Dictator is a beyondexcellent film. ...    male         1980   \n",
       "4  The Great Dictator is a beyondexcellent film. ...    male         1980   \n",
       "\n",
       "   prediction  \n",
       "0           0  \n",
       "1           0  \n",
       "2           1  \n",
       "3           1  \n",
       "4           1  "
      ],
      "text/html": [
       "<div>\n",
       "<style scoped>\n",
       "    .dataframe tbody tr th:only-of-type {\n",
       "        vertical-align: middle;\n",
       "    }\n",
       "\n",
       "    .dataframe tbody tr th {\n",
       "        vertical-align: top;\n",
       "    }\n",
       "\n",
       "    .dataframe thead th {\n",
       "        text-align: right;\n",
       "    }\n",
       "</style>\n",
       "<table border=\"1\" class=\"dataframe\">\n",
       "  <thead>\n",
       "    <tr style=\"text-align: right;\">\n",
       "      <th></th>\n",
       "      <th>label</th>\n",
       "      <th>mutant</th>\n",
       "      <th>template</th>\n",
       "      <th>original</th>\n",
       "      <th>gender</th>\n",
       "      <th>template_id</th>\n",
       "      <th>prediction</th>\n",
       "    </tr>\n",
       "  </thead>\n",
       "  <tbody>\n",
       "    <tr>\n",
       "      <th>0</th>\n",
       "      <td>0</td>\n",
       "      <td>I hated the book. A guy meets a smart dog, get...</td>\n",
       "      <td>I hated the book. A guy meets a smart dog, get...</td>\n",
       "      <td>I hated the book. A guy meets a smart dog, get...</td>\n",
       "      <td>male</td>\n",
       "      <td>929</td>\n",
       "      <td>0</td>\n",
       "    </tr>\n",
       "    <tr>\n",
       "      <th>1</th>\n",
       "      <td>0</td>\n",
       "      <td>I hated the book. A guy meets a smart dog, get...</td>\n",
       "      <td>I hated the book. A guy meets a smart dog, get...</td>\n",
       "      <td>I hated the book. A guy meets a smart dog, get...</td>\n",
       "      <td>female</td>\n",
       "      <td>929</td>\n",
       "      <td>0</td>\n",
       "    </tr>\n",
       "    <tr>\n",
       "      <th>2</th>\n",
       "      <td>1</td>\n",
       "      <td>The Great Dictator is a beyondexcellent film. ...</td>\n",
       "      <td>The Great Dictator is a beyondexcellent film. ...</td>\n",
       "      <td>The Great Dictator is a beyondexcellent film. ...</td>\n",
       "      <td>male</td>\n",
       "      <td>1980</td>\n",
       "      <td>1</td>\n",
       "    </tr>\n",
       "    <tr>\n",
       "      <th>3</th>\n",
       "      <td>1</td>\n",
       "      <td>The Great Dictator is a beyondexcellent film. ...</td>\n",
       "      <td>The Great Dictator is a beyondexcellent film. ...</td>\n",
       "      <td>The Great Dictator is a beyondexcellent film. ...</td>\n",
       "      <td>male</td>\n",
       "      <td>1980</td>\n",
       "      <td>1</td>\n",
       "    </tr>\n",
       "    <tr>\n",
       "      <th>4</th>\n",
       "      <td>1</td>\n",
       "      <td>The Great Dictator is a beyondexcellent film. ...</td>\n",
       "      <td>The Great Dictator is a beyondexcellent film. ...</td>\n",
       "      <td>The Great Dictator is a beyondexcellent film. ...</td>\n",
       "      <td>male</td>\n",
       "      <td>1980</td>\n",
       "      <td>1</td>\n",
       "    </tr>\n",
       "  </tbody>\n",
       "</table>\n",
       "</div>"
      ]
     },
     "metadata": {},
     "execution_count": 69
    }
   ],
   "metadata": {}
  },
  {
   "cell_type": "code",
   "execution_count": 70,
   "source": [
    "print(\"Accuracy: {:.2f}%\".format(100*sum(df[\"label\"] == df[\"prediction\"])/len(df[\"label\"])))\n"
   ],
   "outputs": [
    {
     "output_type": "stream",
     "name": "stdout",
     "text": [
      "Accuracy: 93.24%\n"
     ]
    }
   ],
   "metadata": {}
  },
  {
   "cell_type": "code",
   "execution_count": 71,
   "source": [
    "def print_evaluation(evaluation):\n",
    "    print(\"# Mutants \\t:\", evaluation[\"mutant\"])\n",
    "    print(\"# Templates \\t:\", evaluation[\"template\"])\n",
    "    print(\"# BTCs \\t\\t:\", evaluation[\"btc\"])\n",
    "\n",
    "evaluation = evaluate_btc(df[\"label\"], df[\"prediction\"], df[\"mutant\"], df[\"template\"], \"gender\", df[\"gender\"])\n",
    "print_evaluation(evaluation)"
   ],
   "outputs": [
    {
     "output_type": "stream",
     "name": "stdout",
     "text": [
      "# Mutants \t: 153866\n",
      "# Templates \t: 3015\n",
      "# BTCs \t\t: 3198\n"
     ]
    }
   ],
   "metadata": {}
  },
  {
   "cell_type": "markdown",
   "source": [
    "## BTC Comparison with EEC on Twitter SemEval fine-tuned Model"
   ],
   "metadata": {}
  },
  {
   "cell_type": "markdown",
   "source": [
    "### EEC Mutants"
   ],
   "metadata": {}
  },
  {
   "cell_type": "code",
   "execution_count": 72,
   "source": [
    "df = load_mutant_and_prediction(mutation_tool=\"eec\", bias_type=\"gender\", mutant=\"twitter_semeval\")\n",
    "evaluation = evaluate_btc(df[\"label\"], df[\"prediction\"], df[\"mutant\"], df[\"template\"], \"gender\", df[\"gender\"])\n",
    "print_evaluation(evaluation)\n"
   ],
   "outputs": [
    {
     "output_type": "stream",
     "name": "stdout",
     "text": [
      "# Mutants \t: 8400\n",
      "# Templates \t: 140\n",
      "# BTCs \t\t: 1868\n"
     ]
    }
   ],
   "metadata": {}
  },
  {
   "cell_type": "markdown",
   "source": [
    "### BiasFinder Mutants generated from SemEval test set"
   ],
   "metadata": {}
  },
  {
   "cell_type": "code",
   "execution_count": 73,
   "source": [
    "df = load_mutant_and_prediction(\n",
    "    mutation_tool=\"biasfinder\", bias_type=\"gender\", mutant=\"twitter_semeval\")\n",
    "evaluation = evaluate_btc(df[\"label\"], df[\"prediction\"],\n",
    "                          df[\"mutant\"], df[\"template\"], \"gender\", df[\"gender\"])\n",
    "print_evaluation(evaluation)\n"
   ],
   "outputs": [
    {
     "output_type": "stream",
     "name": "stdout",
     "text": [
      "# Mutants \t: 386\n",
      "# Templates \t: 9\n",
      "# BTCs \t\t: 1378\n"
     ]
    }
   ],
   "metadata": {}
  },
  {
   "cell_type": "markdown",
   "source": [
    "### BiasFinder Mutants generated from 10k train data from Twitter S140"
   ],
   "metadata": {}
  },
  {
   "cell_type": "code",
   "execution_count": 74,
   "source": [
    "df = load_mutant_and_prediction(\n",
    "    mutation_tool=\"biasfinder\", bias_type=\"gender\", mutant=\"twitter_s140\")\n",
    "evaluation = evaluate_btc(df[\"label\"], df[\"prediction\"],\n",
    "                          df[\"mutant\"], df[\"template\"], \"gender\", df[\"gender\"])\n",
    "print_evaluation(evaluation)\n"
   ],
   "outputs": [
    {
     "output_type": "stream",
     "name": "stdout",
     "text": [
      "# Mutants \t: 58388\n",
      "# Templates \t: 1672\n",
      "# BTCs \t\t: 27114\n"
     ]
    }
   ],
   "metadata": {}
  },
  {
   "cell_type": "code",
   "execution_count": null,
   "source": [],
   "outputs": [],
   "metadata": {}
  }
 ],
 "metadata": {
  "kernelspec": {
   "name": "python3",
   "display_name": "Python 3.6.9 64-bit"
  },
  "language_info": {
   "codemirror_mode": {
    "name": "ipython",
    "version": 3
   },
   "file_extension": ".py",
   "mimetype": "text/x-python",
   "name": "python",
   "nbconvert_exporter": "python",
   "pygments_lexer": "ipython3",
   "version": "3.6.9"
  },
  "interpreter": {
   "hash": "31f2aee4e71d21fbe5cf8b01ff0e069b9275f58929596ceb00d14d90e3e16cd6"
  }
 },
 "nbformat": 4,
 "nbformat_minor": 4
}