{
 "cells": [
  {
   "cell_type": "markdown",
   "source": [
    "# Bias Uncovering Test Case (BTC) for Gender Bias"
   ],
   "metadata": {}
  },
  {
   "cell_type": "code",
   "execution_count": null,
   "source": [
    "import os\n",
    "import pandas as pd\n",
    "import numpy as np\n",
    "import math\n",
    "import time\n",
    "import pickle\n",
    "\n",
    "from metric import evaluate_btc"
   ],
   "outputs": [],
   "metadata": {}
  },
  {
   "cell_type": "markdown",
   "source": [
    "## Measuring the Performance of the Fine-tuned SA models on the Test set"
   ],
   "metadata": {}
  },
  {
   "cell_type": "code",
   "execution_count": null,
   "source": [
    "def load_pickle(fpath):\n",
    "    with open(fpath, 'rb') as f:\n",
    "        pred = pickle.load(f)\n",
    "    return pred\n",
    "\n",
    "def accuracy(label, prediction):\n",
    "    return round(100 * sum(label == prediction) / len(label), 2)\n",
    "\n",
    "def calculate_test_accuracy(task, model) :\n",
    "    label_path = f\"../../asset/{task}/test.csv\"\n",
    "    pred_path = f\"../../asset/{task}/predictions/{model}.pkl\"\n",
    "\n",
    "\n",
    "    test_df = pd.read_csv(label_path, header=None, sep=\"\\t\")\n",
    "\n",
    "    test_labels = test_df[0].values\n",
    "    predicitons = load_pickle(pred_path)\n",
    "\n",
    "    return accuracy(test_labels, predicitons)\n",
    "\n",
    "\n",
    "task = \"imdb\"\n",
    "model = \"bert-base-uncased\"\n",
    "\n",
    "\n",
    "calculate_test_accuracy(task, model)\n"
   ],
   "outputs": [
    {
     "output_type": "execute_result",
     "data": {
      "text/plain": [
       "92.57"
      ]
     },
     "metadata": {},
     "execution_count": 32
    }
   ],
   "metadata": {}
  },
  {
   "cell_type": "markdown",
   "source": [
    "## Evaluating the Performance of fine-tuned models"
   ],
   "metadata": {}
  },
  {
   "cell_type": "code",
   "execution_count": 1,
   "source": [
    "models = [\"bert-base-uncased\", \"bert-base-cased\", \"roberta-base\", \"xlnet-base-cased\",\n",
    "          \"albert-base-v2\", \"microsoft/mpnet-base\", \"microsoft/deberta-base\",\n",
    "          \"facebook/muppet-roberta-base\", \"google/electra-base-generator\"]\n",
    "\n",
    "df = pd.DataFrame(columns=[\"model\", \"accuracy-imdb\", \"accuracy-twitter-semeval\", \"accuracy-twitter-s140\"])\n",
    "\n",
    "for model in models:\n",
    "    df = df.append(\n",
    "        {\n",
    "            \"model\": model,\n",
    "            \"accuracy-imdb\": calculate_test_accuracy(\"imdb\", model),\n",
    "            \"accuracy-twitter-semeval\": calculate_test_accuracy(\"twitter_semeval\", model),\n",
    "            \"accuracy-twitter-s140\": calculate_test_accuracy(\"twitter_s140\", model)\n",
    "        },\n",
    "        ignore_index=True)\n",
    "\n",
    "df\n"
   ],
   "outputs": [
    {
     "output_type": "error",
     "ename": "SyntaxError",
     "evalue": "invalid syntax (<ipython-input-1-1c346cd67e26>, line 12)",
     "traceback": [
      "\u001b[0;36m  File \u001b[0;32m\"<ipython-input-1-1c346cd67e26>\"\u001b[0;36m, line \u001b[0;32m12\u001b[0m\n\u001b[0;31m    \"accuracy-twitter-semeval\": calculate_test_accuracy(\"twitter_semeval\", model)\u001b[0m\n\u001b[0m                             ^\u001b[0m\n\u001b[0;31mSyntaxError\u001b[0m\u001b[0;31m:\u001b[0m invalid syntax\n"
     ]
    }
   ],
   "metadata": {}
  },
  {
   "cell_type": "code",
   "execution_count": null,
   "source": [],
   "outputs": [],
   "metadata": {}
  },
  {
   "cell_type": "code",
   "execution_count": null,
   "source": [],
   "outputs": [],
   "metadata": {}
  }
 ],
 "metadata": {
  "kernelspec": {
   "name": "python3",
   "display_name": "Python 3.6.9 64-bit"
  },
  "language_info": {
   "codemirror_mode": {
    "name": "ipython",
    "version": 3
   },
   "file_extension": ".py",
   "mimetype": "text/x-python",
   "name": "python",
   "nbconvert_exporter": "python",
   "pygments_lexer": "ipython3",
   "version": "3.6.9"
  },
  "interpreter": {
   "hash": "31f2aee4e71d21fbe5cf8b01ff0e069b9275f58929596ceb00d14d90e3e16cd6"
  }
 },
 "nbformat": 4,
 "nbformat_minor": 4
}