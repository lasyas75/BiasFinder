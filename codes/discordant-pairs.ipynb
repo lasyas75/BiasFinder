{
 "cells": [
  {
   "cell_type": "markdown",
   "metadata": {},
   "source": [
    "# Number of Discordant Pairs"
   ]
  },
  {
   "cell_type": "code",
   "execution_count": 73,
   "metadata": {},
   "outputs": [],
   "source": [
    "import pandas as pd\n",
    "import numpy as np\n",
    "import math"
   ]
  },
  {
   "cell_type": "code",
   "execution_count": 74,
   "metadata": {},
   "outputs": [],
   "source": [
    "# dir_name = \"eec\"\n",
    "dir_name = \"imdb_mutant\"\n",
    "dfm = pd.read_csv(\"../data/\" + dir_name + \"/male/test.csv\", header=None, sep=\"\\t\", names=[\"label\", \"text\", \"template\"])\n",
    "dff = pd.read_csv(\"../data/\" + dir_name + \"/female/test.csv\", header=None, sep=\"\\t\", names=[\"label\", \"text\", \"template\"])"
   ]
  },
  {
   "cell_type": "code",
   "execution_count": 75,
   "metadata": {},
   "outputs": [
    {
     "name": "stdout",
     "output_type": "stream",
     "text": [
      "139300\n",
      "139300\n"
     ]
    }
   ],
   "source": [
    "output_dir = \"exp1_on_imdb\"\n",
    "result_dir = \"../result/\" + output_dir + \"/\"\n",
    "\n",
    "rfm = result_dir + \"results_data_male.txt\"\n",
    "rff = result_dir + \"results_data_female.txt\"\n",
    "\n",
    "def read_from_txt(fpath) :    \n",
    "    pred = []\n",
    "    file = open(fpath)\n",
    "    lines = file.readlines()\n",
    "    for l in lines :\n",
    "        pred.append(int(l))\n",
    "    file.close()\n",
    "    return pred\n",
    "\n",
    "mpred = read_from_txt(rfm)\n",
    "fpred = read_from_txt(rff)\n",
    "\n",
    "print(len(mpred))\n",
    "print(len(fpred))"
   ]
  },
  {
   "cell_type": "code",
   "execution_count": 76,
   "metadata": {},
   "outputs": [],
   "source": [
    "dfm[\"prediction\"] = mpred\n",
    "dff[\"prediction\"] = fpred"
   ]
  },
  {
   "cell_type": "code",
   "execution_count": 77,
   "metadata": {},
   "outputs": [
    {
     "data": {
      "text/html": [
       "<div>\n",
       "<style scoped>\n",
       "    .dataframe tbody tr th:only-of-type {\n",
       "        vertical-align: middle;\n",
       "    }\n",
       "\n",
       "    .dataframe tbody tr th {\n",
       "        vertical-align: top;\n",
       "    }\n",
       "\n",
       "    .dataframe thead th {\n",
       "        text-align: right;\n",
       "    }\n",
       "</style>\n",
       "<table border=\"1\" class=\"dataframe\">\n",
       "  <thead>\n",
       "    <tr style=\"text-align: right;\">\n",
       "      <th></th>\n",
       "      <th>male_text</th>\n",
       "      <th>female_text</th>\n",
       "      <th>male_prediction</th>\n",
       "      <th>female_prediction</th>\n",
       "    </tr>\n",
       "  </thead>\n",
       "  <tbody>\n",
       "  </tbody>\n",
       "</table>\n",
       "</div>"
      ],
      "text/plain": [
       "Empty DataFrame\n",
       "Columns: [male_text, female_text, male_prediction, female_prediction]\n",
       "Index: []"
      ]
     },
     "execution_count": 77,
     "metadata": {},
     "output_type": "execute_result"
    }
   ],
   "source": [
    "df = pd.DataFrame(columns=[\"male_text\", \"female_text\", \"male_prediction\", \"female_prediction\"])\n",
    "# df = df.append({\"male_text\" : \"abc\", \"female_text\": \"def\", \"male_prediction\" : 1, \"female_prediction\": 0}, ignore_index=True)\n",
    "df"
   ]
  },
  {
   "cell_type": "code",
   "execution_count": 78,
   "metadata": {},
   "outputs": [
    {
     "data": {
      "text/plain": [
       "0         I have only see three episodes of Hack, starri...\n",
       "1         I have only see three episodes of Hack, starri...\n",
       "2         I have only see three episodes of Hack, starri...\n",
       "3         I have only see three episodes of Hack, starri...\n",
       "4         I have only see three episodes of Hack, starri...\n",
       "                                ...                        \n",
       "139295    First, I'm a huge Justin fan. I grew up knowin...\n",
       "139296    First, I'm a huge Terrence fan. I grew up know...\n",
       "139297    First, I'm a huge Roger fan. I grew up knowing...\n",
       "139298    First, I'm a huge Torrance fan. I grew up know...\n",
       "139299    First, I'm a huge Ryan fan. I grew up knowing ...\n",
       "Name: text, Length: 139300, dtype: object"
      ]
     },
     "execution_count": 78,
     "metadata": {},
     "output_type": "execute_result"
    }
   ],
   "source": [
    "dfm[\"text\"]"
   ]
  },
  {
   "cell_type": "code",
   "execution_count": 79,
   "metadata": {},
   "outputs": [],
   "source": [
    "mtext = dfm[\"text\"]\n",
    "mpred = dfm[\"prediction\"]\n",
    "ftext = dff[\"text\"]\n",
    "fpred = dff[\"prediction\"]"
   ]
  },
  {
   "cell_type": "code",
   "execution_count": 80,
   "metadata": {},
   "outputs": [
    {
     "data": {
      "text/html": [
       "<div>\n",
       "<style scoped>\n",
       "    .dataframe tbody tr th:only-of-type {\n",
       "        vertical-align: middle;\n",
       "    }\n",
       "\n",
       "    .dataframe tbody tr th {\n",
       "        vertical-align: top;\n",
       "    }\n",
       "\n",
       "    .dataframe thead th {\n",
       "        text-align: right;\n",
       "    }\n",
       "</style>\n",
       "<table border=\"1\" class=\"dataframe\">\n",
       "  <thead>\n",
       "    <tr style=\"text-align: right;\">\n",
       "      <th></th>\n",
       "      <th>male_text</th>\n",
       "      <th>female_text</th>\n",
       "      <th>male_prediction</th>\n",
       "      <th>female_prediction</th>\n",
       "    </tr>\n",
       "  </thead>\n",
       "  <tbody>\n",
       "  </tbody>\n",
       "</table>\n",
       "</div>"
      ],
      "text/plain": [
       "Empty DataFrame\n",
       "Columns: [male_text, female_text, male_prediction, female_prediction]\n",
       "Index: []"
      ]
     },
     "execution_count": 80,
     "metadata": {},
     "output_type": "execute_result"
    }
   ],
   "source": [
    "df = pd.DataFrame(columns=[\"male_text\", \"female_text\", \"male_prediction\", \"female_prediction\"])\n",
    "# df = df.append({\"male_text\" : \"abc\", \"female_text\": \"def\", \"male_prediction\" : 1, \"female_prediction\": 0}, ignore_index=True)\n",
    "df"
   ]
  },
  {
   "cell_type": "code",
   "execution_count": 81,
   "metadata": {},
   "outputs": [],
   "source": [
    "import time"
   ]
  },
  {
   "cell_type": "code",
   "execution_count": 82,
   "metadata": {},
   "outputs": [
    {
     "data": {
      "text/plain": [
       "139300"
      ]
     },
     "execution_count": 82,
     "metadata": {},
     "output_type": "execute_result"
    }
   ],
   "source": [
    "len(mtext)"
   ]
  },
  {
   "cell_type": "code",
   "execution_count": 83,
   "metadata": {},
   "outputs": [
    {
     "name": "stdout",
     "output_type": "stream",
     "text": [
      "4.090437650680542\n"
     ]
    }
   ],
   "source": [
    "template_size = 20\n",
    "lb = 0\n",
    "\n",
    "start = time.time()\n",
    "male_text = []\n",
    "female_text = []\n",
    "male_prediction = []\n",
    "female_prediction = []\n",
    "while lb < len(mtext) :\n",
    "# while lb < 100 :\n",
    "    ub = lb + template_size\n",
    "    mt = mtext[lb:ub]\n",
    "    mp = mpred[lb:ub]\n",
    "    ft = ftext[lb:ub]\n",
    "    fp = fpred[lb:ub]\n",
    "    for _mt, _mp in zip(mt, mp):\n",
    "        for _ft, _fp in zip(ft, fp):\n",
    "            male_text.append(_mt)\n",
    "            male_prediction.append(_mp)\n",
    "            female_text.append(_ft)\n",
    "            female_prediction.append(_fp)\n",
    "    lb = ub\n",
    "    \n",
    "end = time.time()\n",
    "print(end-start)"
   ]
  },
  {
   "cell_type": "code",
   "execution_count": 84,
   "metadata": {},
   "outputs": [
    {
     "data": {
      "text/html": [
       "<div>\n",
       "<style scoped>\n",
       "    .dataframe tbody tr th:only-of-type {\n",
       "        vertical-align: middle;\n",
       "    }\n",
       "\n",
       "    .dataframe tbody tr th {\n",
       "        vertical-align: top;\n",
       "    }\n",
       "\n",
       "    .dataframe thead th {\n",
       "        text-align: right;\n",
       "    }\n",
       "</style>\n",
       "<table border=\"1\" class=\"dataframe\">\n",
       "  <thead>\n",
       "    <tr style=\"text-align: right;\">\n",
       "      <th></th>\n",
       "      <th>male_text</th>\n",
       "      <th>female_text</th>\n",
       "      <th>male_prediction</th>\n",
       "      <th>female_prediction</th>\n",
       "    </tr>\n",
       "  </thead>\n",
       "  <tbody>\n",
       "    <tr>\n",
       "      <th>0</th>\n",
       "      <td>I have only see three episodes of Hack, starri...</td>\n",
       "      <td>I have only see three episodes of Hack, starri...</td>\n",
       "      <td>1</td>\n",
       "      <td>1</td>\n",
       "    </tr>\n",
       "    <tr>\n",
       "      <th>1</th>\n",
       "      <td>I have only see three episodes of Hack, starri...</td>\n",
       "      <td>I have only see three episodes of Hack, starri...</td>\n",
       "      <td>1</td>\n",
       "      <td>1</td>\n",
       "    </tr>\n",
       "    <tr>\n",
       "      <th>2</th>\n",
       "      <td>I have only see three episodes of Hack, starri...</td>\n",
       "      <td>I have only see three episodes of Hack, starri...</td>\n",
       "      <td>1</td>\n",
       "      <td>1</td>\n",
       "    </tr>\n",
       "    <tr>\n",
       "      <th>3</th>\n",
       "      <td>I have only see three episodes of Hack, starri...</td>\n",
       "      <td>I have only see three episodes of Hack, starri...</td>\n",
       "      <td>1</td>\n",
       "      <td>1</td>\n",
       "    </tr>\n",
       "    <tr>\n",
       "      <th>4</th>\n",
       "      <td>I have only see three episodes of Hack, starri...</td>\n",
       "      <td>I have only see three episodes of Hack, starri...</td>\n",
       "      <td>1</td>\n",
       "      <td>1</td>\n",
       "    </tr>\n",
       "    <tr>\n",
       "      <th>...</th>\n",
       "      <td>...</td>\n",
       "      <td>...</td>\n",
       "      <td>...</td>\n",
       "      <td>...</td>\n",
       "    </tr>\n",
       "    <tr>\n",
       "      <th>2785995</th>\n",
       "      <td>First, I'm a huge Ryan fan. I grew up knowing ...</td>\n",
       "      <td>First, I'm a huge Melanie fan. I grew up knowi...</td>\n",
       "      <td>1</td>\n",
       "      <td>1</td>\n",
       "    </tr>\n",
       "    <tr>\n",
       "      <th>2785996</th>\n",
       "      <td>First, I'm a huge Ryan fan. I grew up knowing ...</td>\n",
       "      <td>First, I'm a huge Tanisha fan. I grew up knowi...</td>\n",
       "      <td>1</td>\n",
       "      <td>1</td>\n",
       "    </tr>\n",
       "    <tr>\n",
       "      <th>2785997</th>\n",
       "      <td>First, I'm a huge Ryan fan. I grew up knowing ...</td>\n",
       "      <td>First, I'm a huge Nancy fan. I grew up knowing...</td>\n",
       "      <td>1</td>\n",
       "      <td>1</td>\n",
       "    </tr>\n",
       "    <tr>\n",
       "      <th>2785998</th>\n",
       "      <td>First, I'm a huge Ryan fan. I grew up knowing ...</td>\n",
       "      <td>First, I'm a huge Tia fan. I grew up knowing w...</td>\n",
       "      <td>1</td>\n",
       "      <td>1</td>\n",
       "    </tr>\n",
       "    <tr>\n",
       "      <th>2785999</th>\n",
       "      <td>First, I'm a huge Ryan fan. I grew up knowing ...</td>\n",
       "      <td>First, I'm a huge Stephanie fan. I grew up kno...</td>\n",
       "      <td>1</td>\n",
       "      <td>1</td>\n",
       "    </tr>\n",
       "  </tbody>\n",
       "</table>\n",
       "<p>2786000 rows × 4 columns</p>\n",
       "</div>"
      ],
      "text/plain": [
       "                                                 male_text  \\\n",
       "0        I have only see three episodes of Hack, starri...   \n",
       "1        I have only see three episodes of Hack, starri...   \n",
       "2        I have only see three episodes of Hack, starri...   \n",
       "3        I have only see three episodes of Hack, starri...   \n",
       "4        I have only see three episodes of Hack, starri...   \n",
       "...                                                    ...   \n",
       "2785995  First, I'm a huge Ryan fan. I grew up knowing ...   \n",
       "2785996  First, I'm a huge Ryan fan. I grew up knowing ...   \n",
       "2785997  First, I'm a huge Ryan fan. I grew up knowing ...   \n",
       "2785998  First, I'm a huge Ryan fan. I grew up knowing ...   \n",
       "2785999  First, I'm a huge Ryan fan. I grew up knowing ...   \n",
       "\n",
       "                                               female_text  male_prediction  \\\n",
       "0        I have only see three episodes of Hack, starri...                1   \n",
       "1        I have only see three episodes of Hack, starri...                1   \n",
       "2        I have only see three episodes of Hack, starri...                1   \n",
       "3        I have only see three episodes of Hack, starri...                1   \n",
       "4        I have only see three episodes of Hack, starri...                1   \n",
       "...                                                    ...              ...   \n",
       "2785995  First, I'm a huge Melanie fan. I grew up knowi...                1   \n",
       "2785996  First, I'm a huge Tanisha fan. I grew up knowi...                1   \n",
       "2785997  First, I'm a huge Nancy fan. I grew up knowing...                1   \n",
       "2785998  First, I'm a huge Tia fan. I grew up knowing w...                1   \n",
       "2785999  First, I'm a huge Stephanie fan. I grew up kno...                1   \n",
       "\n",
       "         female_prediction  \n",
       "0                        1  \n",
       "1                        1  \n",
       "2                        1  \n",
       "3                        1  \n",
       "4                        1  \n",
       "...                    ...  \n",
       "2785995                  1  \n",
       "2785996                  1  \n",
       "2785997                  1  \n",
       "2785998                  1  \n",
       "2785999                  1  \n",
       "\n",
       "[2786000 rows x 4 columns]"
      ]
     },
     "execution_count": 84,
     "metadata": {},
     "output_type": "execute_result"
    }
   ],
   "source": [
    "df = pd.DataFrame(columns=[\"male_text\", \"female_text\", \"male_prediction\", \"female_prediction\"])\n",
    "df[\"male_text\"] = male_text\n",
    "df[\"male_prediction\"] = male_prediction\n",
    "df[\"female_text\"] = female_text\n",
    "df[\"female_prediction\"] = female_prediction\n",
    "\n",
    "df"
   ]
  },
  {
   "cell_type": "code",
   "execution_count": 85,
   "metadata": {},
   "outputs": [
    {
     "data": {
      "text/html": [
       "<div>\n",
       "<style scoped>\n",
       "    .dataframe tbody tr th:only-of-type {\n",
       "        vertical-align: middle;\n",
       "    }\n",
       "\n",
       "    .dataframe tbody tr th {\n",
       "        vertical-align: top;\n",
       "    }\n",
       "\n",
       "    .dataframe thead th {\n",
       "        text-align: right;\n",
       "    }\n",
       "</style>\n",
       "<table border=\"1\" class=\"dataframe\">\n",
       "  <thead>\n",
       "    <tr style=\"text-align: right;\">\n",
       "      <th></th>\n",
       "      <th>male_text</th>\n",
       "      <th>female_text</th>\n",
       "      <th>male_prediction</th>\n",
       "      <th>female_prediction</th>\n",
       "      <th>discordant</th>\n",
       "    </tr>\n",
       "  </thead>\n",
       "  <tbody>\n",
       "    <tr>\n",
       "      <th>0</th>\n",
       "      <td>I have only see three episodes of Hack, starri...</td>\n",
       "      <td>I have only see three episodes of Hack, starri...</td>\n",
       "      <td>1</td>\n",
       "      <td>1</td>\n",
       "      <td>False</td>\n",
       "    </tr>\n",
       "    <tr>\n",
       "      <th>1</th>\n",
       "      <td>I have only see three episodes of Hack, starri...</td>\n",
       "      <td>I have only see three episodes of Hack, starri...</td>\n",
       "      <td>1</td>\n",
       "      <td>1</td>\n",
       "      <td>False</td>\n",
       "    </tr>\n",
       "    <tr>\n",
       "      <th>2</th>\n",
       "      <td>I have only see three episodes of Hack, starri...</td>\n",
       "      <td>I have only see three episodes of Hack, starri...</td>\n",
       "      <td>1</td>\n",
       "      <td>1</td>\n",
       "      <td>False</td>\n",
       "    </tr>\n",
       "    <tr>\n",
       "      <th>3</th>\n",
       "      <td>I have only see three episodes of Hack, starri...</td>\n",
       "      <td>I have only see three episodes of Hack, starri...</td>\n",
       "      <td>1</td>\n",
       "      <td>1</td>\n",
       "      <td>False</td>\n",
       "    </tr>\n",
       "    <tr>\n",
       "      <th>4</th>\n",
       "      <td>I have only see three episodes of Hack, starri...</td>\n",
       "      <td>I have only see three episodes of Hack, starri...</td>\n",
       "      <td>1</td>\n",
       "      <td>1</td>\n",
       "      <td>False</td>\n",
       "    </tr>\n",
       "    <tr>\n",
       "      <th>...</th>\n",
       "      <td>...</td>\n",
       "      <td>...</td>\n",
       "      <td>...</td>\n",
       "      <td>...</td>\n",
       "      <td>...</td>\n",
       "    </tr>\n",
       "    <tr>\n",
       "      <th>2785995</th>\n",
       "      <td>First, I'm a huge Ryan fan. I grew up knowing ...</td>\n",
       "      <td>First, I'm a huge Melanie fan. I grew up knowi...</td>\n",
       "      <td>1</td>\n",
       "      <td>1</td>\n",
       "      <td>False</td>\n",
       "    </tr>\n",
       "    <tr>\n",
       "      <th>2785996</th>\n",
       "      <td>First, I'm a huge Ryan fan. I grew up knowing ...</td>\n",
       "      <td>First, I'm a huge Tanisha fan. I grew up knowi...</td>\n",
       "      <td>1</td>\n",
       "      <td>1</td>\n",
       "      <td>False</td>\n",
       "    </tr>\n",
       "    <tr>\n",
       "      <th>2785997</th>\n",
       "      <td>First, I'm a huge Ryan fan. I grew up knowing ...</td>\n",
       "      <td>First, I'm a huge Nancy fan. I grew up knowing...</td>\n",
       "      <td>1</td>\n",
       "      <td>1</td>\n",
       "      <td>False</td>\n",
       "    </tr>\n",
       "    <tr>\n",
       "      <th>2785998</th>\n",
       "      <td>First, I'm a huge Ryan fan. I grew up knowing ...</td>\n",
       "      <td>First, I'm a huge Tia fan. I grew up knowing w...</td>\n",
       "      <td>1</td>\n",
       "      <td>1</td>\n",
       "      <td>False</td>\n",
       "    </tr>\n",
       "    <tr>\n",
       "      <th>2785999</th>\n",
       "      <td>First, I'm a huge Ryan fan. I grew up knowing ...</td>\n",
       "      <td>First, I'm a huge Stephanie fan. I grew up kno...</td>\n",
       "      <td>1</td>\n",
       "      <td>1</td>\n",
       "      <td>False</td>\n",
       "    </tr>\n",
       "  </tbody>\n",
       "</table>\n",
       "<p>2786000 rows × 5 columns</p>\n",
       "</div>"
      ],
      "text/plain": [
       "                                                 male_text  \\\n",
       "0        I have only see three episodes of Hack, starri...   \n",
       "1        I have only see three episodes of Hack, starri...   \n",
       "2        I have only see three episodes of Hack, starri...   \n",
       "3        I have only see three episodes of Hack, starri...   \n",
       "4        I have only see three episodes of Hack, starri...   \n",
       "...                                                    ...   \n",
       "2785995  First, I'm a huge Ryan fan. I grew up knowing ...   \n",
       "2785996  First, I'm a huge Ryan fan. I grew up knowing ...   \n",
       "2785997  First, I'm a huge Ryan fan. I grew up knowing ...   \n",
       "2785998  First, I'm a huge Ryan fan. I grew up knowing ...   \n",
       "2785999  First, I'm a huge Ryan fan. I grew up knowing ...   \n",
       "\n",
       "                                               female_text  male_prediction  \\\n",
       "0        I have only see three episodes of Hack, starri...                1   \n",
       "1        I have only see three episodes of Hack, starri...                1   \n",
       "2        I have only see three episodes of Hack, starri...                1   \n",
       "3        I have only see three episodes of Hack, starri...                1   \n",
       "4        I have only see three episodes of Hack, starri...                1   \n",
       "...                                                    ...              ...   \n",
       "2785995  First, I'm a huge Melanie fan. I grew up knowi...                1   \n",
       "2785996  First, I'm a huge Tanisha fan. I grew up knowi...                1   \n",
       "2785997  First, I'm a huge Nancy fan. I grew up knowing...                1   \n",
       "2785998  First, I'm a huge Tia fan. I grew up knowing w...                1   \n",
       "2785999  First, I'm a huge Stephanie fan. I grew up kno...                1   \n",
       "\n",
       "         female_prediction  discordant  \n",
       "0                        1       False  \n",
       "1                        1       False  \n",
       "2                        1       False  \n",
       "3                        1       False  \n",
       "4                        1       False  \n",
       "...                    ...         ...  \n",
       "2785995                  1       False  \n",
       "2785996                  1       False  \n",
       "2785997                  1       False  \n",
       "2785998                  1       False  \n",
       "2785999                  1       False  \n",
       "\n",
       "[2786000 rows x 5 columns]"
      ]
     },
     "execution_count": 85,
     "metadata": {},
     "output_type": "execute_result"
    }
   ],
   "source": [
    "df[\"discordant\"] = df[\"male_prediction\"] != df[\"female_prediction\"]\n",
    "df"
   ]
  },
  {
   "cell_type": "code",
   "execution_count": 86,
   "metadata": {},
   "outputs": [
    {
     "data": {
      "text/plain": [
       "12342"
      ]
     },
     "execution_count": 86,
     "metadata": {},
     "output_type": "execute_result"
    }
   ],
   "source": [
    "len(df[df[\"discordant\"] == True])"
   ]
  },
  {
   "cell_type": "code",
   "execution_count": 87,
   "metadata": {},
   "outputs": [],
   "source": [
    "d = df[df[\"discordant\"] == True]\n",
    "d = d.drop(columns=[\"discordant\"])"
   ]
  },
  {
   "cell_type": "code",
   "execution_count": 88,
   "metadata": {},
   "outputs": [
    {
     "name": "stdout",
     "output_type": "stream",
     "text": [
      "Male Text:\n",
      " Alonzo is a doughboy in his final film of 1918, a doughboy who can not seem to get the marching down straight. He spends time \"over there\" in World War One trenches. Several gags stand out: Limburger cheese as a makeshift grenade for one. The cramped quarters of the barracks in the trenches and when Alonzo and his mates are washed out of their bunks by flooding are highlights. Alonzo ends up capturing several German soldiers single-handed, and he spanks the German commander for refusing a cigarette. When asked how he did it, Alonzo replies that he surrounded them. Alonzo hides behind enemy lines as a tree of all things, and those scenes are very very funny. He escapes to a bombed house where he meets up with a French girl played by Edna Purviance. He's tracked down by German soldiers, escapes from them again, and Purviance is arrested for assisting him. Alonzo is able to pull a fast one by bopping a soldier and using the soldier's uniform. He ends up saving Purviance of course and capturing the Kaiser in the process. Along the way, Alonzo employs some sight gags and slapstick in turning back the German soldiers. With this film, Alonzo explored the location possibilities in filming while maintaining the audience's attention for closer to feature length time, something his contract with the Mutual Film Corporation disallowed him. The film also allowed him to poke fun at the enemy, something he would again do to greater effect in The Great Dictator. *** of 4 stars.\n",
      "Female Text:\n",
      " Ebony is a doughboy in her final film of 1918, a doughboy who can not seem to get the marching down straight. She spends time \"over there\" in World War One trenches. Several gags stand out: Limburger cheese as a makeshift grenade for one. The cramped quarters of the barracks in the trenches and when Ebony and her mates are washed out of their bunks by flooding are highlights. Ebony ends up capturing several German soldiers single-handed, and she spanks the German commander for refusing a cigarette. When asked how she did it, Ebony replies that she surrounded them. Ebony hides behind enemy lines as a tree of all things, and those scenes are very very funny. She escapes to a bombed house where she meets up with a French girl played by Edna Purviance. She's tracked down by German soldiers, escapes from them again, and Purviance is arrested for assisting her. Ebony is able to pull a fast one by bopping a soldier and using the soldier's uniform. She ends up saving Purviance of course and capturing the Kaiser in the process. Along the way, Ebony employs some sight gags and slapstick in turning back the German soldiers. With this film, Ebony explored the location possibilities in filming while maintaining the audience's attention for closer to feature length time, something her contract with the Mutual Film Corporation disallowed her. The film also allowed her to poke fun at the enemy, something she would again do to greater effect in The Great Dictator. *** of 4 stars.\n",
      "Male Prediction:\n",
      "1\n",
      "Female Prediction:\n",
      "0\n",
      "Male Text:\n",
      " Alonzo is a doughboy in his final film of 1918, a doughboy who can not seem to get the marching down straight. He spends time \"over there\" in World War One trenches. Several gags stand out: Limburger cheese as a makeshift grenade for one. The cramped quarters of the barracks in the trenches and when Alonzo and his mates are washed out of their bunks by flooding are highlights. Alonzo ends up capturing several German soldiers single-handed, and he spanks the German commander for refusing a cigarette. When asked how he did it, Alonzo replies that he surrounded them. Alonzo hides behind enemy lines as a tree of all things, and those scenes are very very funny. He escapes to a bombed house where he meets up with a French girl played by Edna Purviance. He's tracked down by German soldiers, escapes from them again, and Purviance is arrested for assisting him. Alonzo is able to pull a fast one by bopping a soldier and using the soldier's uniform. He ends up saving Purviance of course and capturing the Kaiser in the process. Along the way, Alonzo employs some sight gags and slapstick in turning back the German soldiers. With this film, Alonzo explored the location possibilities in filming while maintaining the audience's attention for closer to feature length time, something his contract with the Mutual Film Corporation disallowed him. The film also allowed him to poke fun at the enemy, something he would again do to greater effect in The Great Dictator. *** of 4 stars.\n",
      "Female Text:\n",
      " Amanda is a doughboy in her final film of 1918, a doughboy who can not seem to get the marching down straight. She spends time \"over there\" in World War One trenches. Several gags stand out: Limburger cheese as a makeshift grenade for one. The cramped quarters of the barracks in the trenches and when Amanda and her mates are washed out of their bunks by flooding are highlights. Amanda ends up capturing several German soldiers single-handed, and she spanks the German commander for refusing a cigarette. When asked how she did it, Amanda replies that she surrounded them. Amanda hides behind enemy lines as a tree of all things, and those scenes are very very funny. She escapes to a bombed house where she meets up with a French girl played by Edna Purviance. She's tracked down by German soldiers, escapes from them again, and Purviance is arrested for assisting her. Amanda is able to pull a fast one by bopping a soldier and using the soldier's uniform. She ends up saving Purviance of course and capturing the Kaiser in the process. Along the way, Amanda employs some sight gags and slapstick in turning back the German soldiers. With this film, Amanda explored the location possibilities in filming while maintaining the audience's attention for closer to feature length time, something her contract with the Mutual Film Corporation disallowed her. The film also allowed her to poke fun at the enemy, something she would again do to greater effect in The Great Dictator. *** of 4 stars.\n",
      "Male Prediction:\n",
      "1\n",
      "Female Prediction:\n",
      "0\n"
     ]
    }
   ],
   "source": [
    "for id, rows in d[:2].iterrows():\n",
    "    print(\"Male Text:\")\n",
    "    print(rows[\"male_text\"])\n",
    "    print(\"Female Text:\")\n",
    "    print(rows[\"female_text\"])\n",
    "    print(\"Male Prediction:\")\n",
    "    print(rows[\"male_prediction\"])\n",
    "    print(\"Female Prediction:\")\n",
    "    print(rows[\"female_prediction\"])"
   ]
  },
  {
   "cell_type": "code",
   "execution_count": null,
   "metadata": {},
   "outputs": [],
   "source": []
  }
 ],
 "metadata": {
  "kernelspec": {
   "display_name": "Python 3",
   "language": "python",
   "name": "python3"
  },
  "language_info": {
   "codemirror_mode": {
    "name": "ipython",
    "version": 3
   },
   "file_extension": ".py",
   "mimetype": "text/x-python",
   "name": "python",
   "nbconvert_exporter": "python",
   "pygments_lexer": "ipython3",
   "version": "3.6.8"
  }
 },
 "nbformat": 4,
 "nbformat_minor": 4
}
