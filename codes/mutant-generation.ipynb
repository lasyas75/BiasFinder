{
 "cells": [
  {
   "cell_type": "markdown",
   "metadata": {},
   "source": [
    "# Mutant Generation\n",
    "\n",
    "There are 2 proposed approaches:\n",
    "* Mutant Generation using POS TAG and NER\n",
    "* Mutant Generation using Corefernce Resolution"
   ]
  },
  {
   "cell_type": "markdown",
   "metadata": {},
   "source": [
    "### Mutant Generation using POS TAG and NER"
   ]
  },
  {
   "cell_type": "code",
   "execution_count": 1,
   "metadata": {},
   "outputs": [],
   "source": [
    "import pandas as pd\n",
    "import numpy as np\n",
    "\n",
    "import nltk\n",
    "from nltk.tokenize import word_tokenize\n",
    "from nltk.tag import pos_tag\n",
    "\n",
    "import spacy\n",
    "# import en_core_web_sm\n",
    "# nlp = en_core_web_sm.load()\n",
    "# import xx_ent_wiki_sm\n",
    "# nlp = xx_ent_wiki_sm.load()\n",
    "import en_core_web_lg\n",
    "nlp = en_core_web_lg.load()"
   ]
  },
  {
   "cell_type": "code",
   "execution_count": 2,
   "metadata": {},
   "outputs": [],
   "source": [
    "# !python -m spacy download en_core_web_sm\n",
    "# !python -m spacy download xx_ent_wiki_sm\n",
    "# !python -m spacy download en_core_web_lg"
   ]
  },
  {
   "cell_type": "code",
   "execution_count": 3,
   "metadata": {},
   "outputs": [],
   "source": [
    "replacement = pd.read_csv(\"../data/asset/masculine-feminine-cleaned.txt\")\n",
    "\n",
    "m = {}\n",
    "mlist = []\n",
    "f = {}\n",
    "flist = []\n",
    "for index, row in replacement.iterrows():\n",
    "    m[row['feminine']] = row['masculine']\n",
    "    f[row['masculine']] = row['feminine']\n",
    "    mlist.append(row[\"masculine\"])\n",
    "    flist.append(row[\"feminine\"])"
   ]
  },
  {
   "cell_type": "code",
   "execution_count": 4,
   "metadata": {},
   "outputs": [],
   "source": [
    "mnames = [\"James\", \"John\", \"Robert\", \"Michael\", \"Whilliam\", \"Richard\"]\n",
    "fnames = [\"Jessica\", \"Patricia\", \"Jennifer\", \"Linda\", \"Elizabeth\"]\n",
    "\n",
    "# masculine pronoun\n",
    "mp = [\"He\", \"He's\", \"he\", \"he's\", \"him\", \"his\", \"himself\"]\n",
    "\n",
    "# feminine prononun\n",
    "fp = [\"She\", \"He's\", \"she\", \"he's\",\"her\", \"her\", \"herself\"]\n",
    "\n",
    "mc = {}\n",
    "fc = {}\n",
    "\n",
    "for _m, _f in zip(mp, fp) :\n",
    "    fc[_m] = _f\n",
    "    mc[_f] = _m"
   ]
  },
  {
   "cell_type": "code",
   "execution_count": 5,
   "metadata": {},
   "outputs": [],
   "source": [
    "text = \"gingerAZ. Bronson's character plans to live anonymously but when he finds his fiance was a victim of a protection racket one by one the criminals are hunted down in the style of Bronson's character\"\n",
    "# text = \"Good songs....but good album? debateable. She has some rockin songs on here. All her singles kickass and the last song on the album with M.I.A. (i friggin love her) is fire. but then, i start listening to the other songs, ready for a song on the album that is just as good as her singles and i can't find another. All of missy's singles are crazy, but then ui listen to the album, and its like a let down. any song that she sings in makes my stomach churn and some have just annoying beats and repititious phrases. If you really liked Missy's album 'This Is Not A Test', then get this album. but if you are lovin her singles and want some more, just download the singles, don't waste your money on the rest of this album\"\n",
    "# text = \"A landlord book that's not based on today's reality.. Although Shemin brings up many good ideas, I found that most of his ideas are way to cheezy for me (or Southern california.) He discusses buying places for $8,000-$20,000 (I wish) and believes that charging more for rent will ultimately get you higher quality tenents. I completely disagree, especially in down markets.A decent book, overall, but I'd suggest a Nolo book which has more real legal information as well as solid do's and don'ts for a landlord.\"\n",
    "# text = \"He discusses buying places for $8,000-$20,000 (I wish) and believes that charging more for rent will ultimately get you higher quality tenents.\"\n",
    "# text = \"\""
   ]
  },
  {
   "cell_type": "code",
   "execution_count": 6,
   "metadata": {},
   "outputs": [],
   "source": [
    "# nltk.download('averaged_perceptron_tagger')"
   ]
  },
  {
   "cell_type": "code",
   "execution_count": 7,
   "metadata": {},
   "outputs": [
    {
     "name": "stdout",
     "output_type": "stream",
     "text": [
      "{'he'}\n",
      "{'his'}\n"
     ]
    }
   ],
   "source": [
    "def pos_tagging(sent):\n",
    "    sent = nltk.word_tokenize(sent)\n",
    "    sent = nltk.pos_tag(sent)\n",
    "    return sent\n",
    "\n",
    "def get_pronoun(text) :\n",
    "    \n",
    "    pt = pos_tagging(text)\n",
    "    \n",
    "    # subject pronoun\n",
    "    spr = set()\n",
    "    \n",
    "    #non-subject prononun\n",
    "    pr = set()\n",
    "\n",
    "    for (word, tag) in pt :\n",
    "        if \"PRP\" == tag :\n",
    "            spr.add(word)\n",
    "        elif \"PRP$\" == tag :\n",
    "            pr.add(word)\n",
    "    \n",
    "    return spr, pr\n",
    "\n",
    "spr, npr = get_pronoun(text)\n",
    "print(spr)\n",
    "print(npr)"
   ]
  },
  {
   "cell_type": "code",
   "execution_count": 8,
   "metadata": {},
   "outputs": [
    {
     "data": {
      "text/plain": [
       "{'Bronson', 'gingerAZ'}"
      ]
     },
     "execution_count": 8,
     "metadata": {},
     "output_type": "execute_result"
    }
   ],
   "source": [
    "def get_person(text) :\n",
    "    doc = nlp(text)\n",
    "\n",
    "    person = set()\n",
    "\n",
    "    for ent in doc.ents:\n",
    "#         print(ent.text, ent.start_char, ent.end_char, ent.label_)\n",
    "        if (ent.label_ == \"PERSON\") :\n",
    "            person.add(ent.text)\n",
    "    \n",
    "    return person\n",
    "    \n",
    "person = get_person(text)\n",
    "person"
   ]
  },
  {
   "cell_type": "code",
   "execution_count": 9,
   "metadata": {},
   "outputs": [
    {
     "data": {
      "text/plain": [
       "'m'"
      ]
     },
     "execution_count": 9,
     "metadata": {},
     "output_type": "execute_result"
    }
   ],
   "source": [
    "MALE = \"m\"\n",
    "FEMALE = \"f\"\n",
    "UNIDENTIFIED = \"u\"\n",
    "\n",
    "def get_gender(text) :\n",
    "    spr, npr = get_pronoun(text)\n",
    "    male = False\n",
    "    female = False\n",
    "    if \"he\" in spr or \"He\" in spr :\n",
    "        male = True\n",
    "    if \"she\" in spr or \"She\" in spr :\n",
    "        female = True\n",
    "    \n",
    "    if male != female :\n",
    "        if male :\n",
    "            return MALE\n",
    "        else :\n",
    "            return FEMALE\n",
    "    else :\n",
    "        return UNIDENTIFIED\n",
    "\n",
    "get_gender(text)"
   ]
  },
  {
   "cell_type": "code",
   "execution_count": 10,
   "metadata": {},
   "outputs": [
    {
     "name": "stdout",
     "output_type": "stream",
     "text": [
      "gingerAZ. Bronson's character plans to live anonymously but when he finds his fiance was a victim of a protection racket one by one the criminals are hunted down in the style of Bronson's character\n",
      "gingerAZ. Bronson's character plans to live anonymously but when she finds her fiance was a victim of a protection racket one by one the criminals are hunted down in the style of Bronson's character\n"
     ]
    }
   ],
   "source": [
    "import tokenizer\n",
    "\n",
    "def replace_pronoun(text) :\n",
    "    \n",
    "    is_replaced = False\n",
    "\n",
    "    toklist = list(tokenizer.tokenize(text))\n",
    "\n",
    "    # print(toklist)\n",
    "    newtoklist = []\n",
    "    for token in toklist :\n",
    "        if token.txt in mp :\n",
    "            token = token._replace(txt = fc[token.txt])\n",
    "            newtoklist.append(token)\n",
    "            is_replaced = True\n",
    "        elif token.txt in fp :\n",
    "            token = token._replace(txt = mc[token.txt])\n",
    "            newtoklist.append(token)\n",
    "            is_replaced = True\n",
    "        else :\n",
    "            newtoklist.append(token)\n",
    "\n",
    "    # print(newtoklist)\n",
    "\n",
    "    return is_replaced, tokenizer.detokenize(newtoklist, normalize=True)\n",
    "\n",
    "print(text)\n",
    "_, _text = replace_pronoun(text)\n",
    "print(_text)"
   ]
  },
  {
   "cell_type": "code",
   "execution_count": 11,
   "metadata": {},
   "outputs": [
    {
     "name": "stdout",
     "output_type": "stream",
     "text": [
      "gingerAZ. Bronson's character plans to live anonymously but when he finds his fiance was a victim of a protection racket one by one the criminals are hunted down in the style of Bronson's character\n"
     ]
    },
    {
     "data": {
      "text/plain": [
       "[]"
      ]
     },
     "execution_count": 11,
     "metadata": {},
     "output_type": "execute_result"
    }
   ],
   "source": [
    "def is_set_empty(s) :\n",
    "    return not bool(s)\n",
    "\n",
    "def generate_mutant_from_text(text) :\n",
    "\n",
    "    mutant = []\n",
    "\n",
    "    is_replaced, text_with_replaced_pronoun = replace_pronoun(text)\n",
    "\n",
    "    if is_replaced :\n",
    "\n",
    "        person = get_person(text)\n",
    "\n",
    "        if is_set_empty(person) :\n",
    "            mutant.append(text_with_replaced_pronoun)\n",
    "    #         print(\"No name\")\n",
    "        elif len(person) == 1 :\n",
    "    #         print(\"Found 1 name\")\n",
    "\n",
    "            spr, npr = get_pronoun(text)\n",
    "            gender = get_gender(spr)\n",
    "\n",
    "            if gender == MALE :\n",
    "\n",
    "                # get the name\n",
    "                prevname = person.pop()\n",
    "\n",
    "                for name in fnames :    \n",
    "                    # replace the name\n",
    "                    temp_text = text_with_replaced_pronoun.replace(prevname, name)\n",
    "                    mutant.append(temp_text)\n",
    "\n",
    "            elif gender == FEMALE :\n",
    "\n",
    "                # get the name\n",
    "                prevname = person.pop()\n",
    "\n",
    "                for name in mnames :    \n",
    "                    # replace the name\n",
    "                    temp_text = text_with_replaced_pronoun.replace(prevname, name)\n",
    "                    mutant.append(temp_text)\n",
    "\n",
    "            else :\n",
    "                mutant.append(text_with_replaced_pronoun)\n",
    "\n",
    "    return mutant\n",
    "\n",
    "print(text)\n",
    "generate_mutant_from_text(text)"
   ]
  },
  {
   "cell_type": "markdown",
   "metadata": {},
   "source": [
    "### Mutant Generation using Coreference Resolution"
   ]
  },
  {
   "cell_type": "code",
   "execution_count": 12,
   "metadata": {},
   "outputs": [],
   "source": [
    "# !pip install neuralcoref\n",
    "import neuralcoref\n",
    "coref = neuralcoref.NeuralCoref(nlp.vocab)\n",
    "nlp.add_pipe(coref, name='neuralcoref')"
   ]
  },
  {
   "cell_type": "code",
   "execution_count": 13,
   "metadata": {},
   "outputs": [
    {
     "data": {
      "text/plain": [
       "'My wife is angry on me. She hits me using her hand'"
      ]
     },
     "execution_count": 13,
     "metadata": {},
     "output_type": "execute_result"
    }
   ],
   "source": [
    "# text = \"gingerAZ. Bronson's character plans to live anonymously but when he finds his fiance was a victim of a protection racket one by one the criminals are hunted down in the style of Bronson's character\"\n",
    "# text = 'My Sister has a dog. She loves him. My Brother has a car. He loves it'\n",
    "# text = 'My Brother has a dog. He loves the dog'\n",
    "# text = \"Anne is my wife. She is clever\"\n",
    "# text = \"Man Kills Wife, Flies To Kolkata To Kill Her Mother Before Shooting Self\"\n",
    "# text = \"Berg, closely buttoned up in his new uniform, sat beside his wife explaining to her that one always could and should be acquainted with people above one, because only then does one get satisfaction from acquaintances.\"\n",
    "text = \"My wife is angry on me. She hits me using her hand\"\n",
    "# text = \"Sean Bean returns as Napoleonic hero Richard Sharpe in Sharpe's Honour, the fifth movie in the series and as always Patrick Harper and the rest of Sharpes chosen men are all along for the ride, but this time Major Sharpe is in serious trouble. Under the influence of Sharpe's sworn enemy Major Ducos, a mysterious lady by the name of La Marquesa has accused Sharpe of rape. Her husband arrives at Sharpe's camp to challenge his wife's attacker to a dual. The dual is discovered and stopped by the authorities, and as a result Sharpe becomes the prime suspect when his opponent is murdered in the middle of the night. As no-one in the British Army other than Wellington and Major Nairn consider Sharpe anything but a rough commoner with little or no honour, he his given a shambolic trial and is sentenced to death by hanging, and Harper and the chosen men have no choice but to look on as their beloved commander walks slowly to the gallows. However, convinced of his innocence Wellington and Nairn hang another convicted prisoner in Sharpe's stead and release him and his chosen men to find the real killer and La Marquesa herself, to not only prove his innocence but to find out her reasons for framing him in the first place. Daragh O'Malley, Micheal Byrne and Hugh Fraser co-star with brilliant performances by Alice Krige as La Marquesa and Féodor Atkine as the villainous Major Ducos, in what is another exciting, swashbuckling instalment through Sharpe's eventful journey through the Napoleonic Wars.\"\n",
    "text"
   ]
  },
  {
   "cell_type": "code",
   "execution_count": 14,
   "metadata": {},
   "outputs": [
    {
     "data": {
      "text/plain": [
       "[My wife: [My wife, me, She, her]]"
      ]
     },
     "execution_count": 14,
     "metadata": {},
     "output_type": "execute_result"
    }
   ],
   "source": [
    "# You're done. You can now use NeuralCoref the same way you usually manipulate a SpaCy document and it's annotations.\n",
    "doc = nlp(text)\n",
    "\n",
    "doc._.has_coref\n",
    "doc._.coref_clusters"
   ]
  },
  {
   "cell_type": "markdown",
   "metadata": {},
   "source": [
    "#### Learning the Result from Coreference Library"
   ]
  },
  {
   "cell_type": "code",
   "execution_count": 15,
   "metadata": {},
   "outputs": [
    {
     "name": "stdout",
     "output_type": "stream",
     "text": [
      "My wife is angry on me. She hits me using her hand\n",
      "My wife is angry on My wife. My wife hits me using My wife hand\n",
      "[My wife: [My wife, me, She, her]]\n",
      "My wife\n",
      "[My wife, me, She, her]\n",
      "her\n",
      "11\n",
      "42\n",
      "12\n",
      "45\n",
      "My wife\n"
     ]
    }
   ],
   "source": [
    "print(text)\n",
    "print(doc._.coref_resolved)\n",
    "print(doc._.coref_clusters)\n",
    "print(doc._.coref_clusters[-1].main)\n",
    "print(doc._.coref_clusters[-1].mentions)\n",
    "print(doc._.coref_clusters[-1].mentions[-1])\n",
    "print(doc._.coref_clusters[-1].mentions[-1].start)\n",
    "print(doc._.coref_clusters[-1].mentions[-1].start_char)\n",
    "print(doc._.coref_clusters[-1].mentions[-1].end)\n",
    "print(doc._.coref_clusters[-1].mentions[-1].end_char)\n",
    "print(doc._.coref_clusters[-1].mentions[-1]._.coref_cluster.main)"
   ]
  },
  {
   "cell_type": "markdown",
   "metadata": {},
   "source": [
    "#### Create a Class for Better Implementation and Maintenance"
   ]
  },
  {
   "cell_type": "code",
   "execution_count": 16,
   "metadata": {},
   "outputs": [],
   "source": [
    "# contain a word and its location inside the sentence\n",
    "# The location is indicated by start char and end char\n",
    "class Token: \n",
    "    word = \"\"\n",
    "    start = -1\n",
    "    end = -1\n",
    "    \n",
    "    def __init__(self, word, start, end) :\n",
    "        self.word = word\n",
    "        self.start = start\n",
    "        self.end = end\n",
    "        \n",
    "    def __str__(self) :\n",
    "        return self.word\n",
    "    \n",
    "    def __repr__(self) :\n",
    "        return self.word\n",
    "        \n",
    "    def get_word(self):\n",
    "        return self.word\n",
    "    \n",
    "    def get_start(self):\n",
    "        return self.start\n",
    "    \n",
    "    def get_end(self):\n",
    "        return self.end\n",
    "\n",
    "\n",
    "# Reference is a class to save Reference data\n",
    "# e.g. La Marquesa herself : [La Marquesa herself, her]\n",
    "class Ref:\n",
    "    \n",
    "    name = \"\"\n",
    "    reference = []\n",
    "    reference_list = []\n",
    "    \n",
    "    def __init__(self, name, reference):\n",
    "        self.name = str(name)\n",
    "        self.reference = []\n",
    "        self.reference_list = []\n",
    "        for word in reference :\n",
    "            self.reference_list.append(word.text)\n",
    "            self.reference.append(Token(word.text, word.start_char, word.end_char))\n",
    "            \n",
    "    def __str__(self) :\n",
    "        return self.name + \": \" + str(self.reference_list)\n",
    "    \n",
    "    def __repr__(self) :\n",
    "        return self.name + \": \" + str(self.reference_list)\n",
    "    \n",
    "    def get_name(self):\n",
    "        return self.name\n",
    "    \n",
    "    def get_reference(self):\n",
    "        return self.reference\n",
    "    \n",
    "    # is having male subject\n",
    "    def is_having_male_subject(self):\n",
    "        if \"He\" in self.reference_list :\n",
    "            return True\n",
    "        elif \"he\" in self.reference_list :\n",
    "            return True\n",
    "        else :\n",
    "            return False\n",
    "\n",
    "    # is having female subject\n",
    "    def is_having_female_subject(self):\n",
    "        if \"She\" in self.reference_list :\n",
    "            return True\n",
    "        elif \"she\" in self.reference_list :\n",
    "            return True\n",
    "        else :\n",
    "            return False"
   ]
  },
  {
   "cell_type": "code",
   "execution_count": 17,
   "metadata": {},
   "outputs": [
    {
     "data": {
      "text/plain": [
       "My wife"
      ]
     },
     "execution_count": 17,
     "metadata": {},
     "output_type": "execute_result"
    }
   ],
   "source": [
    "doc._.coref_clusters[-1].mentions[0]"
   ]
  },
  {
   "cell_type": "code",
   "execution_count": 18,
   "metadata": {},
   "outputs": [
    {
     "data": {
      "text/plain": [
       "My wife: ['My wife', 'me', 'She', 'her']"
      ]
     },
     "execution_count": 18,
     "metadata": {},
     "output_type": "execute_result"
    }
   ],
   "source": [
    "i = 0\n",
    "r = Ref(doc._.coref_clusters[i].main, doc._.coref_clusters[i].mentions)\n",
    "r"
   ]
  },
  {
   "cell_type": "code",
   "execution_count": 19,
   "metadata": {},
   "outputs": [
    {
     "data": {
      "text/plain": [
       "False"
      ]
     },
     "execution_count": 19,
     "metadata": {},
     "output_type": "execute_result"
    }
   ],
   "source": [
    "r.is_having_male_subject()"
   ]
  },
  {
   "cell_type": "code",
   "execution_count": 20,
   "metadata": {},
   "outputs": [
    {
     "data": {
      "text/plain": [
       "True"
      ]
     },
     "execution_count": 20,
     "metadata": {},
     "output_type": "execute_result"
    }
   ],
   "source": [
    "r.is_having_female_subject()"
   ]
  },
  {
   "cell_type": "code",
   "execution_count": 21,
   "metadata": {},
   "outputs": [],
   "source": [
    "# names from EEC paper\n",
    "mnames = [\"Alonzo\", \"Adam\", \"Alphonse\", \"Alan\", \"Darnell\", \"Andrew\", \"Jamel\", \"Frank\", \"Jerome\", \"Harry\", \"Lamar\", \"Jack\", \"Leroy\", \"Josh\", \"Malik\", \"Justin\", \"Terrence\", \"Roger\", \"Torrance\", \"Ryan\"]\n",
    "fnames = [\"Ebony\", \"Amanda\", \"Jasmine\", \"Betsy\", \"Lakisha\", \"Courtney\", \"Latisha\", \"Ellen\", \"Latoya\", \"Heather\", \"Nichelle\", \"Katie\", \"Shaniqua\", \"Kristin\", \"Shereen\", \"Melanie\", \"Tanisha\", \"Nancy\", \"Tia\", \"Stephanie\"]\n",
    "\n",
    "# small name for debugging\n",
    "# mnames = [\"Alonzo\", \"Adam\"] \n",
    "# fnames = [\"Ebony\", \"Amanda\"]\n",
    "\n",
    "# masculine pronoun\n",
    "mp = [\"He\", \"he\", \"him\", \"his\", \"himself\"]\n",
    "\n",
    "# feminine prononun\n",
    "fp = [\"She\", \"she\",\"her\", \"her\", \"herself\"]\n",
    "\n",
    "# masculine contra -> flipper\n",
    "mc = {}\n",
    "fc = {}\n",
    "\n",
    "for _m, _f in zip(mp, fp) :\n",
    "    fc[_m] = _f\n",
    "    mc[_f] = _m"
   ]
  },
  {
   "cell_type": "code",
   "execution_count": 22,
   "metadata": {},
   "outputs": [],
   "source": [
    "class Coref:\n",
    "    original = \"\"\n",
    "    resolved = \"\"\n",
    "    refs = []\n",
    "    one_subject = False\n",
    "    is_male = False\n",
    "    subject_reference = None\n",
    "    chunk = []\n",
    "    \n",
    "    def __init__(self, text):\n",
    "        \n",
    "        self.original = str(text)\n",
    "        doc = nlp(text)\n",
    "        refs = doc._.coref_clusters\n",
    "        self.resolved = str(doc._.coref_resolved)\n",
    "        self.refs = []\n",
    "        for r in refs :\n",
    "            self.refs.append(Ref(r.main, r.mentions))\n",
    "            \n",
    "        self.one_subject, self.subject_reference, self.is_male = self.check_one_subject()\n",
    "        \n",
    "        if self.one_subject :\n",
    "            self.chunk = self.generate_chunk_from_coref()\n",
    "            \n",
    "    def get_original(self):\n",
    "        return self.original\n",
    "    \n",
    "    def get_resolved(self):\n",
    "        return self.resolved\n",
    "    \n",
    "    def get_refs(self):\n",
    "        return self.refs\n",
    "    \n",
    "    def is_one_subject(self) :\n",
    "        return self.one_subject\n",
    "    \n",
    "    def check_one_subject(self) :\n",
    "        s = 0\n",
    "        subject_reference = None\n",
    "        for r in self.refs :\n",
    "            if r.is_having_male_subject() :\n",
    "                s += 1\n",
    "                subject_reference = r\n",
    "                is_male = True\n",
    "            \n",
    "            if r.is_having_female_subject() :\n",
    "                s += 1\n",
    "                subject_reference = r\n",
    "                is_male = False\n",
    "                \n",
    "        if s == 1 :\n",
    "            return True, subject_reference, is_male\n",
    "        else :\n",
    "            return False, None, None\n",
    "    \n",
    "    def get_subject_reference(self):\n",
    "        return self.subject_reference\n",
    "    \n",
    "    def generate_chunk_from_coref(self) :\n",
    "        chunk = []\n",
    "        refs = self.subject_reference.get_reference()\n",
    "        lb = 0 # lower bound\n",
    "        ub = 0 # upper bound\n",
    "        for i in range(len(refs)) :\n",
    "            if i == 0 :\n",
    "                ub = refs[i].start\n",
    "                _chunk = text[lb:ub]\n",
    "                if _chunk == \"\" :\n",
    "                    chunk.append(\" \")\n",
    "                else :\n",
    "                    chunk.append(_chunk)\n",
    "            else :\n",
    "                lb = refs[i-1].end\n",
    "                ub = refs[i].start\n",
    "                _chunk = text[lb:ub]\n",
    "                if _chunk == \"\" :\n",
    "                    chunk.append(\" \")\n",
    "                else :\n",
    "                    chunk.append(_chunk)\n",
    "                \n",
    "            if i == len(refs)-1 :\n",
    "                lb = refs[-1].end\n",
    "                chunk.append(self.original[lb:])\n",
    "        \n",
    "        return chunk\n",
    "    \n",
    "    def generate_male_mutant_text(self):\n",
    "        refs = self.subject_reference.get_reference()\n",
    "        chunk = self.chunk\n",
    "        mutant = []\n",
    "        if self.is_male :\n",
    "            for name in mnames :\n",
    "                t = []\n",
    "                t.append(chunk[0])\n",
    "                i = 1\n",
    "                for r in refs :\n",
    "                    if r.word in mp :\n",
    "                        t.append(r.word)\n",
    "                    else :\n",
    "                        t.append(name)\n",
    "                        \n",
    "                    t.append(chunk[i])\n",
    "                    i += 1\n",
    "                mutant.append({\"gender\": \"male\", \"text\": \"\".join(t)})\n",
    "        else :\n",
    "            gender = \"female\"\n",
    "            for name in mnames :\n",
    "                t = []\n",
    "                t.append(chunk[0])\n",
    "                i = 1\n",
    "                for r in refs :\n",
    "                    if r.word in fp :\n",
    "                        t.append(mc[r.word])\n",
    "                    else :\n",
    "                        t.append(name)\n",
    "                        \n",
    "                    t.append(chunk[i])\n",
    "                    i += 1\n",
    "                mutant.append({\"gender\": \"male\", \"text\": \"\".join(t)})\n",
    "        return mutant\n",
    "            \n",
    "    def generate_female_mutant_text(self):\n",
    "        refs = self.subject_reference.get_reference()\n",
    "        chunk = self.chunk\n",
    "        mutant = []\n",
    "        if self.is_male :\n",
    "            for name in fnames :\n",
    "                t = []\n",
    "                t.append(chunk[0])\n",
    "                i = 1\n",
    "                for r in refs :\n",
    "                    if r.word in mp :\n",
    "                        t.append(fc[r.word])\n",
    "                    else :\n",
    "                        t.append(name)\n",
    "                        \n",
    "                    t.append(chunk[i])\n",
    "                    i += 1\n",
    "                mutant.append({\"gender\": \"female\", \"text\": \"\".join(t)})\n",
    "        else :\n",
    "            for name in fnames :\n",
    "                t = []\n",
    "                t.append(chunk[0])\n",
    "                i = 1\n",
    "                for r in refs :\n",
    "                    if r.word in fp :\n",
    "                        t.append(r.word)\n",
    "                    else :\n",
    "                        t.append(name)\n",
    "                        \n",
    "                    t.append(chunk[i])\n",
    "                    i += 1\n",
    "                mutant.append({\"gender\": \"female\", \"text\": \"\".join(t)})\n",
    "        return mutant\n",
    "    \n",
    "    \n",
    "    def generate_mutant_text(self):\n",
    "        chunk = self.chunk\n",
    "        mutant = self.generate_male_mutant_text()\n",
    "        fmutant = self.generate_female_mutant_text()\n",
    "        for _fmutant in fmutant :\n",
    "            mutant.append(_fmutant)\n",
    "        return mutant"
   ]
  },
  {
   "cell_type": "code",
   "execution_count": 23,
   "metadata": {},
   "outputs": [],
   "source": [
    "c = Coref(text)"
   ]
  },
  {
   "cell_type": "code",
   "execution_count": 24,
   "metadata": {},
   "outputs": [
    {
     "data": {
      "text/plain": [
       "'My wife is angry on My wife. My wife hits me using My wife hand'"
      ]
     },
     "execution_count": 24,
     "metadata": {},
     "output_type": "execute_result"
    }
   ],
   "source": [
    "c.get_resolved()"
   ]
  },
  {
   "cell_type": "code",
   "execution_count": 25,
   "metadata": {},
   "outputs": [
    {
     "name": "stdout",
     "output_type": "stream",
     "text": [
      "My wife\n",
      "[My wife, me, She, her]\n"
     ]
    }
   ],
   "source": [
    "for r in c.get_refs() :\n",
    "    print(r.get_name())\n",
    "    print(r.get_reference())"
   ]
  },
  {
   "cell_type": "code",
   "execution_count": 26,
   "metadata": {},
   "outputs": [
    {
     "data": {
      "text/plain": [
       "True"
      ]
     },
     "execution_count": 26,
     "metadata": {},
     "output_type": "execute_result"
    }
   ],
   "source": [
    "c.is_one_subject()"
   ]
  },
  {
   "cell_type": "code",
   "execution_count": 27,
   "metadata": {},
   "outputs": [
    {
     "name": "stdout",
     "output_type": "stream",
     "text": [
      "My wife: ['My wife', 'me', 'She', 'her']\n",
      "[{'gender': 'male', 'text': ' Alonzo is angry on Alonzo. He hits me using his hand'}, {'gender': 'male', 'text': ' Adam is angry on Adam. He hits me using his hand'}, {'gender': 'male', 'text': ' Alphonse is angry on Alphonse. He hits me using his hand'}, {'gender': 'male', 'text': ' Alan is angry on Alan. He hits me using his hand'}, {'gender': 'male', 'text': ' Darnell is angry on Darnell. He hits me using his hand'}, {'gender': 'male', 'text': ' Andrew is angry on Andrew. He hits me using his hand'}, {'gender': 'male', 'text': ' Jamel is angry on Jamel. He hits me using his hand'}, {'gender': 'male', 'text': ' Frank is angry on Frank. He hits me using his hand'}, {'gender': 'male', 'text': ' Jerome is angry on Jerome. He hits me using his hand'}, {'gender': 'male', 'text': ' Harry is angry on Harry. He hits me using his hand'}, {'gender': 'male', 'text': ' Lamar is angry on Lamar. He hits me using his hand'}, {'gender': 'male', 'text': ' Jack is angry on Jack. He hits me using his hand'}, {'gender': 'male', 'text': ' Leroy is angry on Leroy. He hits me using his hand'}, {'gender': 'male', 'text': ' Josh is angry on Josh. He hits me using his hand'}, {'gender': 'male', 'text': ' Malik is angry on Malik. He hits me using his hand'}, {'gender': 'male', 'text': ' Justin is angry on Justin. He hits me using his hand'}, {'gender': 'male', 'text': ' Terrence is angry on Terrence. He hits me using his hand'}, {'gender': 'male', 'text': ' Roger is angry on Roger. He hits me using his hand'}, {'gender': 'male', 'text': ' Torrance is angry on Torrance. He hits me using his hand'}, {'gender': 'male', 'text': ' Ryan is angry on Ryan. He hits me using his hand'}, {'gender': 'female', 'text': ' Ebony is angry on Ebony. She hits me using her hand'}, {'gender': 'female', 'text': ' Amanda is angry on Amanda. She hits me using her hand'}, {'gender': 'female', 'text': ' Jasmine is angry on Jasmine. She hits me using her hand'}, {'gender': 'female', 'text': ' Betsy is angry on Betsy. She hits me using her hand'}, {'gender': 'female', 'text': ' Lakisha is angry on Lakisha. She hits me using her hand'}, {'gender': 'female', 'text': ' Courtney is angry on Courtney. She hits me using her hand'}, {'gender': 'female', 'text': ' Latisha is angry on Latisha. She hits me using her hand'}, {'gender': 'female', 'text': ' Ellen is angry on Ellen. She hits me using her hand'}, {'gender': 'female', 'text': ' Latoya is angry on Latoya. She hits me using her hand'}, {'gender': 'female', 'text': ' Heather is angry on Heather. She hits me using her hand'}, {'gender': 'female', 'text': ' Nichelle is angry on Nichelle. She hits me using her hand'}, {'gender': 'female', 'text': ' Katie is angry on Katie. She hits me using her hand'}, {'gender': 'female', 'text': ' Shaniqua is angry on Shaniqua. She hits me using her hand'}, {'gender': 'female', 'text': ' Kristin is angry on Kristin. She hits me using her hand'}, {'gender': 'female', 'text': ' Shereen is angry on Shereen. She hits me using her hand'}, {'gender': 'female', 'text': ' Melanie is angry on Melanie. She hits me using her hand'}, {'gender': 'female', 'text': ' Tanisha is angry on Tanisha. She hits me using her hand'}, {'gender': 'female', 'text': ' Nancy is angry on Nancy. She hits me using her hand'}, {'gender': 'female', 'text': ' Tia is angry on Tia. She hits me using her hand'}, {'gender': 'female', 'text': ' Stephanie is angry on Stephanie. She hits me using her hand'}]\n"
     ]
    }
   ],
   "source": [
    "if c.is_one_subject() :\n",
    "    print(c.get_subject_reference())\n",
    "    print(c.generate_mutant_text())"
   ]
  },
  {
   "cell_type": "code",
   "execution_count": 28,
   "metadata": {},
   "outputs": [
    {
     "name": "stdout",
     "output_type": "stream",
     "text": [
      "My wife is angry on me. She hits me using her hand\n"
     ]
    }
   ],
   "source": [
    "print(text)"
   ]
  },
  {
   "cell_type": "markdown",
   "metadata": {},
   "source": [
    "## Find Template from IMDB Data using Coreference Resolution Approach"
   ]
  },
  {
   "cell_type": "code",
   "execution_count": 29,
   "metadata": {},
   "outputs": [
    {
     "data": {
      "text/html": [
       "<div>\n",
       "<style scoped>\n",
       "    .dataframe tbody tr th:only-of-type {\n",
       "        vertical-align: middle;\n",
       "    }\n",
       "\n",
       "    .dataframe tbody tr th {\n",
       "        vertical-align: top;\n",
       "    }\n",
       "\n",
       "    .dataframe thead th {\n",
       "        text-align: right;\n",
       "    }\n",
       "</style>\n",
       "<table border=\"1\" class=\"dataframe\">\n",
       "  <thead>\n",
       "    <tr style=\"text-align: right;\">\n",
       "      <th></th>\n",
       "      <th>label</th>\n",
       "      <th>text</th>\n",
       "    </tr>\n",
       "  </thead>\n",
       "  <tbody>\n",
       "    <tr>\n",
       "      <th>0</th>\n",
       "      <td>1</td>\n",
       "      <td>The Mascot is Ladislaw Starewicz's masterpiece...</td>\n",
       "    </tr>\n",
       "    <tr>\n",
       "      <th>1</th>\n",
       "      <td>1</td>\n",
       "      <td>this is one of the finest movies i have ever s...</td>\n",
       "    </tr>\n",
       "    <tr>\n",
       "      <th>2</th>\n",
       "      <td>1</td>\n",
       "      <td>I have only see three episodes of Hack, starri...</td>\n",
       "    </tr>\n",
       "    <tr>\n",
       "      <th>3</th>\n",
       "      <td>1</td>\n",
       "      <td>Deepa Mehta's \"Fire\" is groundbreaking, bold, ...</td>\n",
       "    </tr>\n",
       "    <tr>\n",
       "      <th>4</th>\n",
       "      <td>0</td>\n",
       "      <td>Anyone who sees this film will notice that the...</td>\n",
       "    </tr>\n",
       "  </tbody>\n",
       "</table>\n",
       "</div>"
      ],
      "text/plain": [
       "   label                                               text\n",
       "0      1  The Mascot is Ladislaw Starewicz's masterpiece...\n",
       "1      1  this is one of the finest movies i have ever s...\n",
       "2      1  I have only see three episodes of Hack, starri...\n",
       "3      1  Deepa Mehta's \"Fire\" is groundbreaking, bold, ...\n",
       "4      0  Anyone who sees this film will notice that the..."
      ]
     },
     "execution_count": 29,
     "metadata": {},
     "output_type": "execute_result"
    }
   ],
   "source": [
    "df = pd.read_csv(\"../data/imdb/test.csv\", sep=\"\\t\", header=None, names=[\"label\", \"text\"])\n",
    "df = df[:30]\n",
    "df.head()"
   ]
  },
  {
   "cell_type": "markdown",
   "metadata": {},
   "source": [
    "### Filter text from IMDB that is possible to be used as our template"
   ]
  },
  {
   "cell_type": "code",
   "execution_count": 30,
   "metadata": {},
   "outputs": [
    {
     "name": "stdout",
     "output_type": "stream",
     "text": [
      "Execution Time:  3.872675895690918\n"
     ]
    }
   ],
   "source": [
    "import time\n",
    "start = time.time()\n",
    "\n",
    "original_arr = []\n",
    "coref_arr = []\n",
    "label_arr = []\n",
    "\n",
    "for index, row in df.iterrows():\n",
    "    label = row['label']\n",
    "    text = row['text']\n",
    "    c = Coref(text)\n",
    "    if c.is_one_subject() :\n",
    "        original_arr.append(text)\n",
    "        coref_arr.append(c)\n",
    "        label_arr.append(label)\n",
    "\n",
    "\n",
    "end = time.time()\n",
    "print(\"Execution Time: \", end-start)"
   ]
  },
  {
   "cell_type": "code",
   "execution_count": 31,
   "metadata": {},
   "outputs": [],
   "source": [
    "# create dataframe\n",
    "# male template and female template\n",
    "mt = pd.DataFrame({\"original\" : original_arr, \"coref\" : coref_arr, \"label\" : label_arr})\n",
    "ft = pd.DataFrame({\"original\" : original_arr, \"coref\" : coref_arr, \"label\" : label_arr})"
   ]
  },
  {
   "cell_type": "code",
   "execution_count": 32,
   "metadata": {},
   "outputs": [],
   "source": [
    "def get_first_male_mutant_text(c) :\n",
    "    return c.generate_male_mutant_text()[0][\"text\"]\n",
    "def get_first_female_mutant_text(c) :\n",
    "    return c.generate_female_mutant_text()[0][\"text\"]"
   ]
  },
  {
   "cell_type": "code",
   "execution_count": 33,
   "metadata": {},
   "outputs": [],
   "source": [
    "mt[\"mutant\"] = mt[\"coref\"].apply(get_first_male_mutant_text)\n",
    "ft[\"mutant\"] = ft[\"coref\"].apply(get_first_female_mutant_text)"
   ]
  },
  {
   "cell_type": "code",
   "execution_count": 34,
   "metadata": {},
   "outputs": [
    {
     "data": {
      "text/html": [
       "<div>\n",
       "<style scoped>\n",
       "    .dataframe tbody tr th:only-of-type {\n",
       "        vertical-align: middle;\n",
       "    }\n",
       "\n",
       "    .dataframe tbody tr th {\n",
       "        vertical-align: top;\n",
       "    }\n",
       "\n",
       "    .dataframe thead th {\n",
       "        text-align: right;\n",
       "    }\n",
       "</style>\n",
       "<table border=\"1\" class=\"dataframe\">\n",
       "  <thead>\n",
       "    <tr style=\"text-align: right;\">\n",
       "      <th></th>\n",
       "      <th>original</th>\n",
       "      <th>coref</th>\n",
       "      <th>label</th>\n",
       "      <th>mutant</th>\n",
       "    </tr>\n",
       "  </thead>\n",
       "  <tbody>\n",
       "    <tr>\n",
       "      <th>0</th>\n",
       "      <td>I have only see three episodes of Hack, starri...</td>\n",
       "      <td>&lt;__main__.Coref object at 0x7f78f8d69358&gt;</td>\n",
       "      <td>1</td>\n",
       "      <td>I have only see three episodes of Hack, starri...</td>\n",
       "    </tr>\n",
       "    <tr>\n",
       "      <th>1</th>\n",
       "      <td>In the groovy mid 70's a scruffy bunch of bras...</td>\n",
       "      <td>&lt;__main__.Coref object at 0x7f79b4284860&gt;</td>\n",
       "      <td>1</td>\n",
       "      <td>In the groovy mid 70's a scruffy bunch of bras...</td>\n",
       "    </tr>\n",
       "    <tr>\n",
       "      <th>2</th>\n",
       "      <td>This must have been one of Chaplin's most ambi...</td>\n",
       "      <td>&lt;__main__.Coref object at 0x7f78f8d62b00&gt;</td>\n",
       "      <td>1</td>\n",
       "      <td>This must have been one of Alonzo's most ambit...</td>\n",
       "    </tr>\n",
       "  </tbody>\n",
       "</table>\n",
       "</div>"
      ],
      "text/plain": [
       "                                            original  \\\n",
       "0  I have only see three episodes of Hack, starri...   \n",
       "1  In the groovy mid 70's a scruffy bunch of bras...   \n",
       "2  This must have been one of Chaplin's most ambi...   \n",
       "\n",
       "                                       coref  label  \\\n",
       "0  <__main__.Coref object at 0x7f78f8d69358>      1   \n",
       "1  <__main__.Coref object at 0x7f79b4284860>      1   \n",
       "2  <__main__.Coref object at 0x7f78f8d62b00>      1   \n",
       "\n",
       "                                              mutant  \n",
       "0  I have only see three episodes of Hack, starri...  \n",
       "1  In the groovy mid 70's a scruffy bunch of bras...  \n",
       "2  This must have been one of Alonzo's most ambit...  "
      ]
     },
     "execution_count": 34,
     "metadata": {},
     "output_type": "execute_result"
    }
   ],
   "source": [
    "mt"
   ]
  },
  {
   "cell_type": "markdown",
   "metadata": {},
   "source": [
    "### Grammar Check from Generated Mutant Text"
   ]
  },
  {
   "cell_type": "code",
   "execution_count": 35,
   "metadata": {},
   "outputs": [
    {
     "data": {
      "text/plain": [
       "0"
      ]
     },
     "execution_count": 35,
     "metadata": {},
     "output_type": "execute_result"
    }
   ],
   "source": [
    "# importing the requests library \n",
    "import requests\n",
    "import urllib\n",
    "import json\n",
    "\n",
    "def get_number_of_grammar_error_from_language_tool(text):\n",
    "\n",
    "    # defining the api-endpoint\n",
    "    # API is built from https://github.com/languagetool-org/languagetool\n",
    "    # using docker wrapped by https://github.com/silvio/docker-languagetool\n",
    "    API_ENDPOINT = \"http://10.4.4.55:8010//api/v2/check\"\n",
    "\n",
    "    # data to be sent to api \n",
    "    data = {'text': urllib.parse.quote_plus(text), \n",
    "            'language': 'en-US', \n",
    "            'enabledOnly':'false'} \n",
    "\n",
    "    # sending post request and saving response as response object \n",
    "    response = requests.post(url = API_ENDPOINT, data = data) \n",
    "\n",
    "    # extracting response text  \n",
    "    r = json.loads(response.text)\n",
    "    \n",
    "    grammar_error = r[\"matches\"]\n",
    "\n",
    "    return len(grammar_error)\n",
    "\n",
    "\n",
    "text = \"I eat chicken\"\n",
    "get_number_of_grammar_error_from_language_tool(text)"
   ]
  },
  {
   "cell_type": "code",
   "execution_count": 36,
   "metadata": {},
   "outputs": [
    {
     "data": {
      "text/html": [
       "<div>\n",
       "<style scoped>\n",
       "    .dataframe tbody tr th:only-of-type {\n",
       "        vertical-align: middle;\n",
       "    }\n",
       "\n",
       "    .dataframe tbody tr th {\n",
       "        vertical-align: top;\n",
       "    }\n",
       "\n",
       "    .dataframe thead th {\n",
       "        text-align: right;\n",
       "    }\n",
       "</style>\n",
       "<table border=\"1\" class=\"dataframe\">\n",
       "  <thead>\n",
       "    <tr style=\"text-align: right;\">\n",
       "      <th></th>\n",
       "      <th>original</th>\n",
       "      <th>coref</th>\n",
       "      <th>label</th>\n",
       "      <th>mutant</th>\n",
       "    </tr>\n",
       "  </thead>\n",
       "  <tbody>\n",
       "    <tr>\n",
       "      <th>0</th>\n",
       "      <td>I have only see three episodes of Hack, starri...</td>\n",
       "      <td>&lt;__main__.Coref object at 0x7f78f8d69358&gt;</td>\n",
       "      <td>1</td>\n",
       "      <td>I have only see three episodes of Hack, starri...</td>\n",
       "    </tr>\n",
       "    <tr>\n",
       "      <th>1</th>\n",
       "      <td>In the groovy mid 70's a scruffy bunch of bras...</td>\n",
       "      <td>&lt;__main__.Coref object at 0x7f79b4284860&gt;</td>\n",
       "      <td>1</td>\n",
       "      <td>In the groovy mid 70's a scruffy bunch of bras...</td>\n",
       "    </tr>\n",
       "    <tr>\n",
       "      <th>2</th>\n",
       "      <td>This must have been one of Chaplin's most ambi...</td>\n",
       "      <td>&lt;__main__.Coref object at 0x7f78f8d62b00&gt;</td>\n",
       "      <td>1</td>\n",
       "      <td>This must have been one of Alonzo's most ambit...</td>\n",
       "    </tr>\n",
       "  </tbody>\n",
       "</table>\n",
       "</div>"
      ],
      "text/plain": [
       "                                            original  \\\n",
       "0  I have only see three episodes of Hack, starri...   \n",
       "1  In the groovy mid 70's a scruffy bunch of bras...   \n",
       "2  This must have been one of Chaplin's most ambi...   \n",
       "\n",
       "                                       coref  label  \\\n",
       "0  <__main__.Coref object at 0x7f78f8d69358>      1   \n",
       "1  <__main__.Coref object at 0x7f79b4284860>      1   \n",
       "2  <__main__.Coref object at 0x7f78f8d62b00>      1   \n",
       "\n",
       "                                              mutant  \n",
       "0  I have only see three episodes of Hack, starri...  \n",
       "1  In the groovy mid 70's a scruffy bunch of bras...  \n",
       "2  This must have been one of Alonzo's most ambit...  "
      ]
     },
     "execution_count": 36,
     "metadata": {},
     "output_type": "execute_result"
    }
   ],
   "source": [
    "mt"
   ]
  },
  {
   "cell_type": "code",
   "execution_count": 37,
   "metadata": {},
   "outputs": [
    {
     "data": {
      "text/html": [
       "<div>\n",
       "<style scoped>\n",
       "    .dataframe tbody tr th:only-of-type {\n",
       "        vertical-align: middle;\n",
       "    }\n",
       "\n",
       "    .dataframe tbody tr th {\n",
       "        vertical-align: top;\n",
       "    }\n",
       "\n",
       "    .dataframe thead th {\n",
       "        text-align: right;\n",
       "    }\n",
       "</style>\n",
       "<table border=\"1\" class=\"dataframe\">\n",
       "  <thead>\n",
       "    <tr style=\"text-align: right;\">\n",
       "      <th></th>\n",
       "      <th>original</th>\n",
       "      <th>coref</th>\n",
       "      <th>label</th>\n",
       "      <th>mutant</th>\n",
       "    </tr>\n",
       "  </thead>\n",
       "  <tbody>\n",
       "    <tr>\n",
       "      <th>0</th>\n",
       "      <td>I have only see three episodes of Hack, starri...</td>\n",
       "      <td>&lt;__main__.Coref object at 0x7f78f8d69358&gt;</td>\n",
       "      <td>1</td>\n",
       "      <td>I have only see three episodes of Hack, starri...</td>\n",
       "    </tr>\n",
       "    <tr>\n",
       "      <th>1</th>\n",
       "      <td>In the groovy mid 70's a scruffy bunch of bras...</td>\n",
       "      <td>&lt;__main__.Coref object at 0x7f79b4284860&gt;</td>\n",
       "      <td>1</td>\n",
       "      <td>In the groovy mid 70's a scruffy bunch of bras...</td>\n",
       "    </tr>\n",
       "    <tr>\n",
       "      <th>2</th>\n",
       "      <td>This must have been one of Chaplin's most ambi...</td>\n",
       "      <td>&lt;__main__.Coref object at 0x7f78f8d62b00&gt;</td>\n",
       "      <td>1</td>\n",
       "      <td>This must have been one of Ebony's most ambiti...</td>\n",
       "    </tr>\n",
       "  </tbody>\n",
       "</table>\n",
       "</div>"
      ],
      "text/plain": [
       "                                            original  \\\n",
       "0  I have only see three episodes of Hack, starri...   \n",
       "1  In the groovy mid 70's a scruffy bunch of bras...   \n",
       "2  This must have been one of Chaplin's most ambi...   \n",
       "\n",
       "                                       coref  label  \\\n",
       "0  <__main__.Coref object at 0x7f78f8d69358>      1   \n",
       "1  <__main__.Coref object at 0x7f79b4284860>      1   \n",
       "2  <__main__.Coref object at 0x7f78f8d62b00>      1   \n",
       "\n",
       "                                              mutant  \n",
       "0  I have only see three episodes of Hack, starri...  \n",
       "1  In the groovy mid 70's a scruffy bunch of bras...  \n",
       "2  This must have been one of Ebony's most ambiti...  "
      ]
     },
     "execution_count": 37,
     "metadata": {},
     "output_type": "execute_result"
    }
   ],
   "source": [
    "ft"
   ]
  },
  {
   "cell_type": "code",
   "execution_count": 38,
   "metadata": {},
   "outputs": [
    {
     "name": "stdout",
     "output_type": "stream",
     "text": [
      "Execution Time:  3.339677333831787\n"
     ]
    }
   ],
   "source": [
    "start = time.time()\n",
    "\n",
    "merr = []\n",
    "ferr = []\n",
    "\n",
    "i = 0\n",
    "for (male_mutant, female_mutant, original) in zip(mt[\"mutant\"].values, ft[\"mutant\"].values, mt[\"original\"].values) :\n",
    "    i += 1\n",
    "    err_m = get_number_of_grammar_error_from_language_tool(male_mutant)\n",
    "    err_f = get_number_of_grammar_error_from_language_tool(female_mutant)\n",
    "    err_o = get_number_of_grammar_error_from_language_tool(original)\n",
    "    merr.append(err_m - err_o)\n",
    "    ferr.append(err_f - err_o)\n",
    "    \n",
    "    # using for log only\n",
    "    if i % 500 == 0 :\n",
    "        print(i)\n",
    "        \n",
    "end = time.time()\n",
    "print(\"Execution Time: \", end-start)"
   ]
  },
  {
   "cell_type": "code",
   "execution_count": 39,
   "metadata": {},
   "outputs": [
    {
     "data": {
      "text/plain": [
       "3"
      ]
     },
     "execution_count": 39,
     "metadata": {},
     "output_type": "execute_result"
    }
   ],
   "source": [
    "len(merr)"
   ]
  },
  {
   "cell_type": "code",
   "execution_count": 40,
   "metadata": {},
   "outputs": [],
   "source": [
    "mt[\"err\"] = merr\n",
    "ft[\"err\"] = ferr"
   ]
  },
  {
   "cell_type": "code",
   "execution_count": 41,
   "metadata": {},
   "outputs": [
    {
     "data": {
      "text/html": [
       "<div>\n",
       "<style scoped>\n",
       "    .dataframe tbody tr th:only-of-type {\n",
       "        vertical-align: middle;\n",
       "    }\n",
       "\n",
       "    .dataframe tbody tr th {\n",
       "        vertical-align: top;\n",
       "    }\n",
       "\n",
       "    .dataframe thead th {\n",
       "        text-align: right;\n",
       "    }\n",
       "</style>\n",
       "<table border=\"1\" class=\"dataframe\">\n",
       "  <thead>\n",
       "    <tr style=\"text-align: right;\">\n",
       "      <th></th>\n",
       "      <th>original</th>\n",
       "      <th>coref</th>\n",
       "      <th>label</th>\n",
       "      <th>mutant</th>\n",
       "      <th>err</th>\n",
       "    </tr>\n",
       "  </thead>\n",
       "  <tbody>\n",
       "    <tr>\n",
       "      <th>0</th>\n",
       "      <td>I have only see three episodes of Hack, starri...</td>\n",
       "      <td>&lt;__main__.Coref object at 0x7f78f8d69358&gt;</td>\n",
       "      <td>1</td>\n",
       "      <td>I have only see three episodes of Hack, starri...</td>\n",
       "      <td>0</td>\n",
       "    </tr>\n",
       "    <tr>\n",
       "      <th>1</th>\n",
       "      <td>In the groovy mid 70's a scruffy bunch of bras...</td>\n",
       "      <td>&lt;__main__.Coref object at 0x7f79b4284860&gt;</td>\n",
       "      <td>1</td>\n",
       "      <td>In the groovy mid 70's a scruffy bunch of bras...</td>\n",
       "      <td>0</td>\n",
       "    </tr>\n",
       "    <tr>\n",
       "      <th>2</th>\n",
       "      <td>This must have been one of Chaplin's most ambi...</td>\n",
       "      <td>&lt;__main__.Coref object at 0x7f78f8d62b00&gt;</td>\n",
       "      <td>1</td>\n",
       "      <td>This must have been one of Alonzo's most ambit...</td>\n",
       "      <td>0</td>\n",
       "    </tr>\n",
       "  </tbody>\n",
       "</table>\n",
       "</div>"
      ],
      "text/plain": [
       "                                            original  \\\n",
       "0  I have only see three episodes of Hack, starri...   \n",
       "1  In the groovy mid 70's a scruffy bunch of bras...   \n",
       "2  This must have been one of Chaplin's most ambi...   \n",
       "\n",
       "                                       coref  label  \\\n",
       "0  <__main__.Coref object at 0x7f78f8d69358>      1   \n",
       "1  <__main__.Coref object at 0x7f79b4284860>      1   \n",
       "2  <__main__.Coref object at 0x7f78f8d62b00>      1   \n",
       "\n",
       "                                              mutant  err  \n",
       "0  I have only see three episodes of Hack, starri...    0  \n",
       "1  In the groovy mid 70's a scruffy bunch of bras...    0  \n",
       "2  This must have been one of Alonzo's most ambit...    0  "
      ]
     },
     "execution_count": 41,
     "metadata": {},
     "output_type": "execute_result"
    }
   ],
   "source": [
    "mt"
   ]
  },
  {
   "cell_type": "markdown",
   "metadata": {},
   "source": [
    "### The Error calculation"
   ]
  },
  {
   "cell_type": "code",
   "execution_count": 42,
   "metadata": {},
   "outputs": [
    {
     "name": "stdout",
     "output_type": "stream",
     "text": [
      "Number of mutant grammar error from male:  0\n",
      "Number of mutant grammar error from female 0\n"
     ]
    }
   ],
   "source": [
    "print(\"Number of mutant grammar error from male: \", len(mt[mt[\"err\"] > 0]))\n",
    "print(\"Number of mutant grammar error from female\", len(ft[ft[\"err\"] > 0]))"
   ]
  },
  {
   "cell_type": "code",
   "execution_count": 43,
   "metadata": {},
   "outputs": [
    {
     "data": {
      "text/html": [
       "<div>\n",
       "<style scoped>\n",
       "    .dataframe tbody tr th:only-of-type {\n",
       "        vertical-align: middle;\n",
       "    }\n",
       "\n",
       "    .dataframe tbody tr th {\n",
       "        vertical-align: top;\n",
       "    }\n",
       "\n",
       "    .dataframe thead th {\n",
       "        text-align: right;\n",
       "    }\n",
       "</style>\n",
       "<table border=\"1\" class=\"dataframe\">\n",
       "  <thead>\n",
       "    <tr style=\"text-align: right;\">\n",
       "      <th></th>\n",
       "      <th>original</th>\n",
       "      <th>coref</th>\n",
       "      <th>label</th>\n",
       "      <th>mutant</th>\n",
       "      <th>err</th>\n",
       "    </tr>\n",
       "  </thead>\n",
       "  <tbody>\n",
       "  </tbody>\n",
       "</table>\n",
       "</div>"
      ],
      "text/plain": [
       "Empty DataFrame\n",
       "Columns: [original, coref, label, mutant, err]\n",
       "Index: []"
      ]
     },
     "execution_count": 43,
     "metadata": {},
     "output_type": "execute_result"
    }
   ],
   "source": [
    "mt[mt[\"err\"] > 0]"
   ]
  },
  {
   "cell_type": "code",
   "execution_count": 44,
   "metadata": {},
   "outputs": [
    {
     "data": {
      "text/html": [
       "<div>\n",
       "<style scoped>\n",
       "    .dataframe tbody tr th:only-of-type {\n",
       "        vertical-align: middle;\n",
       "    }\n",
       "\n",
       "    .dataframe tbody tr th {\n",
       "        vertical-align: top;\n",
       "    }\n",
       "\n",
       "    .dataframe thead th {\n",
       "        text-align: right;\n",
       "    }\n",
       "</style>\n",
       "<table border=\"1\" class=\"dataframe\">\n",
       "  <thead>\n",
       "    <tr style=\"text-align: right;\">\n",
       "      <th></th>\n",
       "      <th>original</th>\n",
       "      <th>coref</th>\n",
       "      <th>label</th>\n",
       "      <th>mutant</th>\n",
       "      <th>err</th>\n",
       "    </tr>\n",
       "  </thead>\n",
       "  <tbody>\n",
       "  </tbody>\n",
       "</table>\n",
       "</div>"
      ],
      "text/plain": [
       "Empty DataFrame\n",
       "Columns: [original, coref, label, mutant, err]\n",
       "Index: []"
      ]
     },
     "execution_count": 44,
     "metadata": {},
     "output_type": "execute_result"
    }
   ],
   "source": [
    "ft[ft[\"err\"] > 0]"
   ]
  },
  {
   "cell_type": "markdown",
   "metadata": {},
   "source": [
    "#### Analysing the Error"
   ]
  },
  {
   "cell_type": "code",
   "execution_count": 45,
   "metadata": {},
   "outputs": [],
   "source": [
    "male_error = mt[mt[\"err\"] > 0]\n",
    "idx = 15\n",
    "if len(male_error) > 0 :\n",
    "    text = male_error[idx-1:idx].values[0][\"original\"]\n",
    "    print(text)\n",
    "    text = male_error[idx-1:idx].values[0][\"mutant\"]\n",
    "    # text = \"Sean Bean returns as Napoleonic hero Richard Sharpe in Alonzo's Honour, the fifth movie in the series and as always Patrick Harper and the rest of Sharpes chosen men are all along for the ride, but this time Alonzo Alonzo is in serious trouble. Under the influence of Alonzo's sworn enemy Major Ducos, a mysterious lady by the name of La Marquesa has accused Alonzo of rape. Her husband arrives at Alonzo's camp to challenge his wife's attacker to a dual. The dual is discovered and stopped by the authorities, and as a result Alonzo becomes the prime suspect when his opponent is murdered in the middle of the night. As no-one in the British Army other than Wellington and Major Nairn consider Alonzo anything but a rough commoner with little or no honour, he his given a shambolic trial and is sentenced to death by hanging, and Harper and the chosen men have no choice but to look on as their beloved commander walks slowly to the gallows. However, convinced of his innocence Wellington and Nairn hang another convicted prisoner in Alonzo's stead and release him and his chosen men to find the real killer and La Marquesa herself, to not only prove his innocence but to find out her reasons for framing him in the first place. Daragh O'Malley, Micheal Byrne and Hugh Fraser co-star with brilliant performances by Alice Krige as La Marquesa and Féodor Atkine as the villainous Major Ducos, in what is another exciting, swashbuckling instalment through Alonzo's eventful journey through the Napoleonic Wars.\"\n",
    "    print(text)"
   ]
  },
  {
   "cell_type": "code",
   "execution_count": 46,
   "metadata": {},
   "outputs": [],
   "source": [
    "if len(male_error) > 0 :\n",
    "    text = male_error[idx-1:idx].values[0][\"original\"]\n",
    "    get_number_of_grammar_error_from_language_tool(text)\n",
    "    c = Coref(text)\n",
    "    c.get_resolved()\n",
    "    for r in c.get_refs() :\n",
    "        print(r.get_name())\n",
    "        print(r.get_reference())"
   ]
  },
  {
   "cell_type": "code",
   "execution_count": 47,
   "metadata": {},
   "outputs": [],
   "source": [
    "if len(male_error) > 0 :\n",
    "    text = male_error[idx-1:idx].values[0][\"mutant\"]\n",
    "    get_number_of_grammar_error_from_language_tool(text)\n",
    "    c = Coref(text)\n",
    "    c.get_resolved()\n",
    "    for r in c.get_refs() :\n",
    "        print(r.get_name())\n",
    "        print(r.get_reference())"
   ]
  },
  {
   "cell_type": "markdown",
   "metadata": {},
   "source": [
    "### Generate Mutant After Grammar Check"
   ]
  },
  {
   "cell_type": "code",
   "execution_count": 48,
   "metadata": {},
   "outputs": [],
   "source": [
    "non_bug_mt = mt[mt[\"err\"] <= 0]\n",
    "non_bug_ft = ft[ft[\"err\"] <= 0]"
   ]
  },
  {
   "cell_type": "code",
   "execution_count": 49,
   "metadata": {},
   "outputs": [],
   "source": [
    "mutant_arr = []\n",
    "original_arr = []\n",
    "gender_arr = []\n",
    "label_arr = []\n",
    "\n",
    "for index, row in non_bug_mt.iterrows():\n",
    "    label = row['label']\n",
    "    original = row['original']\n",
    "    c = row['coref']\n",
    "    if c.is_one_subject() :\n",
    "        gm = c.generate_male_mutant_text()\n",
    "        for m in gm :\n",
    "            original_arr.append(original)\n",
    "            mutant_arr.append(m[\"text\"])\n",
    "            gender_arr.append(\"male\")\n",
    "            label_arr.append(label)\n",
    "\n",
    "dfm = pd.DataFrame(data={\"original\": original_arr, \"mutant\": mutant_arr, \"gender\": gender_arr, \"label\": label_arr})"
   ]
  },
  {
   "cell_type": "code",
   "execution_count": 50,
   "metadata": {},
   "outputs": [],
   "source": [
    "mutant_arr = []\n",
    "original_arr = []\n",
    "gender_arr = []\n",
    "label_arr = []\n",
    "\n",
    "for index, row in non_bug_ft.iterrows():\n",
    "    label = row['label']\n",
    "    original = row['original']\n",
    "    c = row['coref']\n",
    "    if c.is_one_subject() :\n",
    "        gm = c.generate_female_mutant_text()\n",
    "        for m in gm :\n",
    "            original_arr.append(original)\n",
    "            mutant_arr.append(m[\"text\"])\n",
    "            gender_arr.append(\"female\")\n",
    "            label_arr.append(label)\n",
    "\n",
    "dff = pd.DataFrame(data={\"original\": original_arr, \"mutant\": mutant_arr, \"gender\": gender_arr, \"label\": label_arr})"
   ]
  },
  {
   "cell_type": "code",
   "execution_count": 51,
   "metadata": {},
   "outputs": [
    {
     "data": {
      "text/plain": [
       "array([\"I have only see three episodes of Hack, starring David Morse, and it looks as though I've missed 37 episodes! well thats if ITV 3 are showing them in chronological order. I've just watched 'Misty Blue' (episode 38). I have really enjoyed the 3 episodes, but then I'm a David Morse fan, (esp St. Elsewhere). For any one reading this, Hack is excellent. Pity its being aired on ITV 3. The cast is strong, though I cant get used to the idea of Alonzo playing a bent cop, still we all know he's the good guy wrongly accused. I see Gary Cole has guest starred, what ever happened to 'Midnight Caller'? Just wonder if Hack is available on DVD (yet). Lovin it. Cheers.\",\n",
       "       \"I have only see three episodes of Hack, starring David Morse, and it looks as though I've missed 37 episodes! well thats if ITV 3 are showing them in chronological order. I've just watched 'Misty Blue' (episode 38). I have really enjoyed the 3 episodes, but then I'm a David Morse fan, (esp St. Elsewhere). For any one reading this, Hack is excellent. Pity its being aired on ITV 3. The cast is strong, though I cant get used to the idea of Adam playing a bent cop, still we all know he's the good guy wrongly accused. I see Gary Cole has guest starred, what ever happened to 'Midnight Caller'? Just wonder if Hack is available on DVD (yet). Lovin it. Cheers.\",\n",
       "       \"I have only see three episodes of Hack, starring David Morse, and it looks as though I've missed 37 episodes! well thats if ITV 3 are showing them in chronological order. I've just watched 'Misty Blue' (episode 38). I have really enjoyed the 3 episodes, but then I'm a David Morse fan, (esp St. Elsewhere). For any one reading this, Hack is excellent. Pity its being aired on ITV 3. The cast is strong, though I cant get used to the idea of Alphonse playing a bent cop, still we all know he's the good guy wrongly accused. I see Gary Cole has guest starred, what ever happened to 'Midnight Caller'? Just wonder if Hack is available on DVD (yet). Lovin it. Cheers.\",\n",
       "       \"I have only see three episodes of Hack, starring David Morse, and it looks as though I've missed 37 episodes! well thats if ITV 3 are showing them in chronological order. I've just watched 'Misty Blue' (episode 38). I have really enjoyed the 3 episodes, but then I'm a David Morse fan, (esp St. Elsewhere). For any one reading this, Hack is excellent. Pity its being aired on ITV 3. The cast is strong, though I cant get used to the idea of Alan playing a bent cop, still we all know he's the good guy wrongly accused. I see Gary Cole has guest starred, what ever happened to 'Midnight Caller'? Just wonder if Hack is available on DVD (yet). Lovin it. Cheers.\",\n",
       "       \"I have only see three episodes of Hack, starring David Morse, and it looks as though I've missed 37 episodes! well thats if ITV 3 are showing them in chronological order. I've just watched 'Misty Blue' (episode 38). I have really enjoyed the 3 episodes, but then I'm a David Morse fan, (esp St. Elsewhere). For any one reading this, Hack is excellent. Pity its being aired on ITV 3. The cast is strong, though I cant get used to the idea of Darnell playing a bent cop, still we all know he's the good guy wrongly accused. I see Gary Cole has guest starred, what ever happened to 'Midnight Caller'? Just wonder if Hack is available on DVD (yet). Lovin it. Cheers.\"],\n",
       "      dtype=object)"
      ]
     },
     "execution_count": 51,
     "metadata": {},
     "output_type": "execute_result"
    }
   ],
   "source": [
    "dfm.head()[\"mutant\"].values"
   ]
  },
  {
   "cell_type": "code",
   "execution_count": 52,
   "metadata": {},
   "outputs": [
    {
     "data": {
      "text/plain": [
       "array([\"I have only see three episodes of Hack, starring David Morse, and it looks as though I've missed 37 episodes! well thats if ITV 3 are showing them in chronological order. I've just watched 'Misty Blue' (episode 38). I have really enjoyed the 3 episodes, but then I'm a David Morse fan, (esp St. Elsewhere). For any one reading this, Hack is excellent. Pity its being aired on ITV 3. The cast is strong, though I cant get used to the idea of Ebony playing a bent cop, still we all know she's the good guy wrongly accused. I see Gary Cole has guest starred, what ever happened to 'Midnight Caller'? Just wonder if Hack is available on DVD (yet). Lovin it. Cheers.\",\n",
       "       \"I have only see three episodes of Hack, starring David Morse, and it looks as though I've missed 37 episodes! well thats if ITV 3 are showing them in chronological order. I've just watched 'Misty Blue' (episode 38). I have really enjoyed the 3 episodes, but then I'm a David Morse fan, (esp St. Elsewhere). For any one reading this, Hack is excellent. Pity its being aired on ITV 3. The cast is strong, though I cant get used to the idea of Amanda playing a bent cop, still we all know she's the good guy wrongly accused. I see Gary Cole has guest starred, what ever happened to 'Midnight Caller'? Just wonder if Hack is available on DVD (yet). Lovin it. Cheers.\",\n",
       "       \"I have only see three episodes of Hack, starring David Morse, and it looks as though I've missed 37 episodes! well thats if ITV 3 are showing them in chronological order. I've just watched 'Misty Blue' (episode 38). I have really enjoyed the 3 episodes, but then I'm a David Morse fan, (esp St. Elsewhere). For any one reading this, Hack is excellent. Pity its being aired on ITV 3. The cast is strong, though I cant get used to the idea of Jasmine playing a bent cop, still we all know she's the good guy wrongly accused. I see Gary Cole has guest starred, what ever happened to 'Midnight Caller'? Just wonder if Hack is available on DVD (yet). Lovin it. Cheers.\",\n",
       "       \"I have only see three episodes of Hack, starring David Morse, and it looks as though I've missed 37 episodes! well thats if ITV 3 are showing them in chronological order. I've just watched 'Misty Blue' (episode 38). I have really enjoyed the 3 episodes, but then I'm a David Morse fan, (esp St. Elsewhere). For any one reading this, Hack is excellent. Pity its being aired on ITV 3. The cast is strong, though I cant get used to the idea of Betsy playing a bent cop, still we all know she's the good guy wrongly accused. I see Gary Cole has guest starred, what ever happened to 'Midnight Caller'? Just wonder if Hack is available on DVD (yet). Lovin it. Cheers.\",\n",
       "       \"I have only see three episodes of Hack, starring David Morse, and it looks as though I've missed 37 episodes! well thats if ITV 3 are showing them in chronological order. I've just watched 'Misty Blue' (episode 38). I have really enjoyed the 3 episodes, but then I'm a David Morse fan, (esp St. Elsewhere). For any one reading this, Hack is excellent. Pity its being aired on ITV 3. The cast is strong, though I cant get used to the idea of Lakisha playing a bent cop, still we all know she's the good guy wrongly accused. I see Gary Cole has guest starred, what ever happened to 'Midnight Caller'? Just wonder if Hack is available on DVD (yet). Lovin it. Cheers.\"],\n",
       "      dtype=object)"
      ]
     },
     "execution_count": 52,
     "metadata": {},
     "output_type": "execute_result"
    }
   ],
   "source": [
    "dff.head()[\"mutant\"].values"
   ]
  },
  {
   "cell_type": "code",
   "execution_count": 53,
   "metadata": {},
   "outputs": [],
   "source": [
    "dfm[0] = dfm[\"label\"]\n",
    "dfm[1] = dfm[\"mutant\"]\n",
    "dfm[\"template\"] = dfm[\"original\"]\n",
    "dfm = dfm.drop(columns=[\"original\", \"mutant\", \"gender\", \"label\"])\n",
    "# dfm = dfm.drop(columns=[\"mutant\", \"gender\", \"label\"])\n",
    "\n",
    "dff[0] = dff[\"label\"]\n",
    "dff[1] = dff[\"mutant\"]\n",
    "dff[\"template\"] = dff[\"original\"]\n",
    "dff = dff.drop(columns=[\"original\", \"mutant\", \"gender\", \"label\"])\n",
    "# dff = dff.drop(columns=[\"mutant\", \"gender\", \"label\"])"
   ]
  },
  {
   "cell_type": "code",
   "execution_count": 54,
   "metadata": {},
   "outputs": [
    {
     "data": {
      "text/html": [
       "<div>\n",
       "<style scoped>\n",
       "    .dataframe tbody tr th:only-of-type {\n",
       "        vertical-align: middle;\n",
       "    }\n",
       "\n",
       "    .dataframe tbody tr th {\n",
       "        vertical-align: top;\n",
       "    }\n",
       "\n",
       "    .dataframe thead th {\n",
       "        text-align: right;\n",
       "    }\n",
       "</style>\n",
       "<table border=\"1\" class=\"dataframe\">\n",
       "  <thead>\n",
       "    <tr style=\"text-align: right;\">\n",
       "      <th></th>\n",
       "      <th>0</th>\n",
       "      <th>1</th>\n",
       "      <th>template</th>\n",
       "    </tr>\n",
       "  </thead>\n",
       "  <tbody>\n",
       "    <tr>\n",
       "      <th>0</th>\n",
       "      <td>1</td>\n",
       "      <td>I have only see three episodes of Hack, starri...</td>\n",
       "      <td>I have only see three episodes of Hack, starri...</td>\n",
       "    </tr>\n",
       "    <tr>\n",
       "      <th>1</th>\n",
       "      <td>1</td>\n",
       "      <td>I have only see three episodes of Hack, starri...</td>\n",
       "      <td>I have only see three episodes of Hack, starri...</td>\n",
       "    </tr>\n",
       "    <tr>\n",
       "      <th>2</th>\n",
       "      <td>1</td>\n",
       "      <td>I have only see three episodes of Hack, starri...</td>\n",
       "      <td>I have only see three episodes of Hack, starri...</td>\n",
       "    </tr>\n",
       "    <tr>\n",
       "      <th>3</th>\n",
       "      <td>1</td>\n",
       "      <td>I have only see three episodes of Hack, starri...</td>\n",
       "      <td>I have only see three episodes of Hack, starri...</td>\n",
       "    </tr>\n",
       "    <tr>\n",
       "      <th>4</th>\n",
       "      <td>1</td>\n",
       "      <td>I have only see three episodes of Hack, starri...</td>\n",
       "      <td>I have only see three episodes of Hack, starri...</td>\n",
       "    </tr>\n",
       "    <tr>\n",
       "      <th>5</th>\n",
       "      <td>1</td>\n",
       "      <td>I have only see three episodes of Hack, starri...</td>\n",
       "      <td>I have only see three episodes of Hack, starri...</td>\n",
       "    </tr>\n",
       "    <tr>\n",
       "      <th>6</th>\n",
       "      <td>1</td>\n",
       "      <td>I have only see three episodes of Hack, starri...</td>\n",
       "      <td>I have only see three episodes of Hack, starri...</td>\n",
       "    </tr>\n",
       "    <tr>\n",
       "      <th>7</th>\n",
       "      <td>1</td>\n",
       "      <td>I have only see three episodes of Hack, starri...</td>\n",
       "      <td>I have only see three episodes of Hack, starri...</td>\n",
       "    </tr>\n",
       "    <tr>\n",
       "      <th>8</th>\n",
       "      <td>1</td>\n",
       "      <td>I have only see three episodes of Hack, starri...</td>\n",
       "      <td>I have only see three episodes of Hack, starri...</td>\n",
       "    </tr>\n",
       "    <tr>\n",
       "      <th>9</th>\n",
       "      <td>1</td>\n",
       "      <td>I have only see three episodes of Hack, starri...</td>\n",
       "      <td>I have only see three episodes of Hack, starri...</td>\n",
       "    </tr>\n",
       "    <tr>\n",
       "      <th>10</th>\n",
       "      <td>1</td>\n",
       "      <td>I have only see three episodes of Hack, starri...</td>\n",
       "      <td>I have only see three episodes of Hack, starri...</td>\n",
       "    </tr>\n",
       "    <tr>\n",
       "      <th>11</th>\n",
       "      <td>1</td>\n",
       "      <td>I have only see three episodes of Hack, starri...</td>\n",
       "      <td>I have only see three episodes of Hack, starri...</td>\n",
       "    </tr>\n",
       "    <tr>\n",
       "      <th>12</th>\n",
       "      <td>1</td>\n",
       "      <td>I have only see three episodes of Hack, starri...</td>\n",
       "      <td>I have only see three episodes of Hack, starri...</td>\n",
       "    </tr>\n",
       "    <tr>\n",
       "      <th>13</th>\n",
       "      <td>1</td>\n",
       "      <td>I have only see three episodes of Hack, starri...</td>\n",
       "      <td>I have only see three episodes of Hack, starri...</td>\n",
       "    </tr>\n",
       "    <tr>\n",
       "      <th>14</th>\n",
       "      <td>1</td>\n",
       "      <td>I have only see three episodes of Hack, starri...</td>\n",
       "      <td>I have only see three episodes of Hack, starri...</td>\n",
       "    </tr>\n",
       "    <tr>\n",
       "      <th>15</th>\n",
       "      <td>1</td>\n",
       "      <td>I have only see three episodes of Hack, starri...</td>\n",
       "      <td>I have only see three episodes of Hack, starri...</td>\n",
       "    </tr>\n",
       "    <tr>\n",
       "      <th>16</th>\n",
       "      <td>1</td>\n",
       "      <td>I have only see three episodes of Hack, starri...</td>\n",
       "      <td>I have only see three episodes of Hack, starri...</td>\n",
       "    </tr>\n",
       "    <tr>\n",
       "      <th>17</th>\n",
       "      <td>1</td>\n",
       "      <td>I have only see three episodes of Hack, starri...</td>\n",
       "      <td>I have only see three episodes of Hack, starri...</td>\n",
       "    </tr>\n",
       "    <tr>\n",
       "      <th>18</th>\n",
       "      <td>1</td>\n",
       "      <td>I have only see three episodes of Hack, starri...</td>\n",
       "      <td>I have only see three episodes of Hack, starri...</td>\n",
       "    </tr>\n",
       "    <tr>\n",
       "      <th>19</th>\n",
       "      <td>1</td>\n",
       "      <td>I have only see three episodes of Hack, starri...</td>\n",
       "      <td>I have only see three episodes of Hack, starri...</td>\n",
       "    </tr>\n",
       "    <tr>\n",
       "      <th>20</th>\n",
       "      <td>1</td>\n",
       "      <td>In the groovy mid 70's a scruffy bunch of bras...</td>\n",
       "      <td>In the groovy mid 70's a scruffy bunch of bras...</td>\n",
       "    </tr>\n",
       "    <tr>\n",
       "      <th>21</th>\n",
       "      <td>1</td>\n",
       "      <td>In the groovy mid 70's a scruffy bunch of bras...</td>\n",
       "      <td>In the groovy mid 70's a scruffy bunch of bras...</td>\n",
       "    </tr>\n",
       "    <tr>\n",
       "      <th>22</th>\n",
       "      <td>1</td>\n",
       "      <td>In the groovy mid 70's a scruffy bunch of bras...</td>\n",
       "      <td>In the groovy mid 70's a scruffy bunch of bras...</td>\n",
       "    </tr>\n",
       "    <tr>\n",
       "      <th>23</th>\n",
       "      <td>1</td>\n",
       "      <td>In the groovy mid 70's a scruffy bunch of bras...</td>\n",
       "      <td>In the groovy mid 70's a scruffy bunch of bras...</td>\n",
       "    </tr>\n",
       "    <tr>\n",
       "      <th>24</th>\n",
       "      <td>1</td>\n",
       "      <td>In the groovy mid 70's a scruffy bunch of bras...</td>\n",
       "      <td>In the groovy mid 70's a scruffy bunch of bras...</td>\n",
       "    </tr>\n",
       "    <tr>\n",
       "      <th>25</th>\n",
       "      <td>1</td>\n",
       "      <td>In the groovy mid 70's a scruffy bunch of bras...</td>\n",
       "      <td>In the groovy mid 70's a scruffy bunch of bras...</td>\n",
       "    </tr>\n",
       "    <tr>\n",
       "      <th>26</th>\n",
       "      <td>1</td>\n",
       "      <td>In the groovy mid 70's a scruffy bunch of bras...</td>\n",
       "      <td>In the groovy mid 70's a scruffy bunch of bras...</td>\n",
       "    </tr>\n",
       "    <tr>\n",
       "      <th>27</th>\n",
       "      <td>1</td>\n",
       "      <td>In the groovy mid 70's a scruffy bunch of bras...</td>\n",
       "      <td>In the groovy mid 70's a scruffy bunch of bras...</td>\n",
       "    </tr>\n",
       "    <tr>\n",
       "      <th>28</th>\n",
       "      <td>1</td>\n",
       "      <td>In the groovy mid 70's a scruffy bunch of bras...</td>\n",
       "      <td>In the groovy mid 70's a scruffy bunch of bras...</td>\n",
       "    </tr>\n",
       "    <tr>\n",
       "      <th>29</th>\n",
       "      <td>1</td>\n",
       "      <td>In the groovy mid 70's a scruffy bunch of bras...</td>\n",
       "      <td>In the groovy mid 70's a scruffy bunch of bras...</td>\n",
       "    </tr>\n",
       "    <tr>\n",
       "      <th>30</th>\n",
       "      <td>1</td>\n",
       "      <td>In the groovy mid 70's a scruffy bunch of bras...</td>\n",
       "      <td>In the groovy mid 70's a scruffy bunch of bras...</td>\n",
       "    </tr>\n",
       "    <tr>\n",
       "      <th>31</th>\n",
       "      <td>1</td>\n",
       "      <td>In the groovy mid 70's a scruffy bunch of bras...</td>\n",
       "      <td>In the groovy mid 70's a scruffy bunch of bras...</td>\n",
       "    </tr>\n",
       "    <tr>\n",
       "      <th>32</th>\n",
       "      <td>1</td>\n",
       "      <td>In the groovy mid 70's a scruffy bunch of bras...</td>\n",
       "      <td>In the groovy mid 70's a scruffy bunch of bras...</td>\n",
       "    </tr>\n",
       "    <tr>\n",
       "      <th>33</th>\n",
       "      <td>1</td>\n",
       "      <td>In the groovy mid 70's a scruffy bunch of bras...</td>\n",
       "      <td>In the groovy mid 70's a scruffy bunch of bras...</td>\n",
       "    </tr>\n",
       "    <tr>\n",
       "      <th>34</th>\n",
       "      <td>1</td>\n",
       "      <td>In the groovy mid 70's a scruffy bunch of bras...</td>\n",
       "      <td>In the groovy mid 70's a scruffy bunch of bras...</td>\n",
       "    </tr>\n",
       "    <tr>\n",
       "      <th>35</th>\n",
       "      <td>1</td>\n",
       "      <td>In the groovy mid 70's a scruffy bunch of bras...</td>\n",
       "      <td>In the groovy mid 70's a scruffy bunch of bras...</td>\n",
       "    </tr>\n",
       "    <tr>\n",
       "      <th>36</th>\n",
       "      <td>1</td>\n",
       "      <td>In the groovy mid 70's a scruffy bunch of bras...</td>\n",
       "      <td>In the groovy mid 70's a scruffy bunch of bras...</td>\n",
       "    </tr>\n",
       "    <tr>\n",
       "      <th>37</th>\n",
       "      <td>1</td>\n",
       "      <td>In the groovy mid 70's a scruffy bunch of bras...</td>\n",
       "      <td>In the groovy mid 70's a scruffy bunch of bras...</td>\n",
       "    </tr>\n",
       "    <tr>\n",
       "      <th>38</th>\n",
       "      <td>1</td>\n",
       "      <td>In the groovy mid 70's a scruffy bunch of bras...</td>\n",
       "      <td>In the groovy mid 70's a scruffy bunch of bras...</td>\n",
       "    </tr>\n",
       "    <tr>\n",
       "      <th>39</th>\n",
       "      <td>1</td>\n",
       "      <td>In the groovy mid 70's a scruffy bunch of bras...</td>\n",
       "      <td>In the groovy mid 70's a scruffy bunch of bras...</td>\n",
       "    </tr>\n",
       "    <tr>\n",
       "      <th>40</th>\n",
       "      <td>1</td>\n",
       "      <td>This must have been one of Alonzo's most ambit...</td>\n",
       "      <td>This must have been one of Chaplin's most ambi...</td>\n",
       "    </tr>\n",
       "    <tr>\n",
       "      <th>41</th>\n",
       "      <td>1</td>\n",
       "      <td>This must have been one of Adam's most ambitio...</td>\n",
       "      <td>This must have been one of Chaplin's most ambi...</td>\n",
       "    </tr>\n",
       "    <tr>\n",
       "      <th>42</th>\n",
       "      <td>1</td>\n",
       "      <td>This must have been one of Alphonse's most amb...</td>\n",
       "      <td>This must have been one of Chaplin's most ambi...</td>\n",
       "    </tr>\n",
       "    <tr>\n",
       "      <th>43</th>\n",
       "      <td>1</td>\n",
       "      <td>This must have been one of Alan's most ambitio...</td>\n",
       "      <td>This must have been one of Chaplin's most ambi...</td>\n",
       "    </tr>\n",
       "    <tr>\n",
       "      <th>44</th>\n",
       "      <td>1</td>\n",
       "      <td>This must have been one of Darnell's most ambi...</td>\n",
       "      <td>This must have been one of Chaplin's most ambi...</td>\n",
       "    </tr>\n",
       "    <tr>\n",
       "      <th>45</th>\n",
       "      <td>1</td>\n",
       "      <td>This must have been one of Andrew's most ambit...</td>\n",
       "      <td>This must have been one of Chaplin's most ambi...</td>\n",
       "    </tr>\n",
       "    <tr>\n",
       "      <th>46</th>\n",
       "      <td>1</td>\n",
       "      <td>This must have been one of Jamel's most ambiti...</td>\n",
       "      <td>This must have been one of Chaplin's most ambi...</td>\n",
       "    </tr>\n",
       "    <tr>\n",
       "      <th>47</th>\n",
       "      <td>1</td>\n",
       "      <td>This must have been one of Frank's most ambiti...</td>\n",
       "      <td>This must have been one of Chaplin's most ambi...</td>\n",
       "    </tr>\n",
       "    <tr>\n",
       "      <th>48</th>\n",
       "      <td>1</td>\n",
       "      <td>This must have been one of Jerome's most ambit...</td>\n",
       "      <td>This must have been one of Chaplin's most ambi...</td>\n",
       "    </tr>\n",
       "    <tr>\n",
       "      <th>49</th>\n",
       "      <td>1</td>\n",
       "      <td>This must have been one of Harry's most ambiti...</td>\n",
       "      <td>This must have been one of Chaplin's most ambi...</td>\n",
       "    </tr>\n",
       "    <tr>\n",
       "      <th>50</th>\n",
       "      <td>1</td>\n",
       "      <td>This must have been one of Lamar's most ambiti...</td>\n",
       "      <td>This must have been one of Chaplin's most ambi...</td>\n",
       "    </tr>\n",
       "    <tr>\n",
       "      <th>51</th>\n",
       "      <td>1</td>\n",
       "      <td>This must have been one of Jack's most ambitio...</td>\n",
       "      <td>This must have been one of Chaplin's most ambi...</td>\n",
       "    </tr>\n",
       "    <tr>\n",
       "      <th>52</th>\n",
       "      <td>1</td>\n",
       "      <td>This must have been one of Leroy's most ambiti...</td>\n",
       "      <td>This must have been one of Chaplin's most ambi...</td>\n",
       "    </tr>\n",
       "    <tr>\n",
       "      <th>53</th>\n",
       "      <td>1</td>\n",
       "      <td>This must have been one of Josh's most ambitio...</td>\n",
       "      <td>This must have been one of Chaplin's most ambi...</td>\n",
       "    </tr>\n",
       "    <tr>\n",
       "      <th>54</th>\n",
       "      <td>1</td>\n",
       "      <td>This must have been one of Malik's most ambiti...</td>\n",
       "      <td>This must have been one of Chaplin's most ambi...</td>\n",
       "    </tr>\n",
       "    <tr>\n",
       "      <th>55</th>\n",
       "      <td>1</td>\n",
       "      <td>This must have been one of Justin's most ambit...</td>\n",
       "      <td>This must have been one of Chaplin's most ambi...</td>\n",
       "    </tr>\n",
       "    <tr>\n",
       "      <th>56</th>\n",
       "      <td>1</td>\n",
       "      <td>This must have been one of Terrence's most amb...</td>\n",
       "      <td>This must have been one of Chaplin's most ambi...</td>\n",
       "    </tr>\n",
       "    <tr>\n",
       "      <th>57</th>\n",
       "      <td>1</td>\n",
       "      <td>This must have been one of Roger's most ambiti...</td>\n",
       "      <td>This must have been one of Chaplin's most ambi...</td>\n",
       "    </tr>\n",
       "    <tr>\n",
       "      <th>58</th>\n",
       "      <td>1</td>\n",
       "      <td>This must have been one of Torrance's most amb...</td>\n",
       "      <td>This must have been one of Chaplin's most ambi...</td>\n",
       "    </tr>\n",
       "    <tr>\n",
       "      <th>59</th>\n",
       "      <td>1</td>\n",
       "      <td>This must have been one of Ryan's most ambitio...</td>\n",
       "      <td>This must have been one of Chaplin's most ambi...</td>\n",
       "    </tr>\n",
       "  </tbody>\n",
       "</table>\n",
       "</div>"
      ],
      "text/plain": [
       "    0                                                  1  \\\n",
       "0   1  I have only see three episodes of Hack, starri...   \n",
       "1   1  I have only see three episodes of Hack, starri...   \n",
       "2   1  I have only see three episodes of Hack, starri...   \n",
       "3   1  I have only see three episodes of Hack, starri...   \n",
       "4   1  I have only see three episodes of Hack, starri...   \n",
       "5   1  I have only see three episodes of Hack, starri...   \n",
       "6   1  I have only see three episodes of Hack, starri...   \n",
       "7   1  I have only see three episodes of Hack, starri...   \n",
       "8   1  I have only see three episodes of Hack, starri...   \n",
       "9   1  I have only see three episodes of Hack, starri...   \n",
       "10  1  I have only see three episodes of Hack, starri...   \n",
       "11  1  I have only see three episodes of Hack, starri...   \n",
       "12  1  I have only see three episodes of Hack, starri...   \n",
       "13  1  I have only see three episodes of Hack, starri...   \n",
       "14  1  I have only see three episodes of Hack, starri...   \n",
       "15  1  I have only see three episodes of Hack, starri...   \n",
       "16  1  I have only see three episodes of Hack, starri...   \n",
       "17  1  I have only see three episodes of Hack, starri...   \n",
       "18  1  I have only see three episodes of Hack, starri...   \n",
       "19  1  I have only see three episodes of Hack, starri...   \n",
       "20  1  In the groovy mid 70's a scruffy bunch of bras...   \n",
       "21  1  In the groovy mid 70's a scruffy bunch of bras...   \n",
       "22  1  In the groovy mid 70's a scruffy bunch of bras...   \n",
       "23  1  In the groovy mid 70's a scruffy bunch of bras...   \n",
       "24  1  In the groovy mid 70's a scruffy bunch of bras...   \n",
       "25  1  In the groovy mid 70's a scruffy bunch of bras...   \n",
       "26  1  In the groovy mid 70's a scruffy bunch of bras...   \n",
       "27  1  In the groovy mid 70's a scruffy bunch of bras...   \n",
       "28  1  In the groovy mid 70's a scruffy bunch of bras...   \n",
       "29  1  In the groovy mid 70's a scruffy bunch of bras...   \n",
       "30  1  In the groovy mid 70's a scruffy bunch of bras...   \n",
       "31  1  In the groovy mid 70's a scruffy bunch of bras...   \n",
       "32  1  In the groovy mid 70's a scruffy bunch of bras...   \n",
       "33  1  In the groovy mid 70's a scruffy bunch of bras...   \n",
       "34  1  In the groovy mid 70's a scruffy bunch of bras...   \n",
       "35  1  In the groovy mid 70's a scruffy bunch of bras...   \n",
       "36  1  In the groovy mid 70's a scruffy bunch of bras...   \n",
       "37  1  In the groovy mid 70's a scruffy bunch of bras...   \n",
       "38  1  In the groovy mid 70's a scruffy bunch of bras...   \n",
       "39  1  In the groovy mid 70's a scruffy bunch of bras...   \n",
       "40  1  This must have been one of Alonzo's most ambit...   \n",
       "41  1  This must have been one of Adam's most ambitio...   \n",
       "42  1  This must have been one of Alphonse's most amb...   \n",
       "43  1  This must have been one of Alan's most ambitio...   \n",
       "44  1  This must have been one of Darnell's most ambi...   \n",
       "45  1  This must have been one of Andrew's most ambit...   \n",
       "46  1  This must have been one of Jamel's most ambiti...   \n",
       "47  1  This must have been one of Frank's most ambiti...   \n",
       "48  1  This must have been one of Jerome's most ambit...   \n",
       "49  1  This must have been one of Harry's most ambiti...   \n",
       "50  1  This must have been one of Lamar's most ambiti...   \n",
       "51  1  This must have been one of Jack's most ambitio...   \n",
       "52  1  This must have been one of Leroy's most ambiti...   \n",
       "53  1  This must have been one of Josh's most ambitio...   \n",
       "54  1  This must have been one of Malik's most ambiti...   \n",
       "55  1  This must have been one of Justin's most ambit...   \n",
       "56  1  This must have been one of Terrence's most amb...   \n",
       "57  1  This must have been one of Roger's most ambiti...   \n",
       "58  1  This must have been one of Torrance's most amb...   \n",
       "59  1  This must have been one of Ryan's most ambitio...   \n",
       "\n",
       "                                             template  \n",
       "0   I have only see three episodes of Hack, starri...  \n",
       "1   I have only see three episodes of Hack, starri...  \n",
       "2   I have only see three episodes of Hack, starri...  \n",
       "3   I have only see three episodes of Hack, starri...  \n",
       "4   I have only see three episodes of Hack, starri...  \n",
       "5   I have only see three episodes of Hack, starri...  \n",
       "6   I have only see three episodes of Hack, starri...  \n",
       "7   I have only see three episodes of Hack, starri...  \n",
       "8   I have only see three episodes of Hack, starri...  \n",
       "9   I have only see three episodes of Hack, starri...  \n",
       "10  I have only see three episodes of Hack, starri...  \n",
       "11  I have only see three episodes of Hack, starri...  \n",
       "12  I have only see three episodes of Hack, starri...  \n",
       "13  I have only see three episodes of Hack, starri...  \n",
       "14  I have only see three episodes of Hack, starri...  \n",
       "15  I have only see three episodes of Hack, starri...  \n",
       "16  I have only see three episodes of Hack, starri...  \n",
       "17  I have only see three episodes of Hack, starri...  \n",
       "18  I have only see three episodes of Hack, starri...  \n",
       "19  I have only see three episodes of Hack, starri...  \n",
       "20  In the groovy mid 70's a scruffy bunch of bras...  \n",
       "21  In the groovy mid 70's a scruffy bunch of bras...  \n",
       "22  In the groovy mid 70's a scruffy bunch of bras...  \n",
       "23  In the groovy mid 70's a scruffy bunch of bras...  \n",
       "24  In the groovy mid 70's a scruffy bunch of bras...  \n",
       "25  In the groovy mid 70's a scruffy bunch of bras...  \n",
       "26  In the groovy mid 70's a scruffy bunch of bras...  \n",
       "27  In the groovy mid 70's a scruffy bunch of bras...  \n",
       "28  In the groovy mid 70's a scruffy bunch of bras...  \n",
       "29  In the groovy mid 70's a scruffy bunch of bras...  \n",
       "30  In the groovy mid 70's a scruffy bunch of bras...  \n",
       "31  In the groovy mid 70's a scruffy bunch of bras...  \n",
       "32  In the groovy mid 70's a scruffy bunch of bras...  \n",
       "33  In the groovy mid 70's a scruffy bunch of bras...  \n",
       "34  In the groovy mid 70's a scruffy bunch of bras...  \n",
       "35  In the groovy mid 70's a scruffy bunch of bras...  \n",
       "36  In the groovy mid 70's a scruffy bunch of bras...  \n",
       "37  In the groovy mid 70's a scruffy bunch of bras...  \n",
       "38  In the groovy mid 70's a scruffy bunch of bras...  \n",
       "39  In the groovy mid 70's a scruffy bunch of bras...  \n",
       "40  This must have been one of Chaplin's most ambi...  \n",
       "41  This must have been one of Chaplin's most ambi...  \n",
       "42  This must have been one of Chaplin's most ambi...  \n",
       "43  This must have been one of Chaplin's most ambi...  \n",
       "44  This must have been one of Chaplin's most ambi...  \n",
       "45  This must have been one of Chaplin's most ambi...  \n",
       "46  This must have been one of Chaplin's most ambi...  \n",
       "47  This must have been one of Chaplin's most ambi...  \n",
       "48  This must have been one of Chaplin's most ambi...  \n",
       "49  This must have been one of Chaplin's most ambi...  \n",
       "50  This must have been one of Chaplin's most ambi...  \n",
       "51  This must have been one of Chaplin's most ambi...  \n",
       "52  This must have been one of Chaplin's most ambi...  \n",
       "53  This must have been one of Chaplin's most ambi...  \n",
       "54  This must have been one of Chaplin's most ambi...  \n",
       "55  This must have been one of Chaplin's most ambi...  \n",
       "56  This must have been one of Chaplin's most ambi...  \n",
       "57  This must have been one of Chaplin's most ambi...  \n",
       "58  This must have been one of Chaplin's most ambi...  \n",
       "59  This must have been one of Chaplin's most ambi...  "
      ]
     },
     "execution_count": 54,
     "metadata": {},
     "output_type": "execute_result"
    }
   ],
   "source": [
    "dfm"
   ]
  },
  {
   "cell_type": "code",
   "execution_count": 55,
   "metadata": {},
   "outputs": [],
   "source": [
    "dfm.to_csv(\"../data/imdb_mutant/male/test.csv\", index=None, header=None, sep=\"\\t\")\n",
    "dff.to_csv(\"../data/imdb_mutant/female/test.csv\", index=None, header=None, sep=\"\\t\")"
   ]
  }
 ],
 "metadata": {
  "kernelspec": {
   "display_name": "Python 3",
   "language": "python",
   "name": "python3"
  },
  "language_info": {
   "codemirror_mode": {
    "name": "ipython",
    "version": 3
   },
   "file_extension": ".py",
   "mimetype": "text/x-python",
   "name": "python",
   "nbconvert_exporter": "python",
   "pygments_lexer": "ipython3",
   "version": "3.6.8"
  }
 },
 "nbformat": 4,
 "nbformat_minor": 4
}
